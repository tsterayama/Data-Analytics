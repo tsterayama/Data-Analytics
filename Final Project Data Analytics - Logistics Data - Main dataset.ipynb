{
 "cells": [
  {
   "cell_type": "markdown",
   "id": "c5f631dc",
   "metadata": {},
   "source": [
    "# Personal Project - Data Analytics"
   ]
  },
  {
   "cell_type": "markdown",
   "id": "ae13dc30",
   "metadata": {},
   "source": [
    "## Loading packages and importing the data"
   ]
  },
  {
   "cell_type": "code",
   "execution_count": 1,
   "id": "25bbc237",
   "metadata": {},
   "outputs": [],
   "source": [
    "#import the libraries\n",
    "import numpy as np \n",
    "import pandas as pd \n",
    "import matplotlib.pyplot as plt #Data Visualization \n",
    "import seaborn as sns\n",
    "\n",
    "from sklearn.cluster import DBSCAN\n",
    "from sklearn.metrics import silhouette_score\n",
    "import plotly.express as px\n",
    "\n",
    "# Ignore warnings\n",
    "import warnings\n",
    "warnings.filterwarnings('ignore')"
   ]
  },
  {
   "cell_type": "code",
   "execution_count": 2,
   "id": "404781f5",
   "metadata": {},
   "outputs": [],
   "source": [
    "#Setting filepath and reading csv file\n",
    "filepath = 'C:/Users/User/Documents/Data Science/Data/Logistics_Performance_Index_(LPI)_2018/2018_LogisticsData.csv'\n",
    "data = pd.read_csv(filepath)"
   ]
  },
  {
   "cell_type": "code",
   "execution_count": 3,
   "id": "ab4c7782",
   "metadata": {},
   "outputs": [
    {
     "data": {
      "text/plain": [
       "Index(['Country Name', 'Country Code', 'Series Name', 'Series Code',\n",
       "       '2018 [YR2018]'],\n",
       "      dtype='object')"
      ]
     },
     "execution_count": 3,
     "metadata": {},
     "output_type": "execute_result"
    }
   ],
   "source": [
    "#Checking out column names\n",
    "data.columns"
   ]
  },
  {
   "cell_type": "code",
   "execution_count": 4,
   "id": "2cc284b9",
   "metadata": {},
   "outputs": [],
   "source": [
    "#Renaming the columns for easier reference\n",
    "data.columns = ['country_name', 'country_code', 'series_name', 'series_code','2018']"
   ]
  },
  {
   "cell_type": "code",
   "execution_count": 5,
   "id": "6fe5d1de",
   "metadata": {},
   "outputs": [
    {
     "data": {
      "text/html": [
       "<div>\n",
       "<style scoped>\n",
       "    .dataframe tbody tr th:only-of-type {\n",
       "        vertical-align: middle;\n",
       "    }\n",
       "\n",
       "    .dataframe tbody tr th {\n",
       "        vertical-align: top;\n",
       "    }\n",
       "\n",
       "    .dataframe thead th {\n",
       "        text-align: right;\n",
       "    }\n",
       "</style>\n",
       "<table border=\"1\" class=\"dataframe\">\n",
       "  <thead>\n",
       "    <tr style=\"text-align: right;\">\n",
       "      <th></th>\n",
       "      <th>country_name</th>\n",
       "      <th>country_code</th>\n",
       "      <th>series_name</th>\n",
       "      <th>series_code</th>\n",
       "      <th>2018</th>\n",
       "    </tr>\n",
       "  </thead>\n",
       "  <tbody>\n",
       "    <tr>\n",
       "      <th>0</th>\n",
       "      <td>Afghanistan</td>\n",
       "      <td>AFG</td>\n",
       "      <td>Ability to track and trace consignments, rank ...</td>\n",
       "      <td>LP.LPI.TRAC.RK</td>\n",
       "      <td>159</td>\n",
       "    </tr>\n",
       "    <tr>\n",
       "      <th>1</th>\n",
       "      <td>Afghanistan</td>\n",
       "      <td>AFG</td>\n",
       "      <td>Ability to track and trace consignments, score...</td>\n",
       "      <td>LP.LPI.TRAC.XQ</td>\n",
       "      <td>1.697024</td>\n",
       "    </tr>\n",
       "    <tr>\n",
       "      <th>2</th>\n",
       "      <td>Afghanistan</td>\n",
       "      <td>AFG</td>\n",
       "      <td>Competence and quality of logistics services, ...</td>\n",
       "      <td>LP.LPI.LOGS.RK</td>\n",
       "      <td>158</td>\n",
       "    </tr>\n",
       "    <tr>\n",
       "      <th>3</th>\n",
       "      <td>Afghanistan</td>\n",
       "      <td>AFG</td>\n",
       "      <td>Competence and quality of logistics services, ...</td>\n",
       "      <td>LP.LPI.LOGS.XQ</td>\n",
       "      <td>1.919246</td>\n",
       "    </tr>\n",
       "    <tr>\n",
       "      <th>4</th>\n",
       "      <td>Afghanistan</td>\n",
       "      <td>AFG</td>\n",
       "      <td>Ease of arranging competitively priced interna...</td>\n",
       "      <td>LP.LPI.ITRN.RK</td>\n",
       "      <td>152</td>\n",
       "    </tr>\n",
       "  </tbody>\n",
       "</table>\n",
       "</div>"
      ],
      "text/plain": [
       "  country_name country_code  \\\n",
       "0  Afghanistan          AFG   \n",
       "1  Afghanistan          AFG   \n",
       "2  Afghanistan          AFG   \n",
       "3  Afghanistan          AFG   \n",
       "4  Afghanistan          AFG   \n",
       "\n",
       "                                         series_name     series_code      2018  \n",
       "0  Ability to track and trace consignments, rank ...  LP.LPI.TRAC.RK       159  \n",
       "1  Ability to track and trace consignments, score...  LP.LPI.TRAC.XQ  1.697024  \n",
       "2  Competence and quality of logistics services, ...  LP.LPI.LOGS.RK       158  \n",
       "3  Competence and quality of logistics services, ...  LP.LPI.LOGS.XQ  1.919246  \n",
       "4  Ease of arranging competitively priced interna...  LP.LPI.ITRN.RK       152  "
      ]
     },
     "execution_count": 5,
     "metadata": {},
     "output_type": "execute_result"
    }
   ],
   "source": [
    "data.head()"
   ]
  },
  {
   "cell_type": "code",
   "execution_count": 6,
   "id": "e6e2e259",
   "metadata": {},
   "outputs": [
    {
     "name": "stdout",
     "output_type": "stream",
     "text": [
      "<class 'pandas.core.frame.DataFrame'>\n",
      "RangeIndex: 3197 entries, 0 to 3196\n",
      "Data columns (total 5 columns):\n",
      " #   Column        Non-Null Count  Dtype \n",
      "---  ------        --------------  ----- \n",
      " 0   country_name  3194 non-null   object\n",
      " 1   country_code  3192 non-null   object\n",
      " 2   series_name   3192 non-null   object\n",
      " 3   series_code   3192 non-null   object\n",
      " 4   2018          3192 non-null   object\n",
      "dtypes: object(5)\n",
      "memory usage: 125.0+ KB\n"
     ]
    }
   ],
   "source": [
    "#Start inspecting the dataset\n",
    "data.info()"
   ]
  },
  {
   "cell_type": "code",
   "execution_count": 7,
   "id": "8e320c99",
   "metadata": {},
   "outputs": [],
   "source": [
    "#Converting numeric column 2018 to Float64\n",
    "data['2018'] = pd.to_numeric(data['2018'], errors='coerce').astype('float64')"
   ]
  },
  {
   "cell_type": "code",
   "execution_count": 8,
   "id": "641ac3f9",
   "metadata": {},
   "outputs": [],
   "source": [
    "#Performing a pivot table so that each column is a variable\n",
    "logist_data = data.pivot_table(index=['country_name','country_code'],columns='series_name',values='2018')"
   ]
  },
  {
   "cell_type": "code",
   "execution_count": 9,
   "id": "bd4b3599",
   "metadata": {},
   "outputs": [
    {
     "data": {
      "text/plain": [
       "Index(['Ability to track and trace consignments, rank (1=highest performer)',\n",
       "       'Ability to track and trace consignments, score (1=low to 5=high)',\n",
       "       'Competence and quality of logistics services, rank (1=highest performer)',\n",
       "       'Competence and quality of logistics services, score (1=low to 5=high)',\n",
       "       'Ease of arranging competitively priced international shipments, rank (1=highest performer)',\n",
       "       'Ease of arranging competitively priced international shipments, score (1=low to 5=high)',\n",
       "       'Efficiency of the clearance process, rank (1=highest performer)',\n",
       "       'Efficiency of the clearance process, score (1=low to 5=high)',\n",
       "       'Frequency with which shipments reach consignee within scheduled or expected time, rank (1=highest performer)',\n",
       "       'Frequency with which shipments reach consignee within scheduled or expected time, score (1=low to 5=high)',\n",
       "       'Logistics performance index: Overall rank (1=highest performance)',\n",
       "       'Logistics performance index: Overall rank (1=highest performance), lower bound',\n",
       "       'Logistics performance index: Overall rank (1=highest performance), upper bound',\n",
       "       'Logistics performance index: Overall score (1=low to 5=high)',\n",
       "       'Logistics performance index: Overall score (1=low to 5=high), lower bound',\n",
       "       'Logistics performance index: Overall score (1=low to 5=high), upper bound',\n",
       "       'Logistics performance index: Percent of highest performer)',\n",
       "       'Quality of trade- and transport-related infrastructure, score (1=low to 5=high)',\n",
       "       'Quality- of trade and transport-related infrastructure, rank (1=highest performer)'],\n",
       "      dtype='object', name='series_name')"
      ]
     },
     "execution_count": 9,
     "metadata": {},
     "output_type": "execute_result"
    }
   ],
   "source": [
    "logist_data.columns"
   ]
  },
  {
   "cell_type": "code",
   "execution_count": 10,
   "id": "0583bb97",
   "metadata": {},
   "outputs": [
    {
     "data": {
      "text/plain": [
       "(160, 19)"
      ]
     },
     "execution_count": 10,
     "metadata": {},
     "output_type": "execute_result"
    }
   ],
   "source": [
    "#Checking shape before dropping columns\n",
    "logist_data.shape"
   ]
  },
  {
   "cell_type": "code",
   "execution_count": 11,
   "id": "7bf4acbb",
   "metadata": {},
   "outputs": [],
   "source": [
    "#Dropping columns less relevant to the analysis\n",
    "logist_data.drop(['Ability to track and trace consignments, rank (1=highest performer)',\n",
    "       'Ability to track and trace consignments, score (1=low to 5=high)',\n",
    "       'Competence and quality of logistics services, rank (1=highest performer)',\n",
    "       'Competence and quality of logistics services, score (1=low to 5=high)',\n",
    "       'Ease of arranging competitively priced international shipments, rank (1=highest performer)',\n",
    "       'Ease of arranging competitively priced international shipments, score (1=low to 5=high)'], axis=1, inplace=True)"
   ]
  },
  {
   "cell_type": "code",
   "execution_count": 12,
   "id": "d0a17080",
   "metadata": {},
   "outputs": [
    {
     "data": {
      "text/plain": [
       "(160, 13)"
      ]
     },
     "execution_count": 12,
     "metadata": {},
     "output_type": "execute_result"
    }
   ],
   "source": [
    "#Checking shape after dropping columns\n",
    "logist_data.shape"
   ]
  },
  {
   "cell_type": "markdown",
   "id": "7c814583",
   "metadata": {},
   "source": [
    "## Exploratory Data Analysis (EDA)"
   ]
  },
  {
   "cell_type": "code",
   "execution_count": 13,
   "id": "ae553042",
   "metadata": {},
   "outputs": [
    {
     "data": {
      "text/html": [
       "        <script type=\"text/javascript\">\n",
       "        window.PlotlyConfig = {MathJaxConfig: 'local'};\n",
       "        if (window.MathJax) {MathJax.Hub.Config({SVG: {font: \"STIX-Web\"}});}\n",
       "        if (typeof require !== 'undefined') {\n",
       "        require.undef(\"plotly\");\n",
       "        requirejs.config({\n",
       "            paths: {\n",
       "                'plotly': ['https://cdn.plot.ly/plotly-2.11.1.min']\n",
       "            }\n",
       "        });\n",
       "        require(['plotly'], function(Plotly) {\n",
       "            window._Plotly = Plotly;\n",
       "        });\n",
       "        }\n",
       "        </script>\n",
       "        "
      ]
     },
     "metadata": {},
     "output_type": "display_data"
    }
   ],
   "source": [
    "#Importing EDA Functions\n",
    "import sys\n",
    "sys.path.insert(0, 'C:/Users/User/Documents/Data Science/_m1-m2 - Exploratory Data Analysis_/_m1-m2 - Exploratory Data Analysis_')\n",
    "\n",
    "from Functions_EDA import *"
   ]
  },
  {
   "cell_type": "code",
   "execution_count": 14,
   "id": "1e3cc297",
   "metadata": {},
   "outputs": [
    {
     "data": {
      "text/html": [
       "<div>\n",
       "<style scoped>\n",
       "    .dataframe tbody tr th:only-of-type {\n",
       "        vertical-align: middle;\n",
       "    }\n",
       "\n",
       "    .dataframe tbody tr th {\n",
       "        vertical-align: top;\n",
       "    }\n",
       "\n",
       "    .dataframe thead th {\n",
       "        text-align: right;\n",
       "    }\n",
       "</style>\n",
       "<table border=\"1\" class=\"dataframe\">\n",
       "  <thead>\n",
       "    <tr style=\"text-align: right;\">\n",
       "      <th></th>\n",
       "      <th>series_name</th>\n",
       "      <th>Efficiency of the clearance process, rank (1=highest performer)</th>\n",
       "      <th>Efficiency of the clearance process, score (1=low to 5=high)</th>\n",
       "      <th>Frequency with which shipments reach consignee within scheduled or expected time, rank (1=highest performer)</th>\n",
       "      <th>Frequency with which shipments reach consignee within scheduled or expected time, score (1=low to 5=high)</th>\n",
       "      <th>Logistics performance index: Overall rank (1=highest performance)</th>\n",
       "      <th>Logistics performance index: Overall rank (1=highest performance), lower bound</th>\n",
       "      <th>Logistics performance index: Overall rank (1=highest performance), upper bound</th>\n",
       "      <th>Logistics performance index: Overall score (1=low to 5=high)</th>\n",
       "      <th>Logistics performance index: Overall score (1=low to 5=high), lower bound</th>\n",
       "      <th>Logistics performance index: Overall score (1=low to 5=high), upper bound</th>\n",
       "      <th>Logistics performance index: Percent of highest performer)</th>\n",
       "      <th>Quality of trade- and transport-related infrastructure, score (1=low to 5=high)</th>\n",
       "      <th>Quality- of trade and transport-related infrastructure, rank (1=highest performer)</th>\n",
       "    </tr>\n",
       "    <tr>\n",
       "      <th>country_name</th>\n",
       "      <th>country_code</th>\n",
       "      <th></th>\n",
       "      <th></th>\n",
       "      <th></th>\n",
       "      <th></th>\n",
       "      <th></th>\n",
       "      <th></th>\n",
       "      <th></th>\n",
       "      <th></th>\n",
       "      <th></th>\n",
       "      <th></th>\n",
       "      <th></th>\n",
       "      <th></th>\n",
       "      <th></th>\n",
       "    </tr>\n",
       "  </thead>\n",
       "  <tbody>\n",
       "  </tbody>\n",
       "</table>\n",
       "</div>"
      ],
      "text/plain": [
       "Empty DataFrame\n",
       "Columns: [Efficiency of the clearance process, rank (1=highest performer), Efficiency of the clearance process, score (1=low to 5=high), Frequency with which shipments reach consignee within scheduled or expected time, rank (1=highest performer), Frequency with which shipments reach consignee within scheduled or expected time, score (1=low to 5=high), Logistics performance index: Overall rank (1=highest performance), Logistics performance index: Overall rank (1=highest performance), lower bound, Logistics performance index: Overall rank (1=highest performance), upper bound, Logistics performance index: Overall score (1=low to 5=high), Logistics performance index: Overall score (1=low to 5=high), lower bound, Logistics performance index: Overall score (1=low to 5=high), upper bound, Logistics performance index: Percent of highest performer), Quality of trade- and transport-related infrastructure, score (1=low to 5=high), Quality- of trade and transport-related infrastructure, rank (1=highest performer)]\n",
       "Index: []"
      ]
     },
     "execution_count": 14,
     "metadata": {},
     "output_type": "execute_result"
    }
   ],
   "source": [
    "#Checking for duplicates - There are none\n",
    "logist_data[logist_data.duplicated()]"
   ]
  },
  {
   "cell_type": "code",
   "execution_count": 15,
   "id": "429c5966",
   "metadata": {},
   "outputs": [
    {
     "data": {
      "text/html": [
       "<div>\n",
       "<style scoped>\n",
       "    .dataframe tbody tr th:only-of-type {\n",
       "        vertical-align: middle;\n",
       "    }\n",
       "\n",
       "    .dataframe tbody tr th {\n",
       "        vertical-align: top;\n",
       "    }\n",
       "\n",
       "    .dataframe thead th {\n",
       "        text-align: right;\n",
       "    }\n",
       "</style>\n",
       "<table border=\"1\" class=\"dataframe\">\n",
       "  <thead>\n",
       "    <tr style=\"text-align: right;\">\n",
       "      <th></th>\n",
       "      <th>count</th>\n",
       "      <th>mean</th>\n",
       "      <th>std</th>\n",
       "      <th>min</th>\n",
       "      <th>25%</th>\n",
       "      <th>50%</th>\n",
       "      <th>75%</th>\n",
       "      <th>max</th>\n",
       "    </tr>\n",
       "    <tr>\n",
       "      <th>series_name</th>\n",
       "      <th></th>\n",
       "      <th></th>\n",
       "      <th></th>\n",
       "      <th></th>\n",
       "      <th></th>\n",
       "      <th></th>\n",
       "      <th></th>\n",
       "      <th></th>\n",
       "    </tr>\n",
       "  </thead>\n",
       "  <tbody>\n",
       "    <tr>\n",
       "      <th>Efficiency of the clearance process, rank (1=highest performer)</th>\n",
       "      <td>160.0</td>\n",
       "      <td>80.500000</td>\n",
       "      <td>46.332134</td>\n",
       "      <td>1.000000</td>\n",
       "      <td>40.750000</td>\n",
       "      <td>80.500000</td>\n",
       "      <td>120.250000</td>\n",
       "      <td>160.000000</td>\n",
       "    </tr>\n",
       "    <tr>\n",
       "      <th>Efficiency of the clearance process, score (1=low to 5=high)</th>\n",
       "      <td>160.0</td>\n",
       "      <td>2.673273</td>\n",
       "      <td>0.578097</td>\n",
       "      <td>1.571429</td>\n",
       "      <td>2.300852</td>\n",
       "      <td>2.577253</td>\n",
       "      <td>2.953743</td>\n",
       "      <td>4.092256</td>\n",
       "    </tr>\n",
       "    <tr>\n",
       "      <th>Frequency with which shipments reach consignee within scheduled or expected time, rank (1=highest performer)</th>\n",
       "      <td>160.0</td>\n",
       "      <td>80.500000</td>\n",
       "      <td>46.332134</td>\n",
       "      <td>1.000000</td>\n",
       "      <td>40.750000</td>\n",
       "      <td>80.500000</td>\n",
       "      <td>120.250000</td>\n",
       "      <td>160.000000</td>\n",
       "    </tr>\n",
       "    <tr>\n",
       "      <th>Frequency with which shipments reach consignee within scheduled or expected time, score (1=low to 5=high)</th>\n",
       "      <td>160.0</td>\n",
       "      <td>3.236305</td>\n",
       "      <td>0.575689</td>\n",
       "      <td>2.036890</td>\n",
       "      <td>2.801516</td>\n",
       "      <td>3.172299</td>\n",
       "      <td>3.670168</td>\n",
       "      <td>4.410293</td>\n",
       "    </tr>\n",
       "    <tr>\n",
       "      <th>Logistics performance index: Overall rank (1=highest performance)</th>\n",
       "      <td>160.0</td>\n",
       "      <td>80.500000</td>\n",
       "      <td>46.332134</td>\n",
       "      <td>1.000000</td>\n",
       "      <td>40.750000</td>\n",
       "      <td>80.500000</td>\n",
       "      <td>120.250000</td>\n",
       "      <td>160.000000</td>\n",
       "    </tr>\n",
       "    <tr>\n",
       "      <th>Logistics performance index: Overall rank (1=highest performance), lower bound</th>\n",
       "      <td>160.0</td>\n",
       "      <td>61.462500</td>\n",
       "      <td>38.418072</td>\n",
       "      <td>1.000000</td>\n",
       "      <td>31.000000</td>\n",
       "      <td>60.000000</td>\n",
       "      <td>84.250000</td>\n",
       "      <td>155.000000</td>\n",
       "    </tr>\n",
       "    <tr>\n",
       "      <th>Logistics performance index: Overall rank (1=highest performance), upper bound</th>\n",
       "      <td>160.0</td>\n",
       "      <td>98.818750</td>\n",
       "      <td>50.817329</td>\n",
       "      <td>1.000000</td>\n",
       "      <td>50.750000</td>\n",
       "      <td>115.000000</td>\n",
       "      <td>143.250000</td>\n",
       "      <td>160.000000</td>\n",
       "    </tr>\n",
       "    <tr>\n",
       "      <th>Logistics performance index: Overall score (1=low to 5=high)</th>\n",
       "      <td>160.0</td>\n",
       "      <td>2.865758</td>\n",
       "      <td>0.567931</td>\n",
       "      <td>1.948565</td>\n",
       "      <td>2.428178</td>\n",
       "      <td>2.705726</td>\n",
       "      <td>3.221918</td>\n",
       "      <td>4.201444</td>\n",
       "    </tr>\n",
       "    <tr>\n",
       "      <th>Logistics performance index: Overall score (1=low to 5=high), lower bound</th>\n",
       "      <td>160.0</td>\n",
       "      <td>2.657473</td>\n",
       "      <td>0.607882</td>\n",
       "      <td>1.657845</td>\n",
       "      <td>2.208628</td>\n",
       "      <td>2.479467</td>\n",
       "      <td>3.052425</td>\n",
       "      <td>4.155037</td>\n",
       "    </tr>\n",
       "    <tr>\n",
       "      <th>Logistics performance index: Overall score (1=low to 5=high), upper bound</th>\n",
       "      <td>160.0</td>\n",
       "      <td>3.074043</td>\n",
       "      <td>0.536564</td>\n",
       "      <td>2.106280</td>\n",
       "      <td>2.689631</td>\n",
       "      <td>2.923133</td>\n",
       "      <td>3.442893</td>\n",
       "      <td>4.255264</td>\n",
       "    </tr>\n",
       "    <tr>\n",
       "      <th>Logistics performance index: Percent of highest performer)</th>\n",
       "      <td>160.0</td>\n",
       "      <td>58.278634</td>\n",
       "      <td>17.739830</td>\n",
       "      <td>29.629286</td>\n",
       "      <td>44.610424</td>\n",
       "      <td>53.279895</td>\n",
       "      <td>69.403619</td>\n",
       "      <td>100.000000</td>\n",
       "    </tr>\n",
       "    <tr>\n",
       "      <th>Quality of trade- and transport-related infrastructure, score (1=low to 5=high)</th>\n",
       "      <td>160.0</td>\n",
       "      <td>2.722885</td>\n",
       "      <td>0.674164</td>\n",
       "      <td>1.555556</td>\n",
       "      <td>2.204255</td>\n",
       "      <td>2.546587</td>\n",
       "      <td>3.140396</td>\n",
       "      <td>4.374447</td>\n",
       "    </tr>\n",
       "    <tr>\n",
       "      <th>Quality- of trade and transport-related infrastructure, rank (1=highest performer)</th>\n",
       "      <td>160.0</td>\n",
       "      <td>80.500000</td>\n",
       "      <td>46.332134</td>\n",
       "      <td>1.000000</td>\n",
       "      <td>40.750000</td>\n",
       "      <td>80.500000</td>\n",
       "      <td>120.250000</td>\n",
       "      <td>160.000000</td>\n",
       "    </tr>\n",
       "  </tbody>\n",
       "</table>\n",
       "</div>"
      ],
      "text/plain": [
       "                                                    count       mean  \\\n",
       "series_name                                                            \n",
       "Efficiency of the clearance process, rank (1=hi...  160.0  80.500000   \n",
       "Efficiency of the clearance process, score (1=l...  160.0   2.673273   \n",
       "Frequency with which shipments reach consignee ...  160.0  80.500000   \n",
       "Frequency with which shipments reach consignee ...  160.0   3.236305   \n",
       "Logistics performance index: Overall rank (1=hi...  160.0  80.500000   \n",
       "Logistics performance index: Overall rank (1=hi...  160.0  61.462500   \n",
       "Logistics performance index: Overall rank (1=hi...  160.0  98.818750   \n",
       "Logistics performance index: Overall score (1=l...  160.0   2.865758   \n",
       "Logistics performance index: Overall score (1=l...  160.0   2.657473   \n",
       "Logistics performance index: Overall score (1=l...  160.0   3.074043   \n",
       "Logistics performance index: Percent of highest...  160.0  58.278634   \n",
       "Quality of trade- and transport-related infrast...  160.0   2.722885   \n",
       "Quality- of trade and transport-related infrast...  160.0  80.500000   \n",
       "\n",
       "                                                          std        min  \\\n",
       "series_name                                                                \n",
       "Efficiency of the clearance process, rank (1=hi...  46.332134   1.000000   \n",
       "Efficiency of the clearance process, score (1=l...   0.578097   1.571429   \n",
       "Frequency with which shipments reach consignee ...  46.332134   1.000000   \n",
       "Frequency with which shipments reach consignee ...   0.575689   2.036890   \n",
       "Logistics performance index: Overall rank (1=hi...  46.332134   1.000000   \n",
       "Logistics performance index: Overall rank (1=hi...  38.418072   1.000000   \n",
       "Logistics performance index: Overall rank (1=hi...  50.817329   1.000000   \n",
       "Logistics performance index: Overall score (1=l...   0.567931   1.948565   \n",
       "Logistics performance index: Overall score (1=l...   0.607882   1.657845   \n",
       "Logistics performance index: Overall score (1=l...   0.536564   2.106280   \n",
       "Logistics performance index: Percent of highest...  17.739830  29.629286   \n",
       "Quality of trade- and transport-related infrast...   0.674164   1.555556   \n",
       "Quality- of trade and transport-related infrast...  46.332134   1.000000   \n",
       "\n",
       "                                                          25%         50%  \\\n",
       "series_name                                                                 \n",
       "Efficiency of the clearance process, rank (1=hi...  40.750000   80.500000   \n",
       "Efficiency of the clearance process, score (1=l...   2.300852    2.577253   \n",
       "Frequency with which shipments reach consignee ...  40.750000   80.500000   \n",
       "Frequency with which shipments reach consignee ...   2.801516    3.172299   \n",
       "Logistics performance index: Overall rank (1=hi...  40.750000   80.500000   \n",
       "Logistics performance index: Overall rank (1=hi...  31.000000   60.000000   \n",
       "Logistics performance index: Overall rank (1=hi...  50.750000  115.000000   \n",
       "Logistics performance index: Overall score (1=l...   2.428178    2.705726   \n",
       "Logistics performance index: Overall score (1=l...   2.208628    2.479467   \n",
       "Logistics performance index: Overall score (1=l...   2.689631    2.923133   \n",
       "Logistics performance index: Percent of highest...  44.610424   53.279895   \n",
       "Quality of trade- and transport-related infrast...   2.204255    2.546587   \n",
       "Quality- of trade and transport-related infrast...  40.750000   80.500000   \n",
       "\n",
       "                                                           75%         max  \n",
       "series_name                                                                 \n",
       "Efficiency of the clearance process, rank (1=hi...  120.250000  160.000000  \n",
       "Efficiency of the clearance process, score (1=l...    2.953743    4.092256  \n",
       "Frequency with which shipments reach consignee ...  120.250000  160.000000  \n",
       "Frequency with which shipments reach consignee ...    3.670168    4.410293  \n",
       "Logistics performance index: Overall rank (1=hi...  120.250000  160.000000  \n",
       "Logistics performance index: Overall rank (1=hi...   84.250000  155.000000  \n",
       "Logistics performance index: Overall rank (1=hi...  143.250000  160.000000  \n",
       "Logistics performance index: Overall score (1=l...    3.221918    4.201444  \n",
       "Logistics performance index: Overall score (1=l...    3.052425    4.155037  \n",
       "Logistics performance index: Overall score (1=l...    3.442893    4.255264  \n",
       "Logistics performance index: Percent of highest...   69.403619  100.000000  \n",
       "Quality of trade- and transport-related infrast...    3.140396    4.374447  \n",
       "Quality- of trade and transport-related infrast...  120.250000  160.000000  "
      ]
     },
     "execution_count": 15,
     "metadata": {},
     "output_type": "execute_result"
    }
   ],
   "source": [
    "#Describing the data\n",
    "logist_data.describe().T"
   ]
  },
  {
   "cell_type": "code",
   "execution_count": 16,
   "id": "0ca7fa51",
   "metadata": {},
   "outputs": [
    {
     "data": {
      "text/plain": [
       "series_name\n",
       "Efficiency of the clearance process, rank (1=highest performer)                                                 0\n",
       "Efficiency of the clearance process, score (1=low to 5=high)                                                    0\n",
       "Frequency with which shipments reach consignee within scheduled or expected time, rank (1=highest performer)    0\n",
       "Frequency with which shipments reach consignee within scheduled or expected time, score (1=low to 5=high)       0\n",
       "Logistics performance index: Overall rank (1=highest performance)                                               0\n",
       "Logistics performance index: Overall rank (1=highest performance), lower bound                                  0\n",
       "Logistics performance index: Overall rank (1=highest performance), upper bound                                  0\n",
       "Logistics performance index: Overall score (1=low to 5=high)                                                    0\n",
       "Logistics performance index: Overall score (1=low to 5=high), lower bound                                       0\n",
       "Logistics performance index: Overall score (1=low to 5=high), upper bound                                       0\n",
       "Logistics performance index: Percent of highest performer)                                                      0\n",
       "Quality of trade- and transport-related infrastructure, score (1=low to 5=high)                                 0\n",
       "Quality- of trade and transport-related infrastructure, rank (1=highest performer)                              0\n",
       "dtype: int64"
      ]
     },
     "execution_count": 16,
     "metadata": {},
     "output_type": "execute_result"
    }
   ],
   "source": [
    "#Checking for missing values - There are none\n",
    "logist_data.isnull().sum()"
   ]
  },
  {
   "cell_type": "code",
   "execution_count": 17,
   "id": "12851f1a",
   "metadata": {},
   "outputs": [],
   "source": [
    "# Checking for outliers\n",
    "\n",
    "logist_data1 = logist_data.copy()\n",
    "\n",
    "for column in logist_data1:\n",
    "    if logist_data1[column].dtype != 'object':\n",
    "        Q1 = logist_data1[column].quantile(.25)\n",
    "        Q3 = logist_data1[column].quantile(.75)\n",
    "        IQR = Q3 - Q1\n",
    "        lower_limit = (Q1 - 1.5 * IQR)\n",
    "        upper_limit = (Q3 + 1.5 * IQR)\n",
    "        \n",
    "        #print(column,lower_limit, upper_limit)\n",
    "\n",
    "outliers = logist_data1[(logist_data1[column] < lower_limit) | (logist_data1[column] > upper_limit)]"
   ]
  },
  {
   "cell_type": "code",
   "execution_count": 18,
   "id": "27276559",
   "metadata": {},
   "outputs": [
    {
     "data": {
      "text/html": [
       "<div>\n",
       "<style scoped>\n",
       "    .dataframe tbody tr th:only-of-type {\n",
       "        vertical-align: middle;\n",
       "    }\n",
       "\n",
       "    .dataframe tbody tr th {\n",
       "        vertical-align: top;\n",
       "    }\n",
       "\n",
       "    .dataframe thead th {\n",
       "        text-align: right;\n",
       "    }\n",
       "</style>\n",
       "<table border=\"1\" class=\"dataframe\">\n",
       "  <thead>\n",
       "    <tr style=\"text-align: right;\">\n",
       "      <th></th>\n",
       "      <th>series_name</th>\n",
       "      <th>Efficiency of the clearance process, rank (1=highest performer)</th>\n",
       "      <th>Efficiency of the clearance process, score (1=low to 5=high)</th>\n",
       "      <th>Frequency with which shipments reach consignee within scheduled or expected time, rank (1=highest performer)</th>\n",
       "      <th>Frequency with which shipments reach consignee within scheduled or expected time, score (1=low to 5=high)</th>\n",
       "      <th>Logistics performance index: Overall rank (1=highest performance)</th>\n",
       "      <th>Logistics performance index: Overall rank (1=highest performance), lower bound</th>\n",
       "      <th>Logistics performance index: Overall rank (1=highest performance), upper bound</th>\n",
       "      <th>Logistics performance index: Overall score (1=low to 5=high)</th>\n",
       "      <th>Logistics performance index: Overall score (1=low to 5=high), lower bound</th>\n",
       "      <th>Logistics performance index: Overall score (1=low to 5=high), upper bound</th>\n",
       "      <th>Logistics performance index: Percent of highest performer)</th>\n",
       "      <th>Quality of trade- and transport-related infrastructure, score (1=low to 5=high)</th>\n",
       "      <th>Quality- of trade and transport-related infrastructure, rank (1=highest performer)</th>\n",
       "    </tr>\n",
       "    <tr>\n",
       "      <th>country_name</th>\n",
       "      <th>country_code</th>\n",
       "      <th></th>\n",
       "      <th></th>\n",
       "      <th></th>\n",
       "      <th></th>\n",
       "      <th></th>\n",
       "      <th></th>\n",
       "      <th></th>\n",
       "      <th></th>\n",
       "      <th></th>\n",
       "      <th></th>\n",
       "      <th></th>\n",
       "      <th></th>\n",
       "      <th></th>\n",
       "    </tr>\n",
       "  </thead>\n",
       "  <tbody>\n",
       "  </tbody>\n",
       "</table>\n",
       "</div>"
      ],
      "text/plain": [
       "Empty DataFrame\n",
       "Columns: [Efficiency of the clearance process, rank (1=highest performer), Efficiency of the clearance process, score (1=low to 5=high), Frequency with which shipments reach consignee within scheduled or expected time, rank (1=highest performer), Frequency with which shipments reach consignee within scheduled or expected time, score (1=low to 5=high), Logistics performance index: Overall rank (1=highest performance), Logistics performance index: Overall rank (1=highest performance), lower bound, Logistics performance index: Overall rank (1=highest performance), upper bound, Logistics performance index: Overall score (1=low to 5=high), Logistics performance index: Overall score (1=low to 5=high), lower bound, Logistics performance index: Overall score (1=low to 5=high), upper bound, Logistics performance index: Percent of highest performer), Quality of trade- and transport-related infrastructure, score (1=low to 5=high), Quality- of trade and transport-related infrastructure, rank (1=highest performer)]\n",
       "Index: []"
      ]
     },
     "execution_count": 18,
     "metadata": {},
     "output_type": "execute_result"
    }
   ],
   "source": [
    "#As a result, we see no outliers\n",
    "outliers"
   ]
  },
  {
   "cell_type": "code",
   "execution_count": 19,
   "id": "9404ada3",
   "metadata": {},
   "outputs": [],
   "source": [
    "#Saving the cleaned df into a CSV file\n",
    "logist_data.to_csv(r'C:\\Users\\User\\Documents\\Data Science\\Data\\logistics_clean_df.csv', index=False)"
   ]
  },
  {
   "cell_type": "code",
   "execution_count": 20,
   "id": "b03a5528",
   "metadata": {},
   "outputs": [],
   "source": [
    "#Renaming the columns for more efficiency\n",
    "logist_data2 = logist_data.copy()\n",
    "\n",
    "logist_data2.columns = ['clearance_efficiency_rank',\n",
    "                       'clearance_efficiency_score',\n",
    "                       'timely_consignee_receival_rank',\n",
    "                       'timely_consignee_receival_score',\n",
    "                       'overall_log_performance_rank',\n",
    "                       'overall_log_performance_rankUB',\n",
    "                       'overall_log_performance_rankLB',\n",
    "                       'overall_log_performance_score',\n",
    "                       'overall_log_performance_scorekUB',\n",
    "                       'overall_log_performance_scoreLB',\n",
    "                       'log_performance_PctOfHighest',\n",
    "                       'infrastructure_score',\n",
    "                       'infrastructure_rank']"
   ]
  },
  {
   "cell_type": "markdown",
   "id": "6a30cb2e",
   "metadata": {},
   "source": [
    "## Preparing the data to build the model"
   ]
  },
  {
   "cell_type": "code",
   "execution_count": 21,
   "id": "11348350",
   "metadata": {},
   "outputs": [],
   "source": [
    "#Separating only the scores \n",
    "X_numerics = logist_data2[['clearance_efficiency_score',\n",
    "                       'timely_consignee_receival_score',\n",
    "                       'infrastructure_score']]"
   ]
  },
  {
   "cell_type": "code",
   "execution_count": 22,
   "id": "9da7a688",
   "metadata": {},
   "outputs": [],
   "source": [
    "X_numerics1 = X_numerics.copy()"
   ]
  },
  {
   "cell_type": "code",
   "execution_count": 23,
   "id": "ed6f4c2f",
   "metadata": {},
   "outputs": [
    {
     "data": {
      "text/html": [
       "<div>\n",
       "<style scoped>\n",
       "    .dataframe tbody tr th:only-of-type {\n",
       "        vertical-align: middle;\n",
       "    }\n",
       "\n",
       "    .dataframe tbody tr th {\n",
       "        vertical-align: top;\n",
       "    }\n",
       "\n",
       "    .dataframe thead th {\n",
       "        text-align: right;\n",
       "    }\n",
       "</style>\n",
       "<table border=\"1\" class=\"dataframe\">\n",
       "  <thead>\n",
       "    <tr style=\"text-align: right;\">\n",
       "      <th></th>\n",
       "      <th>count</th>\n",
       "      <th>mean</th>\n",
       "      <th>std</th>\n",
       "      <th>min</th>\n",
       "      <th>25%</th>\n",
       "      <th>50%</th>\n",
       "      <th>75%</th>\n",
       "      <th>max</th>\n",
       "    </tr>\n",
       "  </thead>\n",
       "  <tbody>\n",
       "    <tr>\n",
       "      <th>clearance_efficiency_score</th>\n",
       "      <td>160.0</td>\n",
       "      <td>2.673273</td>\n",
       "      <td>0.578097</td>\n",
       "      <td>1.571429</td>\n",
       "      <td>2.300852</td>\n",
       "      <td>2.577253</td>\n",
       "      <td>2.953743</td>\n",
       "      <td>4.092256</td>\n",
       "    </tr>\n",
       "    <tr>\n",
       "      <th>timely_consignee_receival_score</th>\n",
       "      <td>160.0</td>\n",
       "      <td>3.236305</td>\n",
       "      <td>0.575689</td>\n",
       "      <td>2.036890</td>\n",
       "      <td>2.801516</td>\n",
       "      <td>3.172299</td>\n",
       "      <td>3.670168</td>\n",
       "      <td>4.410293</td>\n",
       "    </tr>\n",
       "    <tr>\n",
       "      <th>infrastructure_score</th>\n",
       "      <td>160.0</td>\n",
       "      <td>2.722885</td>\n",
       "      <td>0.674164</td>\n",
       "      <td>1.555556</td>\n",
       "      <td>2.204255</td>\n",
       "      <td>2.546587</td>\n",
       "      <td>3.140396</td>\n",
       "      <td>4.374447</td>\n",
       "    </tr>\n",
       "  </tbody>\n",
       "</table>\n",
       "</div>"
      ],
      "text/plain": [
       "                                 count      mean       std       min  \\\n",
       "clearance_efficiency_score       160.0  2.673273  0.578097  1.571429   \n",
       "timely_consignee_receival_score  160.0  3.236305  0.575689  2.036890   \n",
       "infrastructure_score             160.0  2.722885  0.674164  1.555556   \n",
       "\n",
       "                                      25%       50%       75%       max  \n",
       "clearance_efficiency_score       2.300852  2.577253  2.953743  4.092256  \n",
       "timely_consignee_receival_score  2.801516  3.172299  3.670168  4.410293  \n",
       "infrastructure_score             2.204255  2.546587  3.140396  4.374447  "
      ]
     },
     "execution_count": 23,
     "metadata": {},
     "output_type": "execute_result"
    }
   ],
   "source": [
    "X_numerics.describe().T"
   ]
  },
  {
   "cell_type": "code",
   "execution_count": 24,
   "id": "281e93c1",
   "metadata": {},
   "outputs": [
    {
     "data": {
      "text/plain": [
       "Index(['clearance_efficiency_score', 'timely_consignee_receival_score',\n",
       "       'infrastructure_score'],\n",
       "      dtype='object')"
      ]
     },
     "execution_count": 24,
     "metadata": {},
     "output_type": "execute_result"
    }
   ],
   "source": [
    "X_numerics.columns"
   ]
  },
  {
   "cell_type": "code",
   "execution_count": 25,
   "id": "84e5200b",
   "metadata": {},
   "outputs": [],
   "source": [
    "#Resetting the index in order to have contry column\n",
    "X_numerics.reset_index(inplace=True)"
   ]
  },
  {
   "cell_type": "code",
   "execution_count": 26,
   "id": "16a87947",
   "metadata": {},
   "outputs": [],
   "source": [
    "#Saving the new df into a CSV file\n",
    "X_numerics.to_csv(r'C:\\Users\\User\\Documents\\Data Science\\Data\\logistics_final_df.csv', index=False)"
   ]
  },
  {
   "cell_type": "code",
   "execution_count": 27,
   "id": "37a5ce7b",
   "metadata": {},
   "outputs": [],
   "source": [
    "cols = X_numerics[['clearance_efficiency_score', 'timely_consignee_receival_score',\n",
    "       'infrastructure_score']].columns"
   ]
  },
  {
   "cell_type": "code",
   "execution_count": 28,
   "id": "a26763bc",
   "metadata": {},
   "outputs": [
    {
     "data": {
      "text/plain": [
       "<seaborn.axisgrid.FacetGrid at 0x1d5522d7ec8>"
      ]
     },
     "execution_count": 28,
     "metadata": {},
     "output_type": "execute_result"
    },
    {
     "data": {
      "image/png": "[encoded data removed]",
      "text/plain": [
       "<Figure size 562.1x360 with 1 Axes>"
      ]
     },
     "metadata": {},
     "output_type": "display_data"
    }
   ],
   "source": [
    "#Plotting the data to see skewness and distribution - Data is skewed\n",
    "sns.displot(X_numerics, kde=True)"
   ]
  },
  {
   "cell_type": "markdown",
   "id": "721ee43e",
   "metadata": {},
   "source": [
    "### Option 1: Logarithmic transformation"
   ]
  },
  {
   "cell_type": "code",
   "execution_count": 29,
   "id": "c91edd3d",
   "metadata": {},
   "outputs": [],
   "source": [
    "#Logarithmic transformation will manage skewness\n",
    "X_numerics_log = X_numerics[['clearance_efficiency_score', 'timely_consignee_receival_score',\n",
    "       'infrastructure_score']].apply(np.log1p, axis = 1).round(3)"
   ]
  },
  {
   "cell_type": "code",
   "execution_count": 30,
   "id": "6b1cbe4a",
   "metadata": {},
   "outputs": [
    {
     "data": {
      "text/plain": [
       "clearance_efficiency_score         0\n",
       "timely_consignee_receival_score    0\n",
       "infrastructure_score               0\n",
       "dtype: int64"
      ]
     },
     "execution_count": 30,
     "metadata": {},
     "output_type": "execute_result"
    }
   ],
   "source": [
    "X_numerics_log.isnull().sum()"
   ]
  },
  {
   "cell_type": "code",
   "execution_count": 31,
   "id": "d5de4c0c",
   "metadata": {},
   "outputs": [
    {
     "data": {
      "text/plain": [
       "<seaborn.axisgrid.FacetGrid at 0x1d55549c188>"
      ]
     },
     "execution_count": 31,
     "metadata": {},
     "output_type": "execute_result"
    },
    {
     "data": {
      "image/png": "[encoded data removed]",
      "text/plain": [
       "<Figure size 562.1x360 with 1 Axes>"
      ]
     },
     "metadata": {},
     "output_type": "display_data"
    }
   ],
   "source": [
    "#Plotting the data to confirm that the skewness is fixed\n",
    "sns.displot(X_numerics_log, kde=True)"
   ]
  },
  {
   "cell_type": "markdown",
   "id": "6f5b51d6",
   "metadata": {},
   "source": [
    "### Option 2: StandardScaler"
   ]
  },
  {
   "cell_type": "code",
   "execution_count": 32,
   "id": "86042635",
   "metadata": {},
   "outputs": [],
   "source": [
    "#Scaling the data\n",
    "\n",
    "# Normalize the variables with StandardScaler\n",
    "from sklearn.preprocessing import StandardScaler\n",
    "scaler = StandardScaler()\n",
    "\n",
    "#Store it separately for clustering\n",
    "X_numerics_stdscaled = scaler.fit_transform(X_numerics[['clearance_efficiency_score', 'timely_consignee_receival_score',\n",
    "       'infrastructure_score']])"
   ]
  },
  {
   "cell_type": "code",
   "execution_count": 33,
   "id": "7ca07550",
   "metadata": {},
   "outputs": [],
   "source": [
    "X_numerics1_stdscaled = scaler.fit_transform(X_numerics1)"
   ]
  },
  {
   "cell_type": "code",
   "execution_count": 34,
   "id": "22065f30",
   "metadata": {},
   "outputs": [
    {
     "data": {
      "text/plain": [
       "<seaborn.axisgrid.FacetGrid at 0x1d5543ba4c8>"
      ]
     },
     "execution_count": 34,
     "metadata": {},
     "output_type": "execute_result"
    },
    {
     "data": {
      "image/png": "[encoded data removed]",
      "text/plain": [
       "<Figure size 405.725x360 with 1 Axes>"
      ]
     },
     "metadata": {},
     "output_type": "display_data"
    }
   ],
   "source": [
    "#Plotting the data to confirm that the skewness is fixed with StandardScaler\n",
    "sns.displot(X_numerics_stdscaled, kde=True)"
   ]
  },
  {
   "cell_type": "markdown",
   "id": "08928bb1",
   "metadata": {},
   "source": [
    "### Option 3: MinMaxScaler"
   ]
  },
  {
   "cell_type": "code",
   "execution_count": 35,
   "id": "bdb16d05",
   "metadata": {},
   "outputs": [],
   "source": [
    "#Scaling the data\n",
    "\n",
    "# Normalize the variables with StandardScaler\n",
    "from sklearn.preprocessing import MinMaxScaler\n",
    "scaler = MinMaxScaler()\n",
    "\n",
    "#Store it separately for clustering\n",
    "X_numerics_mmscaled = scaler.fit_transform(X_numerics[['clearance_efficiency_score', 'timely_consignee_receival_score',\n",
    "       'infrastructure_score']])"
   ]
  },
  {
   "cell_type": "code",
   "execution_count": 36,
   "id": "18e95f9e",
   "metadata": {},
   "outputs": [
    {
     "data": {
      "text/plain": [
       "<seaborn.axisgrid.FacetGrid at 0x1d5556335c8>"
      ]
     },
     "execution_count": 36,
     "metadata": {},
     "output_type": "execute_result"
    },
    {
     "data": {
      "image/png": "[encoded data removed]",
      "text/plain": [
       "<Figure size 405.725x360 with 1 Axes>"
      ]
     },
     "metadata": {},
     "output_type": "display_data"
    }
   ],
   "source": [
    "#Plotting the data to confirm that the skewness is fixed with StandardScaler\n",
    "sns.displot(X_numerics_mmscaled, kde=True)"
   ]
  },
  {
   "cell_type": "code",
   "execution_count": 37,
   "id": "0f41daa7",
   "metadata": {},
   "outputs": [],
   "source": [
    "# Convert it into dataframe by keeping also the column name\n",
    "X_numerics_log = pd.DataFrame(X_numerics_log, columns = cols) \n",
    "X_numerics_stdscaled = pd.DataFrame(X_numerics_stdscaled, columns = cols)\n",
    "X_numerics_mmscaled = pd.DataFrame(X_numerics_mmscaled, columns = cols) "
   ]
  },
  {
   "cell_type": "code",
   "execution_count": 38,
   "id": "b13240ea",
   "metadata": {},
   "outputs": [
    {
     "data": {
      "text/html": [
       "<div>\n",
       "<style scoped>\n",
       "    .dataframe tbody tr th:only-of-type {\n",
       "        vertical-align: middle;\n",
       "    }\n",
       "\n",
       "    .dataframe tbody tr th {\n",
       "        vertical-align: top;\n",
       "    }\n",
       "\n",
       "    .dataframe thead th {\n",
       "        text-align: right;\n",
       "    }\n",
       "</style>\n",
       "<table border=\"1\" class=\"dataframe\">\n",
       "  <thead>\n",
       "    <tr style=\"text-align: right;\">\n",
       "      <th></th>\n",
       "      <th>count</th>\n",
       "      <th>mean</th>\n",
       "      <th>std</th>\n",
       "      <th>min</th>\n",
       "      <th>25%</th>\n",
       "      <th>50%</th>\n",
       "      <th>75%</th>\n",
       "      <th>max</th>\n",
       "    </tr>\n",
       "  </thead>\n",
       "  <tbody>\n",
       "    <tr>\n",
       "      <th>clearance_efficiency_score</th>\n",
       "      <td>160.0</td>\n",
       "      <td>1.289269</td>\n",
       "      <td>0.153011</td>\n",
       "      <td>0.944</td>\n",
       "      <td>1.19400</td>\n",
       "      <td>1.2750</td>\n",
       "      <td>1.37475</td>\n",
       "      <td>1.628</td>\n",
       "    </tr>\n",
       "    <tr>\n",
       "      <th>timely_consignee_receival_score</th>\n",
       "      <td>160.0</td>\n",
       "      <td>1.434550</td>\n",
       "      <td>0.135641</td>\n",
       "      <td>1.111</td>\n",
       "      <td>1.33525</td>\n",
       "      <td>1.4285</td>\n",
       "      <td>1.54125</td>\n",
       "      <td>1.688</td>\n",
       "    </tr>\n",
       "    <tr>\n",
       "      <th>infrastructure_score</th>\n",
       "      <td>160.0</td>\n",
       "      <td>1.299056</td>\n",
       "      <td>0.174176</td>\n",
       "      <td>0.938</td>\n",
       "      <td>1.16425</td>\n",
       "      <td>1.2660</td>\n",
       "      <td>1.42050</td>\n",
       "      <td>1.682</td>\n",
       "    </tr>\n",
       "  </tbody>\n",
       "</table>\n",
       "</div>"
      ],
      "text/plain": [
       "                                 count      mean       std    min      25%  \\\n",
       "clearance_efficiency_score       160.0  1.289269  0.153011  0.944  1.19400   \n",
       "timely_consignee_receival_score  160.0  1.434550  0.135641  1.111  1.33525   \n",
       "infrastructure_score             160.0  1.299056  0.174176  0.938  1.16425   \n",
       "\n",
       "                                    50%      75%    max  \n",
       "clearance_efficiency_score       1.2750  1.37475  1.628  \n",
       "timely_consignee_receival_score  1.4285  1.54125  1.688  \n",
       "infrastructure_score             1.2660  1.42050  1.682  "
      ]
     },
     "execution_count": 38,
     "metadata": {},
     "output_type": "execute_result"
    }
   ],
   "source": [
    "X_numerics_log.describe().T"
   ]
  },
  {
   "cell_type": "code",
   "execution_count": 39,
   "id": "21f4d3f7",
   "metadata": {},
   "outputs": [
    {
     "data": {
      "text/html": [
       "<div>\n",
       "<style scoped>\n",
       "    .dataframe tbody tr th:only-of-type {\n",
       "        vertical-align: middle;\n",
       "    }\n",
       "\n",
       "    .dataframe tbody tr th {\n",
       "        vertical-align: top;\n",
       "    }\n",
       "\n",
       "    .dataframe thead th {\n",
       "        text-align: right;\n",
       "    }\n",
       "</style>\n",
       "<table border=\"1\" class=\"dataframe\">\n",
       "  <thead>\n",
       "    <tr style=\"text-align: right;\">\n",
       "      <th></th>\n",
       "      <th>count</th>\n",
       "      <th>mean</th>\n",
       "      <th>std</th>\n",
       "      <th>min</th>\n",
       "      <th>25%</th>\n",
       "      <th>50%</th>\n",
       "      <th>75%</th>\n",
       "      <th>max</th>\n",
       "    </tr>\n",
       "  </thead>\n",
       "  <tbody>\n",
       "    <tr>\n",
       "      <th>clearance_efficiency_score</th>\n",
       "      <td>160.0</td>\n",
       "      <td>-3.996803e-16</td>\n",
       "      <td>1.00314</td>\n",
       "      <td>-1.911970</td>\n",
       "      <td>-0.646242</td>\n",
       "      <td>-0.166620</td>\n",
       "      <td>0.486685</td>\n",
       "      <td>2.462283</td>\n",
       "    </tr>\n",
       "    <tr>\n",
       "      <th>timely_consignee_receival_score</th>\n",
       "      <td>160.0</td>\n",
       "      <td>4.510281e-16</td>\n",
       "      <td>1.00314</td>\n",
       "      <td>-2.089983</td>\n",
       "      <td>-0.757619</td>\n",
       "      <td>-0.111530</td>\n",
       "      <td>0.756007</td>\n",
       "      <td>2.045677</td>\n",
       "    </tr>\n",
       "    <tr>\n",
       "      <th>infrastructure_score</th>\n",
       "      <td>160.0</td>\n",
       "      <td>3.538836e-17</td>\n",
       "      <td>1.00314</td>\n",
       "      <td>-1.736958</td>\n",
       "      <td>-0.771710</td>\n",
       "      <td>-0.262328</td>\n",
       "      <td>0.621246</td>\n",
       "      <td>2.457484</td>\n",
       "    </tr>\n",
       "  </tbody>\n",
       "</table>\n",
       "</div>"
      ],
      "text/plain": [
       "                                 count          mean      std       min  \\\n",
       "clearance_efficiency_score       160.0 -3.996803e-16  1.00314 -1.911970   \n",
       "timely_consignee_receival_score  160.0  4.510281e-16  1.00314 -2.089983   \n",
       "infrastructure_score             160.0  3.538836e-17  1.00314 -1.736958   \n",
       "\n",
       "                                      25%       50%       75%       max  \n",
       "clearance_efficiency_score      -0.646242 -0.166620  0.486685  2.462283  \n",
       "timely_consignee_receival_score -0.757619 -0.111530  0.756007  2.045677  \n",
       "infrastructure_score            -0.771710 -0.262328  0.621246  2.457484  "
      ]
     },
     "execution_count": 39,
     "metadata": {},
     "output_type": "execute_result"
    }
   ],
   "source": [
    "X_numerics_stdscaled.describe().T"
   ]
  },
  {
   "cell_type": "code",
   "execution_count": 40,
   "id": "9e627122",
   "metadata": {},
   "outputs": [
    {
     "data": {
      "text/html": [
       "<div>\n",
       "<style scoped>\n",
       "    .dataframe tbody tr th:only-of-type {\n",
       "        vertical-align: middle;\n",
       "    }\n",
       "\n",
       "    .dataframe tbody tr th {\n",
       "        vertical-align: top;\n",
       "    }\n",
       "\n",
       "    .dataframe thead th {\n",
       "        text-align: right;\n",
       "    }\n",
       "</style>\n",
       "<table border=\"1\" class=\"dataframe\">\n",
       "  <thead>\n",
       "    <tr style=\"text-align: right;\">\n",
       "      <th></th>\n",
       "      <th>count</th>\n",
       "      <th>mean</th>\n",
       "      <th>std</th>\n",
       "      <th>min</th>\n",
       "      <th>25%</th>\n",
       "      <th>50%</th>\n",
       "      <th>75%</th>\n",
       "      <th>max</th>\n",
       "    </tr>\n",
       "  </thead>\n",
       "  <tbody>\n",
       "    <tr>\n",
       "      <th>clearance_efficiency_score</th>\n",
       "      <td>160.0</td>\n",
       "      <td>0.437096</td>\n",
       "      <td>0.229328</td>\n",
       "      <td>0.0</td>\n",
       "      <td>0.289359</td>\n",
       "      <td>0.399005</td>\n",
       "      <td>0.548358</td>\n",
       "      <td>1.0</td>\n",
       "    </tr>\n",
       "    <tr>\n",
       "      <th>timely_consignee_receival_score</th>\n",
       "      <td>160.0</td>\n",
       "      <td>0.505357</td>\n",
       "      <td>0.242559</td>\n",
       "      <td>0.0</td>\n",
       "      <td>0.322165</td>\n",
       "      <td>0.478389</td>\n",
       "      <td>0.688159</td>\n",
       "      <td>1.0</td>\n",
       "    </tr>\n",
       "    <tr>\n",
       "      <th>infrastructure_score</th>\n",
       "      <td>160.0</td>\n",
       "      <td>0.414109</td>\n",
       "      <td>0.239159</td>\n",
       "      <td>0.0</td>\n",
       "      <td>0.230126</td>\n",
       "      <td>0.351568</td>\n",
       "      <td>0.562221</td>\n",
       "      <td>1.0</td>\n",
       "    </tr>\n",
       "  </tbody>\n",
       "</table>\n",
       "</div>"
      ],
      "text/plain": [
       "                                 count      mean       std  min       25%  \\\n",
       "clearance_efficiency_score       160.0  0.437096  0.229328  0.0  0.289359   \n",
       "timely_consignee_receival_score  160.0  0.505357  0.242559  0.0  0.322165   \n",
       "infrastructure_score             160.0  0.414109  0.239159  0.0  0.230126   \n",
       "\n",
       "                                      50%       75%  max  \n",
       "clearance_efficiency_score       0.399005  0.548358  1.0  \n",
       "timely_consignee_receival_score  0.478389  0.688159  1.0  \n",
       "infrastructure_score             0.351568  0.562221  1.0  "
      ]
     },
     "execution_count": 40,
     "metadata": {},
     "output_type": "execute_result"
    }
   ],
   "source": [
    "X_numerics_mmscaled.describe().T"
   ]
  },
  {
   "cell_type": "markdown",
   "id": "617d32a8",
   "metadata": {},
   "source": [
    "## Using K-Means to see if any clusters exist"
   ]
  },
  {
   "cell_type": "markdown",
   "id": "46193826",
   "metadata": {},
   "source": [
    "### Model preparation"
   ]
  },
  {
   "cell_type": "code",
   "execution_count": 41,
   "id": "b2f9368a",
   "metadata": {},
   "outputs": [],
   "source": [
    "from sklearn.cluster import KMeans\n",
    "inertia = []\n",
    "\n",
    "#First : Get the Best KMeans \n",
    "ks = range(1,20)\n",
    "\n",
    "for i in ks:\n",
    "    kmeans = KMeans(n_clusters= i, random_state=7)\n",
    "    kmeans.fit(X_numerics_stdscaled)\n",
    "    inertia.append(kmeans.inertia_)\n",
    "\n",
    "    #inertia_ is the formula used to segregate the data points \n",
    "    # into clusters"
   ]
  },
  {
   "cell_type": "code",
   "execution_count": 42,
   "id": "ff8c1e1c",
   "metadata": {},
   "outputs": [
    {
     "data": {
      "text/plain": [
       "[479.99999999999994,\n",
       " 149.99183748938356,\n",
       " 84.69389895825334,\n",
       " 58.7544406496896,\n",
       " 45.545684358244785,\n",
       " 39.007937891323536,\n",
       " 34.440997550640546,\n",
       " 30.928205191155655,\n",
       " 28.519740524594717,\n",
       " 25.311671352727483,\n",
       " 23.031693804937504,\n",
       " 22.110450829410357,\n",
       " 20.47430721854152,\n",
       " 20.073464240263796,\n",
       " 18.640848162028366,\n",
       " 18.122986551310298,\n",
       " 16.71812805291974,\n",
       " 16.177986803441158,\n",
       " 15.366397587221648]"
      ]
     },
     "execution_count": 42,
     "metadata": {},
     "output_type": "execute_result"
    }
   ],
   "source": [
    "inertia"
   ]
  },
  {
   "cell_type": "code",
   "execution_count": 43,
   "id": "2f60374c",
   "metadata": {},
   "outputs": [
    {
     "data": {
      "image/png": "[encoded data removed]",
      "text/plain": [
       "<Figure size 1080x576 with 1 Axes>"
      ]
     },
     "metadata": {},
     "output_type": "display_data"
    }
   ],
   "source": [
    "# Plot ks vs inertias\n",
    "f, ax = plt.subplots(figsize=(15, 8))\n",
    "plt.plot(ks, inertia, '-o')\n",
    "\n",
    "plt.xlabel('Number of clusters, k')\n",
    "plt.ylabel('Inertia')\n",
    "plt.xticks(ks)\n",
    "plt.style.use('ggplot')\n",
    "plt.title('What is the Best Number for KMeans ?')\n",
    "plt.show()"
   ]
  },
  {
   "cell_type": "code",
   "execution_count": 44,
   "id": "914aa087",
   "metadata": {},
   "outputs": [],
   "source": [
    "#Using the kneed method\n",
    "#!pip install kneed"
   ]
  },
  {
   "cell_type": "code",
   "execution_count": 45,
   "id": "104a33b5",
   "metadata": {},
   "outputs": [
    {
     "data": {
      "text/plain": [
       "<kneed.knee_locator.KneeLocator at 0x1d55582e788>"
      ]
     },
     "execution_count": 45,
     "metadata": {},
     "output_type": "execute_result"
    }
   ],
   "source": [
    "from kneed import KneeLocator\n",
    "kl = KneeLocator(ks, inertia,curve=\"convex\", direction=\"decreasing\")\n",
    "kl"
   ]
  },
  {
   "cell_type": "code",
   "execution_count": 46,
   "id": "a3900db6",
   "metadata": {},
   "outputs": [
    {
     "name": "stdout",
     "output_type": "stream",
     "text": [
      "The elbow point of your model is: 4\n"
     ]
    }
   ],
   "source": [
    "print('The elbow point of your model is:', kl.elbow)"
   ]
  },
  {
   "cell_type": "code",
   "execution_count": 47,
   "id": "b7fcd7c9",
   "metadata": {},
   "outputs": [
    {
     "data": {
      "text/plain": [
       "KMeans(max_iter=400, n_clusters=3, random_state=42)"
      ]
     },
     "execution_count": 47,
     "metadata": {},
     "output_type": "execute_result"
    }
   ],
   "source": [
    "# Final model with k=4, however it makes more sense for the data to be distributed in only 3 (highes, medium, minimum)\n",
    "kmeans = KMeans(n_clusters=3, \n",
    "                max_iter=400, random_state=42)\n",
    "\n",
    "kmeans.fit(X_numerics_stdscaled)"
   ]
  },
  {
   "cell_type": "code",
   "execution_count": 48,
   "id": "79222d5d",
   "metadata": {},
   "outputs": [
    {
     "data": {
      "text/plain": [
       "KMeans(max_iter=400, n_clusters=3, random_state=42)"
      ]
     },
     "execution_count": 48,
     "metadata": {},
     "output_type": "execute_result"
    }
   ],
   "source": [
    "kmeans"
   ]
  },
  {
   "cell_type": "code",
   "execution_count": 49,
   "id": "0f424272",
   "metadata": {},
   "outputs": [
    {
     "data": {
      "text/plain": [
       "array([0, 0, 0, 0, 2, 0, 1, 1, 0, 2, 0, 2, 1, 2, 0, 0, 2, 2, 2, 2, 0, 0,\n",
       "       0, 0, 1, 0, 0, 1, 1, 2, 0, 0, 0, 2, 2, 2, 0, 2, 1, 1, 2, 0, 2, 2,\n",
       "       0, 0, 0, 1, 0, 1, 1, 0, 0, 0, 1, 0, 2, 0, 0, 0, 0, 0, 0, 1, 1, 2,\n",
       "       2, 2, 2, 0, 1, 1, 1, 0, 1, 2, 2, 2, 1, 2, 2, 0, 2, 2, 0, 0, 0, 2,\n",
       "       1, 0, 0, 0, 2, 2, 0, 2, 0, 2, 2, 0, 0, 2, 0, 0, 0, 1, 1, 0, 0, 1,\n",
       "       2, 0, 2, 0, 2, 2, 2, 1, 1, 2, 2, 2, 2, 2, 0, 2, 0, 1, 2, 1, 2, 0,\n",
       "       2, 1, 0, 0, 1, 1, 0, 2, 1, 0, 2, 0, 0, 0, 2, 0, 0, 2, 1, 1, 1, 0,\n",
       "       0, 0, 2, 0, 0, 0])"
      ]
     },
     "execution_count": 49,
     "metadata": {},
     "output_type": "execute_result"
    }
   ],
   "source": [
    "kmeans.labels_"
   ]
  },
  {
   "cell_type": "code",
   "execution_count": 50,
   "id": "8ad33469",
   "metadata": {},
   "outputs": [
    {
     "data": {
      "text/html": [
       "<div>\n",
       "<style scoped>\n",
       "    .dataframe tbody tr th:only-of-type {\n",
       "        vertical-align: middle;\n",
       "    }\n",
       "\n",
       "    .dataframe tbody tr th {\n",
       "        vertical-align: top;\n",
       "    }\n",
       "\n",
       "    .dataframe thead th {\n",
       "        text-align: right;\n",
       "    }\n",
       "</style>\n",
       "<table border=\"1\" class=\"dataframe\">\n",
       "  <thead>\n",
       "    <tr style=\"text-align: right;\">\n",
       "      <th></th>\n",
       "      <th>clearance_efficiency_score</th>\n",
       "      <th>timely_consignee_receival_score</th>\n",
       "      <th>infrastructure_score</th>\n",
       "    </tr>\n",
       "  </thead>\n",
       "  <tbody>\n",
       "    <tr>\n",
       "      <th>0</th>\n",
       "      <td>-1.628308</td>\n",
       "      <td>-1.487864</td>\n",
       "      <td>-1.362602</td>\n",
       "    </tr>\n",
       "    <tr>\n",
       "      <th>1</th>\n",
       "      <td>-0.565946</td>\n",
       "      <td>-0.058615</td>\n",
       "      <td>-0.638656</td>\n",
       "    </tr>\n",
       "    <tr>\n",
       "      <th>2</th>\n",
       "      <td>-0.942227</td>\n",
       "      <td>-0.827911</td>\n",
       "      <td>-0.448628</td>\n",
       "    </tr>\n",
       "    <tr>\n",
       "      <th>3</th>\n",
       "      <td>-1.911970</td>\n",
       "      <td>-1.117504</td>\n",
       "      <td>-1.288203</td>\n",
       "    </tr>\n",
       "    <tr>\n",
       "      <th>4</th>\n",
       "      <td>-0.443233</td>\n",
       "      <td>0.231121</td>\n",
       "      <td>0.075327</td>\n",
       "    </tr>\n",
       "    <tr>\n",
       "      <th>...</th>\n",
       "      <td>...</td>\n",
       "      <td>...</td>\n",
       "      <td>...</td>\n",
       "    </tr>\n",
       "    <tr>\n",
       "      <th>155</th>\n",
       "      <td>-1.537235</td>\n",
       "      <td>-1.140547</td>\n",
       "      <td>-0.931397</td>\n",
       "    </tr>\n",
       "    <tr>\n",
       "      <th>156</th>\n",
       "      <td>0.480456</td>\n",
       "      <td>0.759205</td>\n",
       "      <td>0.420509</td>\n",
       "    </tr>\n",
       "    <tr>\n",
       "      <th>157</th>\n",
       "      <td>-0.472818</td>\n",
       "      <td>-1.411625</td>\n",
       "      <td>-0.901849</td>\n",
       "    </tr>\n",
       "    <tr>\n",
       "      <th>158</th>\n",
       "      <td>-0.855671</td>\n",
       "      <td>-0.319724</td>\n",
       "      <td>-0.624138</td>\n",
       "    </tr>\n",
       "    <tr>\n",
       "      <th>159</th>\n",
       "      <td>-1.168294</td>\n",
       "      <td>-1.481733</td>\n",
       "      <td>-1.323632</td>\n",
       "    </tr>\n",
       "  </tbody>\n",
       "</table>\n",
       "<p>160 rows × 3 columns</p>\n",
       "</div>"
      ],
      "text/plain": [
       "     clearance_efficiency_score  timely_consignee_receival_score  \\\n",
       "0                     -1.628308                        -1.487864   \n",
       "1                     -0.565946                        -0.058615   \n",
       "2                     -0.942227                        -0.827911   \n",
       "3                     -1.911970                        -1.117504   \n",
       "4                     -0.443233                         0.231121   \n",
       "..                          ...                              ...   \n",
       "155                   -1.537235                        -1.140547   \n",
       "156                    0.480456                         0.759205   \n",
       "157                   -0.472818                        -1.411625   \n",
       "158                   -0.855671                        -0.319724   \n",
       "159                   -1.168294                        -1.481733   \n",
       "\n",
       "     infrastructure_score  \n",
       "0               -1.362602  \n",
       "1               -0.638656  \n",
       "2               -0.448628  \n",
       "3               -1.288203  \n",
       "4                0.075327  \n",
       "..                    ...  \n",
       "155             -0.931397  \n",
       "156              0.420509  \n",
       "157             -0.901849  \n",
       "158             -0.624138  \n",
       "159             -1.323632  \n",
       "\n",
       "[160 rows x 3 columns]"
      ]
     },
     "execution_count": 50,
     "metadata": {},
     "output_type": "execute_result"
    }
   ],
   "source": [
    "X_numerics_stdscaled"
   ]
  },
  {
   "cell_type": "code",
   "execution_count": 51,
   "id": "d150db20",
   "metadata": {},
   "outputs": [
    {
     "data": {
      "text/html": [
       "<div>\n",
       "<style scoped>\n",
       "    .dataframe tbody tr th:only-of-type {\n",
       "        vertical-align: middle;\n",
       "    }\n",
       "\n",
       "    .dataframe tbody tr th {\n",
       "        vertical-align: top;\n",
       "    }\n",
       "\n",
       "    .dataframe thead th {\n",
       "        text-align: right;\n",
       "    }\n",
       "</style>\n",
       "<table border=\"1\" class=\"dataframe\">\n",
       "  <thead>\n",
       "    <tr style=\"text-align: right;\">\n",
       "      <th></th>\n",
       "      <th>clearance_efficiency_score</th>\n",
       "      <th>timely_consignee_receival_score</th>\n",
       "      <th>infrastructure_score</th>\n",
       "      <th>cluster_id</th>\n",
       "    </tr>\n",
       "  </thead>\n",
       "  <tbody>\n",
       "    <tr>\n",
       "      <th>0</th>\n",
       "      <td>-1.628308</td>\n",
       "      <td>-1.487864</td>\n",
       "      <td>-1.362602</td>\n",
       "      <td>0</td>\n",
       "    </tr>\n",
       "    <tr>\n",
       "      <th>1</th>\n",
       "      <td>-0.565946</td>\n",
       "      <td>-0.058615</td>\n",
       "      <td>-0.638656</td>\n",
       "      <td>0</td>\n",
       "    </tr>\n",
       "    <tr>\n",
       "      <th>2</th>\n",
       "      <td>-0.942227</td>\n",
       "      <td>-0.827911</td>\n",
       "      <td>-0.448628</td>\n",
       "      <td>0</td>\n",
       "    </tr>\n",
       "    <tr>\n",
       "      <th>3</th>\n",
       "      <td>-1.911970</td>\n",
       "      <td>-1.117504</td>\n",
       "      <td>-1.288203</td>\n",
       "      <td>0</td>\n",
       "    </tr>\n",
       "    <tr>\n",
       "      <th>4</th>\n",
       "      <td>-0.443233</td>\n",
       "      <td>0.231121</td>\n",
       "      <td>0.075327</td>\n",
       "      <td>2</td>\n",
       "    </tr>\n",
       "  </tbody>\n",
       "</table>\n",
       "</div>"
      ],
      "text/plain": [
       "   clearance_efficiency_score  timely_consignee_receival_score  \\\n",
       "0                   -1.628308                        -1.487864   \n",
       "1                   -0.565946                        -0.058615   \n",
       "2                   -0.942227                        -0.827911   \n",
       "3                   -1.911970                        -1.117504   \n",
       "4                   -0.443233                         0.231121   \n",
       "\n",
       "   infrastructure_score  cluster_id  \n",
       "0             -1.362602           0  \n",
       "1             -0.638656           0  \n",
       "2             -0.448628           0  \n",
       "3             -1.288203           0  \n",
       "4              0.075327           2  "
      ]
     },
     "execution_count": 51,
     "metadata": {},
     "output_type": "execute_result"
    }
   ],
   "source": [
    "# assign the label\n",
    "X_numerics_stdscaled['cluster_id'] = kmeans.labels_\n",
    "X_numerics_stdscaled.head()"
   ]
  },
  {
   "cell_type": "code",
   "execution_count": 52,
   "id": "b1568c64",
   "metadata": {},
   "outputs": [
    {
     "data": {
      "text/plain": [
       "0    72\n",
       "2    54\n",
       "1    34\n",
       "Name: cluster_id, dtype: int64"
      ]
     },
     "execution_count": 52,
     "metadata": {},
     "output_type": "execute_result"
    }
   ],
   "source": [
    "X_numerics_stdscaled['cluster_id'].value_counts()"
   ]
  },
  {
   "cell_type": "code",
   "execution_count": 53,
   "id": "b4a7891d",
   "metadata": {},
   "outputs": [
    {
     "data": {
      "text/html": [
       "<div>\n",
       "<style scoped>\n",
       "    .dataframe tbody tr th:only-of-type {\n",
       "        vertical-align: middle;\n",
       "    }\n",
       "\n",
       "    .dataframe tbody tr th {\n",
       "        vertical-align: top;\n",
       "    }\n",
       "\n",
       "    .dataframe thead th {\n",
       "        text-align: right;\n",
       "    }\n",
       "</style>\n",
       "<table border=\"1\" class=\"dataframe\">\n",
       "  <thead>\n",
       "    <tr style=\"text-align: right;\">\n",
       "      <th></th>\n",
       "      <th>clearance_efficiency_score</th>\n",
       "      <th>timely_consignee_receival_score</th>\n",
       "      <th>infrastructure_score</th>\n",
       "    </tr>\n",
       "    <tr>\n",
       "      <th>cluster_id</th>\n",
       "      <th></th>\n",
       "      <th></th>\n",
       "      <th></th>\n",
       "    </tr>\n",
       "  </thead>\n",
       "  <tbody>\n",
       "    <tr>\n",
       "      <th>0</th>\n",
       "      <td>72</td>\n",
       "      <td>72</td>\n",
       "      <td>72</td>\n",
       "    </tr>\n",
       "    <tr>\n",
       "      <th>1</th>\n",
       "      <td>34</td>\n",
       "      <td>34</td>\n",
       "      <td>34</td>\n",
       "    </tr>\n",
       "    <tr>\n",
       "      <th>2</th>\n",
       "      <td>54</td>\n",
       "      <td>54</td>\n",
       "      <td>54</td>\n",
       "    </tr>\n",
       "  </tbody>\n",
       "</table>\n",
       "</div>"
      ],
      "text/plain": [
       "            clearance_efficiency_score  timely_consignee_receival_score  \\\n",
       "cluster_id                                                                \n",
       "0                                   72                               72   \n",
       "1                                   34                               34   \n",
       "2                                   54                               54   \n",
       "\n",
       "            infrastructure_score  \n",
       "cluster_id                        \n",
       "0                             72  \n",
       "1                             34  \n",
       "2                             54  "
      ]
     },
     "execution_count": 53,
     "metadata": {},
     "output_type": "execute_result"
    }
   ],
   "source": [
    "X_numerics_stdscaled.groupby('cluster_id').count()"
   ]
  },
  {
   "cell_type": "code",
   "execution_count": 54,
   "id": "63c3fae5",
   "metadata": {},
   "outputs": [],
   "source": [
    "X_numerics_stdscaled['cluster_id'] = kmeans.labels_"
   ]
  },
  {
   "cell_type": "markdown",
   "id": "ffa226b3",
   "metadata": {},
   "source": [
    "### Visual analysis of the clusters"
   ]
  },
  {
   "cell_type": "code",
   "execution_count": 55,
   "id": "91552ce8",
   "metadata": {},
   "outputs": [],
   "source": [
    "colors_clusters = ['Coral', 'DarkCyan', 'DarkSeaGreen', 'Gold','Lightgreen']"
   ]
  },
  {
   "cell_type": "code",
   "execution_count": 56,
   "id": "38232d80",
   "metadata": {},
   "outputs": [],
   "source": [
    "def plot_clusters(df_sc, var1, var2,colors):\n",
    "    \"\"\"\n",
    "    Function to plot each pair of variables after clustering it with Kmeans \n",
    "    \n",
    "    input: df_sc -> scaled dataset\n",
    "           var1 -> variable 1 (x axis)\n",
    "           var2 -> variable 2 (y axis)\n",
    "           colors -> list of the colors for the clusters\n",
    "    \"\"\"\n",
    " \n",
    "    total_clusters = df_sc.cluster_id.nunique()     \n",
    "    fig = px.scatter(df_sc, x = var1, \n",
    "                 y = var2, color = df_sc.columns[len(df_sc.columns)-1], \n",
    "                     color_continuous_scale=colors)\n",
    "    fig.update_layout(coloraxis_showscale=False)\n",
    "    fig.show()"
   ]
  },
  {
   "cell_type": "code",
   "execution_count": 57,
   "id": "fc6b28ba",
   "metadata": {},
   "outputs": [
    {
     "data": {
      "application/vnd.plotly.v1+json": {
       "config": {
        "plotlyServerURL": "https://plot.ly"
       },
       "data": [
        {
         "hovertemplate": "clearance_efficiency_score=%{x}<br>timely_consignee_receival_score=%{y}<br>cluster_id=%{marker.color}<extra></extra>",
         "legendgroup": "",
         "marker": {
          "color": [
           0,
           0,
           0,
           0,
           2,
           0,
           1,
           1,
           0,
           2,
           0,
           2,
           1,
           2,
           0,
           0,
           2,
           2,
           2,
           2,
           0,
           0,
           0,
           0,
           1,
           0,
           0,
           1,
           1,
           2,
           0,
           0,
           0,
           2,
           2,
           2,
           0,
           2,
           1,
           1,
           2,
           0,
           2,
           2,
           0,
           0,
           0,
           1,
           0,
           1,
           1,
           0,
           0,
           0,
           1,
           0,
           2,
           0,
           0,
           0,
           0,
           0,
           0,
           1,
           1,
           2,
           2,
           2,
           2,
           0,
           1,
           1,
           1,
           0,
           1,
           2,
           2,
           2,
           1,
           2,
           2,
           0,
           2,
           2,
           0,
           0,
           0,
           2,
           1,
           0,
           0,
           0,
           2,
           2,
           0,
           2,
           0,
           2,
           2,
           0,
           0,
           2,
           0,
           0,
           0,
           1,
           1,
           0,
           0,
           1,
           2,
           0,
           2,
           0,
           2,
           2,
           2,
           1,
           1,
           2,
           2,
           2,
           2,
           2,
           0,
           2,
           0,
           1,
           2,
           1,
           2,
           0,
           2,
           1,
           0,
           0,
           1,
           1,
           0,
           2,
           1,
           0,
           2,
           0,
           0,
           0,
           2,
           0,
           0,
           2,
           1,
           1,
           1,
           0,
           0,
           0,
           2,
           0,
           0,
           0
          ],
          "coloraxis": "coloraxis",
          "symbol": "circle"
         },
         "mode": "markers",
         "name": "",
         "orientation": "v",
         "showlegend": false,
         "type": "scatter",
         "x": [
          -1.6283077788583376,
          -0.5659455700654523,
          -0.9422265439670866,
          -1.9119700418683732,
          -0.44323250220911237,
          -0.17263316483077712,
          2.07173120141716,
          1.80603393164105,
          0.018979547703067742,
          -0.005756372180018711,
          -0.6477207338964127,
          -0.5610244147663684,
          1.7175294870449815,
          -0.19221887705248136,
          -0.9316380779462806,
          -0.6148777485840883,
          -0.07234987602801714,
          -0.46350363627254393,
          -0.08894749606882522,
          0.45865076287085704,
          -0.45184799447284596,
          -1.7105583998655847,
          -0.5266977948346102,
          -0.37062637385077435,
          1.614917499225519,
          -0.7551410860789783,
          -0.9013337563160994,
          1.0424531770150802,
          1.0630991240350005,
          -0.10570475866517552,
          -0.08376605399440257,
          -0.5263351285943034,
          -0.6950460753886198,
          -0.07935679602015347,
          0.1837514879639151,
          0.5297385517063824,
          -1.1168060899227215,
          0.656572826838929,
          1.0643988226665282,
          2.1600065936509294,
          -0.565579433334808,
          -0.46551652066850197,
          0.22277541656796485,
          -0.12714718321763394,
          -0.6457494953845087,
          -1.324001304073551,
          -0.9358946343456633,
          1.1257640328205425,
          -0.4531893389884285,
          1.9812555183091891,
          1.5901260514970268,
          -1.2454432847857855,
          -1.0348140204456453,
          -0.4332149318488837,
          2.462282831588069,
          -0.38359212575301366,
          0.2878922267772046,
          -0.8946322394736949,
          -0.392611930141108,
          -1.1544904092563586,
          -0.20752720993277513,
          -1.113318247133174,
          -0.7538917095573489,
          1.980785266868409,
          1.1827303964713212,
          0.16651009196543368,
          0.5053705037991088,
          -0.0008595103133001594,
          -0.08376605399440257,
          -1.4469104546339797,
          1.1876758452027698,
          1.116365944985622,
          1.3860629548761143,
          -0.44697889652883105,
          2.291767229818067,
          -0.3156034847891968,
          -0.01635004393633151,
          -0.03369208415461103,
          1.265539766422964,
          0.09054799945038666,
          0.13313959212175505,
          -0.10481457789351445,
          0.21394995963879074,
          -0.5008929639274627,
          -0.541678166377976,
          -1.3320528416573827,
          -1.2487541325681026,
          0.3005751337169082,
          1.4830839827612874,
          -0.3825509786516562,
          -0.6196965244182049,
          -0.42920825075382624,
          0.39042092282855845,
          -0.4764103898390399,
          -0.9013337563160994,
          0.04252161890993121,
          -0.8212452507893382,
          0.05505355951993844,
          0.16748703499554102,
          -0.7279671467335461,
          -0.7787438908667543,
          -0.19459442768874546,
          -0.5989534036688241,
          -0.8790861780052577,
          -0.6653595010385782,
          2.159140706311634,
          1.796588992186568,
          -1.5752092766891022,
          -1.2261352117911097,
          1.469278372197286,
          0.3355854402452253,
          -0.9565110821977123,
          0.33488266595180854,
          -0.6112667033875465,
          -0.05773737646046343,
          -0.24963466920201238,
          -0.24963466920201238,
          1.0067626543805432,
          0.864285144050099,
          0.5669508843540703,
          -0.16060618056492798,
          -0.43882844997037,
          -0.01146359354062722,
          -0.02207982348413617,
          -0.8746179216952645,
          -0.1321429540589814,
          -1.483793090699571,
          2.106255639298177,
          0.2008332414068543,
          1.293465066926542,
          0.1747368893113275,
          -1.1682942845751907,
          0.869924690849119,
          1.644343786800221,
          -0.15765799902291736,
          -0.9330713904558161,
          2.387849490066849,
          1.6588747298448352,
          -1.4822903683832782,
          0.0711670461586154,
          1.3897468803697512,
          -1.3017745487047363,
          0.8142181151909834,
          -0.6227436149348445,
          -0.43394547006500334,
          -0.5175773462267178,
          0.06974935085560006,
          -0.5604517838606219,
          -0.10882646472407868,
          -0.31597656250051637,
          1.6625898897515128,
          1.9065688309933044,
          1.912012295088236,
          -0.2748477815065548,
          -0.9889861955342232,
          -1.5372351714122543,
          0.48045585366362226,
          -0.47281843233935666,
          -0.855670779695726,
          -1.1682942845751907
         ],
         "xaxis": "x",
         "y": [
          -1.4878644762665347,
          -0.058615430521112115,
          -0.8279109580538235,
          -1.1175043588016824,
          0.23112085540227312,
          -0.5928735568246877,
          1.289114137582597,
          1.767765535576694,
          -0.8454370445835534,
          0.08563238167854227,
          -0.5447473902046224,
          -0.10344129808696088,
          2.0456772019742533,
          0.31267518308679815,
          -1.3065797810693256,
          -0.8611056238314492,
          -0.044919363696327264,
          0.47722488772609056,
          -0.10921420767862862,
          0.13449736920620367,
          -0.34575713075720554,
          -1.8659281956947935,
          -0.14107063181230534,
          -1.1688053643218435,
          1.2619171641727713,
          -1.5734300438786242,
          -1.0742206056302277,
          0.9770372317151208,
          1.0519665662612463,
          -0.11384577836823088,
          -0.7524170528141582,
          -0.9574137171400777,
          -0.4999406901623201,
          -0.14096259667959113,
          -0.016023450699458035,
          0.6231786095213512,
          -1.3483667249020417,
          0.6733138811094788,
          1.563573907239711,
          2.041408071729886,
          -0.14966639487167735,
          -0.44557462337691733,
          -0.08076611773188189,
          -0.07303812073850821,
          -0.23980254559844957,
          -0.8473869044788378,
          -2.0121659453389635,
          0.9799472102898528,
          -1.2159940647902894,
          1.818399162777022,
          1.595665569162364,
          -0.9828403083750966,
          -0.925233187608256,
          -0.5069995663337197,
          2.014000255561054,
          -0.6366486955997803,
          0.7422350682749607,
          -0.21829309917540493,
          -2.089982605931993,
          -0.662104909371189,
          -1.0274274531476888,
          -1.3888572471421825,
          -0.7018478981930306,
          1.5731872915491685,
          0.9577425055127243,
          0.802703377556597,
          0.4545078873196393,
          0.7549413938839081,
          0.20816687470470535,
          -0.8997508363047392,
          0.9062097472078692,
          0.6188711442298923,
          1.5513328297022932,
          -0.7732260133766989,
          1.7734565475677557,
          -0.09246004959716535,
          0.5039113080087332,
          -0.10481613227586047,
          1.1905982940618818,
          0.22941843081094776,
          -0.5148338559576676,
          -0.686041661276031,
          -0.6228637611658278,
          -0.09872260229033016,
          -0.9361255684888831,
          0.017500547982732633,
          -0.812388748985735,
          0.714931802234561,
          1.1632218429315786,
          -0.3509097095868354,
          -0.8772899837129501,
          -0.4553239228533381,
          0.3964355184812705,
          0.1508437817867759,
          -0.7131759046087969,
          -0.40227344518405694,
          -0.975206406497313,
          -0.41321287362247866,
          0.5110991293385343,
          -0.12107890475368663,
          -0.30602459694820716,
          0.161598504998299,
          -0.624104422689905,
          -0.5713414578738157,
          -0.23659808416196396,
          1.7721792934987262,
          1.775613765217766,
          -1.571492381498324,
          -0.29269097056865945,
          1.2307681959081602,
          0.9894664994837196,
          -0.9984722950780401,
          0.6280924655577238,
          -1.3943931764427346,
          0.36428983899226025,
          0.3646662194546207,
          -0.44032272192527644,
          1.25104220831355,
          1.550160125761698,
          0.8155961508945839,
          0.7764281877791263,
          0.13416977880377867,
          0.2001670473774046,
          0.1111060204713559,
          -1.2509434302234566,
          0.1692202093610985,
          -1.564724503184398,
          1.8882438760769977,
          -0.1692155263865952,
          0.7996923338577125,
          -0.20846887210693976,
          -1.798451542803834,
          0.8819436623984613,
          1.441161389363387,
          -0.7821092892892622,
          -1.0805999059668092,
          1.827120385990513,
          1.7521300638694688,
          -1.3819464836527302,
          -0.3861361328603514,
          0.8439152956829283,
          -0.5006707985592137,
          1.0063164951829129,
          -0.6228027735909082,
          -1.2273813162788343,
          -0.00045767907785567244,
          0.6827355901834753,
          -0.9020143465853244,
          -0.5873759625712279,
          0.32382719678636823,
          1.9864303866931485,
          1.9056566999675926,
          1.476454027718245,
          -0.574798582120682,
          -0.2549361766891943,
          -1.1405472071084186,
          0.7592052966218532,
          -1.4116247801107102,
          -0.31972414877727284,
          -1.4817326112339122
         ],
         "yaxis": "y"
        }
       ],
       "layout": {
        "coloraxis": {
         "colorbar": {
          "title": {
           "text": "cluster_id"
          }
         },
         "colorscale": [
          [
           0,
           "Coral"
          ],
          [
           0.25,
           "DarkCyan"
          ],
          [
           0.5,
           "DarkSeaGreen"
          ],
          [
           0.75,
           "Gold"
          ],
          [
           1,
           "Lightgreen"
          ]
         ],
         "showscale": false
        },
        "legend": {
         "tracegroupgap": 0
        },
        "margin": {
         "t": 60
        },
        "template": {
         "data": {
          "bar": [
           {
            "error_x": {
             "color": "#2a3f5f"
            },
            "error_y": {
             "color": "#2a3f5f"
            },
            "marker": {
             "line": {
              "color": "#E5ECF6",
              "width": 0.5
             },
             "pattern": {
              "fillmode": "overlay",
              "size": 10,
              "solidity": 0.2
             }
            },
            "type": "bar"
           }
          ],
          "barpolar": [
           {
            "marker": {
             "line": {
              "color": "#E5ECF6",
              "width": 0.5
             },
             "pattern": {
              "fillmode": "overlay",
              "size": 10,
              "solidity": 0.2
             }
            },
            "type": "barpolar"
           }
          ],
          "carpet": [
           {
            "aaxis": {
             "endlinecolor": "#2a3f5f",
             "gridcolor": "white",
             "linecolor": "white",
             "minorgridcolor": "white",
             "startlinecolor": "#2a3f5f"
            },
            "baxis": {
             "endlinecolor": "#2a3f5f",
             "gridcolor": "white",
             "linecolor": "white",
             "minorgridcolor": "white",
             "startlinecolor": "#2a3f5f"
            },
            "type": "carpet"
           }
          ],
          "choropleth": [
           {
            "colorbar": {
             "outlinewidth": 0,
             "ticks": ""
            },
            "type": "choropleth"
           }
          ],
          "contour": [
           {
            "colorbar": {
             "outlinewidth": 0,
             "ticks": ""
            },
            "colorscale": [
             [
              0,
              "#0d0887"
             ],
             [
              0.1111111111111111,
              "#46039f"
             ],
             [
              0.2222222222222222,
              "#7201a8"
             ],
             [
              0.3333333333333333,
              "#9c179e"
             ],
             [
              0.4444444444444444,
              "#bd3786"
             ],
             [
              0.5555555555555556,
              "#d8576b"
             ],
             [
              0.6666666666666666,
              "#ed7953"
             ],
             [
              0.7777777777777778,
              "#fb9f3a"
             ],
             [
              0.8888888888888888,
              "#fdca26"
             ],
             [
              1,
              "#f0f921"
             ]
            ],
            "type": "contour"
           }
          ],
          "contourcarpet": [
           {
            "colorbar": {
             "outlinewidth": 0,
             "ticks": ""
            },
            "type": "contourcarpet"
           }
          ],
          "heatmap": [
           {
            "colorbar": {
             "outlinewidth": 0,
             "ticks": ""
            },
            "colorscale": [
             [
              0,
              "#0d0887"
             ],
             [
              0.1111111111111111,
              "#46039f"
             ],
             [
              0.2222222222222222,
              "#7201a8"
             ],
             [
              0.3333333333333333,
              "#9c179e"
             ],
             [
              0.4444444444444444,
              "#bd3786"
             ],
             [
              0.5555555555555556,
              "#d8576b"
             ],
             [
              0.6666666666666666,
              "#ed7953"
             ],
             [
              0.7777777777777778,
              "#fb9f3a"
             ],
             [
              0.8888888888888888,
              "#fdca26"
             ],
             [
              1,
              "#f0f921"
             ]
            ],
            "type": "heatmap"
           }
          ],
          "heatmapgl": [
           {
            "colorbar": {
             "outlinewidth": 0,
             "ticks": ""
            },
            "colorscale": [
             [
              0,
              "#0d0887"
             ],
             [
              0.1111111111111111,
              "#46039f"
             ],
             [
              0.2222222222222222,
              "#7201a8"
             ],
             [
              0.3333333333333333,
              "#9c179e"
             ],
             [
              0.4444444444444444,
              "#bd3786"
             ],
             [
              0.5555555555555556,
              "#d8576b"
             ],
             [
              0.6666666666666666,
              "#ed7953"
             ],
             [
              0.7777777777777778,
              "#fb9f3a"
             ],
             [
              0.8888888888888888,
              "#fdca26"
             ],
             [
              1,
              "#f0f921"
             ]
            ],
            "type": "heatmapgl"
           }
          ],
          "histogram": [
           {
            "marker": {
             "pattern": {
              "fillmode": "overlay",
              "size": 10,
              "solidity": 0.2
             }
            },
            "type": "histogram"
           }
          ],
          "histogram2d": [
           {
            "colorbar": {
             "outlinewidth": 0,
             "ticks": ""
            },
            "colorscale": [
             [
              0,
              "#0d0887"
             ],
             [
              0.1111111111111111,
              "#46039f"
             ],
             [
              0.2222222222222222,
              "#7201a8"
             ],
             [
              0.3333333333333333,
              "#9c179e"
             ],
             [
              0.4444444444444444,
              "#bd3786"
             ],
             [
              0.5555555555555556,
              "#d8576b"
             ],
             [
              0.6666666666666666,
              "#ed7953"
             ],
             [
              0.7777777777777778,
              "#fb9f3a"
             ],
             [
              0.8888888888888888,
              "#fdca26"
             ],
             [
              1,
              "#f0f921"
             ]
            ],
            "type": "histogram2d"
           }
          ],
          "histogram2dcontour": [
           {
            "colorbar": {
             "outlinewidth": 0,
             "ticks": ""
            },
            "colorscale": [
             [
              0,
              "#0d0887"
             ],
             [
              0.1111111111111111,
              "#46039f"
             ],
             [
              0.2222222222222222,
              "#7201a8"
             ],
             [
              0.3333333333333333,
              "#9c179e"
             ],
             [
              0.4444444444444444,
              "#bd3786"
             ],
             [
              0.5555555555555556,
              "#d8576b"
             ],
             [
              0.6666666666666666,
              "#ed7953"
             ],
             [
              0.7777777777777778,
              "#fb9f3a"
             ],
             [
              0.8888888888888888,
              "#fdca26"
             ],
             [
              1,
              "#f0f921"
             ]
            ],
            "type": "histogram2dcontour"
           }
          ],
          "mesh3d": [
           {
            "colorbar": {
             "outlinewidth": 0,
             "ticks": ""
            },
            "type": "mesh3d"
           }
          ],
          "parcoords": [
           {
            "line": {
             "colorbar": {
              "outlinewidth": 0,
              "ticks": ""
             }
            },
            "type": "parcoords"
           }
          ],
          "pie": [
           {
            "automargin": true,
            "type": "pie"
           }
          ],
          "scatter": [
           {
            "fillpattern": {
             "fillmode": "overlay",
             "size": 10,
             "solidity": 0.2
            },
            "type": "scatter"
           }
          ],
          "scatter3d": [
           {
            "line": {
             "colorbar": {
              "outlinewidth": 0,
              "ticks": ""
             }
            },
            "marker": {
             "colorbar": {
              "outlinewidth": 0,
              "ticks": ""
             }
            },
            "type": "scatter3d"
           }
          ],
          "scattercarpet": [
           {
            "marker": {
             "colorbar": {
              "outlinewidth": 0,
              "ticks": ""
             }
            },
            "type": "scattercarpet"
           }
          ],
          "scattergeo": [
           {
            "marker": {
             "colorbar": {
              "outlinewidth": 0,
              "ticks": ""
             }
            },
            "type": "scattergeo"
           }
          ],
          "scattergl": [
           {
            "marker": {
             "colorbar": {
              "outlinewidth": 0,
              "ticks": ""
             }
            },
            "type": "scattergl"
           }
          ],
          "scattermapbox": [
           {
            "marker": {
             "colorbar": {
              "outlinewidth": 0,
              "ticks": ""
             }
            },
            "type": "scattermapbox"
           }
          ],
          "scatterpolar": [
           {
            "marker": {
             "colorbar": {
              "outlinewidth": 0,
              "ticks": ""
             }
            },
            "type": "scatterpolar"
           }
          ],
          "scatterpolargl": [
           {
            "marker": {
             "colorbar": {
              "outlinewidth": 0,
              "ticks": ""
             }
            },
            "type": "scatterpolargl"
           }
          ],
          "scatterternary": [
           {
            "marker": {
             "colorbar": {
              "outlinewidth": 0,
              "ticks": ""
             }
            },
            "type": "scatterternary"
           }
          ],
          "surface": [
           {
            "colorbar": {
             "outlinewidth": 0,
             "ticks": ""
            },
            "colorscale": [
             [
              0,
              "#0d0887"
             ],
             [
              0.1111111111111111,
              "#46039f"
             ],
             [
              0.2222222222222222,
              "#7201a8"
             ],
             [
              0.3333333333333333,
              "#9c179e"
             ],
             [
              0.4444444444444444,
              "#bd3786"
             ],
             [
              0.5555555555555556,
              "#d8576b"
             ],
             [
              0.6666666666666666,
              "#ed7953"
             ],
             [
              0.7777777777777778,
              "#fb9f3a"
             ],
             [
              0.8888888888888888,
              "#fdca26"
             ],
             [
              1,
              "#f0f921"
             ]
            ],
            "type": "surface"
           }
          ],
          "table": [
           {
            "cells": {
             "fill": {
              "color": "#EBF0F8"
             },
             "line": {
              "color": "white"
             }
            },
            "header": {
             "fill": {
              "color": "#C8D4E3"
             },
             "line": {
              "color": "white"
             }
            },
            "type": "table"
           }
          ]
         },
         "layout": {
          "annotationdefaults": {
           "arrowcolor": "#2a3f5f",
           "arrowhead": 0,
           "arrowwidth": 1
          },
          "autotypenumbers": "strict",
          "coloraxis": {
           "colorbar": {
            "outlinewidth": 0,
            "ticks": ""
           }
          },
          "colorscale": {
           "diverging": [
            [
             0,
             "#8e0152"
            ],
            [
             0.1,
             "#c51b7d"
            ],
            [
             0.2,
             "#de77ae"
            ],
            [
             0.3,
             "#f1b6da"
            ],
            [
             0.4,
             "#fde0ef"
            ],
            [
             0.5,
             "#f7f7f7"
            ],
            [
             0.6,
             "#e6f5d0"
            ],
            [
             0.7,
             "#b8e186"
            ],
            [
             0.8,
             "#7fbc41"
            ],
            [
             0.9,
             "#4d9221"
            ],
            [
             1,
             "#276419"
            ]
           ],
           "sequential": [
            [
             0,
             "#0d0887"
            ],
            [
             0.1111111111111111,
             "#46039f"
            ],
            [
             0.2222222222222222,
             "#7201a8"
            ],
            [
             0.3333333333333333,
             "#9c179e"
            ],
            [
             0.4444444444444444,
             "#bd3786"
            ],
            [
             0.5555555555555556,
             "#d8576b"
            ],
            [
             0.6666666666666666,
             "#ed7953"
            ],
            [
             0.7777777777777778,
             "#fb9f3a"
            ],
            [
             0.8888888888888888,
             "#fdca26"
            ],
            [
             1,
             "#f0f921"
            ]
           ],
           "sequentialminus": [
            [
             0,
             "#0d0887"
            ],
            [
             0.1111111111111111,
             "#46039f"
            ],
            [
             0.2222222222222222,
             "#7201a8"
            ],
            [
             0.3333333333333333,
             "#9c179e"
            ],
            [
             0.4444444444444444,
             "#bd3786"
            ],
            [
             0.5555555555555556,
             "#d8576b"
            ],
            [
             0.6666666666666666,
             "#ed7953"
            ],
            [
             0.7777777777777778,
             "#fb9f3a"
            ],
            [
             0.8888888888888888,
             "#fdca26"
            ],
            [
             1,
             "#f0f921"
            ]
           ]
          },
          "colorway": [
           "#636efa",
           "#EF553B",
           "#00cc96",
           "#ab63fa",
           "#FFA15A",
           "#19d3f3",
           "#FF6692",
           "#B6E880",
           "#FF97FF",
           "#FECB52"
          ],
          "font": {
           "color": "#2a3f5f"
          },
          "geo": {
           "bgcolor": "white",
           "lakecolor": "white",
           "landcolor": "#E5ECF6",
           "showlakes": true,
           "showland": true,
           "subunitcolor": "white"
          },
          "hoverlabel": {
           "align": "left"
          },
          "hovermode": "closest",
          "mapbox": {
           "style": "light"
          },
          "paper_bgcolor": "white",
          "plot_bgcolor": "#E5ECF6",
          "polar": {
           "angularaxis": {
            "gridcolor": "white",
            "linecolor": "white",
            "ticks": ""
           },
           "bgcolor": "#E5ECF6",
           "radialaxis": {
            "gridcolor": "white",
            "linecolor": "white",
            "ticks": ""
           }
          },
          "scene": {
           "xaxis": {
            "backgroundcolor": "#E5ECF6",
            "gridcolor": "white",
            "gridwidth": 2,
            "linecolor": "white",
            "showbackground": true,
            "ticks": "",
            "zerolinecolor": "white"
           },
           "yaxis": {
            "backgroundcolor": "#E5ECF6",
            "gridcolor": "white",
            "gridwidth": 2,
            "linecolor": "white",
            "showbackground": true,
            "ticks": "",
            "zerolinecolor": "white"
           },
           "zaxis": {
            "backgroundcolor": "#E5ECF6",
            "gridcolor": "white",
            "gridwidth": 2,
            "linecolor": "white",
            "showbackground": true,
            "ticks": "",
            "zerolinecolor": "white"
           }
          },
          "shapedefaults": {
           "line": {
            "color": "#2a3f5f"
           }
          },
          "ternary": {
           "aaxis": {
            "gridcolor": "white",
            "linecolor": "white",
            "ticks": ""
           },
           "baxis": {
            "gridcolor": "white",
            "linecolor": "white",
            "ticks": ""
           },
           "bgcolor": "#E5ECF6",
           "caxis": {
            "gridcolor": "white",
            "linecolor": "white",
            "ticks": ""
           }
          },
          "title": {
           "x": 0.05
          },
          "xaxis": {
           "automargin": true,
           "gridcolor": "white",
           "linecolor": "white",
           "ticks": "",
           "title": {
            "standoff": 15
           },
           "zerolinecolor": "white",
           "zerolinewidth": 2
          },
          "yaxis": {
           "automargin": true,
           "gridcolor": "white",
           "linecolor": "white",
           "ticks": "",
           "title": {
            "standoff": 15
           },
           "zerolinecolor": "white",
           "zerolinewidth": 2
          }
         }
        },
        "xaxis": {
         "anchor": "y",
         "domain": [
          0,
          1
         ],
         "title": {
          "text": "clearance_efficiency_score"
         }
        },
        "yaxis": {
         "anchor": "x",
         "domain": [
          0,
          1
         ],
         "title": {
          "text": "timely_consignee_receival_score"
         }
        }
       }
      },
      "text/html": [
       "<div>                            <div id=\"0d8a2b6b-1e52-4e0c-a8c2-849eb8f53b68\" class=\"plotly-graph-div\" style=\"height:525px; width:100%;\"></div>            <script type=\"text/javascript\">                require([\"plotly\"], function(Plotly) {                    window.PLOTLYENV=window.PLOTLYENV || {};                                    if (document.getElementById(\"0d8a2b6b-1e52-4e0c-a8c2-849eb8f53b68\")) {                    Plotly.newPlot(                        \"0d8a2b6b-1e52-4e0c-a8c2-849eb8f53b68\",                        [{\"hovertemplate\":\"clearance_efficiency_score=%{x}<br>timely_consignee_receival_score=%{y}<br>cluster_id=%{marker.color}<extra></extra>\",\"legendgroup\":\"\",\"marker\":{\"color\":[0,0,0,0,2,0,1,1,0,2,0,2,1,2,0,0,2,2,2,2,0,0,0,0,1,0,0,1,1,2,0,0,0,2,2,2,0,2,1,1,2,0,2,2,0,0,0,1,0,1,1,0,0,0,1,0,2,0,0,0,0,0,0,1,1,2,2,2,2,0,1,1,1,0,1,2,2,2,1,2,2,0,2,2,0,0,0,2,1,0,0,0,2,2,0,2,0,2,2,0,0,2,0,0,0,1,1,0,0,1,2,0,2,0,2,2,2,1,1,2,2,2,2,2,0,2,0,1,2,1,2,0,2,1,0,0,1,1,0,2,1,0,2,0,0,0,2,0,0,2,1,1,1,0,0,0,2,0,0,0],\"coloraxis\":\"coloraxis\",\"symbol\":\"circle\"},\"mode\":\"markers\",\"name\":\"\",\"orientation\":\"v\",\"showlegend\":false,\"x\":[-1.6283077788583376,-0.5659455700654523,-0.9422265439670866,-1.9119700418683732,-0.44323250220911237,-0.17263316483077712,2.07173120141716,1.80603393164105,0.018979547703067742,-0.005756372180018711,-0.6477207338964127,-0.5610244147663684,1.7175294870449815,-0.19221887705248136,-0.9316380779462806,-0.6148777485840883,-0.07234987602801714,-0.46350363627254393,-0.08894749606882522,0.45865076287085704,-0.45184799447284596,-1.7105583998655847,-0.5266977948346102,-0.37062637385077435,1.614917499225519,-0.7551410860789783,-0.9013337563160994,1.0424531770150802,1.0630991240350005,-0.10570475866517552,-0.08376605399440257,-0.5263351285943034,-0.6950460753886198,-0.07935679602015347,0.1837514879639151,0.5297385517063824,-1.1168060899227215,0.656572826838929,1.0643988226665282,2.1600065936509294,-0.565579433334808,-0.46551652066850197,0.22277541656796485,-0.12714718321763394,-0.6457494953845087,-1.324001304073551,-0.9358946343456633,1.1257640328205425,-0.4531893389884285,1.9812555183091891,1.5901260514970268,-1.2454432847857855,-1.0348140204456453,-0.4332149318488837,2.462282831588069,-0.38359212575301366,0.2878922267772046,-0.8946322394736949,-0.392611930141108,-1.1544904092563586,-0.20752720993277513,-1.113318247133174,-0.7538917095573489,1.980785266868409,1.1827303964713212,0.16651009196543368,0.5053705037991088,-0.0008595103133001594,-0.08376605399440257,-1.4469104546339797,1.1876758452027698,1.116365944985622,1.3860629548761143,-0.44697889652883105,2.291767229818067,-0.3156034847891968,-0.01635004393633151,-0.03369208415461103,1.265539766422964,0.09054799945038666,0.13313959212175505,-0.10481457789351445,0.21394995963879074,-0.5008929639274627,-0.541678166377976,-1.3320528416573827,-1.2487541325681026,0.3005751337169082,1.4830839827612874,-0.3825509786516562,-0.6196965244182049,-0.42920825075382624,0.39042092282855845,-0.4764103898390399,-0.9013337563160994,0.04252161890993121,-0.8212452507893382,0.05505355951993844,0.16748703499554102,-0.7279671467335461,-0.7787438908667543,-0.19459442768874546,-0.5989534036688241,-0.8790861780052577,-0.6653595010385782,2.159140706311634,1.796588992186568,-1.5752092766891022,-1.2261352117911097,1.469278372197286,0.3355854402452253,-0.9565110821977123,0.33488266595180854,-0.6112667033875465,-0.05773737646046343,-0.24963466920201238,-0.24963466920201238,1.0067626543805432,0.864285144050099,0.5669508843540703,-0.16060618056492798,-0.43882844997037,-0.01146359354062722,-0.02207982348413617,-0.8746179216952645,-0.1321429540589814,-1.483793090699571,2.106255639298177,0.2008332414068543,1.293465066926542,0.1747368893113275,-1.1682942845751907,0.869924690849119,1.644343786800221,-0.15765799902291736,-0.9330713904558161,2.387849490066849,1.6588747298448352,-1.4822903683832782,0.0711670461586154,1.3897468803697512,-1.3017745487047363,0.8142181151909834,-0.6227436149348445,-0.43394547006500334,-0.5175773462267178,0.06974935085560006,-0.5604517838606219,-0.10882646472407868,-0.31597656250051637,1.6625898897515128,1.9065688309933044,1.912012295088236,-0.2748477815065548,-0.9889861955342232,-1.5372351714122543,0.48045585366362226,-0.47281843233935666,-0.855670779695726,-1.1682942845751907],\"xaxis\":\"x\",\"y\":[-1.4878644762665347,-0.058615430521112115,-0.8279109580538235,-1.1175043588016824,0.23112085540227312,-0.5928735568246877,1.289114137582597,1.767765535576694,-0.8454370445835534,0.08563238167854227,-0.5447473902046224,-0.10344129808696088,2.0456772019742533,0.31267518308679815,-1.3065797810693256,-0.8611056238314492,-0.044919363696327264,0.47722488772609056,-0.10921420767862862,0.13449736920620367,-0.34575713075720554,-1.8659281956947935,-0.14107063181230534,-1.1688053643218435,1.2619171641727713,-1.5734300438786242,-1.0742206056302277,0.9770372317151208,1.0519665662612463,-0.11384577836823088,-0.7524170528141582,-0.9574137171400777,-0.4999406901623201,-0.14096259667959113,-0.016023450699458035,0.6231786095213512,-1.3483667249020417,0.6733138811094788,1.563573907239711,2.041408071729886,-0.14966639487167735,-0.44557462337691733,-0.08076611773188189,-0.07303812073850821,-0.23980254559844957,-0.8473869044788378,-2.0121659453389635,0.9799472102898528,-1.2159940647902894,1.818399162777022,1.595665569162364,-0.9828403083750966,-0.925233187608256,-0.5069995663337197,2.014000255561054,-0.6366486955997803,0.7422350682749607,-0.21829309917540493,-2.089982605931993,-0.662104909371189,-1.0274274531476888,-1.3888572471421825,-0.7018478981930306,1.5731872915491685,0.9577425055127243,0.802703377556597,0.4545078873196393,0.7549413938839081,0.20816687470470535,-0.8997508363047392,0.9062097472078692,0.6188711442298923,1.5513328297022932,-0.7732260133766989,1.7734565475677557,-0.09246004959716535,0.5039113080087332,-0.10481613227586047,1.1905982940618818,0.22941843081094776,-0.5148338559576676,-0.686041661276031,-0.6228637611658278,-0.09872260229033016,-0.9361255684888831,0.017500547982732633,-0.812388748985735,0.714931802234561,1.1632218429315786,-0.3509097095868354,-0.8772899837129501,-0.4553239228533381,0.3964355184812705,0.1508437817867759,-0.7131759046087969,-0.40227344518405694,-0.975206406497313,-0.41321287362247866,0.5110991293385343,-0.12107890475368663,-0.30602459694820716,0.161598504998299,-0.624104422689905,-0.5713414578738157,-0.23659808416196396,1.7721792934987262,1.775613765217766,-1.571492381498324,-0.29269097056865945,1.2307681959081602,0.9894664994837196,-0.9984722950780401,0.6280924655577238,-1.3943931764427346,0.36428983899226025,0.3646662194546207,-0.44032272192527644,1.25104220831355,1.550160125761698,0.8155961508945839,0.7764281877791263,0.13416977880377867,0.2001670473774046,0.1111060204713559,-1.2509434302234566,0.1692202093610985,-1.564724503184398,1.8882438760769977,-0.1692155263865952,0.7996923338577125,-0.20846887210693976,-1.798451542803834,0.8819436623984613,1.441161389363387,-0.7821092892892622,-1.0805999059668092,1.827120385990513,1.7521300638694688,-1.3819464836527302,-0.3861361328603514,0.8439152956829283,-0.5006707985592137,1.0063164951829129,-0.6228027735909082,-1.2273813162788343,-0.00045767907785567244,0.6827355901834753,-0.9020143465853244,-0.5873759625712279,0.32382719678636823,1.9864303866931485,1.9056566999675926,1.476454027718245,-0.574798582120682,-0.2549361766891943,-1.1405472071084186,0.7592052966218532,-1.4116247801107102,-0.31972414877727284,-1.4817326112339122],\"yaxis\":\"y\",\"type\":\"scatter\"}],                        {\"template\":{\"data\":{\"histogram2dcontour\":[{\"type\":\"histogram2dcontour\",\"colorbar\":{\"outlinewidth\":0,\"ticks\":\"\"},\"colorscale\":[[0.0,\"#0d0887\"],[0.1111111111111111,\"#46039f\"],[0.2222222222222222,\"#7201a8\"],[0.3333333333333333,\"#9c179e\"],[0.4444444444444444,\"#bd3786\"],[0.5555555555555556,\"#d8576b\"],[0.6666666666666666,\"#ed7953\"],[0.7777777777777778,\"#fb9f3a\"],[0.8888888888888888,\"#fdca26\"],[1.0,\"#f0f921\"]]}],\"choropleth\":[{\"type\":\"choropleth\",\"colorbar\":{\"outlinewidth\":0,\"ticks\":\"\"}}],\"histogram2d\":[{\"type\":\"histogram2d\",\"colorbar\":{\"outlinewidth\":0,\"ticks\":\"\"},\"colorscale\":[[0.0,\"#0d0887\"],[0.1111111111111111,\"#46039f\"],[0.2222222222222222,\"#7201a8\"],[0.3333333333333333,\"#9c179e\"],[0.4444444444444444,\"#bd3786\"],[0.5555555555555556,\"#d8576b\"],[0.6666666666666666,\"#ed7953\"],[0.7777777777777778,\"#fb9f3a\"],[0.8888888888888888,\"#fdca26\"],[1.0,\"#f0f921\"]]}],\"heatmap\":[{\"type\":\"heatmap\",\"colorbar\":{\"outlinewidth\":0,\"ticks\":\"\"},\"colorscale\":[[0.0,\"#0d0887\"],[0.1111111111111111,\"#46039f\"],[0.2222222222222222,\"#7201a8\"],[0.3333333333333333,\"#9c179e\"],[0.4444444444444444,\"#bd3786\"],[0.5555555555555556,\"#d8576b\"],[0.6666666666666666,\"#ed7953\"],[0.7777777777777778,\"#fb9f3a\"],[0.8888888888888888,\"#fdca26\"],[1.0,\"#f0f921\"]]}],\"heatmapgl\":[{\"type\":\"heatmapgl\",\"colorbar\":{\"outlinewidth\":0,\"ticks\":\"\"},\"colorscale\":[[0.0,\"#0d0887\"],[0.1111111111111111,\"#46039f\"],[0.2222222222222222,\"#7201a8\"],[0.3333333333333333,\"#9c179e\"],[0.4444444444444444,\"#bd3786\"],[0.5555555555555556,\"#d8576b\"],[0.6666666666666666,\"#ed7953\"],[0.7777777777777778,\"#fb9f3a\"],[0.8888888888888888,\"#fdca26\"],[1.0,\"#f0f921\"]]}],\"contourcarpet\":[{\"type\":\"contourcarpet\",\"colorbar\":{\"outlinewidth\":0,\"ticks\":\"\"}}],\"contour\":[{\"type\":\"contour\",\"colorbar\":{\"outlinewidth\":0,\"ticks\":\"\"},\"colorscale\":[[0.0,\"#0d0887\"],[0.1111111111111111,\"#46039f\"],[0.2222222222222222,\"#7201a8\"],[0.3333333333333333,\"#9c179e\"],[0.4444444444444444,\"#bd3786\"],[0.5555555555555556,\"#d8576b\"],[0.6666666666666666,\"#ed7953\"],[0.7777777777777778,\"#fb9f3a\"],[0.8888888888888888,\"#fdca26\"],[1.0,\"#f0f921\"]]}],\"surface\":[{\"type\":\"surface\",\"colorbar\":{\"outlinewidth\":0,\"ticks\":\"\"},\"colorscale\":[[0.0,\"#0d0887\"],[0.1111111111111111,\"#46039f\"],[0.2222222222222222,\"#7201a8\"],[0.3333333333333333,\"#9c179e\"],[0.4444444444444444,\"#bd3786\"],[0.5555555555555556,\"#d8576b\"],[0.6666666666666666,\"#ed7953\"],[0.7777777777777778,\"#fb9f3a\"],[0.8888888888888888,\"#fdca26\"],[1.0,\"#f0f921\"]]}],\"mesh3d\":[{\"type\":\"mesh3d\",\"colorbar\":{\"outlinewidth\":0,\"ticks\":\"\"}}],\"scatter\":[{\"fillpattern\":{\"fillmode\":\"overlay\",\"size\":10,\"solidity\":0.2},\"type\":\"scatter\"}],\"parcoords\":[{\"type\":\"parcoords\",\"line\":{\"colorbar\":{\"outlinewidth\":0,\"ticks\":\"\"}}}],\"scatterpolargl\":[{\"type\":\"scatterpolargl\",\"marker\":{\"colorbar\":{\"outlinewidth\":0,\"ticks\":\"\"}}}],\"bar\":[{\"error_x\":{\"color\":\"#2a3f5f\"},\"error_y\":{\"color\":\"#2a3f5f\"},\"marker\":{\"line\":{\"color\":\"#E5ECF6\",\"width\":0.5},\"pattern\":{\"fillmode\":\"overlay\",\"size\":10,\"solidity\":0.2}},\"type\":\"bar\"}],\"scattergeo\":[{\"type\":\"scattergeo\",\"marker\":{\"colorbar\":{\"outlinewidth\":0,\"ticks\":\"\"}}}],\"scatterpolar\":[{\"type\":\"scatterpolar\",\"marker\":{\"colorbar\":{\"outlinewidth\":0,\"ticks\":\"\"}}}],\"histogram\":[{\"marker\":{\"pattern\":{\"fillmode\":\"overlay\",\"size\":10,\"solidity\":0.2}},\"type\":\"histogram\"}],\"scattergl\":[{\"type\":\"scattergl\",\"marker\":{\"colorbar\":{\"outlinewidth\":0,\"ticks\":\"\"}}}],\"scatter3d\":[{\"type\":\"scatter3d\",\"line\":{\"colorbar\":{\"outlinewidth\":0,\"ticks\":\"\"}},\"marker\":{\"colorbar\":{\"outlinewidth\":0,\"ticks\":\"\"}}}],\"scattermapbox\":[{\"type\":\"scattermapbox\",\"marker\":{\"colorbar\":{\"outlinewidth\":0,\"ticks\":\"\"}}}],\"scatterternary\":[{\"type\":\"scatterternary\",\"marker\":{\"colorbar\":{\"outlinewidth\":0,\"ticks\":\"\"}}}],\"scattercarpet\":[{\"type\":\"scattercarpet\",\"marker\":{\"colorbar\":{\"outlinewidth\":0,\"ticks\":\"\"}}}],\"carpet\":[{\"aaxis\":{\"endlinecolor\":\"#2a3f5f\",\"gridcolor\":\"white\",\"linecolor\":\"white\",\"minorgridcolor\":\"white\",\"startlinecolor\":\"#2a3f5f\"},\"baxis\":{\"endlinecolor\":\"#2a3f5f\",\"gridcolor\":\"white\",\"linecolor\":\"white\",\"minorgridcolor\":\"white\",\"startlinecolor\":\"#2a3f5f\"},\"type\":\"carpet\"}],\"table\":[{\"cells\":{\"fill\":{\"color\":\"#EBF0F8\"},\"line\":{\"color\":\"white\"}},\"header\":{\"fill\":{\"color\":\"#C8D4E3\"},\"line\":{\"color\":\"white\"}},\"type\":\"table\"}],\"barpolar\":[{\"marker\":{\"line\":{\"color\":\"#E5ECF6\",\"width\":0.5},\"pattern\":{\"fillmode\":\"overlay\",\"size\":10,\"solidity\":0.2}},\"type\":\"barpolar\"}],\"pie\":[{\"automargin\":true,\"type\":\"pie\"}]},\"layout\":{\"autotypenumbers\":\"strict\",\"colorway\":[\"#636efa\",\"#EF553B\",\"#00cc96\",\"#ab63fa\",\"#FFA15A\",\"#19d3f3\",\"#FF6692\",\"#B6E880\",\"#FF97FF\",\"#FECB52\"],\"font\":{\"color\":\"#2a3f5f\"},\"hovermode\":\"closest\",\"hoverlabel\":{\"align\":\"left\"},\"paper_bgcolor\":\"white\",\"plot_bgcolor\":\"#E5ECF6\",\"polar\":{\"bgcolor\":\"#E5ECF6\",\"angularaxis\":{\"gridcolor\":\"white\",\"linecolor\":\"white\",\"ticks\":\"\"},\"radialaxis\":{\"gridcolor\":\"white\",\"linecolor\":\"white\",\"ticks\":\"\"}},\"ternary\":{\"bgcolor\":\"#E5ECF6\",\"aaxis\":{\"gridcolor\":\"white\",\"linecolor\":\"white\",\"ticks\":\"\"},\"baxis\":{\"gridcolor\":\"white\",\"linecolor\":\"white\",\"ticks\":\"\"},\"caxis\":{\"gridcolor\":\"white\",\"linecolor\":\"white\",\"ticks\":\"\"}},\"coloraxis\":{\"colorbar\":{\"outlinewidth\":0,\"ticks\":\"\"}},\"colorscale\":{\"sequential\":[[0.0,\"#0d0887\"],[0.1111111111111111,\"#46039f\"],[0.2222222222222222,\"#7201a8\"],[0.3333333333333333,\"#9c179e\"],[0.4444444444444444,\"#bd3786\"],[0.5555555555555556,\"#d8576b\"],[0.6666666666666666,\"#ed7953\"],[0.7777777777777778,\"#fb9f3a\"],[0.8888888888888888,\"#fdca26\"],[1.0,\"#f0f921\"]],\"sequentialminus\":[[0.0,\"#0d0887\"],[0.1111111111111111,\"#46039f\"],[0.2222222222222222,\"#7201a8\"],[0.3333333333333333,\"#9c179e\"],[0.4444444444444444,\"#bd3786\"],[0.5555555555555556,\"#d8576b\"],[0.6666666666666666,\"#ed7953\"],[0.7777777777777778,\"#fb9f3a\"],[0.8888888888888888,\"#fdca26\"],[1.0,\"#f0f921\"]],\"diverging\":[[0,\"#8e0152\"],[0.1,\"#c51b7d\"],[0.2,\"#de77ae\"],[0.3,\"#f1b6da\"],[0.4,\"#fde0ef\"],[0.5,\"#f7f7f7\"],[0.6,\"#e6f5d0\"],[0.7,\"#b8e186\"],[0.8,\"#7fbc41\"],[0.9,\"#4d9221\"],[1,\"#276419\"]]},\"xaxis\":{\"gridcolor\":\"white\",\"linecolor\":\"white\",\"ticks\":\"\",\"title\":{\"standoff\":15},\"zerolinecolor\":\"white\",\"automargin\":true,\"zerolinewidth\":2},\"yaxis\":{\"gridcolor\":\"white\",\"linecolor\":\"white\",\"ticks\":\"\",\"title\":{\"standoff\":15},\"zerolinecolor\":\"white\",\"automargin\":true,\"zerolinewidth\":2},\"scene\":{\"xaxis\":{\"backgroundcolor\":\"#E5ECF6\",\"gridcolor\":\"white\",\"linecolor\":\"white\",\"showbackground\":true,\"ticks\":\"\",\"zerolinecolor\":\"white\",\"gridwidth\":2},\"yaxis\":{\"backgroundcolor\":\"#E5ECF6\",\"gridcolor\":\"white\",\"linecolor\":\"white\",\"showbackground\":true,\"ticks\":\"\",\"zerolinecolor\":\"white\",\"gridwidth\":2},\"zaxis\":{\"backgroundcolor\":\"#E5ECF6\",\"gridcolor\":\"white\",\"linecolor\":\"white\",\"showbackground\":true,\"ticks\":\"\",\"zerolinecolor\":\"white\",\"gridwidth\":2}},\"shapedefaults\":{\"line\":{\"color\":\"#2a3f5f\"}},\"annotationdefaults\":{\"arrowcolor\":\"#2a3f5f\",\"arrowhead\":0,\"arrowwidth\":1},\"geo\":{\"bgcolor\":\"white\",\"landcolor\":\"#E5ECF6\",\"subunitcolor\":\"white\",\"showland\":true,\"showlakes\":true,\"lakecolor\":\"white\"},\"title\":{\"x\":0.05},\"mapbox\":{\"style\":\"light\"}}},\"xaxis\":{\"anchor\":\"y\",\"domain\":[0.0,1.0],\"title\":{\"text\":\"clearance_efficiency_score\"}},\"yaxis\":{\"anchor\":\"x\",\"domain\":[0.0,1.0],\"title\":{\"text\":\"timely_consignee_receival_score\"}},\"coloraxis\":{\"colorbar\":{\"title\":{\"text\":\"cluster_id\"}},\"colorscale\":[[0.0,\"Coral\"],[0.25,\"DarkCyan\"],[0.5,\"DarkSeaGreen\"],[0.75,\"Gold\"],[1.0,\"Lightgreen\"]],\"showscale\":false},\"legend\":{\"tracegroupgap\":0},\"margin\":{\"t\":60}},                        {\"responsive\": true}                    ).then(function(){\n",
       "                            \n",
       "var gd = document.getElementById('0d8a2b6b-1e52-4e0c-a8c2-849eb8f53b68');\n",
       "var x = new MutationObserver(function (mutations, observer) {{\n",
       "        var display = window.getComputedStyle(gd).display;\n",
       "        if (!display || display === 'none') {{\n",
       "            console.log([gd, 'removed!']);\n",
       "            Plotly.purge(gd);\n",
       "            observer.disconnect();\n",
       "        }}\n",
       "}});\n",
       "\n",
       "// Listen for the removal of the full notebook cells\n",
       "var notebookContainer = gd.closest('#notebook-container');\n",
       "if (notebookContainer) {{\n",
       "    x.observe(notebookContainer, {childList: true});\n",
       "}}\n",
       "\n",
       "// Listen for the clearing of the current output cell\n",
       "var outputEl = gd.closest('.output');\n",
       "if (outputEl) {{\n",
       "    x.observe(outputEl, {childList: true});\n",
       "}}\n",
       "\n",
       "                        })                };                });            </script>        </div>"
      ]
     },
     "metadata": {},
     "output_type": "display_data"
    }
   ],
   "source": [
    "plot_clusters(X_numerics_stdscaled, 'clearance_efficiency_score', 'timely_consignee_receival_score', colors_clusters)"
   ]
  },
  {
   "cell_type": "code",
   "execution_count": 58,
   "id": "143499a7",
   "metadata": {},
   "outputs": [
    {
     "data": {
      "application/vnd.plotly.v1+json": {
       "config": {
        "plotlyServerURL": "https://plot.ly"
       },
       "data": [
        {
         "hovertemplate": "clearance_efficiency_score=%{x}<br>infrastructure_score=%{y}<br>cluster_id=%{marker.color}<extra></extra>",
         "legendgroup": "",
         "marker": {
          "color": [
           0,
           0,
           0,
           0,
           2,
           0,
           1,
           1,
           0,
           2,
           0,
           2,
           1,
           2,
           0,
           0,
           2,
           2,
           2,
           2,
           0,
           0,
           0,
           0,
           1,
           0,
           0,
           1,
           1,
           2,
           0,
           0,
           0,
           2,
           2,
           2,
           0,
           2,
           1,
           1,
           2,
           0,
           2,
           2,
           0,
           0,
           0,
           1,
           0,
           1,
           1,
           0,
           0,
           0,
           1,
           0,
           2,
           0,
           0,
           0,
           0,
           0,
           0,
           1,
           1,
           2,
           2,
           2,
           2,
           0,
           1,
           1,
           1,
           0,
           1,
           2,
           2,
           2,
           1,
           2,
           2,
           0,
           2,
           2,
           0,
           0,
           0,
           2,
           1,
           0,
           0,
           0,
           2,
           2,
           0,
           2,
           0,
           2,
           2,
           0,
           0,
           2,
           0,
           0,
           0,
           1,
           1,
           0,
           0,
           1,
           2,
           0,
           2,
           0,
           2,
           2,
           2,
           1,
           1,
           2,
           2,
           2,
           2,
           2,
           0,
           2,
           0,
           1,
           2,
           1,
           2,
           0,
           2,
           1,
           0,
           0,
           1,
           1,
           0,
           2,
           1,
           0,
           2,
           0,
           0,
           0,
           2,
           0,
           0,
           2,
           1,
           1,
           1,
           0,
           0,
           0,
           2,
           0,
           0,
           0
          ],
          "coloraxis": "coloraxis",
          "symbol": "circle"
         },
         "mode": "markers",
         "name": "",
         "orientation": "v",
         "showlegend": false,
         "type": "scatter",
         "x": [
          -1.6283077788583376,
          -0.5659455700654523,
          -0.9422265439670866,
          -1.9119700418683732,
          -0.44323250220911237,
          -0.17263316483077712,
          2.07173120141716,
          1.80603393164105,
          0.018979547703067742,
          -0.005756372180018711,
          -0.6477207338964127,
          -0.5610244147663684,
          1.7175294870449815,
          -0.19221887705248136,
          -0.9316380779462806,
          -0.6148777485840883,
          -0.07234987602801714,
          -0.46350363627254393,
          -0.08894749606882522,
          0.45865076287085704,
          -0.45184799447284596,
          -1.7105583998655847,
          -0.5266977948346102,
          -0.37062637385077435,
          1.614917499225519,
          -0.7551410860789783,
          -0.9013337563160994,
          1.0424531770150802,
          1.0630991240350005,
          -0.10570475866517552,
          -0.08376605399440257,
          -0.5263351285943034,
          -0.6950460753886198,
          -0.07935679602015347,
          0.1837514879639151,
          0.5297385517063824,
          -1.1168060899227215,
          0.656572826838929,
          1.0643988226665282,
          2.1600065936509294,
          -0.565579433334808,
          -0.46551652066850197,
          0.22277541656796485,
          -0.12714718321763394,
          -0.6457494953845087,
          -1.324001304073551,
          -0.9358946343456633,
          1.1257640328205425,
          -0.4531893389884285,
          1.9812555183091891,
          1.5901260514970268,
          -1.2454432847857855,
          -1.0348140204456453,
          -0.4332149318488837,
          2.462282831588069,
          -0.38359212575301366,
          0.2878922267772046,
          -0.8946322394736949,
          -0.392611930141108,
          -1.1544904092563586,
          -0.20752720993277513,
          -1.113318247133174,
          -0.7538917095573489,
          1.980785266868409,
          1.1827303964713212,
          0.16651009196543368,
          0.5053705037991088,
          -0.0008595103133001594,
          -0.08376605399440257,
          -1.4469104546339797,
          1.1876758452027698,
          1.116365944985622,
          1.3860629548761143,
          -0.44697889652883105,
          2.291767229818067,
          -0.3156034847891968,
          -0.01635004393633151,
          -0.03369208415461103,
          1.265539766422964,
          0.09054799945038666,
          0.13313959212175505,
          -0.10481457789351445,
          0.21394995963879074,
          -0.5008929639274627,
          -0.541678166377976,
          -1.3320528416573827,
          -1.2487541325681026,
          0.3005751337169082,
          1.4830839827612874,
          -0.3825509786516562,
          -0.6196965244182049,
          -0.42920825075382624,
          0.39042092282855845,
          -0.4764103898390399,
          -0.9013337563160994,
          0.04252161890993121,
          -0.8212452507893382,
          0.05505355951993844,
          0.16748703499554102,
          -0.7279671467335461,
          -0.7787438908667543,
          -0.19459442768874546,
          -0.5989534036688241,
          -0.8790861780052577,
          -0.6653595010385782,
          2.159140706311634,
          1.796588992186568,
          -1.5752092766891022,
          -1.2261352117911097,
          1.469278372197286,
          0.3355854402452253,
          -0.9565110821977123,
          0.33488266595180854,
          -0.6112667033875465,
          -0.05773737646046343,
          -0.24963466920201238,
          -0.24963466920201238,
          1.0067626543805432,
          0.864285144050099,
          0.5669508843540703,
          -0.16060618056492798,
          -0.43882844997037,
          -0.01146359354062722,
          -0.02207982348413617,
          -0.8746179216952645,
          -0.1321429540589814,
          -1.483793090699571,
          2.106255639298177,
          0.2008332414068543,
          1.293465066926542,
          0.1747368893113275,
          -1.1682942845751907,
          0.869924690849119,
          1.644343786800221,
          -0.15765799902291736,
          -0.9330713904558161,
          2.387849490066849,
          1.6588747298448352,
          -1.4822903683832782,
          0.0711670461586154,
          1.3897468803697512,
          -1.3017745487047363,
          0.8142181151909834,
          -0.6227436149348445,
          -0.43394547006500334,
          -0.5175773462267178,
          0.06974935085560006,
          -0.5604517838606219,
          -0.10882646472407868,
          -0.31597656250051637,
          1.6625898897515128,
          1.9065688309933044,
          1.912012295088236,
          -0.2748477815065548,
          -0.9889861955342232,
          -1.5372351714122543,
          0.48045585366362226,
          -0.47281843233935666,
          -0.855670779695726,
          -1.1682942845751907
         ],
         "xaxis": "x",
         "y": [
          -1.3626022473611692,
          -0.6386558312386038,
          -0.4486279134767417,
          -1.288203450971775,
          0.0753270980714928,
          -0.3552931354303191,
          1.8533422696556416,
          2.170508802591412,
          -0.46789720174159477,
          0.0029683166790966126,
          -0.49728919024318896,
          -0.4201242466040375,
          1.8768790728813909,
          -0.33611907762484455,
          -1.2120339632283135,
          -0.848814575327509,
          -0.44911894553291165,
          0.30369271561281,
          -0.38975912184567013,
          0.059669127383381516,
          -0.43471087462414176,
          -1.1457714192120636,
          -0.860554705397755,
          -0.2237992147157764,
          1.5290602358331904,
          -1.1819203064017423,
          -0.5220476217056516,
          0.7243360705188046,
          1.533110506308629,
          -0.08365122600521967,
          -0.703641691908812,
          -0.9027269191431189,
          -0.9772566574141583,
          -0.33996847135003194,
          0.24391030676207653,
          0.4314161053263385,
          -1.0136361808726446,
          0.2523143948022223,
          1.1036538699823466,
          1.8389074151801719,
          0.10251539422403304,
          -0.5438583728551661,
          -0.0016488726248296245,
          0.14119830441873496,
          -0.7044496628376008,
          -1.2616326648292668,
          -1.2802323639266153,
          0.5591112234972384,
          -0.47633700120400785,
          1.9054824341412575,
          1.8956736968252794,
          -0.9389487171532592,
          -1.3450560352206944,
          -0.5069119305681928,
          2.457484303952366,
          -0.41662601519780823,
          0.6690086615958682,
          -0.7837096765830777,
          -1.7369576471055386,
          -1.4033772517103402,
          -0.9427385918413355,
          -1.1580204370496134,
          -0.3712234057132166,
          1.8541948798622645,
          0.8154998916865852,
          0.6884847785146836,
          0.27124144860368454,
          0.25610278151437044,
          0.06520142188289636,
          -1.0257884802748878,
          0.8488156727097553,
          0.9013025355865454,
          1.6814408746460918,
          -0.5929928259666499,
          2.269691326034041,
          -0.00657853687359072,
          -0.26296274113515355,
          -0.25146663911706457,
          1.491908452868183,
          0.44480491272457395,
          -0.517644700935327,
          -0.41895172157294064,
          0.387044663159704,
          -0.12767448180475205,
          -1.1376351668389193,
          -1.2029781417317964,
          -0.7055492770482358,
          0.010018346624955122,
          1.3519107497263319,
          -0.3709406902869364,
          -0.8382380424327925,
          -0.8138620207837713,
          0.6313494788394848,
          -0.007385019826451484,
          -0.6254649246387648,
          0.2635426611533097,
          -0.684504833501532,
          0.11474506837452159,
          0.18455643497854568,
          -1.0459684098075475,
          -0.9320593886076018,
          -0.2204051416244923,
          -0.4289568717113859,
          -1.0835383140082635,
          -0.786761515210971,
          2.209236352063947,
          1.8864422941692836,
          -1.0739825326000099,
          -0.24278281160249457,
          1.4405598915761504,
          0.6433857161193609,
          -0.7817812597806647,
          0.6062503008895587,
          -1.1191440899842995,
          -0.26169349766875016,
          -0.6569817427652397,
          0.004563426873684833,
          0.7231814011988417,
          0.7802690856443513,
          0.9703312268525527,
          0.27381415898282924,
          0.07781350584682697,
          0.04786055042045699,
          0.5715596301091119,
          -0.7419035049159493,
          -0.18303313822217168,
          -1.3461764810943186,
          1.9952297022257823,
          0.41234025393209783,
          0.8020485892993825,
          -0.7683522770323793,
          -1.3540880491023668,
          0.689928115164638,
          1.6620465964033042,
          -0.34799907743230296,
          -0.8050948666172455,
          2.257351541664896,
          1.9328061361032263,
          -0.3103904858574647,
          -0.5838655816255987,
          1.4839701012934343,
          -0.8283742500074864,
          0.6178788327652207,
          -0.7297556694414893,
          -0.5061991900987827,
          -0.9304553505574463,
          0.7248583500694584,
          -0.7350960150463197,
          -0.7869787596964279,
          -0.7463525529400351,
          1.931998165174437,
          1.9491009604884306,
          1.9674715112928998,
          -0.4309849829009608,
          -0.22748939501669072,
          -0.9313972393197362,
          0.42050924177565324,
          -0.9018490133457242,
          -0.6241376501111782,
          -1.3236321578124044
         ],
         "yaxis": "y"
        }
       ],
       "layout": {
        "coloraxis": {
         "colorbar": {
          "title": {
           "text": "cluster_id"
          }
         },
         "colorscale": [
          [
           0,
           "Coral"
          ],
          [
           0.25,
           "DarkCyan"
          ],
          [
           0.5,
           "DarkSeaGreen"
          ],
          [
           0.75,
           "Gold"
          ],
          [
           1,
           "Lightgreen"
          ]
         ],
         "showscale": false
        },
        "legend": {
         "tracegroupgap": 0
        },
        "margin": {
         "t": 60
        },
        "template": {
         "data": {
          "bar": [
           {
            "error_x": {
             "color": "#2a3f5f"
            },
            "error_y": {
             "color": "#2a3f5f"
            },
            "marker": {
             "line": {
              "color": "#E5ECF6",
              "width": 0.5
             },
             "pattern": {
              "fillmode": "overlay",
              "size": 10,
              "solidity": 0.2
             }
            },
            "type": "bar"
           }
          ],
          "barpolar": [
           {
            "marker": {
             "line": {
              "color": "#E5ECF6",
              "width": 0.5
             },
             "pattern": {
              "fillmode": "overlay",
              "size": 10,
              "solidity": 0.2
             }
            },
            "type": "barpolar"
           }
          ],
          "carpet": [
           {
            "aaxis": {
             "endlinecolor": "#2a3f5f",
             "gridcolor": "white",
             "linecolor": "white",
             "minorgridcolor": "white",
             "startlinecolor": "#2a3f5f"
            },
            "baxis": {
             "endlinecolor": "#2a3f5f",
             "gridcolor": "white",
             "linecolor": "white",
             "minorgridcolor": "white",
             "startlinecolor": "#2a3f5f"
            },
            "type": "carpet"
           }
          ],
          "choropleth": [
           {
            "colorbar": {
             "outlinewidth": 0,
             "ticks": ""
            },
            "type": "choropleth"
           }
          ],
          "contour": [
           {
            "colorbar": {
             "outlinewidth": 0,
             "ticks": ""
            },
            "colorscale": [
             [
              0,
              "#0d0887"
             ],
             [
              0.1111111111111111,
              "#46039f"
             ],
             [
              0.2222222222222222,
              "#7201a8"
             ],
             [
              0.3333333333333333,
              "#9c179e"
             ],
             [
              0.4444444444444444,
              "#bd3786"
             ],
             [
              0.5555555555555556,
              "#d8576b"
             ],
             [
              0.6666666666666666,
              "#ed7953"
             ],
             [
              0.7777777777777778,
              "#fb9f3a"
             ],
             [
              0.8888888888888888,
              "#fdca26"
             ],
             [
              1,
              "#f0f921"
             ]
            ],
            "type": "contour"
           }
          ],
          "contourcarpet": [
           {
            "colorbar": {
             "outlinewidth": 0,
             "ticks": ""
            },
            "type": "contourcarpet"
           }
          ],
          "heatmap": [
           {
            "colorbar": {
             "outlinewidth": 0,
             "ticks": ""
            },
            "colorscale": [
             [
              0,
              "#0d0887"
             ],
             [
              0.1111111111111111,
              "#46039f"
             ],
             [
              0.2222222222222222,
              "#7201a8"
             ],
             [
              0.3333333333333333,
              "#9c179e"
             ],
             [
              0.4444444444444444,
              "#bd3786"
             ],
             [
              0.5555555555555556,
              "#d8576b"
             ],
             [
              0.6666666666666666,
              "#ed7953"
             ],
             [
              0.7777777777777778,
              "#fb9f3a"
             ],
             [
              0.8888888888888888,
              "#fdca26"
             ],
             [
              1,
              "#f0f921"
             ]
            ],
            "type": "heatmap"
           }
          ],
          "heatmapgl": [
           {
            "colorbar": {
             "outlinewidth": 0,
             "ticks": ""
            },
            "colorscale": [
             [
              0,
              "#0d0887"
             ],
             [
              0.1111111111111111,
              "#46039f"
             ],
             [
              0.2222222222222222,
              "#7201a8"
             ],
             [
              0.3333333333333333,
              "#9c179e"
             ],
             [
              0.4444444444444444,
              "#bd3786"
             ],
             [
              0.5555555555555556,
              "#d8576b"
             ],
             [
              0.6666666666666666,
              "#ed7953"
             ],
             [
              0.7777777777777778,
              "#fb9f3a"
             ],
             [
              0.8888888888888888,
              "#fdca26"
             ],
             [
              1,
              "#f0f921"
             ]
            ],
            "type": "heatmapgl"
           }
          ],
          "histogram": [
           {
            "marker": {
             "pattern": {
              "fillmode": "overlay",
              "size": 10,
              "solidity": 0.2
             }
            },
            "type": "histogram"
           }
          ],
          "histogram2d": [
           {
            "colorbar": {
             "outlinewidth": 0,
             "ticks": ""
            },
            "colorscale": [
             [
              0,
              "#0d0887"
             ],
             [
              0.1111111111111111,
              "#46039f"
             ],
             [
              0.2222222222222222,
              "#7201a8"
             ],
             [
              0.3333333333333333,
              "#9c179e"
             ],
             [
              0.4444444444444444,
              "#bd3786"
             ],
             [
              0.5555555555555556,
              "#d8576b"
             ],
             [
              0.6666666666666666,
              "#ed7953"
             ],
             [
              0.7777777777777778,
              "#fb9f3a"
             ],
             [
              0.8888888888888888,
              "#fdca26"
             ],
             [
              1,
              "#f0f921"
             ]
            ],
            "type": "histogram2d"
           }
          ],
          "histogram2dcontour": [
           {
            "colorbar": {
             "outlinewidth": 0,
             "ticks": ""
            },
            "colorscale": [
             [
              0,
              "#0d0887"
             ],
             [
              0.1111111111111111,
              "#46039f"
             ],
             [
              0.2222222222222222,
              "#7201a8"
             ],
             [
              0.3333333333333333,
              "#9c179e"
             ],
             [
              0.4444444444444444,
              "#bd3786"
             ],
             [
              0.5555555555555556,
              "#d8576b"
             ],
             [
              0.6666666666666666,
              "#ed7953"
             ],
             [
              0.7777777777777778,
              "#fb9f3a"
             ],
             [
              0.8888888888888888,
              "#fdca26"
             ],
             [
              1,
              "#f0f921"
             ]
            ],
            "type": "histogram2dcontour"
           }
          ],
          "mesh3d": [
           {
            "colorbar": {
             "outlinewidth": 0,
             "ticks": ""
            },
            "type": "mesh3d"
           }
          ],
          "parcoords": [
           {
            "line": {
             "colorbar": {
              "outlinewidth": 0,
              "ticks": ""
             }
            },
            "type": "parcoords"
           }
          ],
          "pie": [
           {
            "automargin": true,
            "type": "pie"
           }
          ],
          "scatter": [
           {
            "fillpattern": {
             "fillmode": "overlay",
             "size": 10,
             "solidity": 0.2
            },
            "type": "scatter"
           }
          ],
          "scatter3d": [
           {
            "line": {
             "colorbar": {
              "outlinewidth": 0,
              "ticks": ""
             }
            },
            "marker": {
             "colorbar": {
              "outlinewidth": 0,
              "ticks": ""
             }
            },
            "type": "scatter3d"
           }
          ],
          "scattercarpet": [
           {
            "marker": {
             "colorbar": {
              "outlinewidth": 0,
              "ticks": ""
             }
            },
            "type": "scattercarpet"
           }
          ],
          "scattergeo": [
           {
            "marker": {
             "colorbar": {
              "outlinewidth": 0,
              "ticks": ""
             }
            },
            "type": "scattergeo"
           }
          ],
          "scattergl": [
           {
            "marker": {
             "colorbar": {
              "outlinewidth": 0,
              "ticks": ""
             }
            },
            "type": "scattergl"
           }
          ],
          "scattermapbox": [
           {
            "marker": {
             "colorbar": {
              "outlinewidth": 0,
              "ticks": ""
             }
            },
            "type": "scattermapbox"
           }
          ],
          "scatterpolar": [
           {
            "marker": {
             "colorbar": {
              "outlinewidth": 0,
              "ticks": ""
             }
            },
            "type": "scatterpolar"
           }
          ],
          "scatterpolargl": [
           {
            "marker": {
             "colorbar": {
              "outlinewidth": 0,
              "ticks": ""
             }
            },
            "type": "scatterpolargl"
           }
          ],
          "scatterternary": [
           {
            "marker": {
             "colorbar": {
              "outlinewidth": 0,
              "ticks": ""
             }
            },
            "type": "scatterternary"
           }
          ],
          "surface": [
           {
            "colorbar": {
             "outlinewidth": 0,
             "ticks": ""
            },
            "colorscale": [
             [
              0,
              "#0d0887"
             ],
             [
              0.1111111111111111,
              "#46039f"
             ],
             [
              0.2222222222222222,
              "#7201a8"
             ],
             [
              0.3333333333333333,
              "#9c179e"
             ],
             [
              0.4444444444444444,
              "#bd3786"
             ],
             [
              0.5555555555555556,
              "#d8576b"
             ],
             [
              0.6666666666666666,
              "#ed7953"
             ],
             [
              0.7777777777777778,
              "#fb9f3a"
             ],
             [
              0.8888888888888888,
              "#fdca26"
             ],
             [
              1,
              "#f0f921"
             ]
            ],
            "type": "surface"
           }
          ],
          "table": [
           {
            "cells": {
             "fill": {
              "color": "#EBF0F8"
             },
             "line": {
              "color": "white"
             }
            },
            "header": {
             "fill": {
              "color": "#C8D4E3"
             },
             "line": {
              "color": "white"
             }
            },
            "type": "table"
           }
          ]
         },
         "layout": {
          "annotationdefaults": {
           "arrowcolor": "#2a3f5f",
           "arrowhead": 0,
           "arrowwidth": 1
          },
          "autotypenumbers": "strict",
          "coloraxis": {
           "colorbar": {
            "outlinewidth": 0,
            "ticks": ""
           }
          },
          "colorscale": {
           "diverging": [
            [
             0,
             "#8e0152"
            ],
            [
             0.1,
             "#c51b7d"
            ],
            [
             0.2,
             "#de77ae"
            ],
            [
             0.3,
             "#f1b6da"
            ],
            [
             0.4,
             "#fde0ef"
            ],
            [
             0.5,
             "#f7f7f7"
            ],
            [
             0.6,
             "#e6f5d0"
            ],
            [
             0.7,
             "#b8e186"
            ],
            [
             0.8,
             "#7fbc41"
            ],
            [
             0.9,
             "#4d9221"
            ],
            [
             1,
             "#276419"
            ]
           ],
           "sequential": [
            [
             0,
             "#0d0887"
            ],
            [
             0.1111111111111111,
             "#46039f"
            ],
            [
             0.2222222222222222,
             "#7201a8"
            ],
            [
             0.3333333333333333,
             "#9c179e"
            ],
            [
             0.4444444444444444,
             "#bd3786"
            ],
            [
             0.5555555555555556,
             "#d8576b"
            ],
            [
             0.6666666666666666,
             "#ed7953"
            ],
            [
             0.7777777777777778,
             "#fb9f3a"
            ],
            [
             0.8888888888888888,
             "#fdca26"
            ],
            [
             1,
             "#f0f921"
            ]
           ],
           "sequentialminus": [
            [
             0,
             "#0d0887"
            ],
            [
             0.1111111111111111,
             "#46039f"
            ],
            [
             0.2222222222222222,
             "#7201a8"
            ],
            [
             0.3333333333333333,
             "#9c179e"
            ],
            [
             0.4444444444444444,
             "#bd3786"
            ],
            [
             0.5555555555555556,
             "#d8576b"
            ],
            [
             0.6666666666666666,
             "#ed7953"
            ],
            [
             0.7777777777777778,
             "#fb9f3a"
            ],
            [
             0.8888888888888888,
             "#fdca26"
            ],
            [
             1,
             "#f0f921"
            ]
           ]
          },
          "colorway": [
           "#636efa",
           "#EF553B",
           "#00cc96",
           "#ab63fa",
           "#FFA15A",
           "#19d3f3",
           "#FF6692",
           "#B6E880",
           "#FF97FF",
           "#FECB52"
          ],
          "font": {
           "color": "#2a3f5f"
          },
          "geo": {
           "bgcolor": "white",
           "lakecolor": "white",
           "landcolor": "#E5ECF6",
           "showlakes": true,
           "showland": true,
           "subunitcolor": "white"
          },
          "hoverlabel": {
           "align": "left"
          },
          "hovermode": "closest",
          "mapbox": {
           "style": "light"
          },
          "paper_bgcolor": "white",
          "plot_bgcolor": "#E5ECF6",
          "polar": {
           "angularaxis": {
            "gridcolor": "white",
            "linecolor": "white",
            "ticks": ""
           },
           "bgcolor": "#E5ECF6",
           "radialaxis": {
            "gridcolor": "white",
            "linecolor": "white",
            "ticks": ""
           }
          },
          "scene": {
           "xaxis": {
            "backgroundcolor": "#E5ECF6",
            "gridcolor": "white",
            "gridwidth": 2,
            "linecolor": "white",
            "showbackground": true,
            "ticks": "",
            "zerolinecolor": "white"
           },
           "yaxis": {
            "backgroundcolor": "#E5ECF6",
            "gridcolor": "white",
            "gridwidth": 2,
            "linecolor": "white",
            "showbackground": true,
            "ticks": "",
            "zerolinecolor": "white"
           },
           "zaxis": {
            "backgroundcolor": "#E5ECF6",
            "gridcolor": "white",
            "gridwidth": 2,
            "linecolor": "white",
            "showbackground": true,
            "ticks": "",
            "zerolinecolor": "white"
           }
          },
          "shapedefaults": {
           "line": {
            "color": "#2a3f5f"
           }
          },
          "ternary": {
           "aaxis": {
            "gridcolor": "white",
            "linecolor": "white",
            "ticks": ""
           },
           "baxis": {
            "gridcolor": "white",
            "linecolor": "white",
            "ticks": ""
           },
           "bgcolor": "#E5ECF6",
           "caxis": {
            "gridcolor": "white",
            "linecolor": "white",
            "ticks": ""
           }
          },
          "title": {
           "x": 0.05
          },
          "xaxis": {
           "automargin": true,
           "gridcolor": "white",
           "linecolor": "white",
           "ticks": "",
           "title": {
            "standoff": 15
           },
           "zerolinecolor": "white",
           "zerolinewidth": 2
          },
          "yaxis": {
           "automargin": true,
           "gridcolor": "white",
           "linecolor": "white",
           "ticks": "",
           "title": {
            "standoff": 15
           },
           "zerolinecolor": "white",
           "zerolinewidth": 2
          }
         }
        },
        "xaxis": {
         "anchor": "y",
         "domain": [
          0,
          1
         ],
         "title": {
          "text": "clearance_efficiency_score"
         }
        },
        "yaxis": {
         "anchor": "x",
         "domain": [
          0,
          1
         ],
         "title": {
          "text": "infrastructure_score"
         }
        }
       }
      },
      "text/html": [
       "<div>                            <div id=\"46d20e4c-8cae-498a-91f7-898b129fabc0\" class=\"plotly-graph-div\" style=\"height:525px; width:100%;\"></div>            <script type=\"text/javascript\">                require([\"plotly\"], function(Plotly) {                    window.PLOTLYENV=window.PLOTLYENV || {};                                    if (document.getElementById(\"46d20e4c-8cae-498a-91f7-898b129fabc0\")) {                    Plotly.newPlot(                        \"46d20e4c-8cae-498a-91f7-898b129fabc0\",                        [{\"hovertemplate\":\"clearance_efficiency_score=%{x}<br>infrastructure_score=%{y}<br>cluster_id=%{marker.color}<extra></extra>\",\"legendgroup\":\"\",\"marker\":{\"color\":[0,0,0,0,2,0,1,1,0,2,0,2,1,2,0,0,2,2,2,2,0,0,0,0,1,0,0,1,1,2,0,0,0,2,2,2,0,2,1,1,2,0,2,2,0,0,0,1,0,1,1,0,0,0,1,0,2,0,0,0,0,0,0,1,1,2,2,2,2,0,1,1,1,0,1,2,2,2,1,2,2,0,2,2,0,0,0,2,1,0,0,0,2,2,0,2,0,2,2,0,0,2,0,0,0,1,1,0,0,1,2,0,2,0,2,2,2,1,1,2,2,2,2,2,0,2,0,1,2,1,2,0,2,1,0,0,1,1,0,2,1,0,2,0,0,0,2,0,0,2,1,1,1,0,0,0,2,0,0,0],\"coloraxis\":\"coloraxis\",\"symbol\":\"circle\"},\"mode\":\"markers\",\"name\":\"\",\"orientation\":\"v\",\"showlegend\":false,\"x\":[-1.6283077788583376,-0.5659455700654523,-0.9422265439670866,-1.9119700418683732,-0.44323250220911237,-0.17263316483077712,2.07173120141716,1.80603393164105,0.018979547703067742,-0.005756372180018711,-0.6477207338964127,-0.5610244147663684,1.7175294870449815,-0.19221887705248136,-0.9316380779462806,-0.6148777485840883,-0.07234987602801714,-0.46350363627254393,-0.08894749606882522,0.45865076287085704,-0.45184799447284596,-1.7105583998655847,-0.5266977948346102,-0.37062637385077435,1.614917499225519,-0.7551410860789783,-0.9013337563160994,1.0424531770150802,1.0630991240350005,-0.10570475866517552,-0.08376605399440257,-0.5263351285943034,-0.6950460753886198,-0.07935679602015347,0.1837514879639151,0.5297385517063824,-1.1168060899227215,0.656572826838929,1.0643988226665282,2.1600065936509294,-0.565579433334808,-0.46551652066850197,0.22277541656796485,-0.12714718321763394,-0.6457494953845087,-1.324001304073551,-0.9358946343456633,1.1257640328205425,-0.4531893389884285,1.9812555183091891,1.5901260514970268,-1.2454432847857855,-1.0348140204456453,-0.4332149318488837,2.462282831588069,-0.38359212575301366,0.2878922267772046,-0.8946322394736949,-0.392611930141108,-1.1544904092563586,-0.20752720993277513,-1.113318247133174,-0.7538917095573489,1.980785266868409,1.1827303964713212,0.16651009196543368,0.5053705037991088,-0.0008595103133001594,-0.08376605399440257,-1.4469104546339797,1.1876758452027698,1.116365944985622,1.3860629548761143,-0.44697889652883105,2.291767229818067,-0.3156034847891968,-0.01635004393633151,-0.03369208415461103,1.265539766422964,0.09054799945038666,0.13313959212175505,-0.10481457789351445,0.21394995963879074,-0.5008929639274627,-0.541678166377976,-1.3320528416573827,-1.2487541325681026,0.3005751337169082,1.4830839827612874,-0.3825509786516562,-0.6196965244182049,-0.42920825075382624,0.39042092282855845,-0.4764103898390399,-0.9013337563160994,0.04252161890993121,-0.8212452507893382,0.05505355951993844,0.16748703499554102,-0.7279671467335461,-0.7787438908667543,-0.19459442768874546,-0.5989534036688241,-0.8790861780052577,-0.6653595010385782,2.159140706311634,1.796588992186568,-1.5752092766891022,-1.2261352117911097,1.469278372197286,0.3355854402452253,-0.9565110821977123,0.33488266595180854,-0.6112667033875465,-0.05773737646046343,-0.24963466920201238,-0.24963466920201238,1.0067626543805432,0.864285144050099,0.5669508843540703,-0.16060618056492798,-0.43882844997037,-0.01146359354062722,-0.02207982348413617,-0.8746179216952645,-0.1321429540589814,-1.483793090699571,2.106255639298177,0.2008332414068543,1.293465066926542,0.1747368893113275,-1.1682942845751907,0.869924690849119,1.644343786800221,-0.15765799902291736,-0.9330713904558161,2.387849490066849,1.6588747298448352,-1.4822903683832782,0.0711670461586154,1.3897468803697512,-1.3017745487047363,0.8142181151909834,-0.6227436149348445,-0.43394547006500334,-0.5175773462267178,0.06974935085560006,-0.5604517838606219,-0.10882646472407868,-0.31597656250051637,1.6625898897515128,1.9065688309933044,1.912012295088236,-0.2748477815065548,-0.9889861955342232,-1.5372351714122543,0.48045585366362226,-0.47281843233935666,-0.855670779695726,-1.1682942845751907],\"xaxis\":\"x\",\"y\":[-1.3626022473611692,-0.6386558312386038,-0.4486279134767417,-1.288203450971775,0.0753270980714928,-0.3552931354303191,1.8533422696556416,2.170508802591412,-0.46789720174159477,0.0029683166790966126,-0.49728919024318896,-0.4201242466040375,1.8768790728813909,-0.33611907762484455,-1.2120339632283135,-0.848814575327509,-0.44911894553291165,0.30369271561281,-0.38975912184567013,0.059669127383381516,-0.43471087462414176,-1.1457714192120636,-0.860554705397755,-0.2237992147157764,1.5290602358331904,-1.1819203064017423,-0.5220476217056516,0.7243360705188046,1.533110506308629,-0.08365122600521967,-0.703641691908812,-0.9027269191431189,-0.9772566574141583,-0.33996847135003194,0.24391030676207653,0.4314161053263385,-1.0136361808726446,0.2523143948022223,1.1036538699823466,1.8389074151801719,0.10251539422403304,-0.5438583728551661,-0.0016488726248296245,0.14119830441873496,-0.7044496628376008,-1.2616326648292668,-1.2802323639266153,0.5591112234972384,-0.47633700120400785,1.9054824341412575,1.8956736968252794,-0.9389487171532592,-1.3450560352206944,-0.5069119305681928,2.457484303952366,-0.41662601519780823,0.6690086615958682,-0.7837096765830777,-1.7369576471055386,-1.4033772517103402,-0.9427385918413355,-1.1580204370496134,-0.3712234057132166,1.8541948798622645,0.8154998916865852,0.6884847785146836,0.27124144860368454,0.25610278151437044,0.06520142188289636,-1.0257884802748878,0.8488156727097553,0.9013025355865454,1.6814408746460918,-0.5929928259666499,2.269691326034041,-0.00657853687359072,-0.26296274113515355,-0.25146663911706457,1.491908452868183,0.44480491272457395,-0.517644700935327,-0.41895172157294064,0.387044663159704,-0.12767448180475205,-1.1376351668389193,-1.2029781417317964,-0.7055492770482358,0.010018346624955122,1.3519107497263319,-0.3709406902869364,-0.8382380424327925,-0.8138620207837713,0.6313494788394848,-0.007385019826451484,-0.6254649246387648,0.2635426611533097,-0.684504833501532,0.11474506837452159,0.18455643497854568,-1.0459684098075475,-0.9320593886076018,-0.2204051416244923,-0.4289568717113859,-1.0835383140082635,-0.786761515210971,2.209236352063947,1.8864422941692836,-1.0739825326000099,-0.24278281160249457,1.4405598915761504,0.6433857161193609,-0.7817812597806647,0.6062503008895587,-1.1191440899842995,-0.26169349766875016,-0.6569817427652397,0.004563426873684833,0.7231814011988417,0.7802690856443513,0.9703312268525527,0.27381415898282924,0.07781350584682697,0.04786055042045699,0.5715596301091119,-0.7419035049159493,-0.18303313822217168,-1.3461764810943186,1.9952297022257823,0.41234025393209783,0.8020485892993825,-0.7683522770323793,-1.3540880491023668,0.689928115164638,1.6620465964033042,-0.34799907743230296,-0.8050948666172455,2.257351541664896,1.9328061361032263,-0.3103904858574647,-0.5838655816255987,1.4839701012934343,-0.8283742500074864,0.6178788327652207,-0.7297556694414893,-0.5061991900987827,-0.9304553505574463,0.7248583500694584,-0.7350960150463197,-0.7869787596964279,-0.7463525529400351,1.931998165174437,1.9491009604884306,1.9674715112928998,-0.4309849829009608,-0.22748939501669072,-0.9313972393197362,0.42050924177565324,-0.9018490133457242,-0.6241376501111782,-1.3236321578124044],\"yaxis\":\"y\",\"type\":\"scatter\"}],                        {\"template\":{\"data\":{\"histogram2dcontour\":[{\"type\":\"histogram2dcontour\",\"colorbar\":{\"outlinewidth\":0,\"ticks\":\"\"},\"colorscale\":[[0.0,\"#0d0887\"],[0.1111111111111111,\"#46039f\"],[0.2222222222222222,\"#7201a8\"],[0.3333333333333333,\"#9c179e\"],[0.4444444444444444,\"#bd3786\"],[0.5555555555555556,\"#d8576b\"],[0.6666666666666666,\"#ed7953\"],[0.7777777777777778,\"#fb9f3a\"],[0.8888888888888888,\"#fdca26\"],[1.0,\"#f0f921\"]]}],\"choropleth\":[{\"type\":\"choropleth\",\"colorbar\":{\"outlinewidth\":0,\"ticks\":\"\"}}],\"histogram2d\":[{\"type\":\"histogram2d\",\"colorbar\":{\"outlinewidth\":0,\"ticks\":\"\"},\"colorscale\":[[0.0,\"#0d0887\"],[0.1111111111111111,\"#46039f\"],[0.2222222222222222,\"#7201a8\"],[0.3333333333333333,\"#9c179e\"],[0.4444444444444444,\"#bd3786\"],[0.5555555555555556,\"#d8576b\"],[0.6666666666666666,\"#ed7953\"],[0.7777777777777778,\"#fb9f3a\"],[0.8888888888888888,\"#fdca26\"],[1.0,\"#f0f921\"]]}],\"heatmap\":[{\"type\":\"heatmap\",\"colorbar\":{\"outlinewidth\":0,\"ticks\":\"\"},\"colorscale\":[[0.0,\"#0d0887\"],[0.1111111111111111,\"#46039f\"],[0.2222222222222222,\"#7201a8\"],[0.3333333333333333,\"#9c179e\"],[0.4444444444444444,\"#bd3786\"],[0.5555555555555556,\"#d8576b\"],[0.6666666666666666,\"#ed7953\"],[0.7777777777777778,\"#fb9f3a\"],[0.8888888888888888,\"#fdca26\"],[1.0,\"#f0f921\"]]}],\"heatmapgl\":[{\"type\":\"heatmapgl\",\"colorbar\":{\"outlinewidth\":0,\"ticks\":\"\"},\"colorscale\":[[0.0,\"#0d0887\"],[0.1111111111111111,\"#46039f\"],[0.2222222222222222,\"#7201a8\"],[0.3333333333333333,\"#9c179e\"],[0.4444444444444444,\"#bd3786\"],[0.5555555555555556,\"#d8576b\"],[0.6666666666666666,\"#ed7953\"],[0.7777777777777778,\"#fb9f3a\"],[0.8888888888888888,\"#fdca26\"],[1.0,\"#f0f921\"]]}],\"contourcarpet\":[{\"type\":\"contourcarpet\",\"colorbar\":{\"outlinewidth\":0,\"ticks\":\"\"}}],\"contour\":[{\"type\":\"contour\",\"colorbar\":{\"outlinewidth\":0,\"ticks\":\"\"},\"colorscale\":[[0.0,\"#0d0887\"],[0.1111111111111111,\"#46039f\"],[0.2222222222222222,\"#7201a8\"],[0.3333333333333333,\"#9c179e\"],[0.4444444444444444,\"#bd3786\"],[0.5555555555555556,\"#d8576b\"],[0.6666666666666666,\"#ed7953\"],[0.7777777777777778,\"#fb9f3a\"],[0.8888888888888888,\"#fdca26\"],[1.0,\"#f0f921\"]]}],\"surface\":[{\"type\":\"surface\",\"colorbar\":{\"outlinewidth\":0,\"ticks\":\"\"},\"colorscale\":[[0.0,\"#0d0887\"],[0.1111111111111111,\"#46039f\"],[0.2222222222222222,\"#7201a8\"],[0.3333333333333333,\"#9c179e\"],[0.4444444444444444,\"#bd3786\"],[0.5555555555555556,\"#d8576b\"],[0.6666666666666666,\"#ed7953\"],[0.7777777777777778,\"#fb9f3a\"],[0.8888888888888888,\"#fdca26\"],[1.0,\"#f0f921\"]]}],\"mesh3d\":[{\"type\":\"mesh3d\",\"colorbar\":{\"outlinewidth\":0,\"ticks\":\"\"}}],\"scatter\":[{\"fillpattern\":{\"fillmode\":\"overlay\",\"size\":10,\"solidity\":0.2},\"type\":\"scatter\"}],\"parcoords\":[{\"type\":\"parcoords\",\"line\":{\"colorbar\":{\"outlinewidth\":0,\"ticks\":\"\"}}}],\"scatterpolargl\":[{\"type\":\"scatterpolargl\",\"marker\":{\"colorbar\":{\"outlinewidth\":0,\"ticks\":\"\"}}}],\"bar\":[{\"error_x\":{\"color\":\"#2a3f5f\"},\"error_y\":{\"color\":\"#2a3f5f\"},\"marker\":{\"line\":{\"color\":\"#E5ECF6\",\"width\":0.5},\"pattern\":{\"fillmode\":\"overlay\",\"size\":10,\"solidity\":0.2}},\"type\":\"bar\"}],\"scattergeo\":[{\"type\":\"scattergeo\",\"marker\":{\"colorbar\":{\"outlinewidth\":0,\"ticks\":\"\"}}}],\"scatterpolar\":[{\"type\":\"scatterpolar\",\"marker\":{\"colorbar\":{\"outlinewidth\":0,\"ticks\":\"\"}}}],\"histogram\":[{\"marker\":{\"pattern\":{\"fillmode\":\"overlay\",\"size\":10,\"solidity\":0.2}},\"type\":\"histogram\"}],\"scattergl\":[{\"type\":\"scattergl\",\"marker\":{\"colorbar\":{\"outlinewidth\":0,\"ticks\":\"\"}}}],\"scatter3d\":[{\"type\":\"scatter3d\",\"line\":{\"colorbar\":{\"outlinewidth\":0,\"ticks\":\"\"}},\"marker\":{\"colorbar\":{\"outlinewidth\":0,\"ticks\":\"\"}}}],\"scattermapbox\":[{\"type\":\"scattermapbox\",\"marker\":{\"colorbar\":{\"outlinewidth\":0,\"ticks\":\"\"}}}],\"scatterternary\":[{\"type\":\"scatterternary\",\"marker\":{\"colorbar\":{\"outlinewidth\":0,\"ticks\":\"\"}}}],\"scattercarpet\":[{\"type\":\"scattercarpet\",\"marker\":{\"colorbar\":{\"outlinewidth\":0,\"ticks\":\"\"}}}],\"carpet\":[{\"aaxis\":{\"endlinecolor\":\"#2a3f5f\",\"gridcolor\":\"white\",\"linecolor\":\"white\",\"minorgridcolor\":\"white\",\"startlinecolor\":\"#2a3f5f\"},\"baxis\":{\"endlinecolor\":\"#2a3f5f\",\"gridcolor\":\"white\",\"linecolor\":\"white\",\"minorgridcolor\":\"white\",\"startlinecolor\":\"#2a3f5f\"},\"type\":\"carpet\"}],\"table\":[{\"cells\":{\"fill\":{\"color\":\"#EBF0F8\"},\"line\":{\"color\":\"white\"}},\"header\":{\"fill\":{\"color\":\"#C8D4E3\"},\"line\":{\"color\":\"white\"}},\"type\":\"table\"}],\"barpolar\":[{\"marker\":{\"line\":{\"color\":\"#E5ECF6\",\"width\":0.5},\"pattern\":{\"fillmode\":\"overlay\",\"size\":10,\"solidity\":0.2}},\"type\":\"barpolar\"}],\"pie\":[{\"automargin\":true,\"type\":\"pie\"}]},\"layout\":{\"autotypenumbers\":\"strict\",\"colorway\":[\"#636efa\",\"#EF553B\",\"#00cc96\",\"#ab63fa\",\"#FFA15A\",\"#19d3f3\",\"#FF6692\",\"#B6E880\",\"#FF97FF\",\"#FECB52\"],\"font\":{\"color\":\"#2a3f5f\"},\"hovermode\":\"closest\",\"hoverlabel\":{\"align\":\"left\"},\"paper_bgcolor\":\"white\",\"plot_bgcolor\":\"#E5ECF6\",\"polar\":{\"bgcolor\":\"#E5ECF6\",\"angularaxis\":{\"gridcolor\":\"white\",\"linecolor\":\"white\",\"ticks\":\"\"},\"radialaxis\":{\"gridcolor\":\"white\",\"linecolor\":\"white\",\"ticks\":\"\"}},\"ternary\":{\"bgcolor\":\"#E5ECF6\",\"aaxis\":{\"gridcolor\":\"white\",\"linecolor\":\"white\",\"ticks\":\"\"},\"baxis\":{\"gridcolor\":\"white\",\"linecolor\":\"white\",\"ticks\":\"\"},\"caxis\":{\"gridcolor\":\"white\",\"linecolor\":\"white\",\"ticks\":\"\"}},\"coloraxis\":{\"colorbar\":{\"outlinewidth\":0,\"ticks\":\"\"}},\"colorscale\":{\"sequential\":[[0.0,\"#0d0887\"],[0.1111111111111111,\"#46039f\"],[0.2222222222222222,\"#7201a8\"],[0.3333333333333333,\"#9c179e\"],[0.4444444444444444,\"#bd3786\"],[0.5555555555555556,\"#d8576b\"],[0.6666666666666666,\"#ed7953\"],[0.7777777777777778,\"#fb9f3a\"],[0.8888888888888888,\"#fdca26\"],[1.0,\"#f0f921\"]],\"sequentialminus\":[[0.0,\"#0d0887\"],[0.1111111111111111,\"#46039f\"],[0.2222222222222222,\"#7201a8\"],[0.3333333333333333,\"#9c179e\"],[0.4444444444444444,\"#bd3786\"],[0.5555555555555556,\"#d8576b\"],[0.6666666666666666,\"#ed7953\"],[0.7777777777777778,\"#fb9f3a\"],[0.8888888888888888,\"#fdca26\"],[1.0,\"#f0f921\"]],\"diverging\":[[0,\"#8e0152\"],[0.1,\"#c51b7d\"],[0.2,\"#de77ae\"],[0.3,\"#f1b6da\"],[0.4,\"#fde0ef\"],[0.5,\"#f7f7f7\"],[0.6,\"#e6f5d0\"],[0.7,\"#b8e186\"],[0.8,\"#7fbc41\"],[0.9,\"#4d9221\"],[1,\"#276419\"]]},\"xaxis\":{\"gridcolor\":\"white\",\"linecolor\":\"white\",\"ticks\":\"\",\"title\":{\"standoff\":15},\"zerolinecolor\":\"white\",\"automargin\":true,\"zerolinewidth\":2},\"yaxis\":{\"gridcolor\":\"white\",\"linecolor\":\"white\",\"ticks\":\"\",\"title\":{\"standoff\":15},\"zerolinecolor\":\"white\",\"automargin\":true,\"zerolinewidth\":2},\"scene\":{\"xaxis\":{\"backgroundcolor\":\"#E5ECF6\",\"gridcolor\":\"white\",\"linecolor\":\"white\",\"showbackground\":true,\"ticks\":\"\",\"zerolinecolor\":\"white\",\"gridwidth\":2},\"yaxis\":{\"backgroundcolor\":\"#E5ECF6\",\"gridcolor\":\"white\",\"linecolor\":\"white\",\"showbackground\":true,\"ticks\":\"\",\"zerolinecolor\":\"white\",\"gridwidth\":2},\"zaxis\":{\"backgroundcolor\":\"#E5ECF6\",\"gridcolor\":\"white\",\"linecolor\":\"white\",\"showbackground\":true,\"ticks\":\"\",\"zerolinecolor\":\"white\",\"gridwidth\":2}},\"shapedefaults\":{\"line\":{\"color\":\"#2a3f5f\"}},\"annotationdefaults\":{\"arrowcolor\":\"#2a3f5f\",\"arrowhead\":0,\"arrowwidth\":1},\"geo\":{\"bgcolor\":\"white\",\"landcolor\":\"#E5ECF6\",\"subunitcolor\":\"white\",\"showland\":true,\"showlakes\":true,\"lakecolor\":\"white\"},\"title\":{\"x\":0.05},\"mapbox\":{\"style\":\"light\"}}},\"xaxis\":{\"anchor\":\"y\",\"domain\":[0.0,1.0],\"title\":{\"text\":\"clearance_efficiency_score\"}},\"yaxis\":{\"anchor\":\"x\",\"domain\":[0.0,1.0],\"title\":{\"text\":\"infrastructure_score\"}},\"coloraxis\":{\"colorbar\":{\"title\":{\"text\":\"cluster_id\"}},\"colorscale\":[[0.0,\"Coral\"],[0.25,\"DarkCyan\"],[0.5,\"DarkSeaGreen\"],[0.75,\"Gold\"],[1.0,\"Lightgreen\"]],\"showscale\":false},\"legend\":{\"tracegroupgap\":0},\"margin\":{\"t\":60}},                        {\"responsive\": true}                    ).then(function(){\n",
       "                            \n",
       "var gd = document.getElementById('46d20e4c-8cae-498a-91f7-898b129fabc0');\n",
       "var x = new MutationObserver(function (mutations, observer) {{\n",
       "        var display = window.getComputedStyle(gd).display;\n",
       "        if (!display || display === 'none') {{\n",
       "            console.log([gd, 'removed!']);\n",
       "            Plotly.purge(gd);\n",
       "            observer.disconnect();\n",
       "        }}\n",
       "}});\n",
       "\n",
       "// Listen for the removal of the full notebook cells\n",
       "var notebookContainer = gd.closest('#notebook-container');\n",
       "if (notebookContainer) {{\n",
       "    x.observe(notebookContainer, {childList: true});\n",
       "}}\n",
       "\n",
       "// Listen for the clearing of the current output cell\n",
       "var outputEl = gd.closest('.output');\n",
       "if (outputEl) {{\n",
       "    x.observe(outputEl, {childList: true});\n",
       "}}\n",
       "\n",
       "                        })                };                });            </script>        </div>"
      ]
     },
     "metadata": {},
     "output_type": "display_data"
    }
   ],
   "source": [
    "#Attention, clusters are numbered randomly, which means that high performers are actually cluster 2\n",
    "plot_clusters(X_numerics_stdscaled, 'clearance_efficiency_score', 'infrastructure_score', colors_clusters)"
   ]
  },
  {
   "cell_type": "markdown",
   "id": "020841de",
   "metadata": {},
   "source": [
    "## Getting some information from the clusters"
   ]
  },
  {
   "cell_type": "code",
   "execution_count": 59,
   "id": "b0f99a97",
   "metadata": {},
   "outputs": [
    {
     "data": {
      "text/html": [
       "<div>\n",
       "<style scoped>\n",
       "    .dataframe tbody tr th:only-of-type {\n",
       "        vertical-align: middle;\n",
       "    }\n",
       "\n",
       "    .dataframe tbody tr th {\n",
       "        vertical-align: top;\n",
       "    }\n",
       "\n",
       "    .dataframe thead th {\n",
       "        text-align: right;\n",
       "    }\n",
       "</style>\n",
       "<table border=\"1\" class=\"dataframe\">\n",
       "  <thead>\n",
       "    <tr style=\"text-align: right;\">\n",
       "      <th></th>\n",
       "      <th>country_name</th>\n",
       "      <th>country_code</th>\n",
       "      <th>clearance_efficiency_score</th>\n",
       "      <th>timely_consignee_receival_score</th>\n",
       "      <th>infrastructure_score</th>\n",
       "    </tr>\n",
       "  </thead>\n",
       "  <tbody>\n",
       "    <tr>\n",
       "      <th>0</th>\n",
       "      <td>Afghanistan</td>\n",
       "      <td>AFG</td>\n",
       "      <td>1.734900</td>\n",
       "      <td>2.382438</td>\n",
       "      <td>1.807143</td>\n",
       "    </tr>\n",
       "    <tr>\n",
       "      <th>1</th>\n",
       "      <td>Albania</td>\n",
       "      <td>ALB</td>\n",
       "      <td>2.347126</td>\n",
       "      <td>3.202666</td>\n",
       "      <td>2.293674</td>\n",
       "    </tr>\n",
       "    <tr>\n",
       "      <th>2</th>\n",
       "      <td>Algeria</td>\n",
       "      <td>DZA</td>\n",
       "      <td>2.130280</td>\n",
       "      <td>2.761177</td>\n",
       "      <td>2.421383</td>\n",
       "    </tr>\n",
       "    <tr>\n",
       "      <th>3</th>\n",
       "      <td>Angola</td>\n",
       "      <td>AGO</td>\n",
       "      <td>1.571429</td>\n",
       "      <td>2.594983</td>\n",
       "      <td>1.857143</td>\n",
       "    </tr>\n",
       "    <tr>\n",
       "      <th>4</th>\n",
       "      <td>Argentina</td>\n",
       "      <td>ARG</td>\n",
       "      <td>2.417844</td>\n",
       "      <td>3.368942</td>\n",
       "      <td>2.773509</td>\n",
       "    </tr>\n",
       "    <tr>\n",
       "      <th>...</th>\n",
       "      <td>...</td>\n",
       "      <td>...</td>\n",
       "      <td>...</td>\n",
       "      <td>...</td>\n",
       "      <td>...</td>\n",
       "    </tr>\n",
       "    <tr>\n",
       "      <th>155</th>\n",
       "      <td>Venezuela, RB</td>\n",
       "      <td>VEN</td>\n",
       "      <td>1.787384</td>\n",
       "      <td>2.581759</td>\n",
       "      <td>2.096936</td>\n",
       "    </tr>\n",
       "    <tr>\n",
       "      <th>156</th>\n",
       "      <td>Vietnam</td>\n",
       "      <td>VNM</td>\n",
       "      <td>2.950154</td>\n",
       "      <td>3.672003</td>\n",
       "      <td>3.005490</td>\n",
       "    </tr>\n",
       "    <tr>\n",
       "      <th>157</th>\n",
       "      <td>Yemen, Rep.</td>\n",
       "      <td>YEM</td>\n",
       "      <td>2.400794</td>\n",
       "      <td>2.426191</td>\n",
       "      <td>2.116794</td>\n",
       "    </tr>\n",
       "    <tr>\n",
       "      <th>158</th>\n",
       "      <td>Zambia</td>\n",
       "      <td>ZMB</td>\n",
       "      <td>2.180161</td>\n",
       "      <td>3.052819</td>\n",
       "      <td>2.303431</td>\n",
       "    </tr>\n",
       "    <tr>\n",
       "      <th>159</th>\n",
       "      <td>Zimbabwe</td>\n",
       "      <td>ZWE</td>\n",
       "      <td>2.000000</td>\n",
       "      <td>2.385957</td>\n",
       "      <td>1.833333</td>\n",
       "    </tr>\n",
       "  </tbody>\n",
       "</table>\n",
       "<p>160 rows × 5 columns</p>\n",
       "</div>"
      ],
      "text/plain": [
       "      country_name country_code  clearance_efficiency_score  \\\n",
       "0      Afghanistan          AFG                    1.734900   \n",
       "1          Albania          ALB                    2.347126   \n",
       "2          Algeria          DZA                    2.130280   \n",
       "3           Angola          AGO                    1.571429   \n",
       "4        Argentina          ARG                    2.417844   \n",
       "..             ...          ...                         ...   \n",
       "155  Venezuela, RB          VEN                    1.787384   \n",
       "156        Vietnam          VNM                    2.950154   \n",
       "157    Yemen, Rep.          YEM                    2.400794   \n",
       "158         Zambia          ZMB                    2.180161   \n",
       "159       Zimbabwe          ZWE                    2.000000   \n",
       "\n",
       "     timely_consignee_receival_score  infrastructure_score  \n",
       "0                           2.382438              1.807143  \n",
       "1                           3.202666              2.293674  \n",
       "2                           2.761177              2.421383  \n",
       "3                           2.594983              1.857143  \n",
       "4                           3.368942              2.773509  \n",
       "..                               ...                   ...  \n",
       "155                         2.581759              2.096936  \n",
       "156                         3.672003              3.005490  \n",
       "157                         2.426191              2.116794  \n",
       "158                         3.052819              2.303431  \n",
       "159                         2.385957              1.833333  \n",
       "\n",
       "[160 rows x 5 columns]"
      ]
     },
     "execution_count": 59,
     "metadata": {},
     "output_type": "execute_result"
    }
   ],
   "source": [
    "X_numerics"
   ]
  },
  {
   "cell_type": "code",
   "execution_count": 60,
   "id": "240e3758",
   "metadata": {},
   "outputs": [],
   "source": [
    "countries = X_numerics[['country_name', 'country_code']]"
   ]
  },
  {
   "cell_type": "code",
   "execution_count": 61,
   "id": "d01e4e65",
   "metadata": {},
   "outputs": [
    {
     "data": {
      "text/html": [
       "<div>\n",
       "<style scoped>\n",
       "    .dataframe tbody tr th:only-of-type {\n",
       "        vertical-align: middle;\n",
       "    }\n",
       "\n",
       "    .dataframe tbody tr th {\n",
       "        vertical-align: top;\n",
       "    }\n",
       "\n",
       "    .dataframe thead th {\n",
       "        text-align: right;\n",
       "    }\n",
       "</style>\n",
       "<table border=\"1\" class=\"dataframe\">\n",
       "  <thead>\n",
       "    <tr style=\"text-align: right;\">\n",
       "      <th></th>\n",
       "      <th>country_name</th>\n",
       "      <th>country_code</th>\n",
       "      <th>clearance_efficiency_score</th>\n",
       "      <th>timely_consignee_receival_score</th>\n",
       "      <th>infrastructure_score</th>\n",
       "      <th>cluster_id</th>\n",
       "    </tr>\n",
       "  </thead>\n",
       "  <tbody>\n",
       "    <tr>\n",
       "      <th>0</th>\n",
       "      <td>Afghanistan</td>\n",
       "      <td>AFG</td>\n",
       "      <td>-1.628308</td>\n",
       "      <td>-1.487864</td>\n",
       "      <td>-1.362602</td>\n",
       "      <td>0</td>\n",
       "    </tr>\n",
       "    <tr>\n",
       "      <th>1</th>\n",
       "      <td>Albania</td>\n",
       "      <td>ALB</td>\n",
       "      <td>-0.565946</td>\n",
       "      <td>-0.058615</td>\n",
       "      <td>-0.638656</td>\n",
       "      <td>0</td>\n",
       "    </tr>\n",
       "    <tr>\n",
       "      <th>2</th>\n",
       "      <td>Algeria</td>\n",
       "      <td>DZA</td>\n",
       "      <td>-0.942227</td>\n",
       "      <td>-0.827911</td>\n",
       "      <td>-0.448628</td>\n",
       "      <td>0</td>\n",
       "    </tr>\n",
       "    <tr>\n",
       "      <th>3</th>\n",
       "      <td>Angola</td>\n",
       "      <td>AGO</td>\n",
       "      <td>-1.911970</td>\n",
       "      <td>-1.117504</td>\n",
       "      <td>-1.288203</td>\n",
       "      <td>0</td>\n",
       "    </tr>\n",
       "    <tr>\n",
       "      <th>4</th>\n",
       "      <td>Argentina</td>\n",
       "      <td>ARG</td>\n",
       "      <td>-0.443233</td>\n",
       "      <td>0.231121</td>\n",
       "      <td>0.075327</td>\n",
       "      <td>2</td>\n",
       "    </tr>\n",
       "    <tr>\n",
       "      <th>...</th>\n",
       "      <td>...</td>\n",
       "      <td>...</td>\n",
       "      <td>...</td>\n",
       "      <td>...</td>\n",
       "      <td>...</td>\n",
       "      <td>...</td>\n",
       "    </tr>\n",
       "    <tr>\n",
       "      <th>155</th>\n",
       "      <td>Venezuela, RB</td>\n",
       "      <td>VEN</td>\n",
       "      <td>-1.537235</td>\n",
       "      <td>-1.140547</td>\n",
       "      <td>-0.931397</td>\n",
       "      <td>0</td>\n",
       "    </tr>\n",
       "    <tr>\n",
       "      <th>156</th>\n",
       "      <td>Vietnam</td>\n",
       "      <td>VNM</td>\n",
       "      <td>0.480456</td>\n",
       "      <td>0.759205</td>\n",
       "      <td>0.420509</td>\n",
       "      <td>2</td>\n",
       "    </tr>\n",
       "    <tr>\n",
       "      <th>157</th>\n",
       "      <td>Yemen, Rep.</td>\n",
       "      <td>YEM</td>\n",
       "      <td>-0.472818</td>\n",
       "      <td>-1.411625</td>\n",
       "      <td>-0.901849</td>\n",
       "      <td>0</td>\n",
       "    </tr>\n",
       "    <tr>\n",
       "      <th>158</th>\n",
       "      <td>Zambia</td>\n",
       "      <td>ZMB</td>\n",
       "      <td>-0.855671</td>\n",
       "      <td>-0.319724</td>\n",
       "      <td>-0.624138</td>\n",
       "      <td>0</td>\n",
       "    </tr>\n",
       "    <tr>\n",
       "      <th>159</th>\n",
       "      <td>Zimbabwe</td>\n",
       "      <td>ZWE</td>\n",
       "      <td>-1.168294</td>\n",
       "      <td>-1.481733</td>\n",
       "      <td>-1.323632</td>\n",
       "      <td>0</td>\n",
       "    </tr>\n",
       "  </tbody>\n",
       "</table>\n",
       "<p>160 rows × 6 columns</p>\n",
       "</div>"
      ],
      "text/plain": [
       "      country_name country_code  clearance_efficiency_score  \\\n",
       "0      Afghanistan          AFG                   -1.628308   \n",
       "1          Albania          ALB                   -0.565946   \n",
       "2          Algeria          DZA                   -0.942227   \n",
       "3           Angola          AGO                   -1.911970   \n",
       "4        Argentina          ARG                   -0.443233   \n",
       "..             ...          ...                         ...   \n",
       "155  Venezuela, RB          VEN                   -1.537235   \n",
       "156        Vietnam          VNM                    0.480456   \n",
       "157    Yemen, Rep.          YEM                   -0.472818   \n",
       "158         Zambia          ZMB                   -0.855671   \n",
       "159       Zimbabwe          ZWE                   -1.168294   \n",
       "\n",
       "     timely_consignee_receival_score  infrastructure_score  cluster_id  \n",
       "0                          -1.487864             -1.362602           0  \n",
       "1                          -0.058615             -0.638656           0  \n",
       "2                          -0.827911             -0.448628           0  \n",
       "3                          -1.117504             -1.288203           0  \n",
       "4                           0.231121              0.075327           2  \n",
       "..                               ...                   ...         ...  \n",
       "155                        -1.140547             -0.931397           0  \n",
       "156                         0.759205              0.420509           2  \n",
       "157                        -1.411625             -0.901849           0  \n",
       "158                        -0.319724             -0.624138           0  \n",
       "159                        -1.481733             -1.323632           0  \n",
       "\n",
       "[160 rows x 6 columns]"
      ]
     },
     "execution_count": 61,
     "metadata": {},
     "output_type": "execute_result"
    }
   ],
   "source": [
    "df = pd.concat([countries, X_numerics_stdscaled], axis=1)\n",
    "df"
   ]
  },
  {
   "cell_type": "code",
   "execution_count": 62,
   "id": "eda53c18",
   "metadata": {},
   "outputs": [
    {
     "name": "stdout",
     "output_type": "stream",
     "text": [
      "<class 'pandas.core.frame.DataFrame'>\n",
      "RangeIndex: 160 entries, 0 to 159\n",
      "Data columns (total 6 columns):\n",
      " #   Column                           Non-Null Count  Dtype  \n",
      "---  ------                           --------------  -----  \n",
      " 0   country_name                     160 non-null    object \n",
      " 1   country_code                     160 non-null    object \n",
      " 2   clearance_efficiency_score       160 non-null    float64\n",
      " 3   timely_consignee_receival_score  160 non-null    float64\n",
      " 4   infrastructure_score             160 non-null    float64\n",
      " 5   cluster_id                       160 non-null    int32  \n",
      "dtypes: float64(3), int32(1), object(2)\n",
      "memory usage: 7.0+ KB\n"
     ]
    }
   ],
   "source": [
    "df.info()"
   ]
  },
  {
   "cell_type": "code",
   "execution_count": 63,
   "id": "1bfd0744",
   "metadata": {},
   "outputs": [],
   "source": [
    "#Replacing the cluster ID with \n",
    "df['Performance'] = df['cluster_id'].astype(str)\n",
    "df2 = df.replace({'Performance' : { '2' : 'Medium', '0' : 'Low', '1' : 'High' }})"
   ]
  },
  {
   "cell_type": "code",
   "execution_count": 64,
   "id": "24b4f983",
   "metadata": {},
   "outputs": [
    {
     "data": {
      "text/html": [
       "<div>\n",
       "<style scoped>\n",
       "    .dataframe tbody tr th:only-of-type {\n",
       "        vertical-align: middle;\n",
       "    }\n",
       "\n",
       "    .dataframe tbody tr th {\n",
       "        vertical-align: top;\n",
       "    }\n",
       "\n",
       "    .dataframe thead th {\n",
       "        text-align: right;\n",
       "    }\n",
       "</style>\n",
       "<table border=\"1\" class=\"dataframe\">\n",
       "  <thead>\n",
       "    <tr style=\"text-align: right;\">\n",
       "      <th></th>\n",
       "      <th>country_name</th>\n",
       "      <th>country_code</th>\n",
       "      <th>clearance_efficiency_score</th>\n",
       "      <th>timely_consignee_receival_score</th>\n",
       "      <th>infrastructure_score</th>\n",
       "      <th>cluster_id</th>\n",
       "      <th>Performance</th>\n",
       "    </tr>\n",
       "  </thead>\n",
       "  <tbody>\n",
       "    <tr>\n",
       "      <th>0</th>\n",
       "      <td>Afghanistan</td>\n",
       "      <td>AFG</td>\n",
       "      <td>-1.628308</td>\n",
       "      <td>-1.487864</td>\n",
       "      <td>-1.362602</td>\n",
       "      <td>0</td>\n",
       "      <td>Low</td>\n",
       "    </tr>\n",
       "    <tr>\n",
       "      <th>1</th>\n",
       "      <td>Albania</td>\n",
       "      <td>ALB</td>\n",
       "      <td>-0.565946</td>\n",
       "      <td>-0.058615</td>\n",
       "      <td>-0.638656</td>\n",
       "      <td>0</td>\n",
       "      <td>Low</td>\n",
       "    </tr>\n",
       "    <tr>\n",
       "      <th>2</th>\n",
       "      <td>Algeria</td>\n",
       "      <td>DZA</td>\n",
       "      <td>-0.942227</td>\n",
       "      <td>-0.827911</td>\n",
       "      <td>-0.448628</td>\n",
       "      <td>0</td>\n",
       "      <td>Low</td>\n",
       "    </tr>\n",
       "    <tr>\n",
       "      <th>3</th>\n",
       "      <td>Angola</td>\n",
       "      <td>AGO</td>\n",
       "      <td>-1.911970</td>\n",
       "      <td>-1.117504</td>\n",
       "      <td>-1.288203</td>\n",
       "      <td>0</td>\n",
       "      <td>Low</td>\n",
       "    </tr>\n",
       "    <tr>\n",
       "      <th>4</th>\n",
       "      <td>Argentina</td>\n",
       "      <td>ARG</td>\n",
       "      <td>-0.443233</td>\n",
       "      <td>0.231121</td>\n",
       "      <td>0.075327</td>\n",
       "      <td>2</td>\n",
       "      <td>Medium</td>\n",
       "    </tr>\n",
       "    <tr>\n",
       "      <th>...</th>\n",
       "      <td>...</td>\n",
       "      <td>...</td>\n",
       "      <td>...</td>\n",
       "      <td>...</td>\n",
       "      <td>...</td>\n",
       "      <td>...</td>\n",
       "      <td>...</td>\n",
       "    </tr>\n",
       "    <tr>\n",
       "      <th>155</th>\n",
       "      <td>Venezuela, RB</td>\n",
       "      <td>VEN</td>\n",
       "      <td>-1.537235</td>\n",
       "      <td>-1.140547</td>\n",
       "      <td>-0.931397</td>\n",
       "      <td>0</td>\n",
       "      <td>Low</td>\n",
       "    </tr>\n",
       "    <tr>\n",
       "      <th>156</th>\n",
       "      <td>Vietnam</td>\n",
       "      <td>VNM</td>\n",
       "      <td>0.480456</td>\n",
       "      <td>0.759205</td>\n",
       "      <td>0.420509</td>\n",
       "      <td>2</td>\n",
       "      <td>Medium</td>\n",
       "    </tr>\n",
       "    <tr>\n",
       "      <th>157</th>\n",
       "      <td>Yemen, Rep.</td>\n",
       "      <td>YEM</td>\n",
       "      <td>-0.472818</td>\n",
       "      <td>-1.411625</td>\n",
       "      <td>-0.901849</td>\n",
       "      <td>0</td>\n",
       "      <td>Low</td>\n",
       "    </tr>\n",
       "    <tr>\n",
       "      <th>158</th>\n",
       "      <td>Zambia</td>\n",
       "      <td>ZMB</td>\n",
       "      <td>-0.855671</td>\n",
       "      <td>-0.319724</td>\n",
       "      <td>-0.624138</td>\n",
       "      <td>0</td>\n",
       "      <td>Low</td>\n",
       "    </tr>\n",
       "    <tr>\n",
       "      <th>159</th>\n",
       "      <td>Zimbabwe</td>\n",
       "      <td>ZWE</td>\n",
       "      <td>-1.168294</td>\n",
       "      <td>-1.481733</td>\n",
       "      <td>-1.323632</td>\n",
       "      <td>0</td>\n",
       "      <td>Low</td>\n",
       "    </tr>\n",
       "  </tbody>\n",
       "</table>\n",
       "<p>160 rows × 7 columns</p>\n",
       "</div>"
      ],
      "text/plain": [
       "      country_name country_code  clearance_efficiency_score  \\\n",
       "0      Afghanistan          AFG                   -1.628308   \n",
       "1          Albania          ALB                   -0.565946   \n",
       "2          Algeria          DZA                   -0.942227   \n",
       "3           Angola          AGO                   -1.911970   \n",
       "4        Argentina          ARG                   -0.443233   \n",
       "..             ...          ...                         ...   \n",
       "155  Venezuela, RB          VEN                   -1.537235   \n",
       "156        Vietnam          VNM                    0.480456   \n",
       "157    Yemen, Rep.          YEM                   -0.472818   \n",
       "158         Zambia          ZMB                   -0.855671   \n",
       "159       Zimbabwe          ZWE                   -1.168294   \n",
       "\n",
       "     timely_consignee_receival_score  infrastructure_score  cluster_id  \\\n",
       "0                          -1.487864             -1.362602           0   \n",
       "1                          -0.058615             -0.638656           0   \n",
       "2                          -0.827911             -0.448628           0   \n",
       "3                          -1.117504             -1.288203           0   \n",
       "4                           0.231121              0.075327           2   \n",
       "..                               ...                   ...         ...   \n",
       "155                        -1.140547             -0.931397           0   \n",
       "156                         0.759205              0.420509           2   \n",
       "157                        -1.411625             -0.901849           0   \n",
       "158                        -0.319724             -0.624138           0   \n",
       "159                        -1.481733             -1.323632           0   \n",
       "\n",
       "    Performance  \n",
       "0           Low  \n",
       "1           Low  \n",
       "2           Low  \n",
       "3           Low  \n",
       "4        Medium  \n",
       "..          ...  \n",
       "155         Low  \n",
       "156      Medium  \n",
       "157         Low  \n",
       "158         Low  \n",
       "159         Low  \n",
       "\n",
       "[160 rows x 7 columns]"
      ]
     },
     "execution_count": 64,
     "metadata": {},
     "output_type": "execute_result"
    }
   ],
   "source": [
    "df2"
   ]
  },
  {
   "cell_type": "code",
   "execution_count": 65,
   "id": "f5658f53",
   "metadata": {},
   "outputs": [
    {
     "data": {
      "application/vnd.plotly.v1+json": {
       "config": {
        "plotlyServerURL": "https://plot.ly"
       },
       "data": [
        {
         "colorscale": [
          [
           0,
           "rgb(229, 134, 6)"
          ],
          [
           1,
           "rgb(229, 134, 6)"
          ]
         ],
         "geo": "geo",
         "hovertemplate": "Performance=Low<br>country_name=%{location}<extra></extra>",
         "locationmode": "country names",
         "locations": [
          "Afghanistan",
          "Albania",
          "Algeria",
          "Angola",
          "Armenia",
          "Bahamas, The",
          "Bangladesh",
          "Bhutan",
          "Bolivia",
          "Burkina Faso",
          "Burundi",
          "Cambodia",
          "Cameroon",
          "Central African Republic",
          "Chad",
          "Comoros",
          "Congo, Dem. Rep.",
          "Congo, Rep.",
          "Cuba",
          "Dominican Republic",
          "El Salvador",
          "Equatorial Guinea",
          "Eritrea",
          "Fiji",
          "Gabon",
          "Gambia, The",
          "Georgia",
          "Ghana",
          "Guatemala",
          "Guinea",
          "Guinea-Bissau",
          "Guyana",
          "Haiti",
          "Honduras",
          "Iraq",
          "Jamaica",
          "Lao PDR",
          "Lesotho",
          "Liberia",
          "Libya",
          "Macedonia, FYR",
          "Madagascar",
          "Malawi",
          "Mali",
          "Mauritania",
          "Moldova",
          "Mongolia",
          "Morocco",
          "Myanmar",
          "Nepal",
          "Niger",
          "Nigeria",
          "Pakistan",
          "Papua New Guinea",
          "Senegal",
          "Sierra Leone",
          "Somalia",
          "Sri Lanka",
          "Sudan",
          "Syrian Arab Republic",
          "Tajikistan",
          "Togo",
          "Trinidad and Tobago",
          "Tunisia",
          "Turkmenistan",
          "Uganda",
          "Uruguay",
          "Uzbekistan",
          "Venezuela, RB",
          "Yemen, Rep.",
          "Zambia",
          "Zimbabwe"
         ],
         "name": "Low",
         "showlegend": true,
         "showscale": false,
         "type": "choropleth",
         "z": [
          1,
          1,
          1,
          1,
          1,
          1,
          1,
          1,
          1,
          1,
          1,
          1,
          1,
          1,
          1,
          1,
          1,
          1,
          1,
          1,
          1,
          1,
          1,
          1,
          1,
          1,
          1,
          1,
          1,
          1,
          1,
          1,
          1,
          1,
          1,
          1,
          1,
          1,
          1,
          1,
          1,
          1,
          1,
          1,
          1,
          1,
          1,
          1,
          1,
          1,
          1,
          1,
          1,
          1,
          1,
          1,
          1,
          1,
          1,
          1,
          1,
          1,
          1,
          1,
          1,
          1,
          1,
          1,
          1,
          1,
          1,
          1
         ]
        },
        {
         "colorscale": [
          [
           0,
           "rgb(93, 105, 177)"
          ],
          [
           1,
           "rgb(93, 105, 177)"
          ]
         ],
         "geo": "geo",
         "hovertemplate": "Performance=Medium<br>country_name=%{location}<extra></extra>",
         "locationmode": "country names",
         "locations": [
          "Argentina",
          "Bahrain",
          "Belarus",
          "Benin",
          "Bosnia and Herzegovina",
          "Brazil",
          "Brunei Darussalam",
          "Bulgaria",
          "Colombia",
          "Costa Rica",
          "Cote d'Ivoire",
          "Croatia",
          "Cyprus",
          "Djibouti",
          "Ecuador",
          "Egypt, Arab Rep.",
          "Greece",
          "Iceland",
          "India",
          "Indonesia",
          "Iran, Islamic Rep.",
          "Jordan",
          "Kazakhstan",
          "Kenya",
          "Kuwait",
          "Kyrgyz Republic",
          "Latvia",
          "Lebanon",
          "Lithuania",
          "Malaysia",
          "Maldives",
          "Malta",
          "Mauritius",
          "Mexico",
          "Montenegro",
          "Oman",
          "Panama",
          "Paraguay",
          "Peru",
          "Philippines",
          "Qatar",
          "Romania",
          "Russian Federation",
          "Rwanda",
          "Saudi Arabia",
          "Serbia",
          "Slovak Republic",
          "Solomon Islands",
          "South Africa",
          "São Tomé and Principe",
          "Thailand",
          "Turkey",
          "Ukraine",
          "Vietnam"
         ],
         "name": "Medium",
         "showlegend": true,
         "showscale": false,
         "type": "choropleth",
         "z": [
          1,
          1,
          1,
          1,
          1,
          1,
          1,
          1,
          1,
          1,
          1,
          1,
          1,
          1,
          1,
          1,
          1,
          1,
          1,
          1,
          1,
          1,
          1,
          1,
          1,
          1,
          1,
          1,
          1,
          1,
          1,
          1,
          1,
          1,
          1,
          1,
          1,
          1,
          1,
          1,
          1,
          1,
          1,
          1,
          1,
          1,
          1,
          1,
          1,
          1,
          1,
          1,
          1,
          1
         ]
        },
        {
         "colorscale": [
          [
           0,
           "rgb(82, 188, 163)"
          ],
          [
           1,
           "rgb(82, 188, 163)"
          ]
         ],
         "geo": "geo",
         "hovertemplate": "Performance=High<br>country_name=%{location}<extra></extra>",
         "locationmode": "country names",
         "locations": [
          "Australia",
          "Austria",
          "Belgium",
          "Canada",
          "Chile",
          "China",
          "Czech Republic",
          "Denmark",
          "Estonia",
          "Finland",
          "France",
          "Germany",
          "Hong Kong SAR, China",
          "Hungary",
          "Ireland",
          "Israel",
          "Italy",
          "Japan",
          "Korea, Rep.",
          "Luxembourg",
          "Netherlands",
          "New Zealand",
          "Norway",
          "Poland",
          "Portugal",
          "Singapore",
          "Slovenia",
          "Spain",
          "Sweden",
          "Switzerland",
          "Taiwan, China",
          "United Arab Emirates",
          "United Kingdom",
          "United States"
         ],
         "name": "High",
         "showlegend": true,
         "showscale": false,
         "type": "choropleth",
         "z": [
          1,
          1,
          1,
          1,
          1,
          1,
          1,
          1,
          1,
          1,
          1,
          1,
          1,
          1,
          1,
          1,
          1,
          1,
          1,
          1,
          1,
          1,
          1,
          1,
          1,
          1,
          1,
          1,
          1,
          1,
          1,
          1,
          1,
          1
         ]
        }
       ],
       "layout": {
        "geo": {
         "center": {},
         "domain": {
          "x": [
           0,
           1
          ],
          "y": [
           0,
           1
          ]
         }
        },
        "legend": {
         "title": {
          "text": "Performance"
         },
         "tracegroupgap": 0
        },
        "template": {
         "data": {
          "bar": [
           {
            "error_x": {
             "color": "#2a3f5f"
            },
            "error_y": {
             "color": "#2a3f5f"
            },
            "marker": {
             "line": {
              "color": "#E5ECF6",
              "width": 0.5
             },
             "pattern": {
              "fillmode": "overlay",
              "size": 10,
              "solidity": 0.2
             }
            },
            "type": "bar"
           }
          ],
          "barpolar": [
           {
            "marker": {
             "line": {
              "color": "#E5ECF6",
              "width": 0.5
             },
             "pattern": {
              "fillmode": "overlay",
              "size": 10,
              "solidity": 0.2
             }
            },
            "type": "barpolar"
           }
          ],
          "carpet": [
           {
            "aaxis": {
             "endlinecolor": "#2a3f5f",
             "gridcolor": "white",
             "linecolor": "white",
             "minorgridcolor": "white",
             "startlinecolor": "#2a3f5f"
            },
            "baxis": {
             "endlinecolor": "#2a3f5f",
             "gridcolor": "white",
             "linecolor": "white",
             "minorgridcolor": "white",
             "startlinecolor": "#2a3f5f"
            },
            "type": "carpet"
           }
          ],
          "choropleth": [
           {
            "colorbar": {
             "outlinewidth": 0,
             "ticks": ""
            },
            "type": "choropleth"
           }
          ],
          "contour": [
           {
            "colorbar": {
             "outlinewidth": 0,
             "ticks": ""
            },
            "colorscale": [
             [
              0,
              "#0d0887"
             ],
             [
              0.1111111111111111,
              "#46039f"
             ],
             [
              0.2222222222222222,
              "#7201a8"
             ],
             [
              0.3333333333333333,
              "#9c179e"
             ],
             [
              0.4444444444444444,
              "#bd3786"
             ],
             [
              0.5555555555555556,
              "#d8576b"
             ],
             [
              0.6666666666666666,
              "#ed7953"
             ],
             [
              0.7777777777777778,
              "#fb9f3a"
             ],
             [
              0.8888888888888888,
              "#fdca26"
             ],
             [
              1,
              "#f0f921"
             ]
            ],
            "type": "contour"
           }
          ],
          "contourcarpet": [
           {
            "colorbar": {
             "outlinewidth": 0,
             "ticks": ""
            },
            "type": "contourcarpet"
           }
          ],
          "heatmap": [
           {
            "colorbar": {
             "outlinewidth": 0,
             "ticks": ""
            },
            "colorscale": [
             [
              0,
              "#0d0887"
             ],
             [
              0.1111111111111111,
              "#46039f"
             ],
             [
              0.2222222222222222,
              "#7201a8"
             ],
             [
              0.3333333333333333,
              "#9c179e"
             ],
             [
              0.4444444444444444,
              "#bd3786"
             ],
             [
              0.5555555555555556,
              "#d8576b"
             ],
             [
              0.6666666666666666,
              "#ed7953"
             ],
             [
              0.7777777777777778,
              "#fb9f3a"
             ],
             [
              0.8888888888888888,
              "#fdca26"
             ],
             [
              1,
              "#f0f921"
             ]
            ],
            "type": "heatmap"
           }
          ],
          "heatmapgl": [
           {
            "colorbar": {
             "outlinewidth": 0,
             "ticks": ""
            },
            "colorscale": [
             [
              0,
              "#0d0887"
             ],
             [
              0.1111111111111111,
              "#46039f"
             ],
             [
              0.2222222222222222,
              "#7201a8"
             ],
             [
              0.3333333333333333,
              "#9c179e"
             ],
             [
              0.4444444444444444,
              "#bd3786"
             ],
             [
              0.5555555555555556,
              "#d8576b"
             ],
             [
              0.6666666666666666,
              "#ed7953"
             ],
             [
              0.7777777777777778,
              "#fb9f3a"
             ],
             [
              0.8888888888888888,
              "#fdca26"
             ],
             [
              1,
              "#f0f921"
             ]
            ],
            "type": "heatmapgl"
           }
          ],
          "histogram": [
           {
            "marker": {
             "pattern": {
              "fillmode": "overlay",
              "size": 10,
              "solidity": 0.2
             }
            },
            "type": "histogram"
           }
          ],
          "histogram2d": [
           {
            "colorbar": {
             "outlinewidth": 0,
             "ticks": ""
            },
            "colorscale": [
             [
              0,
              "#0d0887"
             ],
             [
              0.1111111111111111,
              "#46039f"
             ],
             [
              0.2222222222222222,
              "#7201a8"
             ],
             [
              0.3333333333333333,
              "#9c179e"
             ],
             [
              0.4444444444444444,
              "#bd3786"
             ],
             [
              0.5555555555555556,
              "#d8576b"
             ],
             [
              0.6666666666666666,
              "#ed7953"
             ],
             [
              0.7777777777777778,
              "#fb9f3a"
             ],
             [
              0.8888888888888888,
              "#fdca26"
             ],
             [
              1,
              "#f0f921"
             ]
            ],
            "type": "histogram2d"
           }
          ],
          "histogram2dcontour": [
           {
            "colorbar": {
             "outlinewidth": 0,
             "ticks": ""
            },
            "colorscale": [
             [
              0,
              "#0d0887"
             ],
             [
              0.1111111111111111,
              "#46039f"
             ],
             [
              0.2222222222222222,
              "#7201a8"
             ],
             [
              0.3333333333333333,
              "#9c179e"
             ],
             [
              0.4444444444444444,
              "#bd3786"
             ],
             [
              0.5555555555555556,
              "#d8576b"
             ],
             [
              0.6666666666666666,
              "#ed7953"
             ],
             [
              0.7777777777777778,
              "#fb9f3a"
             ],
             [
              0.8888888888888888,
              "#fdca26"
             ],
             [
              1,
              "#f0f921"
             ]
            ],
            "type": "histogram2dcontour"
           }
          ],
          "mesh3d": [
           {
            "colorbar": {
             "outlinewidth": 0,
             "ticks": ""
            },
            "type": "mesh3d"
           }
          ],
          "parcoords": [
           {
            "line": {
             "colorbar": {
              "outlinewidth": 0,
              "ticks": ""
             }
            },
            "type": "parcoords"
           }
          ],
          "pie": [
           {
            "automargin": true,
            "type": "pie"
           }
          ],
          "scatter": [
           {
            "fillpattern": {
             "fillmode": "overlay",
             "size": 10,
             "solidity": 0.2
            },
            "type": "scatter"
           }
          ],
          "scatter3d": [
           {
            "line": {
             "colorbar": {
              "outlinewidth": 0,
              "ticks": ""
             }
            },
            "marker": {
             "colorbar": {
              "outlinewidth": 0,
              "ticks": ""
             }
            },
            "type": "scatter3d"
           }
          ],
          "scattercarpet": [
           {
            "marker": {
             "colorbar": {
              "outlinewidth": 0,
              "ticks": ""
             }
            },
            "type": "scattercarpet"
           }
          ],
          "scattergeo": [
           {
            "marker": {
             "colorbar": {
              "outlinewidth": 0,
              "ticks": ""
             }
            },
            "type": "scattergeo"
           }
          ],
          "scattergl": [
           {
            "marker": {
             "colorbar": {
              "outlinewidth": 0,
              "ticks": ""
             }
            },
            "type": "scattergl"
           }
          ],
          "scattermapbox": [
           {
            "marker": {
             "colorbar": {
              "outlinewidth": 0,
              "ticks": ""
             }
            },
            "type": "scattermapbox"
           }
          ],
          "scatterpolar": [
           {
            "marker": {
             "colorbar": {
              "outlinewidth": 0,
              "ticks": ""
             }
            },
            "type": "scatterpolar"
           }
          ],
          "scatterpolargl": [
           {
            "marker": {
             "colorbar": {
              "outlinewidth": 0,
              "ticks": ""
             }
            },
            "type": "scatterpolargl"
           }
          ],
          "scatterternary": [
           {
            "marker": {
             "colorbar": {
              "outlinewidth": 0,
              "ticks": ""
             }
            },
            "type": "scatterternary"
           }
          ],
          "surface": [
           {
            "colorbar": {
             "outlinewidth": 0,
             "ticks": ""
            },
            "colorscale": [
             [
              0,
              "#0d0887"
             ],
             [
              0.1111111111111111,
              "#46039f"
             ],
             [
              0.2222222222222222,
              "#7201a8"
             ],
             [
              0.3333333333333333,
              "#9c179e"
             ],
             [
              0.4444444444444444,
              "#bd3786"
             ],
             [
              0.5555555555555556,
              "#d8576b"
             ],
             [
              0.6666666666666666,
              "#ed7953"
             ],
             [
              0.7777777777777778,
              "#fb9f3a"
             ],
             [
              0.8888888888888888,
              "#fdca26"
             ],
             [
              1,
              "#f0f921"
             ]
            ],
            "type": "surface"
           }
          ],
          "table": [
           {
            "cells": {
             "fill": {
              "color": "#EBF0F8"
             },
             "line": {
              "color": "white"
             }
            },
            "header": {
             "fill": {
              "color": "#C8D4E3"
             },
             "line": {
              "color": "white"
             }
            },
            "type": "table"
           }
          ]
         },
         "layout": {
          "annotationdefaults": {
           "arrowcolor": "#2a3f5f",
           "arrowhead": 0,
           "arrowwidth": 1
          },
          "autotypenumbers": "strict",
          "coloraxis": {
           "colorbar": {
            "outlinewidth": 0,
            "ticks": ""
           }
          },
          "colorscale": {
           "diverging": [
            [
             0,
             "#8e0152"
            ],
            [
             0.1,
             "#c51b7d"
            ],
            [
             0.2,
             "#de77ae"
            ],
            [
             0.3,
             "#f1b6da"
            ],
            [
             0.4,
             "#fde0ef"
            ],
            [
             0.5,
             "#f7f7f7"
            ],
            [
             0.6,
             "#e6f5d0"
            ],
            [
             0.7,
             "#b8e186"
            ],
            [
             0.8,
             "#7fbc41"
            ],
            [
             0.9,
             "#4d9221"
            ],
            [
             1,
             "#276419"
            ]
           ],
           "sequential": [
            [
             0,
             "#0d0887"
            ],
            [
             0.1111111111111111,
             "#46039f"
            ],
            [
             0.2222222222222222,
             "#7201a8"
            ],
            [
             0.3333333333333333,
             "#9c179e"
            ],
            [
             0.4444444444444444,
             "#bd3786"
            ],
            [
             0.5555555555555556,
             "#d8576b"
            ],
            [
             0.6666666666666666,
             "#ed7953"
            ],
            [
             0.7777777777777778,
             "#fb9f3a"
            ],
            [
             0.8888888888888888,
             "#fdca26"
            ],
            [
             1,
             "#f0f921"
            ]
           ],
           "sequentialminus": [
            [
             0,
             "#0d0887"
            ],
            [
             0.1111111111111111,
             "#46039f"
            ],
            [
             0.2222222222222222,
             "#7201a8"
            ],
            [
             0.3333333333333333,
             "#9c179e"
            ],
            [
             0.4444444444444444,
             "#bd3786"
            ],
            [
             0.5555555555555556,
             "#d8576b"
            ],
            [
             0.6666666666666666,
             "#ed7953"
            ],
            [
             0.7777777777777778,
             "#fb9f3a"
            ],
            [
             0.8888888888888888,
             "#fdca26"
            ],
            [
             1,
             "#f0f921"
            ]
           ]
          },
          "colorway": [
           "#636efa",
           "#EF553B",
           "#00cc96",
           "#ab63fa",
           "#FFA15A",
           "#19d3f3",
           "#FF6692",
           "#B6E880",
           "#FF97FF",
           "#FECB52"
          ],
          "font": {
           "color": "#2a3f5f"
          },
          "geo": {
           "bgcolor": "white",
           "lakecolor": "white",
           "landcolor": "#E5ECF6",
           "showlakes": true,
           "showland": true,
           "subunitcolor": "white"
          },
          "hoverlabel": {
           "align": "left"
          },
          "hovermode": "closest",
          "mapbox": {
           "style": "light"
          },
          "paper_bgcolor": "white",
          "plot_bgcolor": "#E5ECF6",
          "polar": {
           "angularaxis": {
            "gridcolor": "white",
            "linecolor": "white",
            "ticks": ""
           },
           "bgcolor": "#E5ECF6",
           "radialaxis": {
            "gridcolor": "white",
            "linecolor": "white",
            "ticks": ""
           }
          },
          "scene": {
           "xaxis": {
            "backgroundcolor": "#E5ECF6",
            "gridcolor": "white",
            "gridwidth": 2,
            "linecolor": "white",
            "showbackground": true,
            "ticks": "",
            "zerolinecolor": "white"
           },
           "yaxis": {
            "backgroundcolor": "#E5ECF6",
            "gridcolor": "white",
            "gridwidth": 2,
            "linecolor": "white",
            "showbackground": true,
            "ticks": "",
            "zerolinecolor": "white"
           },
           "zaxis": {
            "backgroundcolor": "#E5ECF6",
            "gridcolor": "white",
            "gridwidth": 2,
            "linecolor": "white",
            "showbackground": true,
            "ticks": "",
            "zerolinecolor": "white"
           }
          },
          "shapedefaults": {
           "line": {
            "color": "#2a3f5f"
           }
          },
          "ternary": {
           "aaxis": {
            "gridcolor": "white",
            "linecolor": "white",
            "ticks": ""
           },
           "baxis": {
            "gridcolor": "white",
            "linecolor": "white",
            "ticks": ""
           },
           "bgcolor": "#E5ECF6",
           "caxis": {
            "gridcolor": "white",
            "linecolor": "white",
            "ticks": ""
           }
          },
          "title": {
           "x": 0.05
          },
          "xaxis": {
           "automargin": true,
           "gridcolor": "white",
           "linecolor": "white",
           "ticks": "",
           "title": {
            "standoff": 15
           },
           "zerolinecolor": "white",
           "zerolinewidth": 2
          },
          "yaxis": {
           "automargin": true,
           "gridcolor": "white",
           "linecolor": "white",
           "ticks": "",
           "title": {
            "standoff": 15
           },
           "zerolinecolor": "white",
           "zerolinewidth": 2
          }
         }
        },
        "title": {
         "text": "Global Trade Logistics Performance"
        }
       }
      },
      "text/html": [
       "<div>                            <div id=\"c36a6984-ff42-4157-96a3-f6b115ed8471\" class=\"plotly-graph-div\" style=\"height:525px; width:100%;\"></div>            <script type=\"text/javascript\">                require([\"plotly\"], function(Plotly) {                    window.PLOTLYENV=window.PLOTLYENV || {};                                    if (document.getElementById(\"c36a6984-ff42-4157-96a3-f6b115ed8471\")) {                    Plotly.newPlot(                        \"c36a6984-ff42-4157-96a3-f6b115ed8471\",                        [{\"colorscale\":[[0.0,\"rgb(229, 134, 6)\"],[1.0,\"rgb(229, 134, 6)\"]],\"geo\":\"geo\",\"hovertemplate\":\"Performance=Low<br>country_name=%{location}<extra></extra>\",\"locationmode\":\"country names\",\"locations\":[\"Afghanistan\",\"Albania\",\"Algeria\",\"Angola\",\"Armenia\",\"Bahamas, The\",\"Bangladesh\",\"Bhutan\",\"Bolivia\",\"Burkina Faso\",\"Burundi\",\"Cambodia\",\"Cameroon\",\"Central African Republic\",\"Chad\",\"Comoros\",\"Congo, Dem. Rep.\",\"Congo, Rep.\",\"Cuba\",\"Dominican Republic\",\"El Salvador\",\"Equatorial Guinea\",\"Eritrea\",\"Fiji\",\"Gabon\",\"Gambia, The\",\"Georgia\",\"Ghana\",\"Guatemala\",\"Guinea\",\"Guinea-Bissau\",\"Guyana\",\"Haiti\",\"Honduras\",\"Iraq\",\"Jamaica\",\"Lao PDR\",\"Lesotho\",\"Liberia\",\"Libya\",\"Macedonia, FYR\",\"Madagascar\",\"Malawi\",\"Mali\",\"Mauritania\",\"Moldova\",\"Mongolia\",\"Morocco\",\"Myanmar\",\"Nepal\",\"Niger\",\"Nigeria\",\"Pakistan\",\"Papua New Guinea\",\"Senegal\",\"Sierra Leone\",\"Somalia\",\"Sri Lanka\",\"Sudan\",\"Syrian Arab Republic\",\"Tajikistan\",\"Togo\",\"Trinidad and Tobago\",\"Tunisia\",\"Turkmenistan\",\"Uganda\",\"Uruguay\",\"Uzbekistan\",\"Venezuela, RB\",\"Yemen, Rep.\",\"Zambia\",\"Zimbabwe\"],\"name\":\"Low\",\"showlegend\":true,\"showscale\":false,\"z\":[1,1,1,1,1,1,1,1,1,1,1,1,1,1,1,1,1,1,1,1,1,1,1,1,1,1,1,1,1,1,1,1,1,1,1,1,1,1,1,1,1,1,1,1,1,1,1,1,1,1,1,1,1,1,1,1,1,1,1,1,1,1,1,1,1,1,1,1,1,1,1,1],\"type\":\"choropleth\"},{\"colorscale\":[[0.0,\"rgb(93, 105, 177)\"],[1.0,\"rgb(93, 105, 177)\"]],\"geo\":\"geo\",\"hovertemplate\":\"Performance=Medium<br>country_name=%{location}<extra></extra>\",\"locationmode\":\"country names\",\"locations\":[\"Argentina\",\"Bahrain\",\"Belarus\",\"Benin\",\"Bosnia and Herzegovina\",\"Brazil\",\"Brunei Darussalam\",\"Bulgaria\",\"Colombia\",\"Costa Rica\",\"Cote d'Ivoire\",\"Croatia\",\"Cyprus\",\"Djibouti\",\"Ecuador\",\"Egypt, Arab Rep.\",\"Greece\",\"Iceland\",\"India\",\"Indonesia\",\"Iran, Islamic Rep.\",\"Jordan\",\"Kazakhstan\",\"Kenya\",\"Kuwait\",\"Kyrgyz Republic\",\"Latvia\",\"Lebanon\",\"Lithuania\",\"Malaysia\",\"Maldives\",\"Malta\",\"Mauritius\",\"Mexico\",\"Montenegro\",\"Oman\",\"Panama\",\"Paraguay\",\"Peru\",\"Philippines\",\"Qatar\",\"Romania\",\"Russian Federation\",\"Rwanda\",\"Saudi Arabia\",\"Serbia\",\"Slovak Republic\",\"Solomon Islands\",\"South Africa\",\"S\\u00e3o Tom\\u00e9 and Principe\",\"Thailand\",\"Turkey\",\"Ukraine\",\"Vietnam\"],\"name\":\"Medium\",\"showlegend\":true,\"showscale\":false,\"z\":[1,1,1,1,1,1,1,1,1,1,1,1,1,1,1,1,1,1,1,1,1,1,1,1,1,1,1,1,1,1,1,1,1,1,1,1,1,1,1,1,1,1,1,1,1,1,1,1,1,1,1,1,1,1],\"type\":\"choropleth\"},{\"colorscale\":[[0.0,\"rgb(82, 188, 163)\"],[1.0,\"rgb(82, 188, 163)\"]],\"geo\":\"geo\",\"hovertemplate\":\"Performance=High<br>country_name=%{location}<extra></extra>\",\"locationmode\":\"country names\",\"locations\":[\"Australia\",\"Austria\",\"Belgium\",\"Canada\",\"Chile\",\"China\",\"Czech Republic\",\"Denmark\",\"Estonia\",\"Finland\",\"France\",\"Germany\",\"Hong Kong SAR, China\",\"Hungary\",\"Ireland\",\"Israel\",\"Italy\",\"Japan\",\"Korea, Rep.\",\"Luxembourg\",\"Netherlands\",\"New Zealand\",\"Norway\",\"Poland\",\"Portugal\",\"Singapore\",\"Slovenia\",\"Spain\",\"Sweden\",\"Switzerland\",\"Taiwan, China\",\"United Arab Emirates\",\"United Kingdom\",\"United States\"],\"name\":\"High\",\"showlegend\":true,\"showscale\":false,\"z\":[1,1,1,1,1,1,1,1,1,1,1,1,1,1,1,1,1,1,1,1,1,1,1,1,1,1,1,1,1,1,1,1,1,1],\"type\":\"choropleth\"}],                        {\"template\":{\"data\":{\"histogram2dcontour\":[{\"type\":\"histogram2dcontour\",\"colorbar\":{\"outlinewidth\":0,\"ticks\":\"\"},\"colorscale\":[[0.0,\"#0d0887\"],[0.1111111111111111,\"#46039f\"],[0.2222222222222222,\"#7201a8\"],[0.3333333333333333,\"#9c179e\"],[0.4444444444444444,\"#bd3786\"],[0.5555555555555556,\"#d8576b\"],[0.6666666666666666,\"#ed7953\"],[0.7777777777777778,\"#fb9f3a\"],[0.8888888888888888,\"#fdca26\"],[1.0,\"#f0f921\"]]}],\"choropleth\":[{\"type\":\"choropleth\",\"colorbar\":{\"outlinewidth\":0,\"ticks\":\"\"}}],\"histogram2d\":[{\"type\":\"histogram2d\",\"colorbar\":{\"outlinewidth\":0,\"ticks\":\"\"},\"colorscale\":[[0.0,\"#0d0887\"],[0.1111111111111111,\"#46039f\"],[0.2222222222222222,\"#7201a8\"],[0.3333333333333333,\"#9c179e\"],[0.4444444444444444,\"#bd3786\"],[0.5555555555555556,\"#d8576b\"],[0.6666666666666666,\"#ed7953\"],[0.7777777777777778,\"#fb9f3a\"],[0.8888888888888888,\"#fdca26\"],[1.0,\"#f0f921\"]]}],\"heatmap\":[{\"type\":\"heatmap\",\"colorbar\":{\"outlinewidth\":0,\"ticks\":\"\"},\"colorscale\":[[0.0,\"#0d0887\"],[0.1111111111111111,\"#46039f\"],[0.2222222222222222,\"#7201a8\"],[0.3333333333333333,\"#9c179e\"],[0.4444444444444444,\"#bd3786\"],[0.5555555555555556,\"#d8576b\"],[0.6666666666666666,\"#ed7953\"],[0.7777777777777778,\"#fb9f3a\"],[0.8888888888888888,\"#fdca26\"],[1.0,\"#f0f921\"]]}],\"heatmapgl\":[{\"type\":\"heatmapgl\",\"colorbar\":{\"outlinewidth\":0,\"ticks\":\"\"},\"colorscale\":[[0.0,\"#0d0887\"],[0.1111111111111111,\"#46039f\"],[0.2222222222222222,\"#7201a8\"],[0.3333333333333333,\"#9c179e\"],[0.4444444444444444,\"#bd3786\"],[0.5555555555555556,\"#d8576b\"],[0.6666666666666666,\"#ed7953\"],[0.7777777777777778,\"#fb9f3a\"],[0.8888888888888888,\"#fdca26\"],[1.0,\"#f0f921\"]]}],\"contourcarpet\":[{\"type\":\"contourcarpet\",\"colorbar\":{\"outlinewidth\":0,\"ticks\":\"\"}}],\"contour\":[{\"type\":\"contour\",\"colorbar\":{\"outlinewidth\":0,\"ticks\":\"\"},\"colorscale\":[[0.0,\"#0d0887\"],[0.1111111111111111,\"#46039f\"],[0.2222222222222222,\"#7201a8\"],[0.3333333333333333,\"#9c179e\"],[0.4444444444444444,\"#bd3786\"],[0.5555555555555556,\"#d8576b\"],[0.6666666666666666,\"#ed7953\"],[0.7777777777777778,\"#fb9f3a\"],[0.8888888888888888,\"#fdca26\"],[1.0,\"#f0f921\"]]}],\"surface\":[{\"type\":\"surface\",\"colorbar\":{\"outlinewidth\":0,\"ticks\":\"\"},\"colorscale\":[[0.0,\"#0d0887\"],[0.1111111111111111,\"#46039f\"],[0.2222222222222222,\"#7201a8\"],[0.3333333333333333,\"#9c179e\"],[0.4444444444444444,\"#bd3786\"],[0.5555555555555556,\"#d8576b\"],[0.6666666666666666,\"#ed7953\"],[0.7777777777777778,\"#fb9f3a\"],[0.8888888888888888,\"#fdca26\"],[1.0,\"#f0f921\"]]}],\"mesh3d\":[{\"type\":\"mesh3d\",\"colorbar\":{\"outlinewidth\":0,\"ticks\":\"\"}}],\"scatter\":[{\"fillpattern\":{\"fillmode\":\"overlay\",\"size\":10,\"solidity\":0.2},\"type\":\"scatter\"}],\"parcoords\":[{\"type\":\"parcoords\",\"line\":{\"colorbar\":{\"outlinewidth\":0,\"ticks\":\"\"}}}],\"scatterpolargl\":[{\"type\":\"scatterpolargl\",\"marker\":{\"colorbar\":{\"outlinewidth\":0,\"ticks\":\"\"}}}],\"bar\":[{\"error_x\":{\"color\":\"#2a3f5f\"},\"error_y\":{\"color\":\"#2a3f5f\"},\"marker\":{\"line\":{\"color\":\"#E5ECF6\",\"width\":0.5},\"pattern\":{\"fillmode\":\"overlay\",\"size\":10,\"solidity\":0.2}},\"type\":\"bar\"}],\"scattergeo\":[{\"type\":\"scattergeo\",\"marker\":{\"colorbar\":{\"outlinewidth\":0,\"ticks\":\"\"}}}],\"scatterpolar\":[{\"type\":\"scatterpolar\",\"marker\":{\"colorbar\":{\"outlinewidth\":0,\"ticks\":\"\"}}}],\"histogram\":[{\"marker\":{\"pattern\":{\"fillmode\":\"overlay\",\"size\":10,\"solidity\":0.2}},\"type\":\"histogram\"}],\"scattergl\":[{\"type\":\"scattergl\",\"marker\":{\"colorbar\":{\"outlinewidth\":0,\"ticks\":\"\"}}}],\"scatter3d\":[{\"type\":\"scatter3d\",\"line\":{\"colorbar\":{\"outlinewidth\":0,\"ticks\":\"\"}},\"marker\":{\"colorbar\":{\"outlinewidth\":0,\"ticks\":\"\"}}}],\"scattermapbox\":[{\"type\":\"scattermapbox\",\"marker\":{\"colorbar\":{\"outlinewidth\":0,\"ticks\":\"\"}}}],\"scatterternary\":[{\"type\":\"scatterternary\",\"marker\":{\"colorbar\":{\"outlinewidth\":0,\"ticks\":\"\"}}}],\"scattercarpet\":[{\"type\":\"scattercarpet\",\"marker\":{\"colorbar\":{\"outlinewidth\":0,\"ticks\":\"\"}}}],\"carpet\":[{\"aaxis\":{\"endlinecolor\":\"#2a3f5f\",\"gridcolor\":\"white\",\"linecolor\":\"white\",\"minorgridcolor\":\"white\",\"startlinecolor\":\"#2a3f5f\"},\"baxis\":{\"endlinecolor\":\"#2a3f5f\",\"gridcolor\":\"white\",\"linecolor\":\"white\",\"minorgridcolor\":\"white\",\"startlinecolor\":\"#2a3f5f\"},\"type\":\"carpet\"}],\"table\":[{\"cells\":{\"fill\":{\"color\":\"#EBF0F8\"},\"line\":{\"color\":\"white\"}},\"header\":{\"fill\":{\"color\":\"#C8D4E3\"},\"line\":{\"color\":\"white\"}},\"type\":\"table\"}],\"barpolar\":[{\"marker\":{\"line\":{\"color\":\"#E5ECF6\",\"width\":0.5},\"pattern\":{\"fillmode\":\"overlay\",\"size\":10,\"solidity\":0.2}},\"type\":\"barpolar\"}],\"pie\":[{\"automargin\":true,\"type\":\"pie\"}]},\"layout\":{\"autotypenumbers\":\"strict\",\"colorway\":[\"#636efa\",\"#EF553B\",\"#00cc96\",\"#ab63fa\",\"#FFA15A\",\"#19d3f3\",\"#FF6692\",\"#B6E880\",\"#FF97FF\",\"#FECB52\"],\"font\":{\"color\":\"#2a3f5f\"},\"hovermode\":\"closest\",\"hoverlabel\":{\"align\":\"left\"},\"paper_bgcolor\":\"white\",\"plot_bgcolor\":\"#E5ECF6\",\"polar\":{\"bgcolor\":\"#E5ECF6\",\"angularaxis\":{\"gridcolor\":\"white\",\"linecolor\":\"white\",\"ticks\":\"\"},\"radialaxis\":{\"gridcolor\":\"white\",\"linecolor\":\"white\",\"ticks\":\"\"}},\"ternary\":{\"bgcolor\":\"#E5ECF6\",\"aaxis\":{\"gridcolor\":\"white\",\"linecolor\":\"white\",\"ticks\":\"\"},\"baxis\":{\"gridcolor\":\"white\",\"linecolor\":\"white\",\"ticks\":\"\"},\"caxis\":{\"gridcolor\":\"white\",\"linecolor\":\"white\",\"ticks\":\"\"}},\"coloraxis\":{\"colorbar\":{\"outlinewidth\":0,\"ticks\":\"\"}},\"colorscale\":{\"sequential\":[[0.0,\"#0d0887\"],[0.1111111111111111,\"#46039f\"],[0.2222222222222222,\"#7201a8\"],[0.3333333333333333,\"#9c179e\"],[0.4444444444444444,\"#bd3786\"],[0.5555555555555556,\"#d8576b\"],[0.6666666666666666,\"#ed7953\"],[0.7777777777777778,\"#fb9f3a\"],[0.8888888888888888,\"#fdca26\"],[1.0,\"#f0f921\"]],\"sequentialminus\":[[0.0,\"#0d0887\"],[0.1111111111111111,\"#46039f\"],[0.2222222222222222,\"#7201a8\"],[0.3333333333333333,\"#9c179e\"],[0.4444444444444444,\"#bd3786\"],[0.5555555555555556,\"#d8576b\"],[0.6666666666666666,\"#ed7953\"],[0.7777777777777778,\"#fb9f3a\"],[0.8888888888888888,\"#fdca26\"],[1.0,\"#f0f921\"]],\"diverging\":[[0,\"#8e0152\"],[0.1,\"#c51b7d\"],[0.2,\"#de77ae\"],[0.3,\"#f1b6da\"],[0.4,\"#fde0ef\"],[0.5,\"#f7f7f7\"],[0.6,\"#e6f5d0\"],[0.7,\"#b8e186\"],[0.8,\"#7fbc41\"],[0.9,\"#4d9221\"],[1,\"#276419\"]]},\"xaxis\":{\"gridcolor\":\"white\",\"linecolor\":\"white\",\"ticks\":\"\",\"title\":{\"standoff\":15},\"zerolinecolor\":\"white\",\"automargin\":true,\"zerolinewidth\":2},\"yaxis\":{\"gridcolor\":\"white\",\"linecolor\":\"white\",\"ticks\":\"\",\"title\":{\"standoff\":15},\"zerolinecolor\":\"white\",\"automargin\":true,\"zerolinewidth\":2},\"scene\":{\"xaxis\":{\"backgroundcolor\":\"#E5ECF6\",\"gridcolor\":\"white\",\"linecolor\":\"white\",\"showbackground\":true,\"ticks\":\"\",\"zerolinecolor\":\"white\",\"gridwidth\":2},\"yaxis\":{\"backgroundcolor\":\"#E5ECF6\",\"gridcolor\":\"white\",\"linecolor\":\"white\",\"showbackground\":true,\"ticks\":\"\",\"zerolinecolor\":\"white\",\"gridwidth\":2},\"zaxis\":{\"backgroundcolor\":\"#E5ECF6\",\"gridcolor\":\"white\",\"linecolor\":\"white\",\"showbackground\":true,\"ticks\":\"\",\"zerolinecolor\":\"white\",\"gridwidth\":2}},\"shapedefaults\":{\"line\":{\"color\":\"#2a3f5f\"}},\"annotationdefaults\":{\"arrowcolor\":\"#2a3f5f\",\"arrowhead\":0,\"arrowwidth\":1},\"geo\":{\"bgcolor\":\"white\",\"landcolor\":\"#E5ECF6\",\"subunitcolor\":\"white\",\"showland\":true,\"showlakes\":true,\"lakecolor\":\"white\"},\"title\":{\"x\":0.05},\"mapbox\":{\"style\":\"light\"}}},\"geo\":{\"domain\":{\"x\":[0.0,1.0],\"y\":[0.0,1.0]},\"center\":{}},\"legend\":{\"title\":{\"text\":\"Performance\"},\"tracegroupgap\":0},\"title\":{\"text\":\"Global Trade Logistics Performance\"}},                        {\"responsive\": true}                    ).then(function(){\n",
       "                            \n",
       "var gd = document.getElementById('c36a6984-ff42-4157-96a3-f6b115ed8471');\n",
       "var x = new MutationObserver(function (mutations, observer) {{\n",
       "        var display = window.getComputedStyle(gd).display;\n",
       "        if (!display || display === 'none') {{\n",
       "            console.log([gd, 'removed!']);\n",
       "            Plotly.purge(gd);\n",
       "            observer.disconnect();\n",
       "        }}\n",
       "}});\n",
       "\n",
       "// Listen for the removal of the full notebook cells\n",
       "var notebookContainer = gd.closest('#notebook-container');\n",
       "if (notebookContainer) {{\n",
       "    x.observe(notebookContainer, {childList: true});\n",
       "}}\n",
       "\n",
       "// Listen for the clearing of the current output cell\n",
       "var outputEl = gd.closest('.output');\n",
       "if (outputEl) {{\n",
       "    x.observe(outputEl, {childList: true});\n",
       "}}\n",
       "\n",
       "                        })                };                });            </script>        </div>"
      ]
     },
     "metadata": {},
     "output_type": "display_data"
    }
   ],
   "source": [
    "#Plotting a choropleth map to check where each cluster is located\n",
    "import plotly.express as px\n",
    "\n",
    "fig = px.choropleth(df2,  # Input Pandas DataFrame\n",
    "                    locations='country_name', locationmode=\"country names\", # DataFrame column with locations\n",
    "                    color=\"Performance\", color_discrete_sequence=px.colors.qualitative.Vivid, \n",
    "                    title=\"Global Trade Logistics Performance\") \n",
    "fig.show()  # Output the plot to the screen"
   ]
  },
  {
   "cell_type": "code",
   "execution_count": 66,
   "id": "16e89630",
   "metadata": {},
   "outputs": [],
   "source": [
    "#Importing pycountry_convert in order to find the continent for each country in the dataset\n",
    "import pycountry_convert as pc"
   ]
  },
  {
   "cell_type": "code",
   "execution_count": 67,
   "id": "77eb9245",
   "metadata": {},
   "outputs": [
    {
     "data": {
      "text/html": [
       "<div>\n",
       "<style scoped>\n",
       "    .dataframe tbody tr th:only-of-type {\n",
       "        vertical-align: middle;\n",
       "    }\n",
       "\n",
       "    .dataframe tbody tr th {\n",
       "        vertical-align: top;\n",
       "    }\n",
       "\n",
       "    .dataframe thead th {\n",
       "        text-align: right;\n",
       "    }\n",
       "</style>\n",
       "<table border=\"1\" class=\"dataframe\">\n",
       "  <thead>\n",
       "    <tr style=\"text-align: right;\">\n",
       "      <th></th>\n",
       "      <th>country_name</th>\n",
       "      <th>country_code</th>\n",
       "      <th>clearance_efficiency_score</th>\n",
       "      <th>timely_consignee_receival_score</th>\n",
       "      <th>infrastructure_score</th>\n",
       "      <th>cluster_id</th>\n",
       "      <th>Performance</th>\n",
       "    </tr>\n",
       "  </thead>\n",
       "  <tbody>\n",
       "    <tr>\n",
       "      <th>0</th>\n",
       "      <td>Afghanistan</td>\n",
       "      <td>AFG</td>\n",
       "      <td>-1.628308</td>\n",
       "      <td>-1.487864</td>\n",
       "      <td>-1.362602</td>\n",
       "      <td>0</td>\n",
       "      <td>Low</td>\n",
       "    </tr>\n",
       "    <tr>\n",
       "      <th>1</th>\n",
       "      <td>Albania</td>\n",
       "      <td>ALB</td>\n",
       "      <td>-0.565946</td>\n",
       "      <td>-0.058615</td>\n",
       "      <td>-0.638656</td>\n",
       "      <td>0</td>\n",
       "      <td>Low</td>\n",
       "    </tr>\n",
       "    <tr>\n",
       "      <th>2</th>\n",
       "      <td>Algeria</td>\n",
       "      <td>DZA</td>\n",
       "      <td>-0.942227</td>\n",
       "      <td>-0.827911</td>\n",
       "      <td>-0.448628</td>\n",
       "      <td>0</td>\n",
       "      <td>Low</td>\n",
       "    </tr>\n",
       "    <tr>\n",
       "      <th>3</th>\n",
       "      <td>Angola</td>\n",
       "      <td>AGO</td>\n",
       "      <td>-1.911970</td>\n",
       "      <td>-1.117504</td>\n",
       "      <td>-1.288203</td>\n",
       "      <td>0</td>\n",
       "      <td>Low</td>\n",
       "    </tr>\n",
       "    <tr>\n",
       "      <th>4</th>\n",
       "      <td>Argentina</td>\n",
       "      <td>ARG</td>\n",
       "      <td>-0.443233</td>\n",
       "      <td>0.231121</td>\n",
       "      <td>0.075327</td>\n",
       "      <td>2</td>\n",
       "      <td>Medium</td>\n",
       "    </tr>\n",
       "    <tr>\n",
       "      <th>...</th>\n",
       "      <td>...</td>\n",
       "      <td>...</td>\n",
       "      <td>...</td>\n",
       "      <td>...</td>\n",
       "      <td>...</td>\n",
       "      <td>...</td>\n",
       "      <td>...</td>\n",
       "    </tr>\n",
       "    <tr>\n",
       "      <th>155</th>\n",
       "      <td>Venezuela, RB</td>\n",
       "      <td>VEN</td>\n",
       "      <td>-1.537235</td>\n",
       "      <td>-1.140547</td>\n",
       "      <td>-0.931397</td>\n",
       "      <td>0</td>\n",
       "      <td>Low</td>\n",
       "    </tr>\n",
       "    <tr>\n",
       "      <th>156</th>\n",
       "      <td>Vietnam</td>\n",
       "      <td>VNM</td>\n",
       "      <td>0.480456</td>\n",
       "      <td>0.759205</td>\n",
       "      <td>0.420509</td>\n",
       "      <td>2</td>\n",
       "      <td>Medium</td>\n",
       "    </tr>\n",
       "    <tr>\n",
       "      <th>157</th>\n",
       "      <td>Yemen, Rep.</td>\n",
       "      <td>YEM</td>\n",
       "      <td>-0.472818</td>\n",
       "      <td>-1.411625</td>\n",
       "      <td>-0.901849</td>\n",
       "      <td>0</td>\n",
       "      <td>Low</td>\n",
       "    </tr>\n",
       "    <tr>\n",
       "      <th>158</th>\n",
       "      <td>Zambia</td>\n",
       "      <td>ZMB</td>\n",
       "      <td>-0.855671</td>\n",
       "      <td>-0.319724</td>\n",
       "      <td>-0.624138</td>\n",
       "      <td>0</td>\n",
       "      <td>Low</td>\n",
       "    </tr>\n",
       "    <tr>\n",
       "      <th>159</th>\n",
       "      <td>Zimbabwe</td>\n",
       "      <td>ZWE</td>\n",
       "      <td>-1.168294</td>\n",
       "      <td>-1.481733</td>\n",
       "      <td>-1.323632</td>\n",
       "      <td>0</td>\n",
       "      <td>Low</td>\n",
       "    </tr>\n",
       "  </tbody>\n",
       "</table>\n",
       "<p>160 rows × 7 columns</p>\n",
       "</div>"
      ],
      "text/plain": [
       "      country_name country_code  clearance_efficiency_score  \\\n",
       "0      Afghanistan          AFG                   -1.628308   \n",
       "1          Albania          ALB                   -0.565946   \n",
       "2          Algeria          DZA                   -0.942227   \n",
       "3           Angola          AGO                   -1.911970   \n",
       "4        Argentina          ARG                   -0.443233   \n",
       "..             ...          ...                         ...   \n",
       "155  Venezuela, RB          VEN                   -1.537235   \n",
       "156        Vietnam          VNM                    0.480456   \n",
       "157    Yemen, Rep.          YEM                   -0.472818   \n",
       "158         Zambia          ZMB                   -0.855671   \n",
       "159       Zimbabwe          ZWE                   -1.168294   \n",
       "\n",
       "     timely_consignee_receival_score  infrastructure_score  cluster_id  \\\n",
       "0                          -1.487864             -1.362602           0   \n",
       "1                          -0.058615             -0.638656           0   \n",
       "2                          -0.827911             -0.448628           0   \n",
       "3                          -1.117504             -1.288203           0   \n",
       "4                           0.231121              0.075327           2   \n",
       "..                               ...                   ...         ...   \n",
       "155                        -1.140547             -0.931397           0   \n",
       "156                         0.759205              0.420509           2   \n",
       "157                        -1.411625             -0.901849           0   \n",
       "158                        -0.319724             -0.624138           0   \n",
       "159                        -1.481733             -1.323632           0   \n",
       "\n",
       "    Performance  \n",
       "0           Low  \n",
       "1           Low  \n",
       "2           Low  \n",
       "3           Low  \n",
       "4        Medium  \n",
       "..          ...  \n",
       "155         Low  \n",
       "156      Medium  \n",
       "157         Low  \n",
       "158         Low  \n",
       "159         Low  \n",
       "\n",
       "[160 rows x 7 columns]"
      ]
     },
     "execution_count": 67,
     "metadata": {},
     "output_type": "execute_result"
    }
   ],
   "source": [
    "#Creating a copy of the clean dataset\n",
    "continent = df2.copy()\n",
    "continent"
   ]
  },
  {
   "cell_type": "code",
   "execution_count": 68,
   "id": "8a28487d",
   "metadata": {},
   "outputs": [],
   "source": [
    "#Making a few changes to the dataset in order for pycountry to work\n",
    "continent.drop(continent[(continent.country_name == 'Bahamas, The')].index,inplace=True)\n",
    "continent['country_name'].replace('Congo, Dem. Rep.', 'Congo', inplace=True)\n",
    "continent['country_name'].replace('Congo, Rep.', 'Congo', inplace=True)\n",
    "continent['country_name'].replace(\"Cote d'Ivoire\", \"Côte d'Ivoire\", inplace=True)\n",
    "continent['country_name'].replace(\"Egypt, Arab Rep.\", \"Egypt\", inplace=True)\n",
    "continent['country_name'].replace(\"Gambia, The\", \"Gambia\", inplace=True)\n",
    "continent['country_name'].replace(\"Hong Kong SAR, China\", \"Hong Kong\", inplace=True)\n",
    "continent['country_name'].replace(\"Iran, Islamic Rep.\", \"Iran\", inplace=True)\n",
    "continent['country_name'].replace(\"Korea, Rep.\", \"South Korea\", inplace=True)\n",
    "continent.drop(continent[(continent.country_name == \"Lao PDR\")].index,inplace=True)\n",
    "continent['country_name'].replace(\"Macedonia, FYR\", \"Macedonia\", inplace=True)\n",
    "continent['country_name'].replace(\"São Tomé and Principe\", \"Sao Tome and Principe\", inplace=True)\n",
    "continent['country_name'].replace(\"Taiwan, China\", \"Taiwan\", inplace=True)\n",
    "continent['country_name'].replace(\"Venezuela, RB\", \"Venezuela\", inplace=True)\n",
    "continent['country_name'].replace(\"Yemen, Rep.\", \"Yemen\", inplace=True)"
   ]
  },
  {
   "cell_type": "code",
   "execution_count": 69,
   "id": "255ed748",
   "metadata": {},
   "outputs": [],
   "source": [
    "#Creating a for loop to fill the information of the continent names\n",
    "\n",
    "countries = continent['country_name'].tolist()\n",
    "continents = []\n",
    "\n",
    "for i in countries:\n",
    "    country_alpha2 = pc.country_name_to_country_alpha2(i) #Gets the country alpha information\n",
    "    country_continent_code = pc.country_alpha2_to_continent_code(country_alpha2) #Gets continent code\n",
    "    country_continent_name = pc.convert_continent_code_to_continent_name(country_continent_code) #Gets continent name\n",
    "    continents.append(country_continent_name)"
   ]
  },
  {
   "cell_type": "code",
   "execution_count": 70,
   "id": "3fb6fd31",
   "metadata": {},
   "outputs": [],
   "source": [
    "continent['continent'] = continents"
   ]
  },
  {
   "cell_type": "code",
   "execution_count": 71,
   "id": "7bd6c66c",
   "metadata": {},
   "outputs": [
    {
     "data": {
      "text/html": [
       "<div>\n",
       "<style scoped>\n",
       "    .dataframe tbody tr th:only-of-type {\n",
       "        vertical-align: middle;\n",
       "    }\n",
       "\n",
       "    .dataframe tbody tr th {\n",
       "        vertical-align: top;\n",
       "    }\n",
       "\n",
       "    .dataframe thead th {\n",
       "        text-align: right;\n",
       "    }\n",
       "</style>\n",
       "<table border=\"1\" class=\"dataframe\">\n",
       "  <thead>\n",
       "    <tr style=\"text-align: right;\">\n",
       "      <th></th>\n",
       "      <th>country_name</th>\n",
       "      <th>country_code</th>\n",
       "      <th>clearance_efficiency_score</th>\n",
       "      <th>timely_consignee_receival_score</th>\n",
       "      <th>infrastructure_score</th>\n",
       "      <th>cluster_id</th>\n",
       "      <th>Performance</th>\n",
       "      <th>continent</th>\n",
       "    </tr>\n",
       "  </thead>\n",
       "  <tbody>\n",
       "    <tr>\n",
       "      <th>0</th>\n",
       "      <td>Afghanistan</td>\n",
       "      <td>AFG</td>\n",
       "      <td>-1.628308</td>\n",
       "      <td>-1.487864</td>\n",
       "      <td>-1.362602</td>\n",
       "      <td>0</td>\n",
       "      <td>Low</td>\n",
       "      <td>Asia</td>\n",
       "    </tr>\n",
       "    <tr>\n",
       "      <th>1</th>\n",
       "      <td>Albania</td>\n",
       "      <td>ALB</td>\n",
       "      <td>-0.565946</td>\n",
       "      <td>-0.058615</td>\n",
       "      <td>-0.638656</td>\n",
       "      <td>0</td>\n",
       "      <td>Low</td>\n",
       "      <td>Europe</td>\n",
       "    </tr>\n",
       "    <tr>\n",
       "      <th>2</th>\n",
       "      <td>Algeria</td>\n",
       "      <td>DZA</td>\n",
       "      <td>-0.942227</td>\n",
       "      <td>-0.827911</td>\n",
       "      <td>-0.448628</td>\n",
       "      <td>0</td>\n",
       "      <td>Low</td>\n",
       "      <td>Africa</td>\n",
       "    </tr>\n",
       "    <tr>\n",
       "      <th>3</th>\n",
       "      <td>Angola</td>\n",
       "      <td>AGO</td>\n",
       "      <td>-1.911970</td>\n",
       "      <td>-1.117504</td>\n",
       "      <td>-1.288203</td>\n",
       "      <td>0</td>\n",
       "      <td>Low</td>\n",
       "      <td>Africa</td>\n",
       "    </tr>\n",
       "    <tr>\n",
       "      <th>4</th>\n",
       "      <td>Argentina</td>\n",
       "      <td>ARG</td>\n",
       "      <td>-0.443233</td>\n",
       "      <td>0.231121</td>\n",
       "      <td>0.075327</td>\n",
       "      <td>2</td>\n",
       "      <td>Medium</td>\n",
       "      <td>South America</td>\n",
       "    </tr>\n",
       "    <tr>\n",
       "      <th>...</th>\n",
       "      <td>...</td>\n",
       "      <td>...</td>\n",
       "      <td>...</td>\n",
       "      <td>...</td>\n",
       "      <td>...</td>\n",
       "      <td>...</td>\n",
       "      <td>...</td>\n",
       "      <td>...</td>\n",
       "    </tr>\n",
       "    <tr>\n",
       "      <th>155</th>\n",
       "      <td>Venezuela</td>\n",
       "      <td>VEN</td>\n",
       "      <td>-1.537235</td>\n",
       "      <td>-1.140547</td>\n",
       "      <td>-0.931397</td>\n",
       "      <td>0</td>\n",
       "      <td>Low</td>\n",
       "      <td>South America</td>\n",
       "    </tr>\n",
       "    <tr>\n",
       "      <th>156</th>\n",
       "      <td>Vietnam</td>\n",
       "      <td>VNM</td>\n",
       "      <td>0.480456</td>\n",
       "      <td>0.759205</td>\n",
       "      <td>0.420509</td>\n",
       "      <td>2</td>\n",
       "      <td>Medium</td>\n",
       "      <td>Asia</td>\n",
       "    </tr>\n",
       "    <tr>\n",
       "      <th>157</th>\n",
       "      <td>Yemen</td>\n",
       "      <td>YEM</td>\n",
       "      <td>-0.472818</td>\n",
       "      <td>-1.411625</td>\n",
       "      <td>-0.901849</td>\n",
       "      <td>0</td>\n",
       "      <td>Low</td>\n",
       "      <td>Asia</td>\n",
       "    </tr>\n",
       "    <tr>\n",
       "      <th>158</th>\n",
       "      <td>Zambia</td>\n",
       "      <td>ZMB</td>\n",
       "      <td>-0.855671</td>\n",
       "      <td>-0.319724</td>\n",
       "      <td>-0.624138</td>\n",
       "      <td>0</td>\n",
       "      <td>Low</td>\n",
       "      <td>Africa</td>\n",
       "    </tr>\n",
       "    <tr>\n",
       "      <th>159</th>\n",
       "      <td>Zimbabwe</td>\n",
       "      <td>ZWE</td>\n",
       "      <td>-1.168294</td>\n",
       "      <td>-1.481733</td>\n",
       "      <td>-1.323632</td>\n",
       "      <td>0</td>\n",
       "      <td>Low</td>\n",
       "      <td>Africa</td>\n",
       "    </tr>\n",
       "  </tbody>\n",
       "</table>\n",
       "<p>158 rows × 8 columns</p>\n",
       "</div>"
      ],
      "text/plain": [
       "    country_name country_code  clearance_efficiency_score  \\\n",
       "0    Afghanistan          AFG                   -1.628308   \n",
       "1        Albania          ALB                   -0.565946   \n",
       "2        Algeria          DZA                   -0.942227   \n",
       "3         Angola          AGO                   -1.911970   \n",
       "4      Argentina          ARG                   -0.443233   \n",
       "..           ...          ...                         ...   \n",
       "155    Venezuela          VEN                   -1.537235   \n",
       "156      Vietnam          VNM                    0.480456   \n",
       "157        Yemen          YEM                   -0.472818   \n",
       "158       Zambia          ZMB                   -0.855671   \n",
       "159     Zimbabwe          ZWE                   -1.168294   \n",
       "\n",
       "     timely_consignee_receival_score  infrastructure_score  cluster_id  \\\n",
       "0                          -1.487864             -1.362602           0   \n",
       "1                          -0.058615             -0.638656           0   \n",
       "2                          -0.827911             -0.448628           0   \n",
       "3                          -1.117504             -1.288203           0   \n",
       "4                           0.231121              0.075327           2   \n",
       "..                               ...                   ...         ...   \n",
       "155                        -1.140547             -0.931397           0   \n",
       "156                         0.759205              0.420509           2   \n",
       "157                        -1.411625             -0.901849           0   \n",
       "158                        -0.319724             -0.624138           0   \n",
       "159                        -1.481733             -1.323632           0   \n",
       "\n",
       "    Performance      continent  \n",
       "0           Low           Asia  \n",
       "1           Low         Europe  \n",
       "2           Low         Africa  \n",
       "3           Low         Africa  \n",
       "4        Medium  South America  \n",
       "..          ...            ...  \n",
       "155         Low  South America  \n",
       "156      Medium           Asia  \n",
       "157         Low           Asia  \n",
       "158         Low         Africa  \n",
       "159         Low         Africa  \n",
       "\n",
       "[158 rows x 8 columns]"
      ]
     },
     "execution_count": 71,
     "metadata": {},
     "output_type": "execute_result"
    }
   ],
   "source": [
    "continent"
   ]
  },
  {
   "cell_type": "code",
   "execution_count": 72,
   "id": "6503e3b0",
   "metadata": {},
   "outputs": [],
   "source": [
    "#Saving the continent clusters into a CSV file\n",
    "continent.to_csv(r'C:\\Users\\User\\Documents\\Data Science\\Data\\logistics_continent_clustered_df.csv', index=False)"
   ]
  },
  {
   "cell_type": "markdown",
   "id": "6b056ece",
   "metadata": {},
   "source": [
    "### Separating clusters for analysis"
   ]
  },
  {
   "cell_type": "code",
   "execution_count": 73,
   "id": "934cd12f",
   "metadata": {},
   "outputs": [],
   "source": [
    "df_low = continent[continent.Performance == 'Low']\n",
    "df_med = continent[continent.Performance == 'Medium']\n",
    "df_high = continent[continent.Performance == 'High']"
   ]
  },
  {
   "cell_type": "code",
   "execution_count": 74,
   "id": "3197118c",
   "metadata": {},
   "outputs": [
    {
     "data": {
      "text/plain": [
       "Europe           61.764706\n",
       "Asia             23.529412\n",
       "Oceania           5.882353\n",
       "North America     5.882353\n",
       "South America     2.941176\n",
       "Name: continent, dtype: float64"
      ]
     },
     "execution_count": 74,
     "metadata": {},
     "output_type": "execute_result"
    }
   ],
   "source": [
    "df_high['continent'].value_counts(normalize=True) * 100"
   ]
  },
  {
   "cell_type": "code",
   "execution_count": 75,
   "id": "653eb9e8",
   "metadata": {},
   "outputs": [
    {
     "data": {
      "text/html": [
       "<div>\n",
       "<style scoped>\n",
       "    .dataframe tbody tr th:only-of-type {\n",
       "        vertical-align: middle;\n",
       "    }\n",
       "\n",
       "    .dataframe tbody tr th {\n",
       "        vertical-align: top;\n",
       "    }\n",
       "\n",
       "    .dataframe thead th {\n",
       "        text-align: right;\n",
       "    }\n",
       "</style>\n",
       "<table border=\"1\" class=\"dataframe\">\n",
       "  <thead>\n",
       "    <tr style=\"text-align: right;\">\n",
       "      <th></th>\n",
       "      <th>country_name</th>\n",
       "      <th>country_code</th>\n",
       "      <th>clearance_efficiency_score</th>\n",
       "      <th>timely_consignee_receival_score</th>\n",
       "      <th>infrastructure_score</th>\n",
       "      <th>cluster_id</th>\n",
       "      <th>Performance</th>\n",
       "      <th>continent</th>\n",
       "    </tr>\n",
       "  </thead>\n",
       "  <tbody>\n",
       "    <tr>\n",
       "      <th>28</th>\n",
       "      <td>China</td>\n",
       "      <td>CHN</td>\n",
       "      <td>1.063099</td>\n",
       "      <td>1.051967</td>\n",
       "      <td>1.533111</td>\n",
       "      <td>1</td>\n",
       "      <td>High</td>\n",
       "      <td>Asia</td>\n",
       "    </tr>\n",
       "    <tr>\n",
       "      <th>63</th>\n",
       "      <td>Hong Kong</td>\n",
       "      <td>HKG</td>\n",
       "      <td>1.980785</td>\n",
       "      <td>1.573187</td>\n",
       "      <td>1.854195</td>\n",
       "      <td>1</td>\n",
       "      <td>High</td>\n",
       "      <td>Asia</td>\n",
       "    </tr>\n",
       "    <tr>\n",
       "      <th>71</th>\n",
       "      <td>Israel</td>\n",
       "      <td>ISR</td>\n",
       "      <td>1.116366</td>\n",
       "      <td>0.618871</td>\n",
       "      <td>0.901303</td>\n",
       "      <td>1</td>\n",
       "      <td>High</td>\n",
       "      <td>Asia</td>\n",
       "    </tr>\n",
       "    <tr>\n",
       "      <th>74</th>\n",
       "      <td>Japan</td>\n",
       "      <td>JPN</td>\n",
       "      <td>2.291767</td>\n",
       "      <td>1.773457</td>\n",
       "      <td>2.269691</td>\n",
       "      <td>1</td>\n",
       "      <td>High</td>\n",
       "      <td>Asia</td>\n",
       "    </tr>\n",
       "    <tr>\n",
       "      <th>78</th>\n",
       "      <td>South Korea</td>\n",
       "      <td>KOR</td>\n",
       "      <td>1.265540</td>\n",
       "      <td>1.190598</td>\n",
       "      <td>1.491908</td>\n",
       "      <td>1</td>\n",
       "      <td>High</td>\n",
       "      <td>Asia</td>\n",
       "    </tr>\n",
       "    <tr>\n",
       "      <th>127</th>\n",
       "      <td>Singapore</td>\n",
       "      <td>SGP</td>\n",
       "      <td>2.106256</td>\n",
       "      <td>1.888244</td>\n",
       "      <td>1.995230</td>\n",
       "      <td>1</td>\n",
       "      <td>High</td>\n",
       "      <td>Asia</td>\n",
       "    </tr>\n",
       "    <tr>\n",
       "      <th>140</th>\n",
       "      <td>Taiwan</td>\n",
       "      <td>TWN</td>\n",
       "      <td>1.389747</td>\n",
       "      <td>0.843915</td>\n",
       "      <td>1.483970</td>\n",
       "      <td>1</td>\n",
       "      <td>High</td>\n",
       "      <td>Asia</td>\n",
       "    </tr>\n",
       "    <tr>\n",
       "      <th>150</th>\n",
       "      <td>United Arab Emirates</td>\n",
       "      <td>ARE</td>\n",
       "      <td>1.662590</td>\n",
       "      <td>1.986430</td>\n",
       "      <td>1.931998</td>\n",
       "      <td>1</td>\n",
       "      <td>High</td>\n",
       "      <td>Asia</td>\n",
       "    </tr>\n",
       "  </tbody>\n",
       "</table>\n",
       "</div>"
      ],
      "text/plain": [
       "             country_name country_code  clearance_efficiency_score  \\\n",
       "28                  China          CHN                    1.063099   \n",
       "63              Hong Kong          HKG                    1.980785   \n",
       "71                 Israel          ISR                    1.116366   \n",
       "74                  Japan          JPN                    2.291767   \n",
       "78            South Korea          KOR                    1.265540   \n",
       "127             Singapore          SGP                    2.106256   \n",
       "140                Taiwan          TWN                    1.389747   \n",
       "150  United Arab Emirates          ARE                    1.662590   \n",
       "\n",
       "     timely_consignee_receival_score  infrastructure_score  cluster_id  \\\n",
       "28                          1.051967              1.533111           1   \n",
       "63                          1.573187              1.854195           1   \n",
       "71                          0.618871              0.901303           1   \n",
       "74                          1.773457              2.269691           1   \n",
       "78                          1.190598              1.491908           1   \n",
       "127                         1.888244              1.995230           1   \n",
       "140                         0.843915              1.483970           1   \n",
       "150                         1.986430              1.931998           1   \n",
       "\n",
       "    Performance continent  \n",
       "28         High      Asia  \n",
       "63         High      Asia  \n",
       "71         High      Asia  \n",
       "74         High      Asia  \n",
       "78         High      Asia  \n",
       "127        High      Asia  \n",
       "140        High      Asia  \n",
       "150        High      Asia  "
      ]
     },
     "execution_count": 75,
     "metadata": {},
     "output_type": "execute_result"
    }
   ],
   "source": [
    "df_high[df_high.continent=='Asia']"
   ]
  },
  {
   "cell_type": "code",
   "execution_count": 76,
   "id": "d2eddb71",
   "metadata": {},
   "outputs": [
    {
     "data": {
      "text/plain": [
       "Asia             37.037037\n",
       "Europe           27.777778\n",
       "Africa           16.666667\n",
       "South America    11.111111\n",
       "North America     5.555556\n",
       "Oceania           1.851852\n",
       "Name: continent, dtype: float64"
      ]
     },
     "execution_count": 76,
     "metadata": {},
     "output_type": "execute_result"
    }
   ],
   "source": [
    "#Checking in which continent the medium performers are\n",
    "df_med['continent'].value_counts(normalize=True) * 100"
   ]
  },
  {
   "cell_type": "code",
   "execution_count": 77,
   "id": "ad85a938",
   "metadata": {},
   "outputs": [
    {
     "data": {
      "text/html": [
       "<div>\n",
       "<style scoped>\n",
       "    .dataframe tbody tr th:only-of-type {\n",
       "        vertical-align: middle;\n",
       "    }\n",
       "\n",
       "    .dataframe tbody tr th {\n",
       "        vertical-align: top;\n",
       "    }\n",
       "\n",
       "    .dataframe thead th {\n",
       "        text-align: right;\n",
       "    }\n",
       "</style>\n",
       "<table border=\"1\" class=\"dataframe\">\n",
       "  <thead>\n",
       "    <tr style=\"text-align: right;\">\n",
       "      <th></th>\n",
       "      <th>country_name</th>\n",
       "      <th>country_code</th>\n",
       "      <th>clearance_efficiency_score</th>\n",
       "      <th>timely_consignee_receival_score</th>\n",
       "      <th>infrastructure_score</th>\n",
       "      <th>cluster_id</th>\n",
       "      <th>Performance</th>\n",
       "      <th>continent</th>\n",
       "    </tr>\n",
       "  </thead>\n",
       "  <tbody>\n",
       "    <tr>\n",
       "      <th>4</th>\n",
       "      <td>Argentina</td>\n",
       "      <td>ARG</td>\n",
       "      <td>-0.443233</td>\n",
       "      <td>0.231121</td>\n",
       "      <td>0.075327</td>\n",
       "      <td>2</td>\n",
       "      <td>Medium</td>\n",
       "      <td>South America</td>\n",
       "    </tr>\n",
       "    <tr>\n",
       "      <th>17</th>\n",
       "      <td>Brazil</td>\n",
       "      <td>BRA</td>\n",
       "      <td>-0.463504</td>\n",
       "      <td>0.477225</td>\n",
       "      <td>0.303693</td>\n",
       "      <td>2</td>\n",
       "      <td>Medium</td>\n",
       "      <td>South America</td>\n",
       "    </tr>\n",
       "    <tr>\n",
       "      <th>29</th>\n",
       "      <td>Colombia</td>\n",
       "      <td>COL</td>\n",
       "      <td>-0.105705</td>\n",
       "      <td>-0.113846</td>\n",
       "      <td>-0.083651</td>\n",
       "      <td>2</td>\n",
       "      <td>Medium</td>\n",
       "      <td>South America</td>\n",
       "    </tr>\n",
       "    <tr>\n",
       "      <th>42</th>\n",
       "      <td>Ecuador</td>\n",
       "      <td>ECU</td>\n",
       "      <td>0.222775</td>\n",
       "      <td>-0.080766</td>\n",
       "      <td>-0.001649</td>\n",
       "      <td>2</td>\n",
       "      <td>Medium</td>\n",
       "      <td>South America</td>\n",
       "    </tr>\n",
       "    <tr>\n",
       "      <th>114</th>\n",
       "      <td>Paraguay</td>\n",
       "      <td>PRY</td>\n",
       "      <td>-0.057737</td>\n",
       "      <td>0.364290</td>\n",
       "      <td>-0.261693</td>\n",
       "      <td>2</td>\n",
       "      <td>Medium</td>\n",
       "      <td>South America</td>\n",
       "    </tr>\n",
       "    <tr>\n",
       "      <th>115</th>\n",
       "      <td>Peru</td>\n",
       "      <td>PER</td>\n",
       "      <td>-0.249635</td>\n",
       "      <td>0.364666</td>\n",
       "      <td>-0.656982</td>\n",
       "      <td>2</td>\n",
       "      <td>Medium</td>\n",
       "      <td>South America</td>\n",
       "    </tr>\n",
       "  </tbody>\n",
       "</table>\n",
       "</div>"
      ],
      "text/plain": [
       "    country_name country_code  clearance_efficiency_score  \\\n",
       "4      Argentina          ARG                   -0.443233   \n",
       "17        Brazil          BRA                   -0.463504   \n",
       "29      Colombia          COL                   -0.105705   \n",
       "42       Ecuador          ECU                    0.222775   \n",
       "114     Paraguay          PRY                   -0.057737   \n",
       "115         Peru          PER                   -0.249635   \n",
       "\n",
       "     timely_consignee_receival_score  infrastructure_score  cluster_id  \\\n",
       "4                           0.231121              0.075327           2   \n",
       "17                          0.477225              0.303693           2   \n",
       "29                         -0.113846             -0.083651           2   \n",
       "42                         -0.080766             -0.001649           2   \n",
       "114                         0.364290             -0.261693           2   \n",
       "115                         0.364666             -0.656982           2   \n",
       "\n",
       "    Performance      continent  \n",
       "4        Medium  South America  \n",
       "17       Medium  South America  \n",
       "29       Medium  South America  \n",
       "42       Medium  South America  \n",
       "114      Medium  South America  \n",
       "115      Medium  South America  "
      ]
     },
     "execution_count": 77,
     "metadata": {},
     "output_type": "execute_result"
    }
   ],
   "source": [
    "#Who are the medium performers in South America?\n",
    "df_med[df_med.continent=='South America']"
   ]
  },
  {
   "cell_type": "code",
   "execution_count": 78,
   "id": "ccd64684",
   "metadata": {},
   "outputs": [
    {
     "data": {
      "text/html": [
       "<div>\n",
       "<style scoped>\n",
       "    .dataframe tbody tr th:only-of-type {\n",
       "        vertical-align: middle;\n",
       "    }\n",
       "\n",
       "    .dataframe tbody tr th {\n",
       "        vertical-align: top;\n",
       "    }\n",
       "\n",
       "    .dataframe thead th {\n",
       "        text-align: right;\n",
       "    }\n",
       "</style>\n",
       "<table border=\"1\" class=\"dataframe\">\n",
       "  <thead>\n",
       "    <tr style=\"text-align: right;\">\n",
       "      <th></th>\n",
       "      <th>country_name</th>\n",
       "      <th>country_code</th>\n",
       "      <th>clearance_efficiency_score</th>\n",
       "      <th>timely_consignee_receival_score</th>\n",
       "      <th>infrastructure_score</th>\n",
       "      <th>cluster_id</th>\n",
       "      <th>Performance</th>\n",
       "      <th>continent</th>\n",
       "    </tr>\n",
       "  </thead>\n",
       "  <tbody>\n",
       "    <tr>\n",
       "      <th>15</th>\n",
       "      <td>Bolivia</td>\n",
       "      <td>BOL</td>\n",
       "      <td>-0.614878</td>\n",
       "      <td>-0.861106</td>\n",
       "      <td>-0.848815</td>\n",
       "      <td>0</td>\n",
       "      <td>Low</td>\n",
       "      <td>South America</td>\n",
       "    </tr>\n",
       "    <tr>\n",
       "      <th>60</th>\n",
       "      <td>Guyana</td>\n",
       "      <td>GUY</td>\n",
       "      <td>-0.207527</td>\n",
       "      <td>-1.027427</td>\n",
       "      <td>-0.942739</td>\n",
       "      <td>0</td>\n",
       "      <td>Low</td>\n",
       "      <td>South America</td>\n",
       "    </tr>\n",
       "    <tr>\n",
       "      <th>153</th>\n",
       "      <td>Uruguay</td>\n",
       "      <td>URY</td>\n",
       "      <td>-0.274848</td>\n",
       "      <td>-0.574799</td>\n",
       "      <td>-0.430985</td>\n",
       "      <td>0</td>\n",
       "      <td>Low</td>\n",
       "      <td>South America</td>\n",
       "    </tr>\n",
       "    <tr>\n",
       "      <th>155</th>\n",
       "      <td>Venezuela</td>\n",
       "      <td>VEN</td>\n",
       "      <td>-1.537235</td>\n",
       "      <td>-1.140547</td>\n",
       "      <td>-0.931397</td>\n",
       "      <td>0</td>\n",
       "      <td>Low</td>\n",
       "      <td>South America</td>\n",
       "    </tr>\n",
       "  </tbody>\n",
       "</table>\n",
       "</div>"
      ],
      "text/plain": [
       "    country_name country_code  clearance_efficiency_score  \\\n",
       "15       Bolivia          BOL                   -0.614878   \n",
       "60        Guyana          GUY                   -0.207527   \n",
       "153      Uruguay          URY                   -0.274848   \n",
       "155    Venezuela          VEN                   -1.537235   \n",
       "\n",
       "     timely_consignee_receival_score  infrastructure_score  cluster_id  \\\n",
       "15                         -0.861106             -0.848815           0   \n",
       "60                         -1.027427             -0.942739           0   \n",
       "153                        -0.574799             -0.430985           0   \n",
       "155                        -1.140547             -0.931397           0   \n",
       "\n",
       "    Performance      continent  \n",
       "15          Low  South America  \n",
       "60          Low  South America  \n",
       "153         Low  South America  \n",
       "155         Low  South America  "
      ]
     },
     "execution_count": 78,
     "metadata": {},
     "output_type": "execute_result"
    }
   ],
   "source": [
    "#Who are the low performers in South America?\n",
    "df_low[df_low.continent=='South America']"
   ]
  },
  {
   "cell_type": "code",
   "execution_count": 79,
   "id": "3eeaa163",
   "metadata": {},
   "outputs": [
    {
     "data": {
      "text/html": [
       "<div>\n",
       "<style scoped>\n",
       "    .dataframe tbody tr th:only-of-type {\n",
       "        vertical-align: middle;\n",
       "    }\n",
       "\n",
       "    .dataframe tbody tr th {\n",
       "        vertical-align: top;\n",
       "    }\n",
       "\n",
       "    .dataframe thead th {\n",
       "        text-align: right;\n",
       "    }\n",
       "</style>\n",
       "<table border=\"1\" class=\"dataframe\">\n",
       "  <thead>\n",
       "    <tr style=\"text-align: right;\">\n",
       "      <th></th>\n",
       "      <th>country_name</th>\n",
       "      <th>country_code</th>\n",
       "      <th>clearance_efficiency_score</th>\n",
       "      <th>timely_consignee_receival_score</th>\n",
       "      <th>infrastructure_score</th>\n",
       "      <th>cluster_id</th>\n",
       "      <th>Performance</th>\n",
       "      <th>continent</th>\n",
       "    </tr>\n",
       "  </thead>\n",
       "  <tbody>\n",
       "    <tr>\n",
       "      <th>1</th>\n",
       "      <td>Albania</td>\n",
       "      <td>ALB</td>\n",
       "      <td>-0.565946</td>\n",
       "      <td>-0.058615</td>\n",
       "      <td>-0.638656</td>\n",
       "      <td>0</td>\n",
       "      <td>Low</td>\n",
       "      <td>Europe</td>\n",
       "    </tr>\n",
       "    <tr>\n",
       "      <th>89</th>\n",
       "      <td>Macedonia</td>\n",
       "      <td>MKD</td>\n",
       "      <td>-0.382551</td>\n",
       "      <td>-0.350910</td>\n",
       "      <td>-0.370941</td>\n",
       "      <td>0</td>\n",
       "      <td>Low</td>\n",
       "      <td>Europe</td>\n",
       "    </tr>\n",
       "    <tr>\n",
       "      <th>99</th>\n",
       "      <td>Moldova</td>\n",
       "      <td>MDA</td>\n",
       "      <td>-0.727967</td>\n",
       "      <td>-0.121079</td>\n",
       "      <td>-1.045968</td>\n",
       "      <td>0</td>\n",
       "      <td>Low</td>\n",
       "      <td>Europe</td>\n",
       "    </tr>\n",
       "  </tbody>\n",
       "</table>\n",
       "</div>"
      ],
      "text/plain": [
       "   country_name country_code  clearance_efficiency_score  \\\n",
       "1       Albania          ALB                   -0.565946   \n",
       "89    Macedonia          MKD                   -0.382551   \n",
       "99      Moldova          MDA                   -0.727967   \n",
       "\n",
       "    timely_consignee_receival_score  infrastructure_score  cluster_id  \\\n",
       "1                         -0.058615             -0.638656           0   \n",
       "89                        -0.350910             -0.370941           0   \n",
       "99                        -0.121079             -1.045968           0   \n",
       "\n",
       "   Performance continent  \n",
       "1          Low    Europe  \n",
       "89         Low    Europe  \n",
       "99         Low    Europe  "
      ]
     },
     "execution_count": 79,
     "metadata": {},
     "output_type": "execute_result"
    }
   ],
   "source": [
    "#Who are the low performers in Europe?\n",
    "df_low[df_low.continent=='Europe']"
   ]
  },
  {
   "cell_type": "code",
   "execution_count": 80,
   "id": "02f339ee",
   "metadata": {},
   "outputs": [
    {
     "data": {
      "text/html": [
       "<div>\n",
       "<style scoped>\n",
       "    .dataframe tbody tr th:only-of-type {\n",
       "        vertical-align: middle;\n",
       "    }\n",
       "\n",
       "    .dataframe tbody tr th {\n",
       "        vertical-align: top;\n",
       "    }\n",
       "\n",
       "    .dataframe thead th {\n",
       "        text-align: right;\n",
       "    }\n",
       "</style>\n",
       "<table border=\"1\" class=\"dataframe\">\n",
       "  <thead>\n",
       "    <tr style=\"text-align: right;\">\n",
       "      <th></th>\n",
       "      <th>country_name</th>\n",
       "      <th>country_code</th>\n",
       "      <th>clearance_efficiency_score</th>\n",
       "      <th>timely_consignee_receival_score</th>\n",
       "      <th>infrastructure_score</th>\n",
       "      <th>cluster_id</th>\n",
       "      <th>Performance</th>\n",
       "      <th>continent</th>\n",
       "    </tr>\n",
       "  </thead>\n",
       "  <tbody>\n",
       "    <tr>\n",
       "      <th>48</th>\n",
       "      <td>Fiji</td>\n",
       "      <td>FJI</td>\n",
       "      <td>-0.453189</td>\n",
       "      <td>-1.215994</td>\n",
       "      <td>-0.476337</td>\n",
       "      <td>0</td>\n",
       "      <td>Low</td>\n",
       "      <td>Oceania</td>\n",
       "    </tr>\n",
       "    <tr>\n",
       "      <th>113</th>\n",
       "      <td>Papua New Guinea</td>\n",
       "      <td>PNG</td>\n",
       "      <td>-0.611267</td>\n",
       "      <td>-1.394393</td>\n",
       "      <td>-1.119144</td>\n",
       "      <td>0</td>\n",
       "      <td>Low</td>\n",
       "      <td>Oceania</td>\n",
       "    </tr>\n",
       "  </tbody>\n",
       "</table>\n",
       "</div>"
      ],
      "text/plain": [
       "         country_name country_code  clearance_efficiency_score  \\\n",
       "48               Fiji          FJI                   -0.453189   \n",
       "113  Papua New Guinea          PNG                   -0.611267   \n",
       "\n",
       "     timely_consignee_receival_score  infrastructure_score  cluster_id  \\\n",
       "48                         -1.215994             -0.476337           0   \n",
       "113                        -1.394393             -1.119144           0   \n",
       "\n",
       "    Performance continent  \n",
       "48          Low   Oceania  \n",
       "113         Low   Oceania  "
      ]
     },
     "execution_count": 80,
     "metadata": {},
     "output_type": "execute_result"
    }
   ],
   "source": [
    "#Who are the low performers in Oceania?\n",
    "df_low[df_low.continent=='Oceania']"
   ]
  },
  {
   "cell_type": "code",
   "execution_count": 81,
   "id": "41527b91",
   "metadata": {},
   "outputs": [],
   "source": [
    "#Checking in which continent the medium performers are\n",
    "df_freq = df_med['continent'].value_counts(normalize=True) * 100\n",
    "df_freq = df_freq.to_frame()"
   ]
  },
  {
   "cell_type": "code",
   "execution_count": 82,
   "id": "45f2dfb0",
   "metadata": {},
   "outputs": [],
   "source": [
    "df_freq = df_freq.reset_index()"
   ]
  },
  {
   "cell_type": "code",
   "execution_count": 83,
   "id": "8456efb1",
   "metadata": {},
   "outputs": [],
   "source": [
    "df_freq.columns = ['Continent', 'Percentage']"
   ]
  },
  {
   "cell_type": "code",
   "execution_count": 84,
   "id": "102a24d0",
   "metadata": {},
   "outputs": [
    {
     "data": {
      "text/html": [
       "<div>\n",
       "<style scoped>\n",
       "    .dataframe tbody tr th:only-of-type {\n",
       "        vertical-align: middle;\n",
       "    }\n",
       "\n",
       "    .dataframe tbody tr th {\n",
       "        vertical-align: top;\n",
       "    }\n",
       "\n",
       "    .dataframe thead th {\n",
       "        text-align: right;\n",
       "    }\n",
       "</style>\n",
       "<table border=\"1\" class=\"dataframe\">\n",
       "  <thead>\n",
       "    <tr style=\"text-align: right;\">\n",
       "      <th></th>\n",
       "      <th>Continent</th>\n",
       "      <th>Percentage</th>\n",
       "    </tr>\n",
       "  </thead>\n",
       "  <tbody>\n",
       "    <tr>\n",
       "      <th>0</th>\n",
       "      <td>Asia</td>\n",
       "      <td>37.037037</td>\n",
       "    </tr>\n",
       "    <tr>\n",
       "      <th>1</th>\n",
       "      <td>Europe</td>\n",
       "      <td>27.777778</td>\n",
       "    </tr>\n",
       "    <tr>\n",
       "      <th>2</th>\n",
       "      <td>Africa</td>\n",
       "      <td>16.666667</td>\n",
       "    </tr>\n",
       "    <tr>\n",
       "      <th>3</th>\n",
       "      <td>South America</td>\n",
       "      <td>11.111111</td>\n",
       "    </tr>\n",
       "    <tr>\n",
       "      <th>4</th>\n",
       "      <td>North America</td>\n",
       "      <td>5.555556</td>\n",
       "    </tr>\n",
       "    <tr>\n",
       "      <th>5</th>\n",
       "      <td>Oceania</td>\n",
       "      <td>1.851852</td>\n",
       "    </tr>\n",
       "  </tbody>\n",
       "</table>\n",
       "</div>"
      ],
      "text/plain": [
       "       Continent  Percentage\n",
       "0           Asia   37.037037\n",
       "1         Europe   27.777778\n",
       "2         Africa   16.666667\n",
       "3  South America   11.111111\n",
       "4  North America    5.555556\n",
       "5        Oceania    1.851852"
      ]
     },
     "execution_count": 84,
     "metadata": {},
     "output_type": "execute_result"
    }
   ],
   "source": [
    "df_freq"
   ]
  },
  {
   "cell_type": "code",
   "execution_count": 85,
   "id": "369dbd79",
   "metadata": {},
   "outputs": [],
   "source": [
    "#Converting frequency table to df"
   ]
  },
  {
   "cell_type": "code",
   "execution_count": 86,
   "id": "511edb65",
   "metadata": {},
   "outputs": [
    {
     "data": {
      "text/plain": [
       "Europe           61.764706\n",
       "Asia             23.529412\n",
       "Oceania           5.882353\n",
       "North America     5.882353\n",
       "South America     2.941176\n",
       "Name: continent, dtype: float64"
      ]
     },
     "execution_count": 86,
     "metadata": {},
     "output_type": "execute_result"
    }
   ],
   "source": [
    "df_high['continent'].value_counts(normalize=True) * 100"
   ]
  },
  {
   "cell_type": "code",
   "execution_count": 87,
   "id": "b19302ec",
   "metadata": {},
   "outputs": [
    {
     "data": {
      "text/html": [
       "<div>\n",
       "<style scoped>\n",
       "    .dataframe tbody tr th:only-of-type {\n",
       "        vertical-align: middle;\n",
       "    }\n",
       "\n",
       "    .dataframe tbody tr th {\n",
       "        vertical-align: top;\n",
       "    }\n",
       "\n",
       "    .dataframe thead th {\n",
       "        text-align: right;\n",
       "    }\n",
       "</style>\n",
       "<table border=\"1\" class=\"dataframe\">\n",
       "  <thead>\n",
       "    <tr style=\"text-align: right;\">\n",
       "      <th></th>\n",
       "      <th>country_name</th>\n",
       "      <th>country_code</th>\n",
       "      <th>clearance_efficiency_score</th>\n",
       "      <th>timely_consignee_receival_score</th>\n",
       "      <th>infrastructure_score</th>\n",
       "      <th>cluster_id</th>\n",
       "      <th>Performance</th>\n",
       "      <th>continent</th>\n",
       "    </tr>\n",
       "  </thead>\n",
       "  <tbody>\n",
       "    <tr>\n",
       "      <th>54</th>\n",
       "      <td>Germany</td>\n",
       "      <td>DEU</td>\n",
       "      <td>2.462283</td>\n",
       "      <td>2.014000</td>\n",
       "      <td>2.457484</td>\n",
       "      <td>1</td>\n",
       "      <td>High</td>\n",
       "      <td>Europe</td>\n",
       "    </tr>\n",
       "    <tr>\n",
       "      <th>74</th>\n",
       "      <td>Japan</td>\n",
       "      <td>JPN</td>\n",
       "      <td>2.291767</td>\n",
       "      <td>1.773457</td>\n",
       "      <td>2.269691</td>\n",
       "      <td>1</td>\n",
       "      <td>High</td>\n",
       "      <td>Asia</td>\n",
       "    </tr>\n",
       "    <tr>\n",
       "      <th>136</th>\n",
       "      <td>Sweden</td>\n",
       "      <td>SWE</td>\n",
       "      <td>2.387849</td>\n",
       "      <td>1.827120</td>\n",
       "      <td>2.257352</td>\n",
       "      <td>1</td>\n",
       "      <td>High</td>\n",
       "      <td>Europe</td>\n",
       "    </tr>\n",
       "    <tr>\n",
       "      <th>105</th>\n",
       "      <td>Netherlands</td>\n",
       "      <td>NLD</td>\n",
       "      <td>2.159141</td>\n",
       "      <td>1.772179</td>\n",
       "      <td>2.209236</td>\n",
       "      <td>1</td>\n",
       "      <td>High</td>\n",
       "      <td>Europe</td>\n",
       "    </tr>\n",
       "    <tr>\n",
       "      <th>7</th>\n",
       "      <td>Austria</td>\n",
       "      <td>AUT</td>\n",
       "      <td>1.806034</td>\n",
       "      <td>1.767766</td>\n",
       "      <td>2.170509</td>\n",
       "      <td>1</td>\n",
       "      <td>High</td>\n",
       "      <td>Europe</td>\n",
       "    </tr>\n",
       "    <tr>\n",
       "      <th>127</th>\n",
       "      <td>Singapore</td>\n",
       "      <td>SGP</td>\n",
       "      <td>2.106256</td>\n",
       "      <td>1.888244</td>\n",
       "      <td>1.995230</td>\n",
       "      <td>1</td>\n",
       "      <td>High</td>\n",
       "      <td>Asia</td>\n",
       "    </tr>\n",
       "    <tr>\n",
       "      <th>152</th>\n",
       "      <td>United States</td>\n",
       "      <td>USA</td>\n",
       "      <td>1.912012</td>\n",
       "      <td>1.476454</td>\n",
       "      <td>1.967472</td>\n",
       "      <td>1</td>\n",
       "      <td>High</td>\n",
       "      <td>North America</td>\n",
       "    </tr>\n",
       "    <tr>\n",
       "      <th>151</th>\n",
       "      <td>United Kingdom</td>\n",
       "      <td>GBR</td>\n",
       "      <td>1.906569</td>\n",
       "      <td>1.905657</td>\n",
       "      <td>1.949101</td>\n",
       "      <td>1</td>\n",
       "      <td>High</td>\n",
       "      <td>Europe</td>\n",
       "    </tr>\n",
       "    <tr>\n",
       "      <th>137</th>\n",
       "      <td>Switzerland</td>\n",
       "      <td>CHE</td>\n",
       "      <td>1.658875</td>\n",
       "      <td>1.752130</td>\n",
       "      <td>1.932806</td>\n",
       "      <td>1</td>\n",
       "      <td>High</td>\n",
       "      <td>Europe</td>\n",
       "    </tr>\n",
       "    <tr>\n",
       "      <th>150</th>\n",
       "      <td>United Arab Emirates</td>\n",
       "      <td>ARE</td>\n",
       "      <td>1.662590</td>\n",
       "      <td>1.986430</td>\n",
       "      <td>1.931998</td>\n",
       "      <td>1</td>\n",
       "      <td>High</td>\n",
       "      <td>Asia</td>\n",
       "    </tr>\n",
       "    <tr>\n",
       "      <th>49</th>\n",
       "      <td>Finland</td>\n",
       "      <td>FIN</td>\n",
       "      <td>1.981256</td>\n",
       "      <td>1.818399</td>\n",
       "      <td>1.905482</td>\n",
       "      <td>1</td>\n",
       "      <td>High</td>\n",
       "      <td>Europe</td>\n",
       "    </tr>\n",
       "    <tr>\n",
       "      <th>50</th>\n",
       "      <td>France</td>\n",
       "      <td>FRA</td>\n",
       "      <td>1.590126</td>\n",
       "      <td>1.595666</td>\n",
       "      <td>1.895674</td>\n",
       "      <td>1</td>\n",
       "      <td>High</td>\n",
       "      <td>Europe</td>\n",
       "    </tr>\n",
       "    <tr>\n",
       "      <th>106</th>\n",
       "      <td>New Zealand</td>\n",
       "      <td>NZL</td>\n",
       "      <td>1.796589</td>\n",
       "      <td>1.775614</td>\n",
       "      <td>1.886442</td>\n",
       "      <td>1</td>\n",
       "      <td>High</td>\n",
       "      <td>Oceania</td>\n",
       "    </tr>\n",
       "    <tr>\n",
       "      <th>12</th>\n",
       "      <td>Belgium</td>\n",
       "      <td>BEL</td>\n",
       "      <td>1.717529</td>\n",
       "      <td>2.045677</td>\n",
       "      <td>1.876879</td>\n",
       "      <td>1</td>\n",
       "      <td>High</td>\n",
       "      <td>Europe</td>\n",
       "    </tr>\n",
       "    <tr>\n",
       "      <th>63</th>\n",
       "      <td>Hong Kong</td>\n",
       "      <td>HKG</td>\n",
       "      <td>1.980785</td>\n",
       "      <td>1.573187</td>\n",
       "      <td>1.854195</td>\n",
       "      <td>1</td>\n",
       "      <td>High</td>\n",
       "      <td>Asia</td>\n",
       "    </tr>\n",
       "    <tr>\n",
       "      <th>6</th>\n",
       "      <td>Australia</td>\n",
       "      <td>AUS</td>\n",
       "      <td>2.071731</td>\n",
       "      <td>1.289114</td>\n",
       "      <td>1.853342</td>\n",
       "      <td>1</td>\n",
       "      <td>High</td>\n",
       "      <td>Oceania</td>\n",
       "    </tr>\n",
       "    <tr>\n",
       "      <th>39</th>\n",
       "      <td>Denmark</td>\n",
       "      <td>DNK</td>\n",
       "      <td>2.160007</td>\n",
       "      <td>2.041408</td>\n",
       "      <td>1.838907</td>\n",
       "      <td>1</td>\n",
       "      <td>High</td>\n",
       "      <td>Europe</td>\n",
       "    </tr>\n",
       "    <tr>\n",
       "      <th>72</th>\n",
       "      <td>Italy</td>\n",
       "      <td>ITA</td>\n",
       "      <td>1.386063</td>\n",
       "      <td>1.551333</td>\n",
       "      <td>1.681441</td>\n",
       "      <td>1</td>\n",
       "      <td>High</td>\n",
       "      <td>Europe</td>\n",
       "    </tr>\n",
       "    <tr>\n",
       "      <th>133</th>\n",
       "      <td>Spain</td>\n",
       "      <td>ESP</td>\n",
       "      <td>1.644344</td>\n",
       "      <td>1.441161</td>\n",
       "      <td>1.662047</td>\n",
       "      <td>1</td>\n",
       "      <td>High</td>\n",
       "      <td>Europe</td>\n",
       "    </tr>\n",
       "    <tr>\n",
       "      <th>28</th>\n",
       "      <td>China</td>\n",
       "      <td>CHN</td>\n",
       "      <td>1.063099</td>\n",
       "      <td>1.051967</td>\n",
       "      <td>1.533111</td>\n",
       "      <td>1</td>\n",
       "      <td>High</td>\n",
       "      <td>Asia</td>\n",
       "    </tr>\n",
       "    <tr>\n",
       "      <th>24</th>\n",
       "      <td>Canada</td>\n",
       "      <td>CAN</td>\n",
       "      <td>1.614917</td>\n",
       "      <td>1.261917</td>\n",
       "      <td>1.529060</td>\n",
       "      <td>1</td>\n",
       "      <td>High</td>\n",
       "      <td>North America</td>\n",
       "    </tr>\n",
       "    <tr>\n",
       "      <th>78</th>\n",
       "      <td>South Korea</td>\n",
       "      <td>KOR</td>\n",
       "      <td>1.265540</td>\n",
       "      <td>1.190598</td>\n",
       "      <td>1.491908</td>\n",
       "      <td>1</td>\n",
       "      <td>High</td>\n",
       "      <td>Asia</td>\n",
       "    </tr>\n",
       "    <tr>\n",
       "      <th>140</th>\n",
       "      <td>Taiwan</td>\n",
       "      <td>TWN</td>\n",
       "      <td>1.389747</td>\n",
       "      <td>0.843915</td>\n",
       "      <td>1.483970</td>\n",
       "      <td>1</td>\n",
       "      <td>High</td>\n",
       "      <td>Asia</td>\n",
       "    </tr>\n",
       "    <tr>\n",
       "      <th>109</th>\n",
       "      <td>Norway</td>\n",
       "      <td>NOR</td>\n",
       "      <td>1.469278</td>\n",
       "      <td>1.230768</td>\n",
       "      <td>1.440560</td>\n",
       "      <td>1</td>\n",
       "      <td>High</td>\n",
       "      <td>Europe</td>\n",
       "    </tr>\n",
       "    <tr>\n",
       "      <th>88</th>\n",
       "      <td>Luxembourg</td>\n",
       "      <td>LUX</td>\n",
       "      <td>1.483084</td>\n",
       "      <td>1.163222</td>\n",
       "      <td>1.351911</td>\n",
       "      <td>1</td>\n",
       "      <td>High</td>\n",
       "      <td>Europe</td>\n",
       "    </tr>\n",
       "    <tr>\n",
       "      <th>38</th>\n",
       "      <td>Czech Republic</td>\n",
       "      <td>CZE</td>\n",
       "      <td>1.064399</td>\n",
       "      <td>1.563574</td>\n",
       "      <td>1.103654</td>\n",
       "      <td>1</td>\n",
       "      <td>High</td>\n",
       "      <td>Europe</td>\n",
       "    </tr>\n",
       "    <tr>\n",
       "      <th>71</th>\n",
       "      <td>Israel</td>\n",
       "      <td>ISR</td>\n",
       "      <td>1.116366</td>\n",
       "      <td>0.618871</td>\n",
       "      <td>0.901303</td>\n",
       "      <td>1</td>\n",
       "      <td>High</td>\n",
       "      <td>Asia</td>\n",
       "    </tr>\n",
       "    <tr>\n",
       "      <th>70</th>\n",
       "      <td>Ireland</td>\n",
       "      <td>IRL</td>\n",
       "      <td>1.187676</td>\n",
       "      <td>0.906210</td>\n",
       "      <td>0.848816</td>\n",
       "      <td>1</td>\n",
       "      <td>High</td>\n",
       "      <td>Europe</td>\n",
       "    </tr>\n",
       "    <tr>\n",
       "      <th>64</th>\n",
       "      <td>Hungary</td>\n",
       "      <td>HUN</td>\n",
       "      <td>1.182730</td>\n",
       "      <td>0.957743</td>\n",
       "      <td>0.815500</td>\n",
       "      <td>1</td>\n",
       "      <td>High</td>\n",
       "      <td>Europe</td>\n",
       "    </tr>\n",
       "    <tr>\n",
       "      <th>129</th>\n",
       "      <td>Slovenia</td>\n",
       "      <td>SVN</td>\n",
       "      <td>1.293465</td>\n",
       "      <td>0.799692</td>\n",
       "      <td>0.802049</td>\n",
       "      <td>1</td>\n",
       "      <td>High</td>\n",
       "      <td>Europe</td>\n",
       "    </tr>\n",
       "    <tr>\n",
       "      <th>118</th>\n",
       "      <td>Portugal</td>\n",
       "      <td>PRT</td>\n",
       "      <td>0.864285</td>\n",
       "      <td>1.550160</td>\n",
       "      <td>0.780269</td>\n",
       "      <td>1</td>\n",
       "      <td>High</td>\n",
       "      <td>Europe</td>\n",
       "    </tr>\n",
       "    <tr>\n",
       "      <th>27</th>\n",
       "      <td>Chile</td>\n",
       "      <td>CHL</td>\n",
       "      <td>1.042453</td>\n",
       "      <td>0.977037</td>\n",
       "      <td>0.724336</td>\n",
       "      <td>1</td>\n",
       "      <td>High</td>\n",
       "      <td>South America</td>\n",
       "    </tr>\n",
       "    <tr>\n",
       "      <th>117</th>\n",
       "      <td>Poland</td>\n",
       "      <td>POL</td>\n",
       "      <td>1.006763</td>\n",
       "      <td>1.251042</td>\n",
       "      <td>0.723181</td>\n",
       "      <td>1</td>\n",
       "      <td>High</td>\n",
       "      <td>Europe</td>\n",
       "    </tr>\n",
       "    <tr>\n",
       "      <th>47</th>\n",
       "      <td>Estonia</td>\n",
       "      <td>EST</td>\n",
       "      <td>1.125764</td>\n",
       "      <td>0.979947</td>\n",
       "      <td>0.559111</td>\n",
       "      <td>1</td>\n",
       "      <td>High</td>\n",
       "      <td>Europe</td>\n",
       "    </tr>\n",
       "  </tbody>\n",
       "</table>\n",
       "</div>"
      ],
      "text/plain": [
       "             country_name country_code  clearance_efficiency_score  \\\n",
       "54                Germany          DEU                    2.462283   \n",
       "74                  Japan          JPN                    2.291767   \n",
       "136                Sweden          SWE                    2.387849   \n",
       "105           Netherlands          NLD                    2.159141   \n",
       "7                 Austria          AUT                    1.806034   \n",
       "127             Singapore          SGP                    2.106256   \n",
       "152         United States          USA                    1.912012   \n",
       "151        United Kingdom          GBR                    1.906569   \n",
       "137           Switzerland          CHE                    1.658875   \n",
       "150  United Arab Emirates          ARE                    1.662590   \n",
       "49                Finland          FIN                    1.981256   \n",
       "50                 France          FRA                    1.590126   \n",
       "106           New Zealand          NZL                    1.796589   \n",
       "12                Belgium          BEL                    1.717529   \n",
       "63              Hong Kong          HKG                    1.980785   \n",
       "6               Australia          AUS                    2.071731   \n",
       "39                Denmark          DNK                    2.160007   \n",
       "72                  Italy          ITA                    1.386063   \n",
       "133                 Spain          ESP                    1.644344   \n",
       "28                  China          CHN                    1.063099   \n",
       "24                 Canada          CAN                    1.614917   \n",
       "78            South Korea          KOR                    1.265540   \n",
       "140                Taiwan          TWN                    1.389747   \n",
       "109                Norway          NOR                    1.469278   \n",
       "88             Luxembourg          LUX                    1.483084   \n",
       "38         Czech Republic          CZE                    1.064399   \n",
       "71                 Israel          ISR                    1.116366   \n",
       "70                Ireland          IRL                    1.187676   \n",
       "64                Hungary          HUN                    1.182730   \n",
       "129              Slovenia          SVN                    1.293465   \n",
       "118              Portugal          PRT                    0.864285   \n",
       "27                  Chile          CHL                    1.042453   \n",
       "117                Poland          POL                    1.006763   \n",
       "47                Estonia          EST                    1.125764   \n",
       "\n",
       "     timely_consignee_receival_score  infrastructure_score  cluster_id  \\\n",
       "54                          2.014000              2.457484           1   \n",
       "74                          1.773457              2.269691           1   \n",
       "136                         1.827120              2.257352           1   \n",
       "105                         1.772179              2.209236           1   \n",
       "7                           1.767766              2.170509           1   \n",
       "127                         1.888244              1.995230           1   \n",
       "152                         1.476454              1.967472           1   \n",
       "151                         1.905657              1.949101           1   \n",
       "137                         1.752130              1.932806           1   \n",
       "150                         1.986430              1.931998           1   \n",
       "49                          1.818399              1.905482           1   \n",
       "50                          1.595666              1.895674           1   \n",
       "106                         1.775614              1.886442           1   \n",
       "12                          2.045677              1.876879           1   \n",
       "63                          1.573187              1.854195           1   \n",
       "6                           1.289114              1.853342           1   \n",
       "39                          2.041408              1.838907           1   \n",
       "72                          1.551333              1.681441           1   \n",
       "133                         1.441161              1.662047           1   \n",
       "28                          1.051967              1.533111           1   \n",
       "24                          1.261917              1.529060           1   \n",
       "78                          1.190598              1.491908           1   \n",
       "140                         0.843915              1.483970           1   \n",
       "109                         1.230768              1.440560           1   \n",
       "88                          1.163222              1.351911           1   \n",
       "38                          1.563574              1.103654           1   \n",
       "71                          0.618871              0.901303           1   \n",
       "70                          0.906210              0.848816           1   \n",
       "64                          0.957743              0.815500           1   \n",
       "129                         0.799692              0.802049           1   \n",
       "118                         1.550160              0.780269           1   \n",
       "27                          0.977037              0.724336           1   \n",
       "117                         1.251042              0.723181           1   \n",
       "47                          0.979947              0.559111           1   \n",
       "\n",
       "    Performance      continent  \n",
       "54         High         Europe  \n",
       "74         High           Asia  \n",
       "136        High         Europe  \n",
       "105        High         Europe  \n",
       "7          High         Europe  \n",
       "127        High           Asia  \n",
       "152        High  North America  \n",
       "151        High         Europe  \n",
       "137        High         Europe  \n",
       "150        High           Asia  \n",
       "49         High         Europe  \n",
       "50         High         Europe  \n",
       "106        High        Oceania  \n",
       "12         High         Europe  \n",
       "63         High           Asia  \n",
       "6          High        Oceania  \n",
       "39         High         Europe  \n",
       "72         High         Europe  \n",
       "133        High         Europe  \n",
       "28         High           Asia  \n",
       "24         High  North America  \n",
       "78         High           Asia  \n",
       "140        High           Asia  \n",
       "109        High         Europe  \n",
       "88         High         Europe  \n",
       "38         High         Europe  \n",
       "71         High           Asia  \n",
       "70         High         Europe  \n",
       "64         High         Europe  \n",
       "129        High         Europe  \n",
       "118        High         Europe  \n",
       "27         High  South America  \n",
       "117        High         Europe  \n",
       "47         High         Europe  "
      ]
     },
     "execution_count": 87,
     "metadata": {},
     "output_type": "execute_result"
    }
   ],
   "source": [
    "df_high.sort_values(by='infrastructure_score', ascending=False)"
   ]
  },
  {
   "cell_type": "code",
   "execution_count": 88,
   "id": "31543273",
   "metadata": {},
   "outputs": [
    {
     "data": {
      "text/html": [
       "<div>\n",
       "<style scoped>\n",
       "    .dataframe tbody tr th:only-of-type {\n",
       "        vertical-align: middle;\n",
       "    }\n",
       "\n",
       "    .dataframe tbody tr th {\n",
       "        vertical-align: top;\n",
       "    }\n",
       "\n",
       "    .dataframe thead th {\n",
       "        text-align: right;\n",
       "    }\n",
       "</style>\n",
       "<table border=\"1\" class=\"dataframe\">\n",
       "  <thead>\n",
       "    <tr style=\"text-align: right;\">\n",
       "      <th></th>\n",
       "      <th>country_name</th>\n",
       "      <th>country_code</th>\n",
       "      <th>clearance_efficiency_score</th>\n",
       "      <th>timely_consignee_receival_score</th>\n",
       "      <th>infrastructure_score</th>\n",
       "      <th>cluster_id</th>\n",
       "      <th>Performance</th>\n",
       "      <th>continent</th>\n",
       "    </tr>\n",
       "  </thead>\n",
       "  <tbody>\n",
       "    <tr>\n",
       "      <th>3</th>\n",
       "      <td>Angola</td>\n",
       "      <td>AGO</td>\n",
       "      <td>-1.911970</td>\n",
       "      <td>-1.117504</td>\n",
       "      <td>-1.288203</td>\n",
       "      <td>0</td>\n",
       "      <td>Low</td>\n",
       "      <td>Africa</td>\n",
       "    </tr>\n",
       "    <tr>\n",
       "      <th>21</th>\n",
       "      <td>Burundi</td>\n",
       "      <td>BDI</td>\n",
       "      <td>-1.710558</td>\n",
       "      <td>-1.865928</td>\n",
       "      <td>-1.145771</td>\n",
       "      <td>0</td>\n",
       "      <td>Low</td>\n",
       "      <td>Africa</td>\n",
       "    </tr>\n",
       "    <tr>\n",
       "      <th>0</th>\n",
       "      <td>Afghanistan</td>\n",
       "      <td>AFG</td>\n",
       "      <td>-1.628308</td>\n",
       "      <td>-1.487864</td>\n",
       "      <td>-1.362602</td>\n",
       "      <td>0</td>\n",
       "      <td>Low</td>\n",
       "      <td>Asia</td>\n",
       "    </tr>\n",
       "    <tr>\n",
       "      <th>107</th>\n",
       "      <td>Niger</td>\n",
       "      <td>NER</td>\n",
       "      <td>-1.575209</td>\n",
       "      <td>-1.571492</td>\n",
       "      <td>-1.073983</td>\n",
       "      <td>0</td>\n",
       "      <td>Low</td>\n",
       "      <td>Africa</td>\n",
       "    </tr>\n",
       "    <tr>\n",
       "      <th>155</th>\n",
       "      <td>Venezuela</td>\n",
       "      <td>VEN</td>\n",
       "      <td>-1.537235</td>\n",
       "      <td>-1.140547</td>\n",
       "      <td>-0.931397</td>\n",
       "      <td>0</td>\n",
       "      <td>Low</td>\n",
       "      <td>South America</td>\n",
       "    </tr>\n",
       "    <tr>\n",
       "      <th>...</th>\n",
       "      <td>...</td>\n",
       "      <td>...</td>\n",
       "      <td>...</td>\n",
       "      <td>...</td>\n",
       "      <td>...</td>\n",
       "      <td>...</td>\n",
       "      <td>...</td>\n",
       "      <td>...</td>\n",
       "    </tr>\n",
       "    <tr>\n",
       "      <th>60</th>\n",
       "      <td>Guyana</td>\n",
       "      <td>GUY</td>\n",
       "      <td>-0.207527</td>\n",
       "      <td>-1.027427</td>\n",
       "      <td>-0.942739</td>\n",
       "      <td>0</td>\n",
       "      <td>Low</td>\n",
       "      <td>South America</td>\n",
       "    </tr>\n",
       "    <tr>\n",
       "      <th>5</th>\n",
       "      <td>Armenia</td>\n",
       "      <td>ARM</td>\n",
       "      <td>-0.172633</td>\n",
       "      <td>-0.592874</td>\n",
       "      <td>-0.355293</td>\n",
       "      <td>0</td>\n",
       "      <td>Low</td>\n",
       "      <td>Asia</td>\n",
       "    </tr>\n",
       "    <tr>\n",
       "      <th>134</th>\n",
       "      <td>Sri Lanka</td>\n",
       "      <td>LKA</td>\n",
       "      <td>-0.157658</td>\n",
       "      <td>-0.782109</td>\n",
       "      <td>-0.347999</td>\n",
       "      <td>0</td>\n",
       "      <td>Low</td>\n",
       "      <td>Asia</td>\n",
       "    </tr>\n",
       "    <tr>\n",
       "      <th>148</th>\n",
       "      <td>Uganda</td>\n",
       "      <td>UGA</td>\n",
       "      <td>-0.108826</td>\n",
       "      <td>-0.587376</td>\n",
       "      <td>-0.786979</td>\n",
       "      <td>0</td>\n",
       "      <td>Low</td>\n",
       "      <td>Africa</td>\n",
       "    </tr>\n",
       "    <tr>\n",
       "      <th>30</th>\n",
       "      <td>Comoros</td>\n",
       "      <td>COM</td>\n",
       "      <td>-0.083766</td>\n",
       "      <td>-0.752417</td>\n",
       "      <td>-0.703642</td>\n",
       "      <td>0</td>\n",
       "      <td>Low</td>\n",
       "      <td>Africa</td>\n",
       "    </tr>\n",
       "  </tbody>\n",
       "</table>\n",
       "<p>70 rows × 8 columns</p>\n",
       "</div>"
      ],
      "text/plain": [
       "    country_name country_code  clearance_efficiency_score  \\\n",
       "3         Angola          AGO                   -1.911970   \n",
       "21       Burundi          BDI                   -1.710558   \n",
       "0    Afghanistan          AFG                   -1.628308   \n",
       "107        Niger          NER                   -1.575209   \n",
       "155    Venezuela          VEN                   -1.537235   \n",
       "..           ...          ...                         ...   \n",
       "60        Guyana          GUY                   -0.207527   \n",
       "5        Armenia          ARM                   -0.172633   \n",
       "134    Sri Lanka          LKA                   -0.157658   \n",
       "148       Uganda          UGA                   -0.108826   \n",
       "30       Comoros          COM                   -0.083766   \n",
       "\n",
       "     timely_consignee_receival_score  infrastructure_score  cluster_id  \\\n",
       "3                          -1.117504             -1.288203           0   \n",
       "21                         -1.865928             -1.145771           0   \n",
       "0                          -1.487864             -1.362602           0   \n",
       "107                        -1.571492             -1.073983           0   \n",
       "155                        -1.140547             -0.931397           0   \n",
       "..                               ...                   ...         ...   \n",
       "60                         -1.027427             -0.942739           0   \n",
       "5                          -0.592874             -0.355293           0   \n",
       "134                        -0.782109             -0.347999           0   \n",
       "148                        -0.587376             -0.786979           0   \n",
       "30                         -0.752417             -0.703642           0   \n",
       "\n",
       "    Performance      continent  \n",
       "3           Low         Africa  \n",
       "21          Low         Africa  \n",
       "0           Low           Asia  \n",
       "107         Low         Africa  \n",
       "155         Low  South America  \n",
       "..          ...            ...  \n",
       "60          Low  South America  \n",
       "5           Low           Asia  \n",
       "134         Low           Asia  \n",
       "148         Low         Africa  \n",
       "30          Low         Africa  \n",
       "\n",
       "[70 rows x 8 columns]"
      ]
     },
     "execution_count": 88,
     "metadata": {},
     "output_type": "execute_result"
    }
   ],
   "source": [
    "df_low.sort_values(by='clearance_efficiency_score', ascending=True)"
   ]
  },
  {
   "cell_type": "markdown",
   "id": "695bb5d9",
   "metadata": {},
   "source": [
    "### Plotting Pie Charts to check for continent and performance"
   ]
  },
  {
   "cell_type": "code",
   "execution_count": 89,
   "id": "c8f74a04",
   "metadata": {},
   "outputs": [],
   "source": [
    "high_pie = df_high[[\"continent\", \"Performance\"]].groupby([\"continent\"]).count()\n",
    "high_pie = high_pie.reset_index()"
   ]
  },
  {
   "cell_type": "code",
   "execution_count": 90,
   "id": "e6921e3d",
   "metadata": {},
   "outputs": [],
   "source": [
    "medium_pie = df_med[[\"continent\", \"Performance\"]].groupby([\"continent\"]).count()\n",
    "medium_pie = medium_pie.reset_index()"
   ]
  },
  {
   "cell_type": "code",
   "execution_count": 91,
   "id": "47eb570b",
   "metadata": {},
   "outputs": [],
   "source": [
    "low_pie = df_low[[\"continent\", \"Performance\"]].groupby([\"continent\"]).count()\n",
    "low_pie = low_pie.reset_index()"
   ]
  },
  {
   "cell_type": "code",
   "execution_count": 92,
   "id": "74bb90ea",
   "metadata": {},
   "outputs": [
    {
     "data": {
      "text/html": [
       "<div>\n",
       "<style scoped>\n",
       "    .dataframe tbody tr th:only-of-type {\n",
       "        vertical-align: middle;\n",
       "    }\n",
       "\n",
       "    .dataframe tbody tr th {\n",
       "        vertical-align: top;\n",
       "    }\n",
       "\n",
       "    .dataframe thead th {\n",
       "        text-align: right;\n",
       "    }\n",
       "</style>\n",
       "<table border=\"1\" class=\"dataframe\">\n",
       "  <thead>\n",
       "    <tr style=\"text-align: right;\">\n",
       "      <th></th>\n",
       "      <th>continent</th>\n",
       "      <th>Performance</th>\n",
       "    </tr>\n",
       "  </thead>\n",
       "  <tbody>\n",
       "    <tr>\n",
       "      <th>0</th>\n",
       "      <td>Asia</td>\n",
       "      <td>8</td>\n",
       "    </tr>\n",
       "    <tr>\n",
       "      <th>1</th>\n",
       "      <td>Europe</td>\n",
       "      <td>21</td>\n",
       "    </tr>\n",
       "    <tr>\n",
       "      <th>2</th>\n",
       "      <td>North America</td>\n",
       "      <td>2</td>\n",
       "    </tr>\n",
       "    <tr>\n",
       "      <th>3</th>\n",
       "      <td>Oceania</td>\n",
       "      <td>2</td>\n",
       "    </tr>\n",
       "    <tr>\n",
       "      <th>4</th>\n",
       "      <td>South America</td>\n",
       "      <td>1</td>\n",
       "    </tr>\n",
       "  </tbody>\n",
       "</table>\n",
       "</div>"
      ],
      "text/plain": [
       "       continent  Performance\n",
       "0           Asia            8\n",
       "1         Europe           21\n",
       "2  North America            2\n",
       "3        Oceania            2\n",
       "4  South America            1"
      ]
     },
     "execution_count": 92,
     "metadata": {},
     "output_type": "execute_result"
    }
   ],
   "source": [
    "high_pie"
   ]
  },
  {
   "cell_type": "code",
   "execution_count": 93,
   "id": "6d098243",
   "metadata": {},
   "outputs": [
    {
     "data": {
      "text/html": [
       "<div>\n",
       "<style scoped>\n",
       "    .dataframe tbody tr th:only-of-type {\n",
       "        vertical-align: middle;\n",
       "    }\n",
       "\n",
       "    .dataframe tbody tr th {\n",
       "        vertical-align: top;\n",
       "    }\n",
       "\n",
       "    .dataframe thead th {\n",
       "        text-align: right;\n",
       "    }\n",
       "</style>\n",
       "<table border=\"1\" class=\"dataframe\">\n",
       "  <thead>\n",
       "    <tr style=\"text-align: right;\">\n",
       "      <th></th>\n",
       "      <th>continent</th>\n",
       "      <th>Performance</th>\n",
       "    </tr>\n",
       "  </thead>\n",
       "  <tbody>\n",
       "    <tr>\n",
       "      <th>0</th>\n",
       "      <td>Africa</td>\n",
       "      <td>9</td>\n",
       "    </tr>\n",
       "    <tr>\n",
       "      <th>1</th>\n",
       "      <td>Asia</td>\n",
       "      <td>20</td>\n",
       "    </tr>\n",
       "    <tr>\n",
       "      <th>2</th>\n",
       "      <td>Europe</td>\n",
       "      <td>15</td>\n",
       "    </tr>\n",
       "    <tr>\n",
       "      <th>3</th>\n",
       "      <td>North America</td>\n",
       "      <td>3</td>\n",
       "    </tr>\n",
       "    <tr>\n",
       "      <th>4</th>\n",
       "      <td>Oceania</td>\n",
       "      <td>1</td>\n",
       "    </tr>\n",
       "    <tr>\n",
       "      <th>5</th>\n",
       "      <td>South America</td>\n",
       "      <td>6</td>\n",
       "    </tr>\n",
       "  </tbody>\n",
       "</table>\n",
       "</div>"
      ],
      "text/plain": [
       "       continent  Performance\n",
       "0         Africa            9\n",
       "1           Asia           20\n",
       "2         Europe           15\n",
       "3  North America            3\n",
       "4        Oceania            1\n",
       "5  South America            6"
      ]
     },
     "execution_count": 93,
     "metadata": {},
     "output_type": "execute_result"
    }
   ],
   "source": [
    "medium_pie"
   ]
  },
  {
   "cell_type": "code",
   "execution_count": 94,
   "id": "7ff7fde2",
   "metadata": {},
   "outputs": [
    {
     "data": {
      "text/html": [
       "<div>\n",
       "<style scoped>\n",
       "    .dataframe tbody tr th:only-of-type {\n",
       "        vertical-align: middle;\n",
       "    }\n",
       "\n",
       "    .dataframe tbody tr th {\n",
       "        vertical-align: top;\n",
       "    }\n",
       "\n",
       "    .dataframe thead th {\n",
       "        text-align: right;\n",
       "    }\n",
       "</style>\n",
       "<table border=\"1\" class=\"dataframe\">\n",
       "  <thead>\n",
       "    <tr style=\"text-align: right;\">\n",
       "      <th></th>\n",
       "      <th>continent</th>\n",
       "      <th>Performance</th>\n",
       "    </tr>\n",
       "  </thead>\n",
       "  <tbody>\n",
       "    <tr>\n",
       "      <th>0</th>\n",
       "      <td>Africa</td>\n",
       "      <td>36</td>\n",
       "    </tr>\n",
       "    <tr>\n",
       "      <th>1</th>\n",
       "      <td>Asia</td>\n",
       "      <td>17</td>\n",
       "    </tr>\n",
       "    <tr>\n",
       "      <th>2</th>\n",
       "      <td>Europe</td>\n",
       "      <td>3</td>\n",
       "    </tr>\n",
       "    <tr>\n",
       "      <th>3</th>\n",
       "      <td>North America</td>\n",
       "      <td>8</td>\n",
       "    </tr>\n",
       "    <tr>\n",
       "      <th>4</th>\n",
       "      <td>Oceania</td>\n",
       "      <td>2</td>\n",
       "    </tr>\n",
       "    <tr>\n",
       "      <th>5</th>\n",
       "      <td>South America</td>\n",
       "      <td>4</td>\n",
       "    </tr>\n",
       "  </tbody>\n",
       "</table>\n",
       "</div>"
      ],
      "text/plain": [
       "       continent  Performance\n",
       "0         Africa           36\n",
       "1           Asia           17\n",
       "2         Europe            3\n",
       "3  North America            8\n",
       "4        Oceania            2\n",
       "5  South America            4"
      ]
     },
     "execution_count": 94,
     "metadata": {},
     "output_type": "execute_result"
    }
   ],
   "source": [
    "low_pie"
   ]
  },
  {
   "cell_type": "code",
   "execution_count": 95,
   "id": "7dbb2464",
   "metadata": {},
   "outputs": [
    {
     "data": {
      "application/vnd.plotly.v1+json": {
       "config": {
        "plotlyServerURL": "https://plot.ly"
       },
       "data": [
        {
         "customdata": [
          [
           "Asia"
          ],
          [
           "Europe"
          ],
          [
           "North America"
          ],
          [
           "Oceania"
          ],
          [
           "South America"
          ]
         ],
         "domain": {
          "x": [
           0,
           1
          ],
          "y": [
           0,
           1
          ]
         },
         "hovertemplate": "continent=%{customdata[0]}<br>Performance=%{value}<extra></extra>",
         "labels": [
          "Asia",
          "Europe",
          "North America",
          "Oceania",
          "South America"
         ],
         "legendgroup": "",
         "marker": {
          "colors": [
           "#fcba03",
           "#03a1fc",
           "#5203fc",
           "#fc0356",
           "darkblue"
          ]
         },
         "name": "",
         "showlegend": true,
         "textfont": {
          "size": 14
         },
         "textinfo": "label+percent",
         "textposition": "inside",
         "type": "pie",
         "values": [
          8,
          21,
          2,
          2,
          1
         ]
        }
       ],
       "layout": {
        "autosize": false,
        "height": 500,
        "legend": {
         "tracegroupgap": 0
        },
        "margin": {
         "t": 60
        },
        "template": {
         "data": {
          "bar": [
           {
            "error_x": {
             "color": "#2a3f5f"
            },
            "error_y": {
             "color": "#2a3f5f"
            },
            "marker": {
             "line": {
              "color": "#E5ECF6",
              "width": 0.5
             },
             "pattern": {
              "fillmode": "overlay",
              "size": 10,
              "solidity": 0.2
             }
            },
            "type": "bar"
           }
          ],
          "barpolar": [
           {
            "marker": {
             "line": {
              "color": "#E5ECF6",
              "width": 0.5
             },
             "pattern": {
              "fillmode": "overlay",
              "size": 10,
              "solidity": 0.2
             }
            },
            "type": "barpolar"
           }
          ],
          "carpet": [
           {
            "aaxis": {
             "endlinecolor": "#2a3f5f",
             "gridcolor": "white",
             "linecolor": "white",
             "minorgridcolor": "white",
             "startlinecolor": "#2a3f5f"
            },
            "baxis": {
             "endlinecolor": "#2a3f5f",
             "gridcolor": "white",
             "linecolor": "white",
             "minorgridcolor": "white",
             "startlinecolor": "#2a3f5f"
            },
            "type": "carpet"
           }
          ],
          "choropleth": [
           {
            "colorbar": {
             "outlinewidth": 0,
             "ticks": ""
            },
            "type": "choropleth"
           }
          ],
          "contour": [
           {
            "colorbar": {
             "outlinewidth": 0,
             "ticks": ""
            },
            "colorscale": [
             [
              0,
              "#0d0887"
             ],
             [
              0.1111111111111111,
              "#46039f"
             ],
             [
              0.2222222222222222,
              "#7201a8"
             ],
             [
              0.3333333333333333,
              "#9c179e"
             ],
             [
              0.4444444444444444,
              "#bd3786"
             ],
             [
              0.5555555555555556,
              "#d8576b"
             ],
             [
              0.6666666666666666,
              "#ed7953"
             ],
             [
              0.7777777777777778,
              "#fb9f3a"
             ],
             [
              0.8888888888888888,
              "#fdca26"
             ],
             [
              1,
              "#f0f921"
             ]
            ],
            "type": "contour"
           }
          ],
          "contourcarpet": [
           {
            "colorbar": {
             "outlinewidth": 0,
             "ticks": ""
            },
            "type": "contourcarpet"
           }
          ],
          "heatmap": [
           {
            "colorbar": {
             "outlinewidth": 0,
             "ticks": ""
            },
            "colorscale": [
             [
              0,
              "#0d0887"
             ],
             [
              0.1111111111111111,
              "#46039f"
             ],
             [
              0.2222222222222222,
              "#7201a8"
             ],
             [
              0.3333333333333333,
              "#9c179e"
             ],
             [
              0.4444444444444444,
              "#bd3786"
             ],
             [
              0.5555555555555556,
              "#d8576b"
             ],
             [
              0.6666666666666666,
              "#ed7953"
             ],
             [
              0.7777777777777778,
              "#fb9f3a"
             ],
             [
              0.8888888888888888,
              "#fdca26"
             ],
             [
              1,
              "#f0f921"
             ]
            ],
            "type": "heatmap"
           }
          ],
          "heatmapgl": [
           {
            "colorbar": {
             "outlinewidth": 0,
             "ticks": ""
            },
            "colorscale": [
             [
              0,
              "#0d0887"
             ],
             [
              0.1111111111111111,
              "#46039f"
             ],
             [
              0.2222222222222222,
              "#7201a8"
             ],
             [
              0.3333333333333333,
              "#9c179e"
             ],
             [
              0.4444444444444444,
              "#bd3786"
             ],
             [
              0.5555555555555556,
              "#d8576b"
             ],
             [
              0.6666666666666666,
              "#ed7953"
             ],
             [
              0.7777777777777778,
              "#fb9f3a"
             ],
             [
              0.8888888888888888,
              "#fdca26"
             ],
             [
              1,
              "#f0f921"
             ]
            ],
            "type": "heatmapgl"
           }
          ],
          "histogram": [
           {
            "marker": {
             "pattern": {
              "fillmode": "overlay",
              "size": 10,
              "solidity": 0.2
             }
            },
            "type": "histogram"
           }
          ],
          "histogram2d": [
           {
            "colorbar": {
             "outlinewidth": 0,
             "ticks": ""
            },
            "colorscale": [
             [
              0,
              "#0d0887"
             ],
             [
              0.1111111111111111,
              "#46039f"
             ],
             [
              0.2222222222222222,
              "#7201a8"
             ],
             [
              0.3333333333333333,
              "#9c179e"
             ],
             [
              0.4444444444444444,
              "#bd3786"
             ],
             [
              0.5555555555555556,
              "#d8576b"
             ],
             [
              0.6666666666666666,
              "#ed7953"
             ],
             [
              0.7777777777777778,
              "#fb9f3a"
             ],
             [
              0.8888888888888888,
              "#fdca26"
             ],
             [
              1,
              "#f0f921"
             ]
            ],
            "type": "histogram2d"
           }
          ],
          "histogram2dcontour": [
           {
            "colorbar": {
             "outlinewidth": 0,
             "ticks": ""
            },
            "colorscale": [
             [
              0,
              "#0d0887"
             ],
             [
              0.1111111111111111,
              "#46039f"
             ],
             [
              0.2222222222222222,
              "#7201a8"
             ],
             [
              0.3333333333333333,
              "#9c179e"
             ],
             [
              0.4444444444444444,
              "#bd3786"
             ],
             [
              0.5555555555555556,
              "#d8576b"
             ],
             [
              0.6666666666666666,
              "#ed7953"
             ],
             [
              0.7777777777777778,
              "#fb9f3a"
             ],
             [
              0.8888888888888888,
              "#fdca26"
             ],
             [
              1,
              "#f0f921"
             ]
            ],
            "type": "histogram2dcontour"
           }
          ],
          "mesh3d": [
           {
            "colorbar": {
             "outlinewidth": 0,
             "ticks": ""
            },
            "type": "mesh3d"
           }
          ],
          "parcoords": [
           {
            "line": {
             "colorbar": {
              "outlinewidth": 0,
              "ticks": ""
             }
            },
            "type": "parcoords"
           }
          ],
          "pie": [
           {
            "automargin": true,
            "type": "pie"
           }
          ],
          "scatter": [
           {
            "fillpattern": {
             "fillmode": "overlay",
             "size": 10,
             "solidity": 0.2
            },
            "type": "scatter"
           }
          ],
          "scatter3d": [
           {
            "line": {
             "colorbar": {
              "outlinewidth": 0,
              "ticks": ""
             }
            },
            "marker": {
             "colorbar": {
              "outlinewidth": 0,
              "ticks": ""
             }
            },
            "type": "scatter3d"
           }
          ],
          "scattercarpet": [
           {
            "marker": {
             "colorbar": {
              "outlinewidth": 0,
              "ticks": ""
             }
            },
            "type": "scattercarpet"
           }
          ],
          "scattergeo": [
           {
            "marker": {
             "colorbar": {
              "outlinewidth": 0,
              "ticks": ""
             }
            },
            "type": "scattergeo"
           }
          ],
          "scattergl": [
           {
            "marker": {
             "colorbar": {
              "outlinewidth": 0,
              "ticks": ""
             }
            },
            "type": "scattergl"
           }
          ],
          "scattermapbox": [
           {
            "marker": {
             "colorbar": {
              "outlinewidth": 0,
              "ticks": ""
             }
            },
            "type": "scattermapbox"
           }
          ],
          "scatterpolar": [
           {
            "marker": {
             "colorbar": {
              "outlinewidth": 0,
              "ticks": ""
             }
            },
            "type": "scatterpolar"
           }
          ],
          "scatterpolargl": [
           {
            "marker": {
             "colorbar": {
              "outlinewidth": 0,
              "ticks": ""
             }
            },
            "type": "scatterpolargl"
           }
          ],
          "scatterternary": [
           {
            "marker": {
             "colorbar": {
              "outlinewidth": 0,
              "ticks": ""
             }
            },
            "type": "scatterternary"
           }
          ],
          "surface": [
           {
            "colorbar": {
             "outlinewidth": 0,
             "ticks": ""
            },
            "colorscale": [
             [
              0,
              "#0d0887"
             ],
             [
              0.1111111111111111,
              "#46039f"
             ],
             [
              0.2222222222222222,
              "#7201a8"
             ],
             [
              0.3333333333333333,
              "#9c179e"
             ],
             [
              0.4444444444444444,
              "#bd3786"
             ],
             [
              0.5555555555555556,
              "#d8576b"
             ],
             [
              0.6666666666666666,
              "#ed7953"
             ],
             [
              0.7777777777777778,
              "#fb9f3a"
             ],
             [
              0.8888888888888888,
              "#fdca26"
             ],
             [
              1,
              "#f0f921"
             ]
            ],
            "type": "surface"
           }
          ],
          "table": [
           {
            "cells": {
             "fill": {
              "color": "#EBF0F8"
             },
             "line": {
              "color": "white"
             }
            },
            "header": {
             "fill": {
              "color": "#C8D4E3"
             },
             "line": {
              "color": "white"
             }
            },
            "type": "table"
           }
          ]
         },
         "layout": {
          "annotationdefaults": {
           "arrowcolor": "#2a3f5f",
           "arrowhead": 0,
           "arrowwidth": 1
          },
          "autotypenumbers": "strict",
          "coloraxis": {
           "colorbar": {
            "outlinewidth": 0,
            "ticks": ""
           }
          },
          "colorscale": {
           "diverging": [
            [
             0,
             "#8e0152"
            ],
            [
             0.1,
             "#c51b7d"
            ],
            [
             0.2,
             "#de77ae"
            ],
            [
             0.3,
             "#f1b6da"
            ],
            [
             0.4,
             "#fde0ef"
            ],
            [
             0.5,
             "#f7f7f7"
            ],
            [
             0.6,
             "#e6f5d0"
            ],
            [
             0.7,
             "#b8e186"
            ],
            [
             0.8,
             "#7fbc41"
            ],
            [
             0.9,
             "#4d9221"
            ],
            [
             1,
             "#276419"
            ]
           ],
           "sequential": [
            [
             0,
             "#0d0887"
            ],
            [
             0.1111111111111111,
             "#46039f"
            ],
            [
             0.2222222222222222,
             "#7201a8"
            ],
            [
             0.3333333333333333,
             "#9c179e"
            ],
            [
             0.4444444444444444,
             "#bd3786"
            ],
            [
             0.5555555555555556,
             "#d8576b"
            ],
            [
             0.6666666666666666,
             "#ed7953"
            ],
            [
             0.7777777777777778,
             "#fb9f3a"
            ],
            [
             0.8888888888888888,
             "#fdca26"
            ],
            [
             1,
             "#f0f921"
            ]
           ],
           "sequentialminus": [
            [
             0,
             "#0d0887"
            ],
            [
             0.1111111111111111,
             "#46039f"
            ],
            [
             0.2222222222222222,
             "#7201a8"
            ],
            [
             0.3333333333333333,
             "#9c179e"
            ],
            [
             0.4444444444444444,
             "#bd3786"
            ],
            [
             0.5555555555555556,
             "#d8576b"
            ],
            [
             0.6666666666666666,
             "#ed7953"
            ],
            [
             0.7777777777777778,
             "#fb9f3a"
            ],
            [
             0.8888888888888888,
             "#fdca26"
            ],
            [
             1,
             "#f0f921"
            ]
           ]
          },
          "colorway": [
           "#636efa",
           "#EF553B",
           "#00cc96",
           "#ab63fa",
           "#FFA15A",
           "#19d3f3",
           "#FF6692",
           "#B6E880",
           "#FF97FF",
           "#FECB52"
          ],
          "font": {
           "color": "#2a3f5f"
          },
          "geo": {
           "bgcolor": "white",
           "lakecolor": "white",
           "landcolor": "#E5ECF6",
           "showlakes": true,
           "showland": true,
           "subunitcolor": "white"
          },
          "hoverlabel": {
           "align": "left"
          },
          "hovermode": "closest",
          "mapbox": {
           "style": "light"
          },
          "paper_bgcolor": "white",
          "plot_bgcolor": "#E5ECF6",
          "polar": {
           "angularaxis": {
            "gridcolor": "white",
            "linecolor": "white",
            "ticks": ""
           },
           "bgcolor": "#E5ECF6",
           "radialaxis": {
            "gridcolor": "white",
            "linecolor": "white",
            "ticks": ""
           }
          },
          "scene": {
           "xaxis": {
            "backgroundcolor": "#E5ECF6",
            "gridcolor": "white",
            "gridwidth": 2,
            "linecolor": "white",
            "showbackground": true,
            "ticks": "",
            "zerolinecolor": "white"
           },
           "yaxis": {
            "backgroundcolor": "#E5ECF6",
            "gridcolor": "white",
            "gridwidth": 2,
            "linecolor": "white",
            "showbackground": true,
            "ticks": "",
            "zerolinecolor": "white"
           },
           "zaxis": {
            "backgroundcolor": "#E5ECF6",
            "gridcolor": "white",
            "gridwidth": 2,
            "linecolor": "white",
            "showbackground": true,
            "ticks": "",
            "zerolinecolor": "white"
           }
          },
          "shapedefaults": {
           "line": {
            "color": "#2a3f5f"
           }
          },
          "ternary": {
           "aaxis": {
            "gridcolor": "white",
            "linecolor": "white",
            "ticks": ""
           },
           "baxis": {
            "gridcolor": "white",
            "linecolor": "white",
            "ticks": ""
           },
           "bgcolor": "#E5ECF6",
           "caxis": {
            "gridcolor": "white",
            "linecolor": "white",
            "ticks": ""
           }
          },
          "title": {
           "x": 0.05
          },
          "xaxis": {
           "automargin": true,
           "gridcolor": "white",
           "linecolor": "white",
           "ticks": "",
           "title": {
            "standoff": 15
           },
           "zerolinecolor": "white",
           "zerolinewidth": 2
          },
          "yaxis": {
           "automargin": true,
           "gridcolor": "white",
           "linecolor": "white",
           "ticks": "",
           "title": {
            "standoff": 15
           },
           "zerolinecolor": "white",
           "zerolinewidth": 2
          }
         }
        },
        "title": {
         "text": "High performers distribution"
        },
        "width": 500
       }
      },
      "text/html": [
       "<div>                            <div id=\"7df5f7a8-9568-4443-9e06-3161e086253d\" class=\"plotly-graph-div\" style=\"height:500px; width:500px;\"></div>            <script type=\"text/javascript\">                require([\"plotly\"], function(Plotly) {                    window.PLOTLYENV=window.PLOTLYENV || {};                                    if (document.getElementById(\"7df5f7a8-9568-4443-9e06-3161e086253d\")) {                    Plotly.newPlot(                        \"7df5f7a8-9568-4443-9e06-3161e086253d\",                        [{\"customdata\":[[\"Asia\"],[\"Europe\"],[\"North America\"],[\"Oceania\"],[\"South America\"]],\"domain\":{\"x\":[0.0,1.0],\"y\":[0.0,1.0]},\"hovertemplate\":\"continent=%{customdata[0]}<br>Performance=%{value}<extra></extra>\",\"labels\":[\"Asia\",\"Europe\",\"North America\",\"Oceania\",\"South America\"],\"legendgroup\":\"\",\"marker\":{\"colors\":[\"#fcba03\",\"#03a1fc\",\"#5203fc\",\"#fc0356\",\"darkblue\"]},\"name\":\"\",\"showlegend\":true,\"values\":[8,21,2,2,1],\"type\":\"pie\",\"textfont\":{\"size\":14},\"textinfo\":\"label+percent\",\"textposition\":\"inside\"}],                        {\"template\":{\"data\":{\"histogram2dcontour\":[{\"type\":\"histogram2dcontour\",\"colorbar\":{\"outlinewidth\":0,\"ticks\":\"\"},\"colorscale\":[[0.0,\"#0d0887\"],[0.1111111111111111,\"#46039f\"],[0.2222222222222222,\"#7201a8\"],[0.3333333333333333,\"#9c179e\"],[0.4444444444444444,\"#bd3786\"],[0.5555555555555556,\"#d8576b\"],[0.6666666666666666,\"#ed7953\"],[0.7777777777777778,\"#fb9f3a\"],[0.8888888888888888,\"#fdca26\"],[1.0,\"#f0f921\"]]}],\"choropleth\":[{\"type\":\"choropleth\",\"colorbar\":{\"outlinewidth\":0,\"ticks\":\"\"}}],\"histogram2d\":[{\"type\":\"histogram2d\",\"colorbar\":{\"outlinewidth\":0,\"ticks\":\"\"},\"colorscale\":[[0.0,\"#0d0887\"],[0.1111111111111111,\"#46039f\"],[0.2222222222222222,\"#7201a8\"],[0.3333333333333333,\"#9c179e\"],[0.4444444444444444,\"#bd3786\"],[0.5555555555555556,\"#d8576b\"],[0.6666666666666666,\"#ed7953\"],[0.7777777777777778,\"#fb9f3a\"],[0.8888888888888888,\"#fdca26\"],[1.0,\"#f0f921\"]]}],\"heatmap\":[{\"type\":\"heatmap\",\"colorbar\":{\"outlinewidth\":0,\"ticks\":\"\"},\"colorscale\":[[0.0,\"#0d0887\"],[0.1111111111111111,\"#46039f\"],[0.2222222222222222,\"#7201a8\"],[0.3333333333333333,\"#9c179e\"],[0.4444444444444444,\"#bd3786\"],[0.5555555555555556,\"#d8576b\"],[0.6666666666666666,\"#ed7953\"],[0.7777777777777778,\"#fb9f3a\"],[0.8888888888888888,\"#fdca26\"],[1.0,\"#f0f921\"]]}],\"heatmapgl\":[{\"type\":\"heatmapgl\",\"colorbar\":{\"outlinewidth\":0,\"ticks\":\"\"},\"colorscale\":[[0.0,\"#0d0887\"],[0.1111111111111111,\"#46039f\"],[0.2222222222222222,\"#7201a8\"],[0.3333333333333333,\"#9c179e\"],[0.4444444444444444,\"#bd3786\"],[0.5555555555555556,\"#d8576b\"],[0.6666666666666666,\"#ed7953\"],[0.7777777777777778,\"#fb9f3a\"],[0.8888888888888888,\"#fdca26\"],[1.0,\"#f0f921\"]]}],\"contourcarpet\":[{\"type\":\"contourcarpet\",\"colorbar\":{\"outlinewidth\":0,\"ticks\":\"\"}}],\"contour\":[{\"type\":\"contour\",\"colorbar\":{\"outlinewidth\":0,\"ticks\":\"\"},\"colorscale\":[[0.0,\"#0d0887\"],[0.1111111111111111,\"#46039f\"],[0.2222222222222222,\"#7201a8\"],[0.3333333333333333,\"#9c179e\"],[0.4444444444444444,\"#bd3786\"],[0.5555555555555556,\"#d8576b\"],[0.6666666666666666,\"#ed7953\"],[0.7777777777777778,\"#fb9f3a\"],[0.8888888888888888,\"#fdca26\"],[1.0,\"#f0f921\"]]}],\"surface\":[{\"type\":\"surface\",\"colorbar\":{\"outlinewidth\":0,\"ticks\":\"\"},\"colorscale\":[[0.0,\"#0d0887\"],[0.1111111111111111,\"#46039f\"],[0.2222222222222222,\"#7201a8\"],[0.3333333333333333,\"#9c179e\"],[0.4444444444444444,\"#bd3786\"],[0.5555555555555556,\"#d8576b\"],[0.6666666666666666,\"#ed7953\"],[0.7777777777777778,\"#fb9f3a\"],[0.8888888888888888,\"#fdca26\"],[1.0,\"#f0f921\"]]}],\"mesh3d\":[{\"type\":\"mesh3d\",\"colorbar\":{\"outlinewidth\":0,\"ticks\":\"\"}}],\"scatter\":[{\"fillpattern\":{\"fillmode\":\"overlay\",\"size\":10,\"solidity\":0.2},\"type\":\"scatter\"}],\"parcoords\":[{\"type\":\"parcoords\",\"line\":{\"colorbar\":{\"outlinewidth\":0,\"ticks\":\"\"}}}],\"scatterpolargl\":[{\"type\":\"scatterpolargl\",\"marker\":{\"colorbar\":{\"outlinewidth\":0,\"ticks\":\"\"}}}],\"bar\":[{\"error_x\":{\"color\":\"#2a3f5f\"},\"error_y\":{\"color\":\"#2a3f5f\"},\"marker\":{\"line\":{\"color\":\"#E5ECF6\",\"width\":0.5},\"pattern\":{\"fillmode\":\"overlay\",\"size\":10,\"solidity\":0.2}},\"type\":\"bar\"}],\"scattergeo\":[{\"type\":\"scattergeo\",\"marker\":{\"colorbar\":{\"outlinewidth\":0,\"ticks\":\"\"}}}],\"scatterpolar\":[{\"type\":\"scatterpolar\",\"marker\":{\"colorbar\":{\"outlinewidth\":0,\"ticks\":\"\"}}}],\"histogram\":[{\"marker\":{\"pattern\":{\"fillmode\":\"overlay\",\"size\":10,\"solidity\":0.2}},\"type\":\"histogram\"}],\"scattergl\":[{\"type\":\"scattergl\",\"marker\":{\"colorbar\":{\"outlinewidth\":0,\"ticks\":\"\"}}}],\"scatter3d\":[{\"type\":\"scatter3d\",\"line\":{\"colorbar\":{\"outlinewidth\":0,\"ticks\":\"\"}},\"marker\":{\"colorbar\":{\"outlinewidth\":0,\"ticks\":\"\"}}}],\"scattermapbox\":[{\"type\":\"scattermapbox\",\"marker\":{\"colorbar\":{\"outlinewidth\":0,\"ticks\":\"\"}}}],\"scatterternary\":[{\"type\":\"scatterternary\",\"marker\":{\"colorbar\":{\"outlinewidth\":0,\"ticks\":\"\"}}}],\"scattercarpet\":[{\"type\":\"scattercarpet\",\"marker\":{\"colorbar\":{\"outlinewidth\":0,\"ticks\":\"\"}}}],\"carpet\":[{\"aaxis\":{\"endlinecolor\":\"#2a3f5f\",\"gridcolor\":\"white\",\"linecolor\":\"white\",\"minorgridcolor\":\"white\",\"startlinecolor\":\"#2a3f5f\"},\"baxis\":{\"endlinecolor\":\"#2a3f5f\",\"gridcolor\":\"white\",\"linecolor\":\"white\",\"minorgridcolor\":\"white\",\"startlinecolor\":\"#2a3f5f\"},\"type\":\"carpet\"}],\"table\":[{\"cells\":{\"fill\":{\"color\":\"#EBF0F8\"},\"line\":{\"color\":\"white\"}},\"header\":{\"fill\":{\"color\":\"#C8D4E3\"},\"line\":{\"color\":\"white\"}},\"type\":\"table\"}],\"barpolar\":[{\"marker\":{\"line\":{\"color\":\"#E5ECF6\",\"width\":0.5},\"pattern\":{\"fillmode\":\"overlay\",\"size\":10,\"solidity\":0.2}},\"type\":\"barpolar\"}],\"pie\":[{\"automargin\":true,\"type\":\"pie\"}]},\"layout\":{\"autotypenumbers\":\"strict\",\"colorway\":[\"#636efa\",\"#EF553B\",\"#00cc96\",\"#ab63fa\",\"#FFA15A\",\"#19d3f3\",\"#FF6692\",\"#B6E880\",\"#FF97FF\",\"#FECB52\"],\"font\":{\"color\":\"#2a3f5f\"},\"hovermode\":\"closest\",\"hoverlabel\":{\"align\":\"left\"},\"paper_bgcolor\":\"white\",\"plot_bgcolor\":\"#E5ECF6\",\"polar\":{\"bgcolor\":\"#E5ECF6\",\"angularaxis\":{\"gridcolor\":\"white\",\"linecolor\":\"white\",\"ticks\":\"\"},\"radialaxis\":{\"gridcolor\":\"white\",\"linecolor\":\"white\",\"ticks\":\"\"}},\"ternary\":{\"bgcolor\":\"#E5ECF6\",\"aaxis\":{\"gridcolor\":\"white\",\"linecolor\":\"white\",\"ticks\":\"\"},\"baxis\":{\"gridcolor\":\"white\",\"linecolor\":\"white\",\"ticks\":\"\"},\"caxis\":{\"gridcolor\":\"white\",\"linecolor\":\"white\",\"ticks\":\"\"}},\"coloraxis\":{\"colorbar\":{\"outlinewidth\":0,\"ticks\":\"\"}},\"colorscale\":{\"sequential\":[[0.0,\"#0d0887\"],[0.1111111111111111,\"#46039f\"],[0.2222222222222222,\"#7201a8\"],[0.3333333333333333,\"#9c179e\"],[0.4444444444444444,\"#bd3786\"],[0.5555555555555556,\"#d8576b\"],[0.6666666666666666,\"#ed7953\"],[0.7777777777777778,\"#fb9f3a\"],[0.8888888888888888,\"#fdca26\"],[1.0,\"#f0f921\"]],\"sequentialminus\":[[0.0,\"#0d0887\"],[0.1111111111111111,\"#46039f\"],[0.2222222222222222,\"#7201a8\"],[0.3333333333333333,\"#9c179e\"],[0.4444444444444444,\"#bd3786\"],[0.5555555555555556,\"#d8576b\"],[0.6666666666666666,\"#ed7953\"],[0.7777777777777778,\"#fb9f3a\"],[0.8888888888888888,\"#fdca26\"],[1.0,\"#f0f921\"]],\"diverging\":[[0,\"#8e0152\"],[0.1,\"#c51b7d\"],[0.2,\"#de77ae\"],[0.3,\"#f1b6da\"],[0.4,\"#fde0ef\"],[0.5,\"#f7f7f7\"],[0.6,\"#e6f5d0\"],[0.7,\"#b8e186\"],[0.8,\"#7fbc41\"],[0.9,\"#4d9221\"],[1,\"#276419\"]]},\"xaxis\":{\"gridcolor\":\"white\",\"linecolor\":\"white\",\"ticks\":\"\",\"title\":{\"standoff\":15},\"zerolinecolor\":\"white\",\"automargin\":true,\"zerolinewidth\":2},\"yaxis\":{\"gridcolor\":\"white\",\"linecolor\":\"white\",\"ticks\":\"\",\"title\":{\"standoff\":15},\"zerolinecolor\":\"white\",\"automargin\":true,\"zerolinewidth\":2},\"scene\":{\"xaxis\":{\"backgroundcolor\":\"#E5ECF6\",\"gridcolor\":\"white\",\"linecolor\":\"white\",\"showbackground\":true,\"ticks\":\"\",\"zerolinecolor\":\"white\",\"gridwidth\":2},\"yaxis\":{\"backgroundcolor\":\"#E5ECF6\",\"gridcolor\":\"white\",\"linecolor\":\"white\",\"showbackground\":true,\"ticks\":\"\",\"zerolinecolor\":\"white\",\"gridwidth\":2},\"zaxis\":{\"backgroundcolor\":\"#E5ECF6\",\"gridcolor\":\"white\",\"linecolor\":\"white\",\"showbackground\":true,\"ticks\":\"\",\"zerolinecolor\":\"white\",\"gridwidth\":2}},\"shapedefaults\":{\"line\":{\"color\":\"#2a3f5f\"}},\"annotationdefaults\":{\"arrowcolor\":\"#2a3f5f\",\"arrowhead\":0,\"arrowwidth\":1},\"geo\":{\"bgcolor\":\"white\",\"landcolor\":\"#E5ECF6\",\"subunitcolor\":\"white\",\"showland\":true,\"showlakes\":true,\"lakecolor\":\"white\"},\"title\":{\"x\":0.05},\"mapbox\":{\"style\":\"light\"}}},\"legend\":{\"tracegroupgap\":0},\"margin\":{\"t\":60},\"title\":{\"text\":\"High performers distribution\"},\"autosize\":false,\"width\":500,\"height\":500},                        {\"responsive\": true}                    ).then(function(){\n",
       "                            \n",
       "var gd = document.getElementById('7df5f7a8-9568-4443-9e06-3161e086253d');\n",
       "var x = new MutationObserver(function (mutations, observer) {{\n",
       "        var display = window.getComputedStyle(gd).display;\n",
       "        if (!display || display === 'none') {{\n",
       "            console.log([gd, 'removed!']);\n",
       "            Plotly.purge(gd);\n",
       "            observer.disconnect();\n",
       "        }}\n",
       "}});\n",
       "\n",
       "// Listen for the removal of the full notebook cells\n",
       "var notebookContainer = gd.closest('#notebook-container');\n",
       "if (notebookContainer) {{\n",
       "    x.observe(notebookContainer, {childList: true});\n",
       "}}\n",
       "\n",
       "// Listen for the clearing of the current output cell\n",
       "var outputEl = gd.closest('.output');\n",
       "if (outputEl) {{\n",
       "    x.observe(outputEl, {childList: true});\n",
       "}}\n",
       "\n",
       "                        })                };                });            </script>        </div>"
      ]
     },
     "metadata": {},
     "output_type": "display_data"
    }
   ],
   "source": [
    "import plotly.express as px\n",
    "\n",
    "fig = px.pie(high_pie, values='Performance', names='continent', color='continent',\n",
    "             color_discrete_map={'Europe':'#03a1fc',\n",
    "                                 'Asia':'#fcba03',\n",
    "                                 'Africa':'#fc5603',\n",
    "                                 'South America':'darkblue',\n",
    "                                 'North America': '#5203fc',\n",
    "                                 'Oceania':'#fc0356'})\n",
    "fig.update(layout_title_text= str('High performers distribution'))\n",
    "fig.update_traces(textinfo='label+percent', textposition='inside', textfont_size=14,)\n",
    "fig.update_layout(\n",
    "    autosize=False,\n",
    "    width=500,\n",
    "    height=500)\n",
    "fig.show()"
   ]
  },
  {
   "cell_type": "code",
   "execution_count": 96,
   "id": "64829ac6",
   "metadata": {},
   "outputs": [
    {
     "data": {
      "application/vnd.plotly.v1+json": {
       "config": {
        "plotlyServerURL": "https://plot.ly"
       },
       "data": [
        {
         "customdata": [
          [
           "Africa"
          ],
          [
           "Asia"
          ],
          [
           "Europe"
          ],
          [
           "North America"
          ],
          [
           "Oceania"
          ],
          [
           "South America"
          ]
         ],
         "domain": {
          "x": [
           0,
           1
          ],
          "y": [
           0,
           1
          ]
         },
         "hovertemplate": "continent=%{customdata[0]}<br>Performance=%{value}<extra></extra>",
         "labels": [
          "Africa",
          "Asia",
          "Europe",
          "North America",
          "Oceania",
          "South America"
         ],
         "legendgroup": "",
         "marker": {
          "colors": [
           "#fc5603",
           "#fcba03",
           "#03a1fc",
           "#5203fc",
           "#fc0356",
           "darkblue"
          ]
         },
         "name": "",
         "showlegend": true,
         "textfont": {
          "size": 14
         },
         "textinfo": "label+percent",
         "textposition": "inside",
         "type": "pie",
         "values": [
          36,
          17,
          3,
          8,
          2,
          4
         ]
        }
       ],
       "layout": {
        "autosize": false,
        "height": 500,
        "legend": {
         "tracegroupgap": 0
        },
        "margin": {
         "t": 60
        },
        "template": {
         "data": {
          "bar": [
           {
            "error_x": {
             "color": "#2a3f5f"
            },
            "error_y": {
             "color": "#2a3f5f"
            },
            "marker": {
             "line": {
              "color": "#E5ECF6",
              "width": 0.5
             },
             "pattern": {
              "fillmode": "overlay",
              "size": 10,
              "solidity": 0.2
             }
            },
            "type": "bar"
           }
          ],
          "barpolar": [
           {
            "marker": {
             "line": {
              "color": "#E5ECF6",
              "width": 0.5
             },
             "pattern": {
              "fillmode": "overlay",
              "size": 10,
              "solidity": 0.2
             }
            },
            "type": "barpolar"
           }
          ],
          "carpet": [
           {
            "aaxis": {
             "endlinecolor": "#2a3f5f",
             "gridcolor": "white",
             "linecolor": "white",
             "minorgridcolor": "white",
             "startlinecolor": "#2a3f5f"
            },
            "baxis": {
             "endlinecolor": "#2a3f5f",
             "gridcolor": "white",
             "linecolor": "white",
             "minorgridcolor": "white",
             "startlinecolor": "#2a3f5f"
            },
            "type": "carpet"
           }
          ],
          "choropleth": [
           {
            "colorbar": {
             "outlinewidth": 0,
             "ticks": ""
            },
            "type": "choropleth"
           }
          ],
          "contour": [
           {
            "colorbar": {
             "outlinewidth": 0,
             "ticks": ""
            },
            "colorscale": [
             [
              0,
              "#0d0887"
             ],
             [
              0.1111111111111111,
              "#46039f"
             ],
             [
              0.2222222222222222,
              "#7201a8"
             ],
             [
              0.3333333333333333,
              "#9c179e"
             ],
             [
              0.4444444444444444,
              "#bd3786"
             ],
             [
              0.5555555555555556,
              "#d8576b"
             ],
             [
              0.6666666666666666,
              "#ed7953"
             ],
             [
              0.7777777777777778,
              "#fb9f3a"
             ],
             [
              0.8888888888888888,
              "#fdca26"
             ],
             [
              1,
              "#f0f921"
             ]
            ],
            "type": "contour"
           }
          ],
          "contourcarpet": [
           {
            "colorbar": {
             "outlinewidth": 0,
             "ticks": ""
            },
            "type": "contourcarpet"
           }
          ],
          "heatmap": [
           {
            "colorbar": {
             "outlinewidth": 0,
             "ticks": ""
            },
            "colorscale": [
             [
              0,
              "#0d0887"
             ],
             [
              0.1111111111111111,
              "#46039f"
             ],
             [
              0.2222222222222222,
              "#7201a8"
             ],
             [
              0.3333333333333333,
              "#9c179e"
             ],
             [
              0.4444444444444444,
              "#bd3786"
             ],
             [
              0.5555555555555556,
              "#d8576b"
             ],
             [
              0.6666666666666666,
              "#ed7953"
             ],
             [
              0.7777777777777778,
              "#fb9f3a"
             ],
             [
              0.8888888888888888,
              "#fdca26"
             ],
             [
              1,
              "#f0f921"
             ]
            ],
            "type": "heatmap"
           }
          ],
          "heatmapgl": [
           {
            "colorbar": {
             "outlinewidth": 0,
             "ticks": ""
            },
            "colorscale": [
             [
              0,
              "#0d0887"
             ],
             [
              0.1111111111111111,
              "#46039f"
             ],
             [
              0.2222222222222222,
              "#7201a8"
             ],
             [
              0.3333333333333333,
              "#9c179e"
             ],
             [
              0.4444444444444444,
              "#bd3786"
             ],
             [
              0.5555555555555556,
              "#d8576b"
             ],
             [
              0.6666666666666666,
              "#ed7953"
             ],
             [
              0.7777777777777778,
              "#fb9f3a"
             ],
             [
              0.8888888888888888,
              "#fdca26"
             ],
             [
              1,
              "#f0f921"
             ]
            ],
            "type": "heatmapgl"
           }
          ],
          "histogram": [
           {
            "marker": {
             "pattern": {
              "fillmode": "overlay",
              "size": 10,
              "solidity": 0.2
             }
            },
            "type": "histogram"
           }
          ],
          "histogram2d": [
           {
            "colorbar": {
             "outlinewidth": 0,
             "ticks": ""
            },
            "colorscale": [
             [
              0,
              "#0d0887"
             ],
             [
              0.1111111111111111,
              "#46039f"
             ],
             [
              0.2222222222222222,
              "#7201a8"
             ],
             [
              0.3333333333333333,
              "#9c179e"
             ],
             [
              0.4444444444444444,
              "#bd3786"
             ],
             [
              0.5555555555555556,
              "#d8576b"
             ],
             [
              0.6666666666666666,
              "#ed7953"
             ],
             [
              0.7777777777777778,
              "#fb9f3a"
             ],
             [
              0.8888888888888888,
              "#fdca26"
             ],
             [
              1,
              "#f0f921"
             ]
            ],
            "type": "histogram2d"
           }
          ],
          "histogram2dcontour": [
           {
            "colorbar": {
             "outlinewidth": 0,
             "ticks": ""
            },
            "colorscale": [
             [
              0,
              "#0d0887"
             ],
             [
              0.1111111111111111,
              "#46039f"
             ],
             [
              0.2222222222222222,
              "#7201a8"
             ],
             [
              0.3333333333333333,
              "#9c179e"
             ],
             [
              0.4444444444444444,
              "#bd3786"
             ],
             [
              0.5555555555555556,
              "#d8576b"
             ],
             [
              0.6666666666666666,
              "#ed7953"
             ],
             [
              0.7777777777777778,
              "#fb9f3a"
             ],
             [
              0.8888888888888888,
              "#fdca26"
             ],
             [
              1,
              "#f0f921"
             ]
            ],
            "type": "histogram2dcontour"
           }
          ],
          "mesh3d": [
           {
            "colorbar": {
             "outlinewidth": 0,
             "ticks": ""
            },
            "type": "mesh3d"
           }
          ],
          "parcoords": [
           {
            "line": {
             "colorbar": {
              "outlinewidth": 0,
              "ticks": ""
             }
            },
            "type": "parcoords"
           }
          ],
          "pie": [
           {
            "automargin": true,
            "type": "pie"
           }
          ],
          "scatter": [
           {
            "fillpattern": {
             "fillmode": "overlay",
             "size": 10,
             "solidity": 0.2
            },
            "type": "scatter"
           }
          ],
          "scatter3d": [
           {
            "line": {
             "colorbar": {
              "outlinewidth": 0,
              "ticks": ""
             }
            },
            "marker": {
             "colorbar": {
              "outlinewidth": 0,
              "ticks": ""
             }
            },
            "type": "scatter3d"
           }
          ],
          "scattercarpet": [
           {
            "marker": {
             "colorbar": {
              "outlinewidth": 0,
              "ticks": ""
             }
            },
            "type": "scattercarpet"
           }
          ],
          "scattergeo": [
           {
            "marker": {
             "colorbar": {
              "outlinewidth": 0,
              "ticks": ""
             }
            },
            "type": "scattergeo"
           }
          ],
          "scattergl": [
           {
            "marker": {
             "colorbar": {
              "outlinewidth": 0,
              "ticks": ""
             }
            },
            "type": "scattergl"
           }
          ],
          "scattermapbox": [
           {
            "marker": {
             "colorbar": {
              "outlinewidth": 0,
              "ticks": ""
             }
            },
            "type": "scattermapbox"
           }
          ],
          "scatterpolar": [
           {
            "marker": {
             "colorbar": {
              "outlinewidth": 0,
              "ticks": ""
             }
            },
            "type": "scatterpolar"
           }
          ],
          "scatterpolargl": [
           {
            "marker": {
             "colorbar": {
              "outlinewidth": 0,
              "ticks": ""
             }
            },
            "type": "scatterpolargl"
           }
          ],
          "scatterternary": [
           {
            "marker": {
             "colorbar": {
              "outlinewidth": 0,
              "ticks": ""
             }
            },
            "type": "scatterternary"
           }
          ],
          "surface": [
           {
            "colorbar": {
             "outlinewidth": 0,
             "ticks": ""
            },
            "colorscale": [
             [
              0,
              "#0d0887"
             ],
             [
              0.1111111111111111,
              "#46039f"
             ],
             [
              0.2222222222222222,
              "#7201a8"
             ],
             [
              0.3333333333333333,
              "#9c179e"
             ],
             [
              0.4444444444444444,
              "#bd3786"
             ],
             [
              0.5555555555555556,
              "#d8576b"
             ],
             [
              0.6666666666666666,
              "#ed7953"
             ],
             [
              0.7777777777777778,
              "#fb9f3a"
             ],
             [
              0.8888888888888888,
              "#fdca26"
             ],
             [
              1,
              "#f0f921"
             ]
            ],
            "type": "surface"
           }
          ],
          "table": [
           {
            "cells": {
             "fill": {
              "color": "#EBF0F8"
             },
             "line": {
              "color": "white"
             }
            },
            "header": {
             "fill": {
              "color": "#C8D4E3"
             },
             "line": {
              "color": "white"
             }
            },
            "type": "table"
           }
          ]
         },
         "layout": {
          "annotationdefaults": {
           "arrowcolor": "#2a3f5f",
           "arrowhead": 0,
           "arrowwidth": 1
          },
          "autotypenumbers": "strict",
          "coloraxis": {
           "colorbar": {
            "outlinewidth": 0,
            "ticks": ""
           }
          },
          "colorscale": {
           "diverging": [
            [
             0,
             "#8e0152"
            ],
            [
             0.1,
             "#c51b7d"
            ],
            [
             0.2,
             "#de77ae"
            ],
            [
             0.3,
             "#f1b6da"
            ],
            [
             0.4,
             "#fde0ef"
            ],
            [
             0.5,
             "#f7f7f7"
            ],
            [
             0.6,
             "#e6f5d0"
            ],
            [
             0.7,
             "#b8e186"
            ],
            [
             0.8,
             "#7fbc41"
            ],
            [
             0.9,
             "#4d9221"
            ],
            [
             1,
             "#276419"
            ]
           ],
           "sequential": [
            [
             0,
             "#0d0887"
            ],
            [
             0.1111111111111111,
             "#46039f"
            ],
            [
             0.2222222222222222,
             "#7201a8"
            ],
            [
             0.3333333333333333,
             "#9c179e"
            ],
            [
             0.4444444444444444,
             "#bd3786"
            ],
            [
             0.5555555555555556,
             "#d8576b"
            ],
            [
             0.6666666666666666,
             "#ed7953"
            ],
            [
             0.7777777777777778,
             "#fb9f3a"
            ],
            [
             0.8888888888888888,
             "#fdca26"
            ],
            [
             1,
             "#f0f921"
            ]
           ],
           "sequentialminus": [
            [
             0,
             "#0d0887"
            ],
            [
             0.1111111111111111,
             "#46039f"
            ],
            [
             0.2222222222222222,
             "#7201a8"
            ],
            [
             0.3333333333333333,
             "#9c179e"
            ],
            [
             0.4444444444444444,
             "#bd3786"
            ],
            [
             0.5555555555555556,
             "#d8576b"
            ],
            [
             0.6666666666666666,
             "#ed7953"
            ],
            [
             0.7777777777777778,
             "#fb9f3a"
            ],
            [
             0.8888888888888888,
             "#fdca26"
            ],
            [
             1,
             "#f0f921"
            ]
           ]
          },
          "colorway": [
           "#636efa",
           "#EF553B",
           "#00cc96",
           "#ab63fa",
           "#FFA15A",
           "#19d3f3",
           "#FF6692",
           "#B6E880",
           "#FF97FF",
           "#FECB52"
          ],
          "font": {
           "color": "#2a3f5f"
          },
          "geo": {
           "bgcolor": "white",
           "lakecolor": "white",
           "landcolor": "#E5ECF6",
           "showlakes": true,
           "showland": true,
           "subunitcolor": "white"
          },
          "hoverlabel": {
           "align": "left"
          },
          "hovermode": "closest",
          "mapbox": {
           "style": "light"
          },
          "paper_bgcolor": "white",
          "plot_bgcolor": "#E5ECF6",
          "polar": {
           "angularaxis": {
            "gridcolor": "white",
            "linecolor": "white",
            "ticks": ""
           },
           "bgcolor": "#E5ECF6",
           "radialaxis": {
            "gridcolor": "white",
            "linecolor": "white",
            "ticks": ""
           }
          },
          "scene": {
           "xaxis": {
            "backgroundcolor": "#E5ECF6",
            "gridcolor": "white",
            "gridwidth": 2,
            "linecolor": "white",
            "showbackground": true,
            "ticks": "",
            "zerolinecolor": "white"
           },
           "yaxis": {
            "backgroundcolor": "#E5ECF6",
            "gridcolor": "white",
            "gridwidth": 2,
            "linecolor": "white",
            "showbackground": true,
            "ticks": "",
            "zerolinecolor": "white"
           },
           "zaxis": {
            "backgroundcolor": "#E5ECF6",
            "gridcolor": "white",
            "gridwidth": 2,
            "linecolor": "white",
            "showbackground": true,
            "ticks": "",
            "zerolinecolor": "white"
           }
          },
          "shapedefaults": {
           "line": {
            "color": "#2a3f5f"
           }
          },
          "ternary": {
           "aaxis": {
            "gridcolor": "white",
            "linecolor": "white",
            "ticks": ""
           },
           "baxis": {
            "gridcolor": "white",
            "linecolor": "white",
            "ticks": ""
           },
           "bgcolor": "#E5ECF6",
           "caxis": {
            "gridcolor": "white",
            "linecolor": "white",
            "ticks": ""
           }
          },
          "title": {
           "x": 0.05
          },
          "xaxis": {
           "automargin": true,
           "gridcolor": "white",
           "linecolor": "white",
           "ticks": "",
           "title": {
            "standoff": 15
           },
           "zerolinecolor": "white",
           "zerolinewidth": 2
          },
          "yaxis": {
           "automargin": true,
           "gridcolor": "white",
           "linecolor": "white",
           "ticks": "",
           "title": {
            "standoff": 15
           },
           "zerolinecolor": "white",
           "zerolinewidth": 2
          }
         }
        },
        "title": {
         "text": "Low performers distribution"
        },
        "width": 500
       }
      },
      "text/html": [
       "<div>                            <div id=\"48701d3a-95a2-4714-b988-b884bb54dba3\" class=\"plotly-graph-div\" style=\"height:500px; width:500px;\"></div>            <script type=\"text/javascript\">                require([\"plotly\"], function(Plotly) {                    window.PLOTLYENV=window.PLOTLYENV || {};                                    if (document.getElementById(\"48701d3a-95a2-4714-b988-b884bb54dba3\")) {                    Plotly.newPlot(                        \"48701d3a-95a2-4714-b988-b884bb54dba3\",                        [{\"customdata\":[[\"Africa\"],[\"Asia\"],[\"Europe\"],[\"North America\"],[\"Oceania\"],[\"South America\"]],\"domain\":{\"x\":[0.0,1.0],\"y\":[0.0,1.0]},\"hovertemplate\":\"continent=%{customdata[0]}<br>Performance=%{value}<extra></extra>\",\"labels\":[\"Africa\",\"Asia\",\"Europe\",\"North America\",\"Oceania\",\"South America\"],\"legendgroup\":\"\",\"marker\":{\"colors\":[\"#fc5603\",\"#fcba03\",\"#03a1fc\",\"#5203fc\",\"#fc0356\",\"darkblue\"]},\"name\":\"\",\"showlegend\":true,\"values\":[36,17,3,8,2,4],\"type\":\"pie\",\"textfont\":{\"size\":14},\"textinfo\":\"label+percent\",\"textposition\":\"inside\"}],                        {\"template\":{\"data\":{\"histogram2dcontour\":[{\"type\":\"histogram2dcontour\",\"colorbar\":{\"outlinewidth\":0,\"ticks\":\"\"},\"colorscale\":[[0.0,\"#0d0887\"],[0.1111111111111111,\"#46039f\"],[0.2222222222222222,\"#7201a8\"],[0.3333333333333333,\"#9c179e\"],[0.4444444444444444,\"#bd3786\"],[0.5555555555555556,\"#d8576b\"],[0.6666666666666666,\"#ed7953\"],[0.7777777777777778,\"#fb9f3a\"],[0.8888888888888888,\"#fdca26\"],[1.0,\"#f0f921\"]]}],\"choropleth\":[{\"type\":\"choropleth\",\"colorbar\":{\"outlinewidth\":0,\"ticks\":\"\"}}],\"histogram2d\":[{\"type\":\"histogram2d\",\"colorbar\":{\"outlinewidth\":0,\"ticks\":\"\"},\"colorscale\":[[0.0,\"#0d0887\"],[0.1111111111111111,\"#46039f\"],[0.2222222222222222,\"#7201a8\"],[0.3333333333333333,\"#9c179e\"],[0.4444444444444444,\"#bd3786\"],[0.5555555555555556,\"#d8576b\"],[0.6666666666666666,\"#ed7953\"],[0.7777777777777778,\"#fb9f3a\"],[0.8888888888888888,\"#fdca26\"],[1.0,\"#f0f921\"]]}],\"heatmap\":[{\"type\":\"heatmap\",\"colorbar\":{\"outlinewidth\":0,\"ticks\":\"\"},\"colorscale\":[[0.0,\"#0d0887\"],[0.1111111111111111,\"#46039f\"],[0.2222222222222222,\"#7201a8\"],[0.3333333333333333,\"#9c179e\"],[0.4444444444444444,\"#bd3786\"],[0.5555555555555556,\"#d8576b\"],[0.6666666666666666,\"#ed7953\"],[0.7777777777777778,\"#fb9f3a\"],[0.8888888888888888,\"#fdca26\"],[1.0,\"#f0f921\"]]}],\"heatmapgl\":[{\"type\":\"heatmapgl\",\"colorbar\":{\"outlinewidth\":0,\"ticks\":\"\"},\"colorscale\":[[0.0,\"#0d0887\"],[0.1111111111111111,\"#46039f\"],[0.2222222222222222,\"#7201a8\"],[0.3333333333333333,\"#9c179e\"],[0.4444444444444444,\"#bd3786\"],[0.5555555555555556,\"#d8576b\"],[0.6666666666666666,\"#ed7953\"],[0.7777777777777778,\"#fb9f3a\"],[0.8888888888888888,\"#fdca26\"],[1.0,\"#f0f921\"]]}],\"contourcarpet\":[{\"type\":\"contourcarpet\",\"colorbar\":{\"outlinewidth\":0,\"ticks\":\"\"}}],\"contour\":[{\"type\":\"contour\",\"colorbar\":{\"outlinewidth\":0,\"ticks\":\"\"},\"colorscale\":[[0.0,\"#0d0887\"],[0.1111111111111111,\"#46039f\"],[0.2222222222222222,\"#7201a8\"],[0.3333333333333333,\"#9c179e\"],[0.4444444444444444,\"#bd3786\"],[0.5555555555555556,\"#d8576b\"],[0.6666666666666666,\"#ed7953\"],[0.7777777777777778,\"#fb9f3a\"],[0.8888888888888888,\"#fdca26\"],[1.0,\"#f0f921\"]]}],\"surface\":[{\"type\":\"surface\",\"colorbar\":{\"outlinewidth\":0,\"ticks\":\"\"},\"colorscale\":[[0.0,\"#0d0887\"],[0.1111111111111111,\"#46039f\"],[0.2222222222222222,\"#7201a8\"],[0.3333333333333333,\"#9c179e\"],[0.4444444444444444,\"#bd3786\"],[0.5555555555555556,\"#d8576b\"],[0.6666666666666666,\"#ed7953\"],[0.7777777777777778,\"#fb9f3a\"],[0.8888888888888888,\"#fdca26\"],[1.0,\"#f0f921\"]]}],\"mesh3d\":[{\"type\":\"mesh3d\",\"colorbar\":{\"outlinewidth\":0,\"ticks\":\"\"}}],\"scatter\":[{\"fillpattern\":{\"fillmode\":\"overlay\",\"size\":10,\"solidity\":0.2},\"type\":\"scatter\"}],\"parcoords\":[{\"type\":\"parcoords\",\"line\":{\"colorbar\":{\"outlinewidth\":0,\"ticks\":\"\"}}}],\"scatterpolargl\":[{\"type\":\"scatterpolargl\",\"marker\":{\"colorbar\":{\"outlinewidth\":0,\"ticks\":\"\"}}}],\"bar\":[{\"error_x\":{\"color\":\"#2a3f5f\"},\"error_y\":{\"color\":\"#2a3f5f\"},\"marker\":{\"line\":{\"color\":\"#E5ECF6\",\"width\":0.5},\"pattern\":{\"fillmode\":\"overlay\",\"size\":10,\"solidity\":0.2}},\"type\":\"bar\"}],\"scattergeo\":[{\"type\":\"scattergeo\",\"marker\":{\"colorbar\":{\"outlinewidth\":0,\"ticks\":\"\"}}}],\"scatterpolar\":[{\"type\":\"scatterpolar\",\"marker\":{\"colorbar\":{\"outlinewidth\":0,\"ticks\":\"\"}}}],\"histogram\":[{\"marker\":{\"pattern\":{\"fillmode\":\"overlay\",\"size\":10,\"solidity\":0.2}},\"type\":\"histogram\"}],\"scattergl\":[{\"type\":\"scattergl\",\"marker\":{\"colorbar\":{\"outlinewidth\":0,\"ticks\":\"\"}}}],\"scatter3d\":[{\"type\":\"scatter3d\",\"line\":{\"colorbar\":{\"outlinewidth\":0,\"ticks\":\"\"}},\"marker\":{\"colorbar\":{\"outlinewidth\":0,\"ticks\":\"\"}}}],\"scattermapbox\":[{\"type\":\"scattermapbox\",\"marker\":{\"colorbar\":{\"outlinewidth\":0,\"ticks\":\"\"}}}],\"scatterternary\":[{\"type\":\"scatterternary\",\"marker\":{\"colorbar\":{\"outlinewidth\":0,\"ticks\":\"\"}}}],\"scattercarpet\":[{\"type\":\"scattercarpet\",\"marker\":{\"colorbar\":{\"outlinewidth\":0,\"ticks\":\"\"}}}],\"carpet\":[{\"aaxis\":{\"endlinecolor\":\"#2a3f5f\",\"gridcolor\":\"white\",\"linecolor\":\"white\",\"minorgridcolor\":\"white\",\"startlinecolor\":\"#2a3f5f\"},\"baxis\":{\"endlinecolor\":\"#2a3f5f\",\"gridcolor\":\"white\",\"linecolor\":\"white\",\"minorgridcolor\":\"white\",\"startlinecolor\":\"#2a3f5f\"},\"type\":\"carpet\"}],\"table\":[{\"cells\":{\"fill\":{\"color\":\"#EBF0F8\"},\"line\":{\"color\":\"white\"}},\"header\":{\"fill\":{\"color\":\"#C8D4E3\"},\"line\":{\"color\":\"white\"}},\"type\":\"table\"}],\"barpolar\":[{\"marker\":{\"line\":{\"color\":\"#E5ECF6\",\"width\":0.5},\"pattern\":{\"fillmode\":\"overlay\",\"size\":10,\"solidity\":0.2}},\"type\":\"barpolar\"}],\"pie\":[{\"automargin\":true,\"type\":\"pie\"}]},\"layout\":{\"autotypenumbers\":\"strict\",\"colorway\":[\"#636efa\",\"#EF553B\",\"#00cc96\",\"#ab63fa\",\"#FFA15A\",\"#19d3f3\",\"#FF6692\",\"#B6E880\",\"#FF97FF\",\"#FECB52\"],\"font\":{\"color\":\"#2a3f5f\"},\"hovermode\":\"closest\",\"hoverlabel\":{\"align\":\"left\"},\"paper_bgcolor\":\"white\",\"plot_bgcolor\":\"#E5ECF6\",\"polar\":{\"bgcolor\":\"#E5ECF6\",\"angularaxis\":{\"gridcolor\":\"white\",\"linecolor\":\"white\",\"ticks\":\"\"},\"radialaxis\":{\"gridcolor\":\"white\",\"linecolor\":\"white\",\"ticks\":\"\"}},\"ternary\":{\"bgcolor\":\"#E5ECF6\",\"aaxis\":{\"gridcolor\":\"white\",\"linecolor\":\"white\",\"ticks\":\"\"},\"baxis\":{\"gridcolor\":\"white\",\"linecolor\":\"white\",\"ticks\":\"\"},\"caxis\":{\"gridcolor\":\"white\",\"linecolor\":\"white\",\"ticks\":\"\"}},\"coloraxis\":{\"colorbar\":{\"outlinewidth\":0,\"ticks\":\"\"}},\"colorscale\":{\"sequential\":[[0.0,\"#0d0887\"],[0.1111111111111111,\"#46039f\"],[0.2222222222222222,\"#7201a8\"],[0.3333333333333333,\"#9c179e\"],[0.4444444444444444,\"#bd3786\"],[0.5555555555555556,\"#d8576b\"],[0.6666666666666666,\"#ed7953\"],[0.7777777777777778,\"#fb9f3a\"],[0.8888888888888888,\"#fdca26\"],[1.0,\"#f0f921\"]],\"sequentialminus\":[[0.0,\"#0d0887\"],[0.1111111111111111,\"#46039f\"],[0.2222222222222222,\"#7201a8\"],[0.3333333333333333,\"#9c179e\"],[0.4444444444444444,\"#bd3786\"],[0.5555555555555556,\"#d8576b\"],[0.6666666666666666,\"#ed7953\"],[0.7777777777777778,\"#fb9f3a\"],[0.8888888888888888,\"#fdca26\"],[1.0,\"#f0f921\"]],\"diverging\":[[0,\"#8e0152\"],[0.1,\"#c51b7d\"],[0.2,\"#de77ae\"],[0.3,\"#f1b6da\"],[0.4,\"#fde0ef\"],[0.5,\"#f7f7f7\"],[0.6,\"#e6f5d0\"],[0.7,\"#b8e186\"],[0.8,\"#7fbc41\"],[0.9,\"#4d9221\"],[1,\"#276419\"]]},\"xaxis\":{\"gridcolor\":\"white\",\"linecolor\":\"white\",\"ticks\":\"\",\"title\":{\"standoff\":15},\"zerolinecolor\":\"white\",\"automargin\":true,\"zerolinewidth\":2},\"yaxis\":{\"gridcolor\":\"white\",\"linecolor\":\"white\",\"ticks\":\"\",\"title\":{\"standoff\":15},\"zerolinecolor\":\"white\",\"automargin\":true,\"zerolinewidth\":2},\"scene\":{\"xaxis\":{\"backgroundcolor\":\"#E5ECF6\",\"gridcolor\":\"white\",\"linecolor\":\"white\",\"showbackground\":true,\"ticks\":\"\",\"zerolinecolor\":\"white\",\"gridwidth\":2},\"yaxis\":{\"backgroundcolor\":\"#E5ECF6\",\"gridcolor\":\"white\",\"linecolor\":\"white\",\"showbackground\":true,\"ticks\":\"\",\"zerolinecolor\":\"white\",\"gridwidth\":2},\"zaxis\":{\"backgroundcolor\":\"#E5ECF6\",\"gridcolor\":\"white\",\"linecolor\":\"white\",\"showbackground\":true,\"ticks\":\"\",\"zerolinecolor\":\"white\",\"gridwidth\":2}},\"shapedefaults\":{\"line\":{\"color\":\"#2a3f5f\"}},\"annotationdefaults\":{\"arrowcolor\":\"#2a3f5f\",\"arrowhead\":0,\"arrowwidth\":1},\"geo\":{\"bgcolor\":\"white\",\"landcolor\":\"#E5ECF6\",\"subunitcolor\":\"white\",\"showland\":true,\"showlakes\":true,\"lakecolor\":\"white\"},\"title\":{\"x\":0.05},\"mapbox\":{\"style\":\"light\"}}},\"legend\":{\"tracegroupgap\":0},\"margin\":{\"t\":60},\"title\":{\"text\":\"Low performers distribution\"},\"autosize\":false,\"width\":500,\"height\":500},                        {\"responsive\": true}                    ).then(function(){\n",
       "                            \n",
       "var gd = document.getElementById('48701d3a-95a2-4714-b988-b884bb54dba3');\n",
       "var x = new MutationObserver(function (mutations, observer) {{\n",
       "        var display = window.getComputedStyle(gd).display;\n",
       "        if (!display || display === 'none') {{\n",
       "            console.log([gd, 'removed!']);\n",
       "            Plotly.purge(gd);\n",
       "            observer.disconnect();\n",
       "        }}\n",
       "}});\n",
       "\n",
       "// Listen for the removal of the full notebook cells\n",
       "var notebookContainer = gd.closest('#notebook-container');\n",
       "if (notebookContainer) {{\n",
       "    x.observe(notebookContainer, {childList: true});\n",
       "}}\n",
       "\n",
       "// Listen for the clearing of the current output cell\n",
       "var outputEl = gd.closest('.output');\n",
       "if (outputEl) {{\n",
       "    x.observe(outputEl, {childList: true});\n",
       "}}\n",
       "\n",
       "                        })                };                });            </script>        </div>"
      ]
     },
     "metadata": {},
     "output_type": "display_data"
    }
   ],
   "source": [
    "import plotly.express as px\n",
    "\n",
    "fig = px.pie(low_pie, values='Performance', names='continent', color='continent',\n",
    "             color_discrete_map={'Europe':'#03a1fc',\n",
    "                                 'Asia':'#fcba03',\n",
    "                                 'Africa':'#fc5603',\n",
    "                                 'South America':'darkblue',\n",
    "                                 'North America': '#5203fc',\n",
    "                                 'Oceania':'#fc0356'})\n",
    "fig.update(layout_title_text= str('Low performers distribution'))\n",
    "fig.update_traces(textinfo='label+percent', textposition='inside', textfont_size=14,)\n",
    "fig.update_layout(\n",
    "    autosize=False,\n",
    "    width=500,\n",
    "    height=500)\n",
    "fig.show()"
   ]
  },
  {
   "cell_type": "code",
   "execution_count": 97,
   "id": "b98cb04d",
   "metadata": {},
   "outputs": [
    {
     "data": {
      "application/vnd.plotly.v1+json": {
       "config": {
        "plotlyServerURL": "https://plot.ly"
       },
       "data": [
        {
         "customdata": [
          [
           "Africa"
          ],
          [
           "Asia"
          ],
          [
           "Europe"
          ],
          [
           "North America"
          ],
          [
           "Oceania"
          ],
          [
           "South America"
          ]
         ],
         "domain": {
          "x": [
           0,
           1
          ],
          "y": [
           0,
           1
          ]
         },
         "hovertemplate": "continent=%{customdata[0]}<br>Performance=%{value}<extra></extra>",
         "labels": [
          "Africa",
          "Asia",
          "Europe",
          "North America",
          "Oceania",
          "South America"
         ],
         "legendgroup": "",
         "marker": {
          "colors": [
           "#fc5603",
           "#fcba03",
           "#03a1fc",
           "#5203fc",
           "#fc0356",
           "darkblue"
          ]
         },
         "name": "",
         "showlegend": true,
         "textfont": {
          "size": 14
         },
         "textinfo": "label+percent",
         "textposition": "inside",
         "type": "pie",
         "values": [
          9,
          20,
          15,
          3,
          1,
          6
         ]
        }
       ],
       "layout": {
        "autosize": false,
        "height": 500,
        "legend": {
         "tracegroupgap": 0
        },
        "margin": {
         "t": 60
        },
        "template": {
         "data": {
          "bar": [
           {
            "error_x": {
             "color": "#2a3f5f"
            },
            "error_y": {
             "color": "#2a3f5f"
            },
            "marker": {
             "line": {
              "color": "#E5ECF6",
              "width": 0.5
             },
             "pattern": {
              "fillmode": "overlay",
              "size": 10,
              "solidity": 0.2
             }
            },
            "type": "bar"
           }
          ],
          "barpolar": [
           {
            "marker": {
             "line": {
              "color": "#E5ECF6",
              "width": 0.5
             },
             "pattern": {
              "fillmode": "overlay",
              "size": 10,
              "solidity": 0.2
             }
            },
            "type": "barpolar"
           }
          ],
          "carpet": [
           {
            "aaxis": {
             "endlinecolor": "#2a3f5f",
             "gridcolor": "white",
             "linecolor": "white",
             "minorgridcolor": "white",
             "startlinecolor": "#2a3f5f"
            },
            "baxis": {
             "endlinecolor": "#2a3f5f",
             "gridcolor": "white",
             "linecolor": "white",
             "minorgridcolor": "white",
             "startlinecolor": "#2a3f5f"
            },
            "type": "carpet"
           }
          ],
          "choropleth": [
           {
            "colorbar": {
             "outlinewidth": 0,
             "ticks": ""
            },
            "type": "choropleth"
           }
          ],
          "contour": [
           {
            "colorbar": {
             "outlinewidth": 0,
             "ticks": ""
            },
            "colorscale": [
             [
              0,
              "#0d0887"
             ],
             [
              0.1111111111111111,
              "#46039f"
             ],
             [
              0.2222222222222222,
              "#7201a8"
             ],
             [
              0.3333333333333333,
              "#9c179e"
             ],
             [
              0.4444444444444444,
              "#bd3786"
             ],
             [
              0.5555555555555556,
              "#d8576b"
             ],
             [
              0.6666666666666666,
              "#ed7953"
             ],
             [
              0.7777777777777778,
              "#fb9f3a"
             ],
             [
              0.8888888888888888,
              "#fdca26"
             ],
             [
              1,
              "#f0f921"
             ]
            ],
            "type": "contour"
           }
          ],
          "contourcarpet": [
           {
            "colorbar": {
             "outlinewidth": 0,
             "ticks": ""
            },
            "type": "contourcarpet"
           }
          ],
          "heatmap": [
           {
            "colorbar": {
             "outlinewidth": 0,
             "ticks": ""
            },
            "colorscale": [
             [
              0,
              "#0d0887"
             ],
             [
              0.1111111111111111,
              "#46039f"
             ],
             [
              0.2222222222222222,
              "#7201a8"
             ],
             [
              0.3333333333333333,
              "#9c179e"
             ],
             [
              0.4444444444444444,
              "#bd3786"
             ],
             [
              0.5555555555555556,
              "#d8576b"
             ],
             [
              0.6666666666666666,
              "#ed7953"
             ],
             [
              0.7777777777777778,
              "#fb9f3a"
             ],
             [
              0.8888888888888888,
              "#fdca26"
             ],
             [
              1,
              "#f0f921"
             ]
            ],
            "type": "heatmap"
           }
          ],
          "heatmapgl": [
           {
            "colorbar": {
             "outlinewidth": 0,
             "ticks": ""
            },
            "colorscale": [
             [
              0,
              "#0d0887"
             ],
             [
              0.1111111111111111,
              "#46039f"
             ],
             [
              0.2222222222222222,
              "#7201a8"
             ],
             [
              0.3333333333333333,
              "#9c179e"
             ],
             [
              0.4444444444444444,
              "#bd3786"
             ],
             [
              0.5555555555555556,
              "#d8576b"
             ],
             [
              0.6666666666666666,
              "#ed7953"
             ],
             [
              0.7777777777777778,
              "#fb9f3a"
             ],
             [
              0.8888888888888888,
              "#fdca26"
             ],
             [
              1,
              "#f0f921"
             ]
            ],
            "type": "heatmapgl"
           }
          ],
          "histogram": [
           {
            "marker": {
             "pattern": {
              "fillmode": "overlay",
              "size": 10,
              "solidity": 0.2
             }
            },
            "type": "histogram"
           }
          ],
          "histogram2d": [
           {
            "colorbar": {
             "outlinewidth": 0,
             "ticks": ""
            },
            "colorscale": [
             [
              0,
              "#0d0887"
             ],
             [
              0.1111111111111111,
              "#46039f"
             ],
             [
              0.2222222222222222,
              "#7201a8"
             ],
             [
              0.3333333333333333,
              "#9c179e"
             ],
             [
              0.4444444444444444,
              "#bd3786"
             ],
             [
              0.5555555555555556,
              "#d8576b"
             ],
             [
              0.6666666666666666,
              "#ed7953"
             ],
             [
              0.7777777777777778,
              "#fb9f3a"
             ],
             [
              0.8888888888888888,
              "#fdca26"
             ],
             [
              1,
              "#f0f921"
             ]
            ],
            "type": "histogram2d"
           }
          ],
          "histogram2dcontour": [
           {
            "colorbar": {
             "outlinewidth": 0,
             "ticks": ""
            },
            "colorscale": [
             [
              0,
              "#0d0887"
             ],
             [
              0.1111111111111111,
              "#46039f"
             ],
             [
              0.2222222222222222,
              "#7201a8"
             ],
             [
              0.3333333333333333,
              "#9c179e"
             ],
             [
              0.4444444444444444,
              "#bd3786"
             ],
             [
              0.5555555555555556,
              "#d8576b"
             ],
             [
              0.6666666666666666,
              "#ed7953"
             ],
             [
              0.7777777777777778,
              "#fb9f3a"
             ],
             [
              0.8888888888888888,
              "#fdca26"
             ],
             [
              1,
              "#f0f921"
             ]
            ],
            "type": "histogram2dcontour"
           }
          ],
          "mesh3d": [
           {
            "colorbar": {
             "outlinewidth": 0,
             "ticks": ""
            },
            "type": "mesh3d"
           }
          ],
          "parcoords": [
           {
            "line": {
             "colorbar": {
              "outlinewidth": 0,
              "ticks": ""
             }
            },
            "type": "parcoords"
           }
          ],
          "pie": [
           {
            "automargin": true,
            "type": "pie"
           }
          ],
          "scatter": [
           {
            "fillpattern": {
             "fillmode": "overlay",
             "size": 10,
             "solidity": 0.2
            },
            "type": "scatter"
           }
          ],
          "scatter3d": [
           {
            "line": {
             "colorbar": {
              "outlinewidth": 0,
              "ticks": ""
             }
            },
            "marker": {
             "colorbar": {
              "outlinewidth": 0,
              "ticks": ""
             }
            },
            "type": "scatter3d"
           }
          ],
          "scattercarpet": [
           {
            "marker": {
             "colorbar": {
              "outlinewidth": 0,
              "ticks": ""
             }
            },
            "type": "scattercarpet"
           }
          ],
          "scattergeo": [
           {
            "marker": {
             "colorbar": {
              "outlinewidth": 0,
              "ticks": ""
             }
            },
            "type": "scattergeo"
           }
          ],
          "scattergl": [
           {
            "marker": {
             "colorbar": {
              "outlinewidth": 0,
              "ticks": ""
             }
            },
            "type": "scattergl"
           }
          ],
          "scattermapbox": [
           {
            "marker": {
             "colorbar": {
              "outlinewidth": 0,
              "ticks": ""
             }
            },
            "type": "scattermapbox"
           }
          ],
          "scatterpolar": [
           {
            "marker": {
             "colorbar": {
              "outlinewidth": 0,
              "ticks": ""
             }
            },
            "type": "scatterpolar"
           }
          ],
          "scatterpolargl": [
           {
            "marker": {
             "colorbar": {
              "outlinewidth": 0,
              "ticks": ""
             }
            },
            "type": "scatterpolargl"
           }
          ],
          "scatterternary": [
           {
            "marker": {
             "colorbar": {
              "outlinewidth": 0,
              "ticks": ""
             }
            },
            "type": "scatterternary"
           }
          ],
          "surface": [
           {
            "colorbar": {
             "outlinewidth": 0,
             "ticks": ""
            },
            "colorscale": [
             [
              0,
              "#0d0887"
             ],
             [
              0.1111111111111111,
              "#46039f"
             ],
             [
              0.2222222222222222,
              "#7201a8"
             ],
             [
              0.3333333333333333,
              "#9c179e"
             ],
             [
              0.4444444444444444,
              "#bd3786"
             ],
             [
              0.5555555555555556,
              "#d8576b"
             ],
             [
              0.6666666666666666,
              "#ed7953"
             ],
             [
              0.7777777777777778,
              "#fb9f3a"
             ],
             [
              0.8888888888888888,
              "#fdca26"
             ],
             [
              1,
              "#f0f921"
             ]
            ],
            "type": "surface"
           }
          ],
          "table": [
           {
            "cells": {
             "fill": {
              "color": "#EBF0F8"
             },
             "line": {
              "color": "white"
             }
            },
            "header": {
             "fill": {
              "color": "#C8D4E3"
             },
             "line": {
              "color": "white"
             }
            },
            "type": "table"
           }
          ]
         },
         "layout": {
          "annotationdefaults": {
           "arrowcolor": "#2a3f5f",
           "arrowhead": 0,
           "arrowwidth": 1
          },
          "autotypenumbers": "strict",
          "coloraxis": {
           "colorbar": {
            "outlinewidth": 0,
            "ticks": ""
           }
          },
          "colorscale": {
           "diverging": [
            [
             0,
             "#8e0152"
            ],
            [
             0.1,
             "#c51b7d"
            ],
            [
             0.2,
             "#de77ae"
            ],
            [
             0.3,
             "#f1b6da"
            ],
            [
             0.4,
             "#fde0ef"
            ],
            [
             0.5,
             "#f7f7f7"
            ],
            [
             0.6,
             "#e6f5d0"
            ],
            [
             0.7,
             "#b8e186"
            ],
            [
             0.8,
             "#7fbc41"
            ],
            [
             0.9,
             "#4d9221"
            ],
            [
             1,
             "#276419"
            ]
           ],
           "sequential": [
            [
             0,
             "#0d0887"
            ],
            [
             0.1111111111111111,
             "#46039f"
            ],
            [
             0.2222222222222222,
             "#7201a8"
            ],
            [
             0.3333333333333333,
             "#9c179e"
            ],
            [
             0.4444444444444444,
             "#bd3786"
            ],
            [
             0.5555555555555556,
             "#d8576b"
            ],
            [
             0.6666666666666666,
             "#ed7953"
            ],
            [
             0.7777777777777778,
             "#fb9f3a"
            ],
            [
             0.8888888888888888,
             "#fdca26"
            ],
            [
             1,
             "#f0f921"
            ]
           ],
           "sequentialminus": [
            [
             0,
             "#0d0887"
            ],
            [
             0.1111111111111111,
             "#46039f"
            ],
            [
             0.2222222222222222,
             "#7201a8"
            ],
            [
             0.3333333333333333,
             "#9c179e"
            ],
            [
             0.4444444444444444,
             "#bd3786"
            ],
            [
             0.5555555555555556,
             "#d8576b"
            ],
            [
             0.6666666666666666,
             "#ed7953"
            ],
            [
             0.7777777777777778,
             "#fb9f3a"
            ],
            [
             0.8888888888888888,
             "#fdca26"
            ],
            [
             1,
             "#f0f921"
            ]
           ]
          },
          "colorway": [
           "#636efa",
           "#EF553B",
           "#00cc96",
           "#ab63fa",
           "#FFA15A",
           "#19d3f3",
           "#FF6692",
           "#B6E880",
           "#FF97FF",
           "#FECB52"
          ],
          "font": {
           "color": "#2a3f5f"
          },
          "geo": {
           "bgcolor": "white",
           "lakecolor": "white",
           "landcolor": "#E5ECF6",
           "showlakes": true,
           "showland": true,
           "subunitcolor": "white"
          },
          "hoverlabel": {
           "align": "left"
          },
          "hovermode": "closest",
          "mapbox": {
           "style": "light"
          },
          "paper_bgcolor": "white",
          "plot_bgcolor": "#E5ECF6",
          "polar": {
           "angularaxis": {
            "gridcolor": "white",
            "linecolor": "white",
            "ticks": ""
           },
           "bgcolor": "#E5ECF6",
           "radialaxis": {
            "gridcolor": "white",
            "linecolor": "white",
            "ticks": ""
           }
          },
          "scene": {
           "xaxis": {
            "backgroundcolor": "#E5ECF6",
            "gridcolor": "white",
            "gridwidth": 2,
            "linecolor": "white",
            "showbackground": true,
            "ticks": "",
            "zerolinecolor": "white"
           },
           "yaxis": {
            "backgroundcolor": "#E5ECF6",
            "gridcolor": "white",
            "gridwidth": 2,
            "linecolor": "white",
            "showbackground": true,
            "ticks": "",
            "zerolinecolor": "white"
           },
           "zaxis": {
            "backgroundcolor": "#E5ECF6",
            "gridcolor": "white",
            "gridwidth": 2,
            "linecolor": "white",
            "showbackground": true,
            "ticks": "",
            "zerolinecolor": "white"
           }
          },
          "shapedefaults": {
           "line": {
            "color": "#2a3f5f"
           }
          },
          "ternary": {
           "aaxis": {
            "gridcolor": "white",
            "linecolor": "white",
            "ticks": ""
           },
           "baxis": {
            "gridcolor": "white",
            "linecolor": "white",
            "ticks": ""
           },
           "bgcolor": "#E5ECF6",
           "caxis": {
            "gridcolor": "white",
            "linecolor": "white",
            "ticks": ""
           }
          },
          "title": {
           "x": 0.05
          },
          "xaxis": {
           "automargin": true,
           "gridcolor": "white",
           "linecolor": "white",
           "ticks": "",
           "title": {
            "standoff": 15
           },
           "zerolinecolor": "white",
           "zerolinewidth": 2
          },
          "yaxis": {
           "automargin": true,
           "gridcolor": "white",
           "linecolor": "white",
           "ticks": "",
           "title": {
            "standoff": 15
           },
           "zerolinecolor": "white",
           "zerolinewidth": 2
          }
         }
        },
        "title": {
         "text": "Moderate performers distribution"
        },
        "width": 500
       }
      },
      "text/html": [
       "<div>                            <div id=\"3d813c13-ee24-444f-9f08-0033aeb4ccce\" class=\"plotly-graph-div\" style=\"height:500px; width:500px;\"></div>            <script type=\"text/javascript\">                require([\"plotly\"], function(Plotly) {                    window.PLOTLYENV=window.PLOTLYENV || {};                                    if (document.getElementById(\"3d813c13-ee24-444f-9f08-0033aeb4ccce\")) {                    Plotly.newPlot(                        \"3d813c13-ee24-444f-9f08-0033aeb4ccce\",                        [{\"customdata\":[[\"Africa\"],[\"Asia\"],[\"Europe\"],[\"North America\"],[\"Oceania\"],[\"South America\"]],\"domain\":{\"x\":[0.0,1.0],\"y\":[0.0,1.0]},\"hovertemplate\":\"continent=%{customdata[0]}<br>Performance=%{value}<extra></extra>\",\"labels\":[\"Africa\",\"Asia\",\"Europe\",\"North America\",\"Oceania\",\"South America\"],\"legendgroup\":\"\",\"marker\":{\"colors\":[\"#fc5603\",\"#fcba03\",\"#03a1fc\",\"#5203fc\",\"#fc0356\",\"darkblue\"]},\"name\":\"\",\"showlegend\":true,\"values\":[9,20,15,3,1,6],\"type\":\"pie\",\"textfont\":{\"size\":14},\"textinfo\":\"label+percent\",\"textposition\":\"inside\"}],                        {\"template\":{\"data\":{\"histogram2dcontour\":[{\"type\":\"histogram2dcontour\",\"colorbar\":{\"outlinewidth\":0,\"ticks\":\"\"},\"colorscale\":[[0.0,\"#0d0887\"],[0.1111111111111111,\"#46039f\"],[0.2222222222222222,\"#7201a8\"],[0.3333333333333333,\"#9c179e\"],[0.4444444444444444,\"#bd3786\"],[0.5555555555555556,\"#d8576b\"],[0.6666666666666666,\"#ed7953\"],[0.7777777777777778,\"#fb9f3a\"],[0.8888888888888888,\"#fdca26\"],[1.0,\"#f0f921\"]]}],\"choropleth\":[{\"type\":\"choropleth\",\"colorbar\":{\"outlinewidth\":0,\"ticks\":\"\"}}],\"histogram2d\":[{\"type\":\"histogram2d\",\"colorbar\":{\"outlinewidth\":0,\"ticks\":\"\"},\"colorscale\":[[0.0,\"#0d0887\"],[0.1111111111111111,\"#46039f\"],[0.2222222222222222,\"#7201a8\"],[0.3333333333333333,\"#9c179e\"],[0.4444444444444444,\"#bd3786\"],[0.5555555555555556,\"#d8576b\"],[0.6666666666666666,\"#ed7953\"],[0.7777777777777778,\"#fb9f3a\"],[0.8888888888888888,\"#fdca26\"],[1.0,\"#f0f921\"]]}],\"heatmap\":[{\"type\":\"heatmap\",\"colorbar\":{\"outlinewidth\":0,\"ticks\":\"\"},\"colorscale\":[[0.0,\"#0d0887\"],[0.1111111111111111,\"#46039f\"],[0.2222222222222222,\"#7201a8\"],[0.3333333333333333,\"#9c179e\"],[0.4444444444444444,\"#bd3786\"],[0.5555555555555556,\"#d8576b\"],[0.6666666666666666,\"#ed7953\"],[0.7777777777777778,\"#fb9f3a\"],[0.8888888888888888,\"#fdca26\"],[1.0,\"#f0f921\"]]}],\"heatmapgl\":[{\"type\":\"heatmapgl\",\"colorbar\":{\"outlinewidth\":0,\"ticks\":\"\"},\"colorscale\":[[0.0,\"#0d0887\"],[0.1111111111111111,\"#46039f\"],[0.2222222222222222,\"#7201a8\"],[0.3333333333333333,\"#9c179e\"],[0.4444444444444444,\"#bd3786\"],[0.5555555555555556,\"#d8576b\"],[0.6666666666666666,\"#ed7953\"],[0.7777777777777778,\"#fb9f3a\"],[0.8888888888888888,\"#fdca26\"],[1.0,\"#f0f921\"]]}],\"contourcarpet\":[{\"type\":\"contourcarpet\",\"colorbar\":{\"outlinewidth\":0,\"ticks\":\"\"}}],\"contour\":[{\"type\":\"contour\",\"colorbar\":{\"outlinewidth\":0,\"ticks\":\"\"},\"colorscale\":[[0.0,\"#0d0887\"],[0.1111111111111111,\"#46039f\"],[0.2222222222222222,\"#7201a8\"],[0.3333333333333333,\"#9c179e\"],[0.4444444444444444,\"#bd3786\"],[0.5555555555555556,\"#d8576b\"],[0.6666666666666666,\"#ed7953\"],[0.7777777777777778,\"#fb9f3a\"],[0.8888888888888888,\"#fdca26\"],[1.0,\"#f0f921\"]]}],\"surface\":[{\"type\":\"surface\",\"colorbar\":{\"outlinewidth\":0,\"ticks\":\"\"},\"colorscale\":[[0.0,\"#0d0887\"],[0.1111111111111111,\"#46039f\"],[0.2222222222222222,\"#7201a8\"],[0.3333333333333333,\"#9c179e\"],[0.4444444444444444,\"#bd3786\"],[0.5555555555555556,\"#d8576b\"],[0.6666666666666666,\"#ed7953\"],[0.7777777777777778,\"#fb9f3a\"],[0.8888888888888888,\"#fdca26\"],[1.0,\"#f0f921\"]]}],\"mesh3d\":[{\"type\":\"mesh3d\",\"colorbar\":{\"outlinewidth\":0,\"ticks\":\"\"}}],\"scatter\":[{\"fillpattern\":{\"fillmode\":\"overlay\",\"size\":10,\"solidity\":0.2},\"type\":\"scatter\"}],\"parcoords\":[{\"type\":\"parcoords\",\"line\":{\"colorbar\":{\"outlinewidth\":0,\"ticks\":\"\"}}}],\"scatterpolargl\":[{\"type\":\"scatterpolargl\",\"marker\":{\"colorbar\":{\"outlinewidth\":0,\"ticks\":\"\"}}}],\"bar\":[{\"error_x\":{\"color\":\"#2a3f5f\"},\"error_y\":{\"color\":\"#2a3f5f\"},\"marker\":{\"line\":{\"color\":\"#E5ECF6\",\"width\":0.5},\"pattern\":{\"fillmode\":\"overlay\",\"size\":10,\"solidity\":0.2}},\"type\":\"bar\"}],\"scattergeo\":[{\"type\":\"scattergeo\",\"marker\":{\"colorbar\":{\"outlinewidth\":0,\"ticks\":\"\"}}}],\"scatterpolar\":[{\"type\":\"scatterpolar\",\"marker\":{\"colorbar\":{\"outlinewidth\":0,\"ticks\":\"\"}}}],\"histogram\":[{\"marker\":{\"pattern\":{\"fillmode\":\"overlay\",\"size\":10,\"solidity\":0.2}},\"type\":\"histogram\"}],\"scattergl\":[{\"type\":\"scattergl\",\"marker\":{\"colorbar\":{\"outlinewidth\":0,\"ticks\":\"\"}}}],\"scatter3d\":[{\"type\":\"scatter3d\",\"line\":{\"colorbar\":{\"outlinewidth\":0,\"ticks\":\"\"}},\"marker\":{\"colorbar\":{\"outlinewidth\":0,\"ticks\":\"\"}}}],\"scattermapbox\":[{\"type\":\"scattermapbox\",\"marker\":{\"colorbar\":{\"outlinewidth\":0,\"ticks\":\"\"}}}],\"scatterternary\":[{\"type\":\"scatterternary\",\"marker\":{\"colorbar\":{\"outlinewidth\":0,\"ticks\":\"\"}}}],\"scattercarpet\":[{\"type\":\"scattercarpet\",\"marker\":{\"colorbar\":{\"outlinewidth\":0,\"ticks\":\"\"}}}],\"carpet\":[{\"aaxis\":{\"endlinecolor\":\"#2a3f5f\",\"gridcolor\":\"white\",\"linecolor\":\"white\",\"minorgridcolor\":\"white\",\"startlinecolor\":\"#2a3f5f\"},\"baxis\":{\"endlinecolor\":\"#2a3f5f\",\"gridcolor\":\"white\",\"linecolor\":\"white\",\"minorgridcolor\":\"white\",\"startlinecolor\":\"#2a3f5f\"},\"type\":\"carpet\"}],\"table\":[{\"cells\":{\"fill\":{\"color\":\"#EBF0F8\"},\"line\":{\"color\":\"white\"}},\"header\":{\"fill\":{\"color\":\"#C8D4E3\"},\"line\":{\"color\":\"white\"}},\"type\":\"table\"}],\"barpolar\":[{\"marker\":{\"line\":{\"color\":\"#E5ECF6\",\"width\":0.5},\"pattern\":{\"fillmode\":\"overlay\",\"size\":10,\"solidity\":0.2}},\"type\":\"barpolar\"}],\"pie\":[{\"automargin\":true,\"type\":\"pie\"}]},\"layout\":{\"autotypenumbers\":\"strict\",\"colorway\":[\"#636efa\",\"#EF553B\",\"#00cc96\",\"#ab63fa\",\"#FFA15A\",\"#19d3f3\",\"#FF6692\",\"#B6E880\",\"#FF97FF\",\"#FECB52\"],\"font\":{\"color\":\"#2a3f5f\"},\"hovermode\":\"closest\",\"hoverlabel\":{\"align\":\"left\"},\"paper_bgcolor\":\"white\",\"plot_bgcolor\":\"#E5ECF6\",\"polar\":{\"bgcolor\":\"#E5ECF6\",\"angularaxis\":{\"gridcolor\":\"white\",\"linecolor\":\"white\",\"ticks\":\"\"},\"radialaxis\":{\"gridcolor\":\"white\",\"linecolor\":\"white\",\"ticks\":\"\"}},\"ternary\":{\"bgcolor\":\"#E5ECF6\",\"aaxis\":{\"gridcolor\":\"white\",\"linecolor\":\"white\",\"ticks\":\"\"},\"baxis\":{\"gridcolor\":\"white\",\"linecolor\":\"white\",\"ticks\":\"\"},\"caxis\":{\"gridcolor\":\"white\",\"linecolor\":\"white\",\"ticks\":\"\"}},\"coloraxis\":{\"colorbar\":{\"outlinewidth\":0,\"ticks\":\"\"}},\"colorscale\":{\"sequential\":[[0.0,\"#0d0887\"],[0.1111111111111111,\"#46039f\"],[0.2222222222222222,\"#7201a8\"],[0.3333333333333333,\"#9c179e\"],[0.4444444444444444,\"#bd3786\"],[0.5555555555555556,\"#d8576b\"],[0.6666666666666666,\"#ed7953\"],[0.7777777777777778,\"#fb9f3a\"],[0.8888888888888888,\"#fdca26\"],[1.0,\"#f0f921\"]],\"sequentialminus\":[[0.0,\"#0d0887\"],[0.1111111111111111,\"#46039f\"],[0.2222222222222222,\"#7201a8\"],[0.3333333333333333,\"#9c179e\"],[0.4444444444444444,\"#bd3786\"],[0.5555555555555556,\"#d8576b\"],[0.6666666666666666,\"#ed7953\"],[0.7777777777777778,\"#fb9f3a\"],[0.8888888888888888,\"#fdca26\"],[1.0,\"#f0f921\"]],\"diverging\":[[0,\"#8e0152\"],[0.1,\"#c51b7d\"],[0.2,\"#de77ae\"],[0.3,\"#f1b6da\"],[0.4,\"#fde0ef\"],[0.5,\"#f7f7f7\"],[0.6,\"#e6f5d0\"],[0.7,\"#b8e186\"],[0.8,\"#7fbc41\"],[0.9,\"#4d9221\"],[1,\"#276419\"]]},\"xaxis\":{\"gridcolor\":\"white\",\"linecolor\":\"white\",\"ticks\":\"\",\"title\":{\"standoff\":15},\"zerolinecolor\":\"white\",\"automargin\":true,\"zerolinewidth\":2},\"yaxis\":{\"gridcolor\":\"white\",\"linecolor\":\"white\",\"ticks\":\"\",\"title\":{\"standoff\":15},\"zerolinecolor\":\"white\",\"automargin\":true,\"zerolinewidth\":2},\"scene\":{\"xaxis\":{\"backgroundcolor\":\"#E5ECF6\",\"gridcolor\":\"white\",\"linecolor\":\"white\",\"showbackground\":true,\"ticks\":\"\",\"zerolinecolor\":\"white\",\"gridwidth\":2},\"yaxis\":{\"backgroundcolor\":\"#E5ECF6\",\"gridcolor\":\"white\",\"linecolor\":\"white\",\"showbackground\":true,\"ticks\":\"\",\"zerolinecolor\":\"white\",\"gridwidth\":2},\"zaxis\":{\"backgroundcolor\":\"#E5ECF6\",\"gridcolor\":\"white\",\"linecolor\":\"white\",\"showbackground\":true,\"ticks\":\"\",\"zerolinecolor\":\"white\",\"gridwidth\":2}},\"shapedefaults\":{\"line\":{\"color\":\"#2a3f5f\"}},\"annotationdefaults\":{\"arrowcolor\":\"#2a3f5f\",\"arrowhead\":0,\"arrowwidth\":1},\"geo\":{\"bgcolor\":\"white\",\"landcolor\":\"#E5ECF6\",\"subunitcolor\":\"white\",\"showland\":true,\"showlakes\":true,\"lakecolor\":\"white\"},\"title\":{\"x\":0.05},\"mapbox\":{\"style\":\"light\"}}},\"legend\":{\"tracegroupgap\":0},\"margin\":{\"t\":60},\"title\":{\"text\":\"Moderate performers distribution\"},\"autosize\":false,\"width\":500,\"height\":500},                        {\"responsive\": true}                    ).then(function(){\n",
       "                            \n",
       "var gd = document.getElementById('3d813c13-ee24-444f-9f08-0033aeb4ccce');\n",
       "var x = new MutationObserver(function (mutations, observer) {{\n",
       "        var display = window.getComputedStyle(gd).display;\n",
       "        if (!display || display === 'none') {{\n",
       "            console.log([gd, 'removed!']);\n",
       "            Plotly.purge(gd);\n",
       "            observer.disconnect();\n",
       "        }}\n",
       "}});\n",
       "\n",
       "// Listen for the removal of the full notebook cells\n",
       "var notebookContainer = gd.closest('#notebook-container');\n",
       "if (notebookContainer) {{\n",
       "    x.observe(notebookContainer, {childList: true});\n",
       "}}\n",
       "\n",
       "// Listen for the clearing of the current output cell\n",
       "var outputEl = gd.closest('.output');\n",
       "if (outputEl) {{\n",
       "    x.observe(outputEl, {childList: true});\n",
       "}}\n",
       "\n",
       "                        })                };                });            </script>        </div>"
      ]
     },
     "metadata": {},
     "output_type": "display_data"
    }
   ],
   "source": [
    "import plotly.express as px\n",
    "\n",
    "fig = px.pie(medium_pie, values='Performance', names='continent', color='continent',\n",
    "             color_discrete_map={'Europe':'#03a1fc',\n",
    "                                 'Asia':'#fcba03',\n",
    "                                 'Africa':'#fc5603',\n",
    "                                 'South America':'darkblue',\n",
    "                                 'North America': '#5203fc',\n",
    "                                 'Oceania':'#fc0356'})\n",
    "# Styling \n",
    "fig.update(layout_title_text= str('Moderate performers distribution'))\n",
    "fig.update_traces(textinfo='label+percent', textposition='inside', textfont_size=14,)\n",
    "fig.update_layout(\n",
    "    autosize=False,\n",
    "    width=500,\n",
    "    height=500)\n",
    "fig.show()"
   ]
  },
  {
   "cell_type": "code",
   "execution_count": 98,
   "id": "3afe42bf",
   "metadata": {},
   "outputs": [
    {
     "data": {
      "text/plain": [
       "Index(['clearance_efficiency_rank', 'clearance_efficiency_score',\n",
       "       'timely_consignee_receival_rank', 'timely_consignee_receival_score',\n",
       "       'overall_log_performance_rank', 'overall_log_performance_rankUB',\n",
       "       'overall_log_performance_rankLB', 'overall_log_performance_score',\n",
       "       'overall_log_performance_scorekUB', 'overall_log_performance_scoreLB',\n",
       "       'log_performance_PctOfHighest', 'infrastructure_score',\n",
       "       'infrastructure_rank'],\n",
       "      dtype='object')"
      ]
     },
     "execution_count": 98,
     "metadata": {},
     "output_type": "execute_result"
    }
   ],
   "source": [
    "#Retrieving the rank from the original logistics dataset in order to analyze why some specific countries\n",
    "logist_data2.columns"
   ]
  },
  {
   "cell_type": "code",
   "execution_count": 112,
   "id": "4ceb3578",
   "metadata": {},
   "outputs": [],
   "source": [
    "logist_rank = logist_data2.copy()"
   ]
  },
  {
   "cell_type": "code",
   "execution_count": 113,
   "id": "b1372f47",
   "metadata": {},
   "outputs": [],
   "source": [
    "logist_rank.reset_index(inplace=True)"
   ]
  },
  {
   "cell_type": "code",
   "execution_count": 114,
   "id": "fdbde728",
   "metadata": {},
   "outputs": [
    {
     "data": {
      "text/plain": [
       "Index(['country_name', 'country_code', 'clearance_efficiency_rank',\n",
       "       'clearance_efficiency_score', 'timely_consignee_receival_rank',\n",
       "       'timely_consignee_receival_score', 'overall_log_performance_rank',\n",
       "       'overall_log_performance_rankUB', 'overall_log_performance_rankLB',\n",
       "       'overall_log_performance_score', 'overall_log_performance_scorekUB',\n",
       "       'overall_log_performance_scoreLB', 'log_performance_PctOfHighest',\n",
       "       'infrastructure_score', 'infrastructure_rank'],\n",
       "      dtype='object')"
      ]
     },
     "execution_count": 114,
     "metadata": {},
     "output_type": "execute_result"
    }
   ],
   "source": [
    "logist_rank.columns"
   ]
  },
  {
   "cell_type": "code",
   "execution_count": 115,
   "id": "78f36012",
   "metadata": {},
   "outputs": [],
   "source": [
    "logist_rank = logist_rank[['country_name','clearance_efficiency_rank', \n",
    "                           'timely_consignee_receival_rank',\n",
    "                           'infrastructure_rank','overall_log_performance_score']]"
   ]
  },
  {
   "cell_type": "code",
   "execution_count": 116,
   "id": "12f79f0c",
   "metadata": {},
   "outputs": [
    {
     "data": {
      "text/html": [
       "<div>\n",
       "<style scoped>\n",
       "    .dataframe tbody tr th:only-of-type {\n",
       "        vertical-align: middle;\n",
       "    }\n",
       "\n",
       "    .dataframe tbody tr th {\n",
       "        vertical-align: top;\n",
       "    }\n",
       "\n",
       "    .dataframe thead th {\n",
       "        text-align: right;\n",
       "    }\n",
       "</style>\n",
       "<table border=\"1\" class=\"dataframe\">\n",
       "  <thead>\n",
       "    <tr style=\"text-align: right;\">\n",
       "      <th></th>\n",
       "      <th>country_name</th>\n",
       "      <th>clearance_efficiency_rank</th>\n",
       "      <th>timely_consignee_receival_rank</th>\n",
       "      <th>infrastructure_rank</th>\n",
       "      <th>overall_log_performance_score</th>\n",
       "    </tr>\n",
       "  </thead>\n",
       "  <tbody>\n",
       "    <tr>\n",
       "      <th>0</th>\n",
       "      <td>Afghanistan</td>\n",
       "      <td>158.0</td>\n",
       "      <td>153.0</td>\n",
       "      <td>158.0</td>\n",
       "      <td>1.948565</td>\n",
       "    </tr>\n",
       "    <tr>\n",
       "      <th>1</th>\n",
       "      <td>Albania</td>\n",
       "      <td>114.0</td>\n",
       "      <td>73.0</td>\n",
       "      <td>110.0</td>\n",
       "      <td>2.659603</td>\n",
       "    </tr>\n",
       "    <tr>\n",
       "      <th>2</th>\n",
       "      <td>Algeria</td>\n",
       "      <td>138.0</td>\n",
       "      <td>124.0</td>\n",
       "      <td>96.0</td>\n",
       "      <td>2.448071</td>\n",
       "    </tr>\n",
       "    <tr>\n",
       "      <th>3</th>\n",
       "      <td>Angola</td>\n",
       "      <td>160.0</td>\n",
       "      <td>140.0</td>\n",
       "      <td>153.0</td>\n",
       "      <td>2.046158</td>\n",
       "    </tr>\n",
       "    <tr>\n",
       "      <th>4</th>\n",
       "      <td>Argentina</td>\n",
       "      <td>98.0</td>\n",
       "      <td>58.0</td>\n",
       "      <td>62.0</td>\n",
       "      <td>2.886984</td>\n",
       "    </tr>\n",
       "    <tr>\n",
       "      <th>...</th>\n",
       "      <td>...</td>\n",
       "      <td>...</td>\n",
       "      <td>...</td>\n",
       "      <td>...</td>\n",
       "      <td>...</td>\n",
       "    </tr>\n",
       "    <tr>\n",
       "      <th>155</th>\n",
       "      <td>Venezuela, RB</td>\n",
       "      <td>156.0</td>\n",
       "      <td>141.0</td>\n",
       "      <td>134.0</td>\n",
       "      <td>2.229216</td>\n",
       "    </tr>\n",
       "    <tr>\n",
       "      <th>156</th>\n",
       "      <td>Vietnam</td>\n",
       "      <td>41.0</td>\n",
       "      <td>40.0</td>\n",
       "      <td>47.0</td>\n",
       "      <td>3.273980</td>\n",
       "    </tr>\n",
       "    <tr>\n",
       "      <th>157</th>\n",
       "      <td>Yemen, Rep.</td>\n",
       "      <td>104.0</td>\n",
       "      <td>151.0</td>\n",
       "      <td>131.0</td>\n",
       "      <td>2.265255</td>\n",
       "    </tr>\n",
       "    <tr>\n",
       "      <th>158</th>\n",
       "      <td>Zambia</td>\n",
       "      <td>129.0</td>\n",
       "      <td>94.0</td>\n",
       "      <td>108.0</td>\n",
       "      <td>2.526313</td>\n",
       "    </tr>\n",
       "    <tr>\n",
       "      <th>159</th>\n",
       "      <td>Zimbabwe</td>\n",
       "      <td>146.0</td>\n",
       "      <td>152.0</td>\n",
       "      <td>154.0</td>\n",
       "      <td>2.120121</td>\n",
       "    </tr>\n",
       "  </tbody>\n",
       "</table>\n",
       "<p>160 rows × 5 columns</p>\n",
       "</div>"
      ],
      "text/plain": [
       "      country_name  clearance_efficiency_rank  timely_consignee_receival_rank  \\\n",
       "0      Afghanistan                      158.0                           153.0   \n",
       "1          Albania                      114.0                            73.0   \n",
       "2          Algeria                      138.0                           124.0   \n",
       "3           Angola                      160.0                           140.0   \n",
       "4        Argentina                       98.0                            58.0   \n",
       "..             ...                        ...                             ...   \n",
       "155  Venezuela, RB                      156.0                           141.0   \n",
       "156        Vietnam                       41.0                            40.0   \n",
       "157    Yemen, Rep.                      104.0                           151.0   \n",
       "158         Zambia                      129.0                            94.0   \n",
       "159       Zimbabwe                      146.0                           152.0   \n",
       "\n",
       "     infrastructure_rank  overall_log_performance_score  \n",
       "0                  158.0                       1.948565  \n",
       "1                  110.0                       2.659603  \n",
       "2                   96.0                       2.448071  \n",
       "3                  153.0                       2.046158  \n",
       "4                   62.0                       2.886984  \n",
       "..                   ...                            ...  \n",
       "155                134.0                       2.229216  \n",
       "156                 47.0                       3.273980  \n",
       "157                131.0                       2.265255  \n",
       "158                108.0                       2.526313  \n",
       "159                154.0                       2.120121  \n",
       "\n",
       "[160 rows x 5 columns]"
      ]
     },
     "execution_count": 116,
     "metadata": {},
     "output_type": "execute_result"
    }
   ],
   "source": [
    "logist_rank"
   ]
  },
  {
   "cell_type": "code",
   "execution_count": null,
   "id": "fb80e7de",
   "metadata": {},
   "outputs": [],
   "source": [
    "#Saving the logistics rank file into a CSV file\n",
    "logist_rank.to_csv(r'C:\\Users\\User\\Documents\\Data Science\\Data\\logistics_rank_df.csv', index=False)"
   ]
  },
  {
   "cell_type": "code",
   "execution_count": 117,
   "id": "69109012",
   "metadata": {},
   "outputs": [
    {
     "data": {
      "text/html": [
       "<div>\n",
       "<style scoped>\n",
       "    .dataframe tbody tr th:only-of-type {\n",
       "        vertical-align: middle;\n",
       "    }\n",
       "\n",
       "    .dataframe tbody tr th {\n",
       "        vertical-align: top;\n",
       "    }\n",
       "\n",
       "    .dataframe thead th {\n",
       "        text-align: right;\n",
       "    }\n",
       "</style>\n",
       "<table border=\"1\" class=\"dataframe\">\n",
       "  <thead>\n",
       "    <tr style=\"text-align: right;\">\n",
       "      <th></th>\n",
       "      <th>country_name</th>\n",
       "      <th>Global Competitiveness Index Value</th>\n",
       "    </tr>\n",
       "  </thead>\n",
       "  <tbody>\n",
       "    <tr>\n",
       "      <th>0</th>\n",
       "      <td>Albania</td>\n",
       "      <td>4.184991</td>\n",
       "    </tr>\n",
       "    <tr>\n",
       "      <th>1</th>\n",
       "      <td>Algeria</td>\n",
       "      <td>4.065500</td>\n",
       "    </tr>\n",
       "    <tr>\n",
       "      <th>2</th>\n",
       "      <td>Angola</td>\n",
       "      <td>NaN</td>\n",
       "    </tr>\n",
       "    <tr>\n",
       "      <th>3</th>\n",
       "      <td>Argentina</td>\n",
       "      <td>3.950944</td>\n",
       "    </tr>\n",
       "    <tr>\n",
       "      <th>4</th>\n",
       "      <td>Armenia</td>\n",
       "      <td>4.191498</td>\n",
       "    </tr>\n",
       "    <tr>\n",
       "      <th>...</th>\n",
       "      <td>...</td>\n",
       "      <td>...</td>\n",
       "    </tr>\n",
       "    <tr>\n",
       "      <th>147</th>\n",
       "      <td>Venezuela</td>\n",
       "      <td>3.227965</td>\n",
       "    </tr>\n",
       "    <tr>\n",
       "      <th>148</th>\n",
       "      <td>Viet Nam</td>\n",
       "      <td>4.356217</td>\n",
       "    </tr>\n",
       "    <tr>\n",
       "      <th>149</th>\n",
       "      <td>Yemen</td>\n",
       "      <td>2.874793</td>\n",
       "    </tr>\n",
       "    <tr>\n",
       "      <th>150</th>\n",
       "      <td>Zambia</td>\n",
       "      <td>3.517630</td>\n",
       "    </tr>\n",
       "    <tr>\n",
       "      <th>151</th>\n",
       "      <td>Zimbabwe</td>\n",
       "      <td>3.320446</td>\n",
       "    </tr>\n",
       "  </tbody>\n",
       "</table>\n",
       "<p>152 rows × 2 columns</p>\n",
       "</div>"
      ],
      "text/plain": [
       "    country_name  Global Competitiveness Index Value\n",
       "0        Albania                            4.184991\n",
       "1        Algeria                            4.065500\n",
       "2         Angola                                 NaN\n",
       "3      Argentina                            3.950944\n",
       "4        Armenia                            4.191498\n",
       "..           ...                                 ...\n",
       "147    Venezuela                            3.227965\n",
       "148     Viet Nam                            4.356217\n",
       "149        Yemen                            2.874793\n",
       "150       Zambia                            3.517630\n",
       "151     Zimbabwe                            3.320446\n",
       "\n",
       "[152 rows x 2 columns]"
      ]
     },
     "execution_count": 117,
     "metadata": {},
     "output_type": "execute_result"
    }
   ],
   "source": [
    "#Importing competitiveness df filepath\n",
    "compet_df = pd.read_csv('C:/Users/User/Documents/Data Science/Data/compet_df.csv')\n",
    "compet_df"
   ]
  },
  {
   "cell_type": "code",
   "execution_count": 118,
   "id": "5d413de9",
   "metadata": {},
   "outputs": [
    {
     "data": {
      "text/html": [
       "<div>\n",
       "<style scoped>\n",
       "    .dataframe tbody tr th:only-of-type {\n",
       "        vertical-align: middle;\n",
       "    }\n",
       "\n",
       "    .dataframe tbody tr th {\n",
       "        vertical-align: top;\n",
       "    }\n",
       "\n",
       "    .dataframe thead th {\n",
       "        text-align: right;\n",
       "    }\n",
       "</style>\n",
       "<table border=\"1\" class=\"dataframe\">\n",
       "  <thead>\n",
       "    <tr style=\"text-align: right;\">\n",
       "      <th></th>\n",
       "      <th>country_name</th>\n",
       "      <th>clearance_efficiency_rank</th>\n",
       "      <th>timely_consignee_receival_rank</th>\n",
       "      <th>infrastructure_rank</th>\n",
       "      <th>overall_log_performance_score</th>\n",
       "      <th>Global Competitiveness Index Value</th>\n",
       "    </tr>\n",
       "  </thead>\n",
       "  <tbody>\n",
       "    <tr>\n",
       "      <th>0</th>\n",
       "      <td>Afghanistan</td>\n",
       "      <td>158.0</td>\n",
       "      <td>153.0</td>\n",
       "      <td>158.0</td>\n",
       "      <td>1.948565</td>\n",
       "      <td>NaN</td>\n",
       "    </tr>\n",
       "    <tr>\n",
       "      <th>1</th>\n",
       "      <td>Albania</td>\n",
       "      <td>114.0</td>\n",
       "      <td>73.0</td>\n",
       "      <td>110.0</td>\n",
       "      <td>2.659603</td>\n",
       "      <td>4.184991</td>\n",
       "    </tr>\n",
       "    <tr>\n",
       "      <th>2</th>\n",
       "      <td>Algeria</td>\n",
       "      <td>138.0</td>\n",
       "      <td>124.0</td>\n",
       "      <td>96.0</td>\n",
       "      <td>2.448071</td>\n",
       "      <td>4.065500</td>\n",
       "    </tr>\n",
       "    <tr>\n",
       "      <th>3</th>\n",
       "      <td>Angola</td>\n",
       "      <td>160.0</td>\n",
       "      <td>140.0</td>\n",
       "      <td>153.0</td>\n",
       "      <td>2.046158</td>\n",
       "      <td>NaN</td>\n",
       "    </tr>\n",
       "    <tr>\n",
       "      <th>4</th>\n",
       "      <td>Argentina</td>\n",
       "      <td>98.0</td>\n",
       "      <td>58.0</td>\n",
       "      <td>62.0</td>\n",
       "      <td>2.886984</td>\n",
       "      <td>3.950944</td>\n",
       "    </tr>\n",
       "    <tr>\n",
       "      <th>...</th>\n",
       "      <td>...</td>\n",
       "      <td>...</td>\n",
       "      <td>...</td>\n",
       "      <td>...</td>\n",
       "      <td>...</td>\n",
       "      <td>...</td>\n",
       "    </tr>\n",
       "    <tr>\n",
       "      <th>155</th>\n",
       "      <td>Venezuela, RB</td>\n",
       "      <td>156.0</td>\n",
       "      <td>141.0</td>\n",
       "      <td>134.0</td>\n",
       "      <td>2.229216</td>\n",
       "      <td>NaN</td>\n",
       "    </tr>\n",
       "    <tr>\n",
       "      <th>156</th>\n",
       "      <td>Vietnam</td>\n",
       "      <td>41.0</td>\n",
       "      <td>40.0</td>\n",
       "      <td>47.0</td>\n",
       "      <td>3.273980</td>\n",
       "      <td>NaN</td>\n",
       "    </tr>\n",
       "    <tr>\n",
       "      <th>157</th>\n",
       "      <td>Yemen, Rep.</td>\n",
       "      <td>104.0</td>\n",
       "      <td>151.0</td>\n",
       "      <td>131.0</td>\n",
       "      <td>2.265255</td>\n",
       "      <td>NaN</td>\n",
       "    </tr>\n",
       "    <tr>\n",
       "      <th>158</th>\n",
       "      <td>Zambia</td>\n",
       "      <td>129.0</td>\n",
       "      <td>94.0</td>\n",
       "      <td>108.0</td>\n",
       "      <td>2.526313</td>\n",
       "      <td>3.517630</td>\n",
       "    </tr>\n",
       "    <tr>\n",
       "      <th>159</th>\n",
       "      <td>Zimbabwe</td>\n",
       "      <td>146.0</td>\n",
       "      <td>152.0</td>\n",
       "      <td>154.0</td>\n",
       "      <td>2.120121</td>\n",
       "      <td>3.320446</td>\n",
       "    </tr>\n",
       "  </tbody>\n",
       "</table>\n",
       "<p>160 rows × 6 columns</p>\n",
       "</div>"
      ],
      "text/plain": [
       "      country_name  clearance_efficiency_rank  timely_consignee_receival_rank  \\\n",
       "0      Afghanistan                      158.0                           153.0   \n",
       "1          Albania                      114.0                            73.0   \n",
       "2          Algeria                      138.0                           124.0   \n",
       "3           Angola                      160.0                           140.0   \n",
       "4        Argentina                       98.0                            58.0   \n",
       "..             ...                        ...                             ...   \n",
       "155  Venezuela, RB                      156.0                           141.0   \n",
       "156        Vietnam                       41.0                            40.0   \n",
       "157    Yemen, Rep.                      104.0                           151.0   \n",
       "158         Zambia                      129.0                            94.0   \n",
       "159       Zimbabwe                      146.0                           152.0   \n",
       "\n",
       "     infrastructure_rank  overall_log_performance_score  \\\n",
       "0                  158.0                       1.948565   \n",
       "1                  110.0                       2.659603   \n",
       "2                   96.0                       2.448071   \n",
       "3                  153.0                       2.046158   \n",
       "4                   62.0                       2.886984   \n",
       "..                   ...                            ...   \n",
       "155                134.0                       2.229216   \n",
       "156                 47.0                       3.273980   \n",
       "157                131.0                       2.265255   \n",
       "158                108.0                       2.526313   \n",
       "159                154.0                       2.120121   \n",
       "\n",
       "     Global Competitiveness Index Value  \n",
       "0                                   NaN  \n",
       "1                              4.184991  \n",
       "2                              4.065500  \n",
       "3                                   NaN  \n",
       "4                              3.950944  \n",
       "..                                  ...  \n",
       "155                                 NaN  \n",
       "156                                 NaN  \n",
       "157                                 NaN  \n",
       "158                            3.517630  \n",
       "159                            3.320446  \n",
       "\n",
       "[160 rows x 6 columns]"
      ]
     },
     "execution_count": 118,
     "metadata": {},
     "output_type": "execute_result"
    }
   ],
   "source": [
    "#Merging competitiveness and logistics dfs\n",
    "log_compt_df = pd.merge(logist_rank, compet_df, on=\"country_name\", how=\"left\")\n",
    "log_compt_df"
   ]
  },
  {
   "cell_type": "code",
   "execution_count": 120,
   "id": "82d52b38",
   "metadata": {},
   "outputs": [
    {
     "data": {
      "text/html": [
       "<div>\n",
       "<style scoped>\n",
       "    .dataframe tbody tr th:only-of-type {\n",
       "        vertical-align: middle;\n",
       "    }\n",
       "\n",
       "    .dataframe tbody tr th {\n",
       "        vertical-align: top;\n",
       "    }\n",
       "\n",
       "    .dataframe thead th {\n",
       "        text-align: right;\n",
       "    }\n",
       "</style>\n",
       "<table border=\"1\" class=\"dataframe\">\n",
       "  <thead>\n",
       "    <tr style=\"text-align: right;\">\n",
       "      <th></th>\n",
       "      <th>Percentage_NaN</th>\n",
       "    </tr>\n",
       "  </thead>\n",
       "  <tbody>\n",
       "    <tr>\n",
       "      <th>Global Competitiveness Index Value</th>\n",
       "      <td>24.4</td>\n",
       "    </tr>\n",
       "    <tr>\n",
       "      <th>country_name</th>\n",
       "      <td>0.0</td>\n",
       "    </tr>\n",
       "    <tr>\n",
       "      <th>clearance_efficiency_rank</th>\n",
       "      <td>0.0</td>\n",
       "    </tr>\n",
       "    <tr>\n",
       "      <th>timely_consignee_receival_rank</th>\n",
       "      <td>0.0</td>\n",
       "    </tr>\n",
       "    <tr>\n",
       "      <th>infrastructure_rank</th>\n",
       "      <td>0.0</td>\n",
       "    </tr>\n",
       "    <tr>\n",
       "      <th>overall_log_performance_score</th>\n",
       "      <td>0.0</td>\n",
       "    </tr>\n",
       "  </tbody>\n",
       "</table>\n",
       "</div>"
      ],
      "text/plain": [
       "                                    Percentage_NaN\n",
       "Global Competitiveness Index Value            24.4\n",
       "country_name                                   0.0\n",
       "clearance_efficiency_rank                      0.0\n",
       "timely_consignee_receival_rank                 0.0\n",
       "infrastructure_rank                            0.0\n",
       "overall_log_performance_score                  0.0"
      ]
     },
     "execution_count": 120,
     "metadata": {},
     "output_type": "execute_result"
    }
   ],
   "source": [
    "percentage_nullValues(log_compt_df)"
   ]
  },
  {
   "cell_type": "code",
   "execution_count": 123,
   "id": "be5627a1",
   "metadata": {},
   "outputs": [],
   "source": [
    "log_compt_clean = log_compt_df.dropna(subset=['Global Competitiveness Index Value'], axis=0)"
   ]
  },
  {
   "cell_type": "code",
   "execution_count": 124,
   "id": "d8b3db46",
   "metadata": {},
   "outputs": [
    {
     "data": {
      "text/html": [
       "<div>\n",
       "<style scoped>\n",
       "    .dataframe tbody tr th:only-of-type {\n",
       "        vertical-align: middle;\n",
       "    }\n",
       "\n",
       "    .dataframe tbody tr th {\n",
       "        vertical-align: top;\n",
       "    }\n",
       "\n",
       "    .dataframe thead th {\n",
       "        text-align: right;\n",
       "    }\n",
       "</style>\n",
       "<table border=\"1\" class=\"dataframe\">\n",
       "  <thead>\n",
       "    <tr style=\"text-align: right;\">\n",
       "      <th></th>\n",
       "      <th>Percentage_NaN</th>\n",
       "    </tr>\n",
       "  </thead>\n",
       "  <tbody>\n",
       "    <tr>\n",
       "      <th>country_name</th>\n",
       "      <td>0.0</td>\n",
       "    </tr>\n",
       "    <tr>\n",
       "      <th>clearance_efficiency_rank</th>\n",
       "      <td>0.0</td>\n",
       "    </tr>\n",
       "    <tr>\n",
       "      <th>timely_consignee_receival_rank</th>\n",
       "      <td>0.0</td>\n",
       "    </tr>\n",
       "    <tr>\n",
       "      <th>infrastructure_rank</th>\n",
       "      <td>0.0</td>\n",
       "    </tr>\n",
       "    <tr>\n",
       "      <th>overall_log_performance_score</th>\n",
       "      <td>0.0</td>\n",
       "    </tr>\n",
       "    <tr>\n",
       "      <th>Global Competitiveness Index Value</th>\n",
       "      <td>0.0</td>\n",
       "    </tr>\n",
       "  </tbody>\n",
       "</table>\n",
       "</div>"
      ],
      "text/plain": [
       "                                    Percentage_NaN\n",
       "country_name                                   0.0\n",
       "clearance_efficiency_rank                      0.0\n",
       "timely_consignee_receival_rank                 0.0\n",
       "infrastructure_rank                            0.0\n",
       "overall_log_performance_score                  0.0\n",
       "Global Competitiveness Index Value             0.0"
      ]
     },
     "execution_count": 124,
     "metadata": {},
     "output_type": "execute_result"
    }
   ],
   "source": [
    "percentage_nullValues(log_compt_clean)"
   ]
  },
  {
   "cell_type": "code",
   "execution_count": 125,
   "id": "a1f6b1eb",
   "metadata": {},
   "outputs": [
    {
     "data": {
      "text/html": [
       "<div>\n",
       "<style scoped>\n",
       "    .dataframe tbody tr th:only-of-type {\n",
       "        vertical-align: middle;\n",
       "    }\n",
       "\n",
       "    .dataframe tbody tr th {\n",
       "        vertical-align: top;\n",
       "    }\n",
       "\n",
       "    .dataframe thead th {\n",
       "        text-align: right;\n",
       "    }\n",
       "</style>\n",
       "<table border=\"1\" class=\"dataframe\">\n",
       "  <thead>\n",
       "    <tr style=\"text-align: right;\">\n",
       "      <th></th>\n",
       "      <th>country_name</th>\n",
       "      <th>clearance_efficiency_rank</th>\n",
       "      <th>timely_consignee_receival_rank</th>\n",
       "      <th>infrastructure_rank</th>\n",
       "      <th>overall_log_performance_score</th>\n",
       "      <th>Global Competitiveness Index Value</th>\n",
       "      <th>country_code</th>\n",
       "      <th>clearance_efficiency_score</th>\n",
       "      <th>timely_consignee_receival_score</th>\n",
       "      <th>infrastructure_score</th>\n",
       "    </tr>\n",
       "  </thead>\n",
       "  <tbody>\n",
       "    <tr>\n",
       "      <th>0</th>\n",
       "      <td>Albania</td>\n",
       "      <td>114.0</td>\n",
       "      <td>73.0</td>\n",
       "      <td>110.0</td>\n",
       "      <td>2.659603</td>\n",
       "      <td>4.184991</td>\n",
       "      <td>ALB</td>\n",
       "      <td>2.347126</td>\n",
       "      <td>3.202666</td>\n",
       "      <td>2.293674</td>\n",
       "    </tr>\n",
       "    <tr>\n",
       "      <th>1</th>\n",
       "      <td>Algeria</td>\n",
       "      <td>138.0</td>\n",
       "      <td>124.0</td>\n",
       "      <td>96.0</td>\n",
       "      <td>2.448071</td>\n",
       "      <td>4.065500</td>\n",
       "      <td>DZA</td>\n",
       "      <td>2.130280</td>\n",
       "      <td>2.761177</td>\n",
       "      <td>2.421383</td>\n",
       "    </tr>\n",
       "    <tr>\n",
       "      <th>2</th>\n",
       "      <td>Argentina</td>\n",
       "      <td>98.0</td>\n",
       "      <td>58.0</td>\n",
       "      <td>62.0</td>\n",
       "      <td>2.886984</td>\n",
       "      <td>3.950944</td>\n",
       "      <td>ARG</td>\n",
       "      <td>2.417844</td>\n",
       "      <td>3.368942</td>\n",
       "      <td>2.773509</td>\n",
       "    </tr>\n",
       "    <tr>\n",
       "      <th>3</th>\n",
       "      <td>Armenia</td>\n",
       "      <td>81.0</td>\n",
       "      <td>111.0</td>\n",
       "      <td>86.0</td>\n",
       "      <td>2.607607</td>\n",
       "      <td>4.191498</td>\n",
       "      <td>ARM</td>\n",
       "      <td>2.573787</td>\n",
       "      <td>2.896062</td>\n",
       "      <td>2.484109</td>\n",
       "    </tr>\n",
       "    <tr>\n",
       "      <th>4</th>\n",
       "      <td>Australia</td>\n",
       "      <td>7.0</td>\n",
       "      <td>21.0</td>\n",
       "      <td>16.0</td>\n",
       "      <td>3.751431</td>\n",
       "      <td>5.191511</td>\n",
       "      <td>AUS</td>\n",
       "      <td>3.867186</td>\n",
       "      <td>3.976111</td>\n",
       "      <td>3.968431</td>\n",
       "    </tr>\n",
       "    <tr>\n",
       "      <th>...</th>\n",
       "      <td>...</td>\n",
       "      <td>...</td>\n",
       "      <td>...</td>\n",
       "      <td>...</td>\n",
       "      <td>...</td>\n",
       "      <td>...</td>\n",
       "      <td>...</td>\n",
       "      <td>...</td>\n",
       "      <td>...</td>\n",
       "      <td>...</td>\n",
       "    </tr>\n",
       "    <tr>\n",
       "      <th>116</th>\n",
       "      <td>United Kingdom</td>\n",
       "      <td>11.0</td>\n",
       "      <td>5.0</td>\n",
       "      <td>8.0</td>\n",
       "      <td>3.987057</td>\n",
       "      <td>5.506824</td>\n",
       "      <td>GBR</td>\n",
       "      <td>3.772005</td>\n",
       "      <td>4.329937</td>\n",
       "      <td>4.032786</td>\n",
       "    </tr>\n",
       "    <tr>\n",
       "      <th>117</th>\n",
       "      <td>United States</td>\n",
       "      <td>10.0</td>\n",
       "      <td>19.0</td>\n",
       "      <td>7.0</td>\n",
       "      <td>3.885129</td>\n",
       "      <td>5.852552</td>\n",
       "      <td>USA</td>\n",
       "      <td>3.775142</td>\n",
       "      <td>4.083623</td>\n",
       "      <td>4.045132</td>\n",
       "    </tr>\n",
       "    <tr>\n",
       "      <th>118</th>\n",
       "      <td>Uruguay</td>\n",
       "      <td>87.0</td>\n",
       "      <td>109.0</td>\n",
       "      <td>94.0</td>\n",
       "      <td>2.685087</td>\n",
       "      <td>4.146223</td>\n",
       "      <td>URY</td>\n",
       "      <td>2.514882</td>\n",
       "      <td>2.906435</td>\n",
       "      <td>2.433240</td>\n",
       "    </tr>\n",
       "    <tr>\n",
       "      <th>119</th>\n",
       "      <td>Zambia</td>\n",
       "      <td>129.0</td>\n",
       "      <td>94.0</td>\n",
       "      <td>108.0</td>\n",
       "      <td>2.526313</td>\n",
       "      <td>3.517630</td>\n",
       "      <td>ZMB</td>\n",
       "      <td>2.180161</td>\n",
       "      <td>3.052819</td>\n",
       "      <td>2.303431</td>\n",
       "    </tr>\n",
       "    <tr>\n",
       "      <th>120</th>\n",
       "      <td>Zimbabwe</td>\n",
       "      <td>146.0</td>\n",
       "      <td>152.0</td>\n",
       "      <td>154.0</td>\n",
       "      <td>2.120121</td>\n",
       "      <td>3.320446</td>\n",
       "      <td>ZWE</td>\n",
       "      <td>2.000000</td>\n",
       "      <td>2.385957</td>\n",
       "      <td>1.833333</td>\n",
       "    </tr>\n",
       "  </tbody>\n",
       "</table>\n",
       "<p>121 rows × 10 columns</p>\n",
       "</div>"
      ],
      "text/plain": [
       "       country_name  clearance_efficiency_rank  \\\n",
       "0           Albania                      114.0   \n",
       "1           Algeria                      138.0   \n",
       "2         Argentina                       98.0   \n",
       "3           Armenia                       81.0   \n",
       "4         Australia                        7.0   \n",
       "..              ...                        ...   \n",
       "116  United Kingdom                       11.0   \n",
       "117   United States                       10.0   \n",
       "118         Uruguay                       87.0   \n",
       "119          Zambia                      129.0   \n",
       "120        Zimbabwe                      146.0   \n",
       "\n",
       "     timely_consignee_receival_rank  infrastructure_rank  \\\n",
       "0                              73.0                110.0   \n",
       "1                             124.0                 96.0   \n",
       "2                              58.0                 62.0   \n",
       "3                             111.0                 86.0   \n",
       "4                              21.0                 16.0   \n",
       "..                              ...                  ...   \n",
       "116                             5.0                  8.0   \n",
       "117                            19.0                  7.0   \n",
       "118                           109.0                 94.0   \n",
       "119                            94.0                108.0   \n",
       "120                           152.0                154.0   \n",
       "\n",
       "     overall_log_performance_score  Global Competitiveness Index Value  \\\n",
       "0                         2.659603                            4.184991   \n",
       "1                         2.448071                            4.065500   \n",
       "2                         2.886984                            3.950944   \n",
       "3                         2.607607                            4.191498   \n",
       "4                         3.751431                            5.191511   \n",
       "..                             ...                                 ...   \n",
       "116                       3.987057                            5.506824   \n",
       "117                       3.885129                            5.852552   \n",
       "118                       2.685087                            4.146223   \n",
       "119                       2.526313                            3.517630   \n",
       "120                       2.120121                            3.320446   \n",
       "\n",
       "    country_code  clearance_efficiency_score  timely_consignee_receival_score  \\\n",
       "0            ALB                    2.347126                         3.202666   \n",
       "1            DZA                    2.130280                         2.761177   \n",
       "2            ARG                    2.417844                         3.368942   \n",
       "3            ARM                    2.573787                         2.896062   \n",
       "4            AUS                    3.867186                         3.976111   \n",
       "..           ...                         ...                              ...   \n",
       "116          GBR                    3.772005                         4.329937   \n",
       "117          USA                    3.775142                         4.083623   \n",
       "118          URY                    2.514882                         2.906435   \n",
       "119          ZMB                    2.180161                         3.052819   \n",
       "120          ZWE                    2.000000                         2.385957   \n",
       "\n",
       "     infrastructure_score  \n",
       "0                2.293674  \n",
       "1                2.421383  \n",
       "2                2.773509  \n",
       "3                2.484109  \n",
       "4                3.968431  \n",
       "..                    ...  \n",
       "116              4.032786  \n",
       "117              4.045132  \n",
       "118              2.433240  \n",
       "119              2.303431  \n",
       "120              1.833333  \n",
       "\n",
       "[121 rows x 10 columns]"
      ]
     },
     "execution_count": 125,
     "metadata": {},
     "output_type": "execute_result"
    }
   ],
   "source": [
    "log_compt_df = pd.merge(log_compt_clean, X_numerics, on=\"country_name\", how=\"left\")\n",
    "log_compt_df"
   ]
  },
  {
   "cell_type": "code",
   "execution_count": 126,
   "id": "df8785c9",
   "metadata": {},
   "outputs": [
    {
     "data": {
      "text/html": [
       "<div>\n",
       "<style scoped>\n",
       "    .dataframe tbody tr th:only-of-type {\n",
       "        vertical-align: middle;\n",
       "    }\n",
       "\n",
       "    .dataframe tbody tr th {\n",
       "        vertical-align: top;\n",
       "    }\n",
       "\n",
       "    .dataframe thead th {\n",
       "        text-align: right;\n",
       "    }\n",
       "</style>\n",
       "<table border=\"1\" class=\"dataframe\">\n",
       "  <thead>\n",
       "    <tr style=\"text-align: right;\">\n",
       "      <th></th>\n",
       "      <th>Percentage_NaN</th>\n",
       "    </tr>\n",
       "  </thead>\n",
       "  <tbody>\n",
       "    <tr>\n",
       "      <th>country_name</th>\n",
       "      <td>0.0</td>\n",
       "    </tr>\n",
       "    <tr>\n",
       "      <th>clearance_efficiency_rank</th>\n",
       "      <td>0.0</td>\n",
       "    </tr>\n",
       "    <tr>\n",
       "      <th>timely_consignee_receival_rank</th>\n",
       "      <td>0.0</td>\n",
       "    </tr>\n",
       "    <tr>\n",
       "      <th>infrastructure_rank</th>\n",
       "      <td>0.0</td>\n",
       "    </tr>\n",
       "    <tr>\n",
       "      <th>overall_log_performance_score</th>\n",
       "      <td>0.0</td>\n",
       "    </tr>\n",
       "    <tr>\n",
       "      <th>Global Competitiveness Index Value</th>\n",
       "      <td>0.0</td>\n",
       "    </tr>\n",
       "    <tr>\n",
       "      <th>country_code</th>\n",
       "      <td>0.0</td>\n",
       "    </tr>\n",
       "    <tr>\n",
       "      <th>clearance_efficiency_score</th>\n",
       "      <td>0.0</td>\n",
       "    </tr>\n",
       "    <tr>\n",
       "      <th>timely_consignee_receival_score</th>\n",
       "      <td>0.0</td>\n",
       "    </tr>\n",
       "    <tr>\n",
       "      <th>infrastructure_score</th>\n",
       "      <td>0.0</td>\n",
       "    </tr>\n",
       "  </tbody>\n",
       "</table>\n",
       "</div>"
      ],
      "text/plain": [
       "                                    Percentage_NaN\n",
       "country_name                                   0.0\n",
       "clearance_efficiency_rank                      0.0\n",
       "timely_consignee_receival_rank                 0.0\n",
       "infrastructure_rank                            0.0\n",
       "overall_log_performance_score                  0.0\n",
       "Global Competitiveness Index Value             0.0\n",
       "country_code                                   0.0\n",
       "clearance_efficiency_score                     0.0\n",
       "timely_consignee_receival_score                0.0\n",
       "infrastructure_score                           0.0"
      ]
     },
     "execution_count": 126,
     "metadata": {},
     "output_type": "execute_result"
    }
   ],
   "source": [
    "percentage_nullValues(log_compt_df)"
   ]
  },
  {
   "cell_type": "code",
   "execution_count": 131,
   "id": "935b695a",
   "metadata": {},
   "outputs": [
    {
     "data": {
      "text/html": [
       "<div>\n",
       "<style scoped>\n",
       "    .dataframe tbody tr th:only-of-type {\n",
       "        vertical-align: middle;\n",
       "    }\n",
       "\n",
       "    .dataframe tbody tr th {\n",
       "        vertical-align: top;\n",
       "    }\n",
       "\n",
       "    .dataframe thead th {\n",
       "        text-align: right;\n",
       "    }\n",
       "</style>\n",
       "<table border=\"1\" class=\"dataframe\">\n",
       "  <thead>\n",
       "    <tr style=\"text-align: right;\">\n",
       "      <th></th>\n",
       "      <th>Global Competitiveness Index Value</th>\n",
       "      <th>clearance_efficiency_score</th>\n",
       "      <th>timely_consignee_receival_score</th>\n",
       "      <th>infrastructure_score</th>\n",
       "    </tr>\n",
       "  </thead>\n",
       "  <tbody>\n",
       "    <tr>\n",
       "      <th>0</th>\n",
       "      <td>4.184991</td>\n",
       "      <td>2.347126</td>\n",
       "      <td>3.202666</td>\n",
       "      <td>2.293674</td>\n",
       "    </tr>\n",
       "    <tr>\n",
       "      <th>1</th>\n",
       "      <td>4.065500</td>\n",
       "      <td>2.130280</td>\n",
       "      <td>2.761177</td>\n",
       "      <td>2.421383</td>\n",
       "    </tr>\n",
       "    <tr>\n",
       "      <th>2</th>\n",
       "      <td>3.950944</td>\n",
       "      <td>2.417844</td>\n",
       "      <td>3.368942</td>\n",
       "      <td>2.773509</td>\n",
       "    </tr>\n",
       "    <tr>\n",
       "      <th>3</th>\n",
       "      <td>4.191498</td>\n",
       "      <td>2.573787</td>\n",
       "      <td>2.896062</td>\n",
       "      <td>2.484109</td>\n",
       "    </tr>\n",
       "    <tr>\n",
       "      <th>4</th>\n",
       "      <td>5.191511</td>\n",
       "      <td>3.867186</td>\n",
       "      <td>3.976111</td>\n",
       "      <td>3.968431</td>\n",
       "    </tr>\n",
       "    <tr>\n",
       "      <th>...</th>\n",
       "      <td>...</td>\n",
       "      <td>...</td>\n",
       "      <td>...</td>\n",
       "      <td>...</td>\n",
       "    </tr>\n",
       "    <tr>\n",
       "      <th>116</th>\n",
       "      <td>5.506824</td>\n",
       "      <td>3.772005</td>\n",
       "      <td>4.329937</td>\n",
       "      <td>4.032786</td>\n",
       "    </tr>\n",
       "    <tr>\n",
       "      <th>117</th>\n",
       "      <td>5.852552</td>\n",
       "      <td>3.775142</td>\n",
       "      <td>4.083623</td>\n",
       "      <td>4.045132</td>\n",
       "    </tr>\n",
       "    <tr>\n",
       "      <th>118</th>\n",
       "      <td>4.146223</td>\n",
       "      <td>2.514882</td>\n",
       "      <td>2.906435</td>\n",
       "      <td>2.433240</td>\n",
       "    </tr>\n",
       "    <tr>\n",
       "      <th>119</th>\n",
       "      <td>3.517630</td>\n",
       "      <td>2.180161</td>\n",
       "      <td>3.052819</td>\n",
       "      <td>2.303431</td>\n",
       "    </tr>\n",
       "    <tr>\n",
       "      <th>120</th>\n",
       "      <td>3.320446</td>\n",
       "      <td>2.000000</td>\n",
       "      <td>2.385957</td>\n",
       "      <td>1.833333</td>\n",
       "    </tr>\n",
       "  </tbody>\n",
       "</table>\n",
       "<p>121 rows × 4 columns</p>\n",
       "</div>"
      ],
      "text/plain": [
       "     Global Competitiveness Index Value  clearance_efficiency_score  \\\n",
       "0                              4.184991                    2.347126   \n",
       "1                              4.065500                    2.130280   \n",
       "2                              3.950944                    2.417844   \n",
       "3                              4.191498                    2.573787   \n",
       "4                              5.191511                    3.867186   \n",
       "..                                  ...                         ...   \n",
       "116                            5.506824                    3.772005   \n",
       "117                            5.852552                    3.775142   \n",
       "118                            4.146223                    2.514882   \n",
       "119                            3.517630                    2.180161   \n",
       "120                            3.320446                    2.000000   \n",
       "\n",
       "     timely_consignee_receival_score  infrastructure_score  \n",
       "0                           3.202666              2.293674  \n",
       "1                           2.761177              2.421383  \n",
       "2                           3.368942              2.773509  \n",
       "3                           2.896062              2.484109  \n",
       "4                           3.976111              3.968431  \n",
       "..                               ...                   ...  \n",
       "116                         4.329937              4.032786  \n",
       "117                         4.083623              4.045132  \n",
       "118                         2.906435              2.433240  \n",
       "119                         3.052819              2.303431  \n",
       "120                         2.385957              1.833333  \n",
       "\n",
       "[121 rows x 4 columns]"
      ]
     },
     "execution_count": 131,
     "metadata": {},
     "output_type": "execute_result"
    }
   ],
   "source": [
    "#Plotting a correlation matrix for the scores\n",
    "matrix = log_compt_df[['Global Competitiveness Index Value',\n",
    "                       'clearance_efficiency_score',\n",
    "                       'timely_consignee_receival_score',\n",
    "                       'infrastructure_score']]\n",
    "matrix"
   ]
  },
  {
   "cell_type": "code",
   "execution_count": 137,
   "id": "463e7cf3",
   "metadata": {},
   "outputs": [
    {
     "data": {
      "application/vnd.plotly.v1+json": {
       "config": {
        "plotlyServerURL": "https://plot.ly"
       },
       "data": [
        {
         "colorscale": [
          [
           0,
           "rgb(252, 222, 156)"
          ],
          [
           0.16666666666666666,
           "rgb(250, 164, 118)"
          ],
          [
           0.3333333333333333,
           "rgb(240, 116, 110)"
          ],
          [
           0.5,
           "rgb(227, 79, 111)"
          ],
          [
           0.6666666666666666,
           "rgb(220, 57, 119)"
          ],
          [
           0.8333333333333334,
           "rgb(185, 37, 122)"
          ],
          [
           1,
           "rgb(124, 29, 111)"
          ]
         ],
         "reversescale": false,
         "showscale": true,
         "type": "heatmap",
         "x": [
          "Global Competitiveness Index Value",
          "clearance_efficiency_score",
          "timely_consignee_receival_score",
          "infrastructure_score"
         ],
         "y": [
          "Global Competitiveness Index Value",
          "clearance_efficiency_score",
          "timely_consignee_receival_score",
          "infrastructure_score"
         ],
         "z": [
          [
           1,
           0.8795276642297695,
           0.830268119644927,
           0.8894679374882974
          ],
          [
           0.8795276642297695,
           1,
           0.8912350870362873,
           0.9441342789723755
          ],
          [
           0.830268119644927,
           0.8912350870362873,
           1,
           0.9066256231987875
          ],
          [
           0.8894679374882974,
           0.9441342789723755,
           0.9066256231987875,
           1
          ]
         ]
        }
       ],
       "layout": {
        "annotations": [
         {
          "font": {
           "color": "#FFFFFF"
          },
          "showarrow": false,
          "text": "1.0",
          "x": "Global Competitiveness Index Value",
          "xref": "x",
          "y": "Global Competitiveness Index Value",
          "yref": "y"
         },
         {
          "font": {
           "color": "#000000"
          },
          "showarrow": false,
          "text": "0.88",
          "x": "clearance_efficiency_score",
          "xref": "x",
          "y": "Global Competitiveness Index Value",
          "yref": "y"
         },
         {
          "font": {
           "color": "#000000"
          },
          "showarrow": false,
          "text": "0.83",
          "x": "timely_consignee_receival_score",
          "xref": "x",
          "y": "Global Competitiveness Index Value",
          "yref": "y"
         },
         {
          "font": {
           "color": "#000000"
          },
          "showarrow": false,
          "text": "0.89",
          "x": "infrastructure_score",
          "xref": "x",
          "y": "Global Competitiveness Index Value",
          "yref": "y"
         },
         {
          "font": {
           "color": "#000000"
          },
          "showarrow": false,
          "text": "0.88",
          "x": "Global Competitiveness Index Value",
          "xref": "x",
          "y": "clearance_efficiency_score",
          "yref": "y"
         },
         {
          "font": {
           "color": "#FFFFFF"
          },
          "showarrow": false,
          "text": "1.0",
          "x": "clearance_efficiency_score",
          "xref": "x",
          "y": "clearance_efficiency_score",
          "yref": "y"
         },
         {
          "font": {
           "color": "#000000"
          },
          "showarrow": false,
          "text": "0.89",
          "x": "timely_consignee_receival_score",
          "xref": "x",
          "y": "clearance_efficiency_score",
          "yref": "y"
         },
         {
          "font": {
           "color": "#FFFFFF"
          },
          "showarrow": false,
          "text": "0.94",
          "x": "infrastructure_score",
          "xref": "x",
          "y": "clearance_efficiency_score",
          "yref": "y"
         },
         {
          "font": {
           "color": "#000000"
          },
          "showarrow": false,
          "text": "0.83",
          "x": "Global Competitiveness Index Value",
          "xref": "x",
          "y": "timely_consignee_receival_score",
          "yref": "y"
         },
         {
          "font": {
           "color": "#000000"
          },
          "showarrow": false,
          "text": "0.89",
          "x": "clearance_efficiency_score",
          "xref": "x",
          "y": "timely_consignee_receival_score",
          "yref": "y"
         },
         {
          "font": {
           "color": "#FFFFFF"
          },
          "showarrow": false,
          "text": "1.0",
          "x": "timely_consignee_receival_score",
          "xref": "x",
          "y": "timely_consignee_receival_score",
          "yref": "y"
         },
         {
          "font": {
           "color": "#000000"
          },
          "showarrow": false,
          "text": "0.91",
          "x": "infrastructure_score",
          "xref": "x",
          "y": "timely_consignee_receival_score",
          "yref": "y"
         },
         {
          "font": {
           "color": "#000000"
          },
          "showarrow": false,
          "text": "0.89",
          "x": "Global Competitiveness Index Value",
          "xref": "x",
          "y": "infrastructure_score",
          "yref": "y"
         },
         {
          "font": {
           "color": "#FFFFFF"
          },
          "showarrow": false,
          "text": "0.94",
          "x": "clearance_efficiency_score",
          "xref": "x",
          "y": "infrastructure_score",
          "yref": "y"
         },
         {
          "font": {
           "color": "#000000"
          },
          "showarrow": false,
          "text": "0.91",
          "x": "timely_consignee_receival_score",
          "xref": "x",
          "y": "infrastructure_score",
          "yref": "y"
         },
         {
          "font": {
           "color": "#FFFFFF"
          },
          "showarrow": false,
          "text": "1.0",
          "x": "infrastructure_score",
          "xref": "x",
          "y": "infrastructure_score",
          "yref": "y"
         }
        ],
        "template": {
         "data": {
          "bar": [
           {
            "error_x": {
             "color": "#2a3f5f"
            },
            "error_y": {
             "color": "#2a3f5f"
            },
            "marker": {
             "line": {
              "color": "#E5ECF6",
              "width": 0.5
             },
             "pattern": {
              "fillmode": "overlay",
              "size": 10,
              "solidity": 0.2
             }
            },
            "type": "bar"
           }
          ],
          "barpolar": [
           {
            "marker": {
             "line": {
              "color": "#E5ECF6",
              "width": 0.5
             },
             "pattern": {
              "fillmode": "overlay",
              "size": 10,
              "solidity": 0.2
             }
            },
            "type": "barpolar"
           }
          ],
          "carpet": [
           {
            "aaxis": {
             "endlinecolor": "#2a3f5f",
             "gridcolor": "white",
             "linecolor": "white",
             "minorgridcolor": "white",
             "startlinecolor": "#2a3f5f"
            },
            "baxis": {
             "endlinecolor": "#2a3f5f",
             "gridcolor": "white",
             "linecolor": "white",
             "minorgridcolor": "white",
             "startlinecolor": "#2a3f5f"
            },
            "type": "carpet"
           }
          ],
          "choropleth": [
           {
            "colorbar": {
             "outlinewidth": 0,
             "ticks": ""
            },
            "type": "choropleth"
           }
          ],
          "contour": [
           {
            "colorbar": {
             "outlinewidth": 0,
             "ticks": ""
            },
            "colorscale": [
             [
              0,
              "#0d0887"
             ],
             [
              0.1111111111111111,
              "#46039f"
             ],
             [
              0.2222222222222222,
              "#7201a8"
             ],
             [
              0.3333333333333333,
              "#9c179e"
             ],
             [
              0.4444444444444444,
              "#bd3786"
             ],
             [
              0.5555555555555556,
              "#d8576b"
             ],
             [
              0.6666666666666666,
              "#ed7953"
             ],
             [
              0.7777777777777778,
              "#fb9f3a"
             ],
             [
              0.8888888888888888,
              "#fdca26"
             ],
             [
              1,
              "#f0f921"
             ]
            ],
            "type": "contour"
           }
          ],
          "contourcarpet": [
           {
            "colorbar": {
             "outlinewidth": 0,
             "ticks": ""
            },
            "type": "contourcarpet"
           }
          ],
          "heatmap": [
           {
            "colorbar": {
             "outlinewidth": 0,
             "ticks": ""
            },
            "colorscale": [
             [
              0,
              "#0d0887"
             ],
             [
              0.1111111111111111,
              "#46039f"
             ],
             [
              0.2222222222222222,
              "#7201a8"
             ],
             [
              0.3333333333333333,
              "#9c179e"
             ],
             [
              0.4444444444444444,
              "#bd3786"
             ],
             [
              0.5555555555555556,
              "#d8576b"
             ],
             [
              0.6666666666666666,
              "#ed7953"
             ],
             [
              0.7777777777777778,
              "#fb9f3a"
             ],
             [
              0.8888888888888888,
              "#fdca26"
             ],
             [
              1,
              "#f0f921"
             ]
            ],
            "type": "heatmap"
           }
          ],
          "heatmapgl": [
           {
            "colorbar": {
             "outlinewidth": 0,
             "ticks": ""
            },
            "colorscale": [
             [
              0,
              "#0d0887"
             ],
             [
              0.1111111111111111,
              "#46039f"
             ],
             [
              0.2222222222222222,
              "#7201a8"
             ],
             [
              0.3333333333333333,
              "#9c179e"
             ],
             [
              0.4444444444444444,
              "#bd3786"
             ],
             [
              0.5555555555555556,
              "#d8576b"
             ],
             [
              0.6666666666666666,
              "#ed7953"
             ],
             [
              0.7777777777777778,
              "#fb9f3a"
             ],
             [
              0.8888888888888888,
              "#fdca26"
             ],
             [
              1,
              "#f0f921"
             ]
            ],
            "type": "heatmapgl"
           }
          ],
          "histogram": [
           {
            "marker": {
             "pattern": {
              "fillmode": "overlay",
              "size": 10,
              "solidity": 0.2
             }
            },
            "type": "histogram"
           }
          ],
          "histogram2d": [
           {
            "colorbar": {
             "outlinewidth": 0,
             "ticks": ""
            },
            "colorscale": [
             [
              0,
              "#0d0887"
             ],
             [
              0.1111111111111111,
              "#46039f"
             ],
             [
              0.2222222222222222,
              "#7201a8"
             ],
             [
              0.3333333333333333,
              "#9c179e"
             ],
             [
              0.4444444444444444,
              "#bd3786"
             ],
             [
              0.5555555555555556,
              "#d8576b"
             ],
             [
              0.6666666666666666,
              "#ed7953"
             ],
             [
              0.7777777777777778,
              "#fb9f3a"
             ],
             [
              0.8888888888888888,
              "#fdca26"
             ],
             [
              1,
              "#f0f921"
             ]
            ],
            "type": "histogram2d"
           }
          ],
          "histogram2dcontour": [
           {
            "colorbar": {
             "outlinewidth": 0,
             "ticks": ""
            },
            "colorscale": [
             [
              0,
              "#0d0887"
             ],
             [
              0.1111111111111111,
              "#46039f"
             ],
             [
              0.2222222222222222,
              "#7201a8"
             ],
             [
              0.3333333333333333,
              "#9c179e"
             ],
             [
              0.4444444444444444,
              "#bd3786"
             ],
             [
              0.5555555555555556,
              "#d8576b"
             ],
             [
              0.6666666666666666,
              "#ed7953"
             ],
             [
              0.7777777777777778,
              "#fb9f3a"
             ],
             [
              0.8888888888888888,
              "#fdca26"
             ],
             [
              1,
              "#f0f921"
             ]
            ],
            "type": "histogram2dcontour"
           }
          ],
          "mesh3d": [
           {
            "colorbar": {
             "outlinewidth": 0,
             "ticks": ""
            },
            "type": "mesh3d"
           }
          ],
          "parcoords": [
           {
            "line": {
             "colorbar": {
              "outlinewidth": 0,
              "ticks": ""
             }
            },
            "type": "parcoords"
           }
          ],
          "pie": [
           {
            "automargin": true,
            "type": "pie"
           }
          ],
          "scatter": [
           {
            "fillpattern": {
             "fillmode": "overlay",
             "size": 10,
             "solidity": 0.2
            },
            "type": "scatter"
           }
          ],
          "scatter3d": [
           {
            "line": {
             "colorbar": {
              "outlinewidth": 0,
              "ticks": ""
             }
            },
            "marker": {
             "colorbar": {
              "outlinewidth": 0,
              "ticks": ""
             }
            },
            "type": "scatter3d"
           }
          ],
          "scattercarpet": [
           {
            "marker": {
             "colorbar": {
              "outlinewidth": 0,
              "ticks": ""
             }
            },
            "type": "scattercarpet"
           }
          ],
          "scattergeo": [
           {
            "marker": {
             "colorbar": {
              "outlinewidth": 0,
              "ticks": ""
             }
            },
            "type": "scattergeo"
           }
          ],
          "scattergl": [
           {
            "marker": {
             "colorbar": {
              "outlinewidth": 0,
              "ticks": ""
             }
            },
            "type": "scattergl"
           }
          ],
          "scattermapbox": [
           {
            "marker": {
             "colorbar": {
              "outlinewidth": 0,
              "ticks": ""
             }
            },
            "type": "scattermapbox"
           }
          ],
          "scatterpolar": [
           {
            "marker": {
             "colorbar": {
              "outlinewidth": 0,
              "ticks": ""
             }
            },
            "type": "scatterpolar"
           }
          ],
          "scatterpolargl": [
           {
            "marker": {
             "colorbar": {
              "outlinewidth": 0,
              "ticks": ""
             }
            },
            "type": "scatterpolargl"
           }
          ],
          "scatterternary": [
           {
            "marker": {
             "colorbar": {
              "outlinewidth": 0,
              "ticks": ""
             }
            },
            "type": "scatterternary"
           }
          ],
          "surface": [
           {
            "colorbar": {
             "outlinewidth": 0,
             "ticks": ""
            },
            "colorscale": [
             [
              0,
              "#0d0887"
             ],
             [
              0.1111111111111111,
              "#46039f"
             ],
             [
              0.2222222222222222,
              "#7201a8"
             ],
             [
              0.3333333333333333,
              "#9c179e"
             ],
             [
              0.4444444444444444,
              "#bd3786"
             ],
             [
              0.5555555555555556,
              "#d8576b"
             ],
             [
              0.6666666666666666,
              "#ed7953"
             ],
             [
              0.7777777777777778,
              "#fb9f3a"
             ],
             [
              0.8888888888888888,
              "#fdca26"
             ],
             [
              1,
              "#f0f921"
             ]
            ],
            "type": "surface"
           }
          ],
          "table": [
           {
            "cells": {
             "fill": {
              "color": "#EBF0F8"
             },
             "line": {
              "color": "white"
             }
            },
            "header": {
             "fill": {
              "color": "#C8D4E3"
             },
             "line": {
              "color": "white"
             }
            },
            "type": "table"
           }
          ]
         },
         "layout": {
          "annotationdefaults": {
           "arrowcolor": "#2a3f5f",
           "arrowhead": 0,
           "arrowwidth": 1
          },
          "autotypenumbers": "strict",
          "coloraxis": {
           "colorbar": {
            "outlinewidth": 0,
            "ticks": ""
           }
          },
          "colorscale": {
           "diverging": [
            [
             0,
             "#8e0152"
            ],
            [
             0.1,
             "#c51b7d"
            ],
            [
             0.2,
             "#de77ae"
            ],
            [
             0.3,
             "#f1b6da"
            ],
            [
             0.4,
             "#fde0ef"
            ],
            [
             0.5,
             "#f7f7f7"
            ],
            [
             0.6,
             "#e6f5d0"
            ],
            [
             0.7,
             "#b8e186"
            ],
            [
             0.8,
             "#7fbc41"
            ],
            [
             0.9,
             "#4d9221"
            ],
            [
             1,
             "#276419"
            ]
           ],
           "sequential": [
            [
             0,
             "#0d0887"
            ],
            [
             0.1111111111111111,
             "#46039f"
            ],
            [
             0.2222222222222222,
             "#7201a8"
            ],
            [
             0.3333333333333333,
             "#9c179e"
            ],
            [
             0.4444444444444444,
             "#bd3786"
            ],
            [
             0.5555555555555556,
             "#d8576b"
            ],
            [
             0.6666666666666666,
             "#ed7953"
            ],
            [
             0.7777777777777778,
             "#fb9f3a"
            ],
            [
             0.8888888888888888,
             "#fdca26"
            ],
            [
             1,
             "#f0f921"
            ]
           ],
           "sequentialminus": [
            [
             0,
             "#0d0887"
            ],
            [
             0.1111111111111111,
             "#46039f"
            ],
            [
             0.2222222222222222,
             "#7201a8"
            ],
            [
             0.3333333333333333,
             "#9c179e"
            ],
            [
             0.4444444444444444,
             "#bd3786"
            ],
            [
             0.5555555555555556,
             "#d8576b"
            ],
            [
             0.6666666666666666,
             "#ed7953"
            ],
            [
             0.7777777777777778,
             "#fb9f3a"
            ],
            [
             0.8888888888888888,
             "#fdca26"
            ],
            [
             1,
             "#f0f921"
            ]
           ]
          },
          "colorway": [
           "#636efa",
           "#EF553B",
           "#00cc96",
           "#ab63fa",
           "#FFA15A",
           "#19d3f3",
           "#FF6692",
           "#B6E880",
           "#FF97FF",
           "#FECB52"
          ],
          "font": {
           "color": "#2a3f5f"
          },
          "geo": {
           "bgcolor": "white",
           "lakecolor": "white",
           "landcolor": "#E5ECF6",
           "showlakes": true,
           "showland": true,
           "subunitcolor": "white"
          },
          "hoverlabel": {
           "align": "left"
          },
          "hovermode": "closest",
          "mapbox": {
           "style": "light"
          },
          "paper_bgcolor": "white",
          "plot_bgcolor": "#E5ECF6",
          "polar": {
           "angularaxis": {
            "gridcolor": "white",
            "linecolor": "white",
            "ticks": ""
           },
           "bgcolor": "#E5ECF6",
           "radialaxis": {
            "gridcolor": "white",
            "linecolor": "white",
            "ticks": ""
           }
          },
          "scene": {
           "xaxis": {
            "backgroundcolor": "#E5ECF6",
            "gridcolor": "white",
            "gridwidth": 2,
            "linecolor": "white",
            "showbackground": true,
            "ticks": "",
            "zerolinecolor": "white"
           },
           "yaxis": {
            "backgroundcolor": "#E5ECF6",
            "gridcolor": "white",
            "gridwidth": 2,
            "linecolor": "white",
            "showbackground": true,
            "ticks": "",
            "zerolinecolor": "white"
           },
           "zaxis": {
            "backgroundcolor": "#E5ECF6",
            "gridcolor": "white",
            "gridwidth": 2,
            "linecolor": "white",
            "showbackground": true,
            "ticks": "",
            "zerolinecolor": "white"
           }
          },
          "shapedefaults": {
           "line": {
            "color": "#2a3f5f"
           }
          },
          "ternary": {
           "aaxis": {
            "gridcolor": "white",
            "linecolor": "white",
            "ticks": ""
           },
           "baxis": {
            "gridcolor": "white",
            "linecolor": "white",
            "ticks": ""
           },
           "bgcolor": "#E5ECF6",
           "caxis": {
            "gridcolor": "white",
            "linecolor": "white",
            "ticks": ""
           }
          },
          "title": {
           "x": 0.05
          },
          "xaxis": {
           "automargin": true,
           "gridcolor": "white",
           "linecolor": "white",
           "ticks": "",
           "title": {
            "standoff": 15
           },
           "zerolinecolor": "white",
           "zerolinewidth": 2
          },
          "yaxis": {
           "automargin": true,
           "gridcolor": "white",
           "linecolor": "white",
           "ticks": "",
           "title": {
            "standoff": 15
           },
           "zerolinecolor": "white",
           "zerolinewidth": 2
          }
         }
        },
        "xaxis": {
         "dtick": 1,
         "gridcolor": "rgb(0, 0, 0)",
         "side": "top",
         "ticks": ""
        },
        "yaxis": {
         "autorange": "reversed",
         "dtick": 1,
         "ticks": "",
         "ticksuffix": "  "
        }
       }
      },
      "text/html": [
       "<div>                            <div id=\"3394c505-fbc7-4756-8fd1-3b9292311f82\" class=\"plotly-graph-div\" style=\"height:525px; width:100%;\"></div>            <script type=\"text/javascript\">                require([\"plotly\"], function(Plotly) {                    window.PLOTLYENV=window.PLOTLYENV || {};                                    if (document.getElementById(\"3394c505-fbc7-4756-8fd1-3b9292311f82\")) {                    Plotly.newPlot(                        \"3394c505-fbc7-4756-8fd1-3b9292311f82\",                        [{\"colorscale\":[[0.0,\"rgb(252, 222, 156)\"],[0.16666666666666666,\"rgb(250, 164, 118)\"],[0.3333333333333333,\"rgb(240, 116, 110)\"],[0.5,\"rgb(227, 79, 111)\"],[0.6666666666666666,\"rgb(220, 57, 119)\"],[0.8333333333333334,\"rgb(185, 37, 122)\"],[1.0,\"rgb(124, 29, 111)\"]],\"reversescale\":false,\"showscale\":true,\"x\":[\"Global Competitiveness Index Value\",\"clearance_efficiency_score\",\"timely_consignee_receival_score\",\"infrastructure_score\"],\"y\":[\"Global Competitiveness Index Value\",\"clearance_efficiency_score\",\"timely_consignee_receival_score\",\"infrastructure_score\"],\"z\":[[1.0,0.8795276642297695,0.830268119644927,0.8894679374882974],[0.8795276642297695,1.0,0.8912350870362873,0.9441342789723755],[0.830268119644927,0.8912350870362873,1.0,0.9066256231987875],[0.8894679374882974,0.9441342789723755,0.9066256231987875,1.0]],\"type\":\"heatmap\"}],                        {\"annotations\":[{\"font\":{\"color\":\"#FFFFFF\"},\"showarrow\":false,\"text\":\"1.0\",\"x\":\"Global Competitiveness Index Value\",\"xref\":\"x\",\"y\":\"Global Competitiveness Index Value\",\"yref\":\"y\"},{\"font\":{\"color\":\"#000000\"},\"showarrow\":false,\"text\":\"0.88\",\"x\":\"clearance_efficiency_score\",\"xref\":\"x\",\"y\":\"Global Competitiveness Index Value\",\"yref\":\"y\"},{\"font\":{\"color\":\"#000000\"},\"showarrow\":false,\"text\":\"0.83\",\"x\":\"timely_consignee_receival_score\",\"xref\":\"x\",\"y\":\"Global Competitiveness Index Value\",\"yref\":\"y\"},{\"font\":{\"color\":\"#000000\"},\"showarrow\":false,\"text\":\"0.89\",\"x\":\"infrastructure_score\",\"xref\":\"x\",\"y\":\"Global Competitiveness Index Value\",\"yref\":\"y\"},{\"font\":{\"color\":\"#000000\"},\"showarrow\":false,\"text\":\"0.88\",\"x\":\"Global Competitiveness Index Value\",\"xref\":\"x\",\"y\":\"clearance_efficiency_score\",\"yref\":\"y\"},{\"font\":{\"color\":\"#FFFFFF\"},\"showarrow\":false,\"text\":\"1.0\",\"x\":\"clearance_efficiency_score\",\"xref\":\"x\",\"y\":\"clearance_efficiency_score\",\"yref\":\"y\"},{\"font\":{\"color\":\"#000000\"},\"showarrow\":false,\"text\":\"0.89\",\"x\":\"timely_consignee_receival_score\",\"xref\":\"x\",\"y\":\"clearance_efficiency_score\",\"yref\":\"y\"},{\"font\":{\"color\":\"#FFFFFF\"},\"showarrow\":false,\"text\":\"0.94\",\"x\":\"infrastructure_score\",\"xref\":\"x\",\"y\":\"clearance_efficiency_score\",\"yref\":\"y\"},{\"font\":{\"color\":\"#000000\"},\"showarrow\":false,\"text\":\"0.83\",\"x\":\"Global Competitiveness Index Value\",\"xref\":\"x\",\"y\":\"timely_consignee_receival_score\",\"yref\":\"y\"},{\"font\":{\"color\":\"#000000\"},\"showarrow\":false,\"text\":\"0.89\",\"x\":\"clearance_efficiency_score\",\"xref\":\"x\",\"y\":\"timely_consignee_receival_score\",\"yref\":\"y\"},{\"font\":{\"color\":\"#FFFFFF\"},\"showarrow\":false,\"text\":\"1.0\",\"x\":\"timely_consignee_receival_score\",\"xref\":\"x\",\"y\":\"timely_consignee_receival_score\",\"yref\":\"y\"},{\"font\":{\"color\":\"#000000\"},\"showarrow\":false,\"text\":\"0.91\",\"x\":\"infrastructure_score\",\"xref\":\"x\",\"y\":\"timely_consignee_receival_score\",\"yref\":\"y\"},{\"font\":{\"color\":\"#000000\"},\"showarrow\":false,\"text\":\"0.89\",\"x\":\"Global Competitiveness Index Value\",\"xref\":\"x\",\"y\":\"infrastructure_score\",\"yref\":\"y\"},{\"font\":{\"color\":\"#FFFFFF\"},\"showarrow\":false,\"text\":\"0.94\",\"x\":\"clearance_efficiency_score\",\"xref\":\"x\",\"y\":\"infrastructure_score\",\"yref\":\"y\"},{\"font\":{\"color\":\"#000000\"},\"showarrow\":false,\"text\":\"0.91\",\"x\":\"timely_consignee_receival_score\",\"xref\":\"x\",\"y\":\"infrastructure_score\",\"yref\":\"y\"},{\"font\":{\"color\":\"#FFFFFF\"},\"showarrow\":false,\"text\":\"1.0\",\"x\":\"infrastructure_score\",\"xref\":\"x\",\"y\":\"infrastructure_score\",\"yref\":\"y\"}],\"xaxis\":{\"dtick\":1,\"gridcolor\":\"rgb(0, 0, 0)\",\"side\":\"top\",\"ticks\":\"\"},\"yaxis\":{\"dtick\":1,\"ticks\":\"\",\"ticksuffix\":\"  \",\"autorange\":\"reversed\"},\"template\":{\"data\":{\"histogram2dcontour\":[{\"type\":\"histogram2dcontour\",\"colorbar\":{\"outlinewidth\":0,\"ticks\":\"\"},\"colorscale\":[[0.0,\"#0d0887\"],[0.1111111111111111,\"#46039f\"],[0.2222222222222222,\"#7201a8\"],[0.3333333333333333,\"#9c179e\"],[0.4444444444444444,\"#bd3786\"],[0.5555555555555556,\"#d8576b\"],[0.6666666666666666,\"#ed7953\"],[0.7777777777777778,\"#fb9f3a\"],[0.8888888888888888,\"#fdca26\"],[1.0,\"#f0f921\"]]}],\"choropleth\":[{\"type\":\"choropleth\",\"colorbar\":{\"outlinewidth\":0,\"ticks\":\"\"}}],\"histogram2d\":[{\"type\":\"histogram2d\",\"colorbar\":{\"outlinewidth\":0,\"ticks\":\"\"},\"colorscale\":[[0.0,\"#0d0887\"],[0.1111111111111111,\"#46039f\"],[0.2222222222222222,\"#7201a8\"],[0.3333333333333333,\"#9c179e\"],[0.4444444444444444,\"#bd3786\"],[0.5555555555555556,\"#d8576b\"],[0.6666666666666666,\"#ed7953\"],[0.7777777777777778,\"#fb9f3a\"],[0.8888888888888888,\"#fdca26\"],[1.0,\"#f0f921\"]]}],\"heatmap\":[{\"type\":\"heatmap\",\"colorbar\":{\"outlinewidth\":0,\"ticks\":\"\"},\"colorscale\":[[0.0,\"#0d0887\"],[0.1111111111111111,\"#46039f\"],[0.2222222222222222,\"#7201a8\"],[0.3333333333333333,\"#9c179e\"],[0.4444444444444444,\"#bd3786\"],[0.5555555555555556,\"#d8576b\"],[0.6666666666666666,\"#ed7953\"],[0.7777777777777778,\"#fb9f3a\"],[0.8888888888888888,\"#fdca26\"],[1.0,\"#f0f921\"]]}],\"heatmapgl\":[{\"type\":\"heatmapgl\",\"colorbar\":{\"outlinewidth\":0,\"ticks\":\"\"},\"colorscale\":[[0.0,\"#0d0887\"],[0.1111111111111111,\"#46039f\"],[0.2222222222222222,\"#7201a8\"],[0.3333333333333333,\"#9c179e\"],[0.4444444444444444,\"#bd3786\"],[0.5555555555555556,\"#d8576b\"],[0.6666666666666666,\"#ed7953\"],[0.7777777777777778,\"#fb9f3a\"],[0.8888888888888888,\"#fdca26\"],[1.0,\"#f0f921\"]]}],\"contourcarpet\":[{\"type\":\"contourcarpet\",\"colorbar\":{\"outlinewidth\":0,\"ticks\":\"\"}}],\"contour\":[{\"type\":\"contour\",\"colorbar\":{\"outlinewidth\":0,\"ticks\":\"\"},\"colorscale\":[[0.0,\"#0d0887\"],[0.1111111111111111,\"#46039f\"],[0.2222222222222222,\"#7201a8\"],[0.3333333333333333,\"#9c179e\"],[0.4444444444444444,\"#bd3786\"],[0.5555555555555556,\"#d8576b\"],[0.6666666666666666,\"#ed7953\"],[0.7777777777777778,\"#fb9f3a\"],[0.8888888888888888,\"#fdca26\"],[1.0,\"#f0f921\"]]}],\"surface\":[{\"type\":\"surface\",\"colorbar\":{\"outlinewidth\":0,\"ticks\":\"\"},\"colorscale\":[[0.0,\"#0d0887\"],[0.1111111111111111,\"#46039f\"],[0.2222222222222222,\"#7201a8\"],[0.3333333333333333,\"#9c179e\"],[0.4444444444444444,\"#bd3786\"],[0.5555555555555556,\"#d8576b\"],[0.6666666666666666,\"#ed7953\"],[0.7777777777777778,\"#fb9f3a\"],[0.8888888888888888,\"#fdca26\"],[1.0,\"#f0f921\"]]}],\"mesh3d\":[{\"type\":\"mesh3d\",\"colorbar\":{\"outlinewidth\":0,\"ticks\":\"\"}}],\"scatter\":[{\"fillpattern\":{\"fillmode\":\"overlay\",\"size\":10,\"solidity\":0.2},\"type\":\"scatter\"}],\"parcoords\":[{\"type\":\"parcoords\",\"line\":{\"colorbar\":{\"outlinewidth\":0,\"ticks\":\"\"}}}],\"scatterpolargl\":[{\"type\":\"scatterpolargl\",\"marker\":{\"colorbar\":{\"outlinewidth\":0,\"ticks\":\"\"}}}],\"bar\":[{\"error_x\":{\"color\":\"#2a3f5f\"},\"error_y\":{\"color\":\"#2a3f5f\"},\"marker\":{\"line\":{\"color\":\"#E5ECF6\",\"width\":0.5},\"pattern\":{\"fillmode\":\"overlay\",\"size\":10,\"solidity\":0.2}},\"type\":\"bar\"}],\"scattergeo\":[{\"type\":\"scattergeo\",\"marker\":{\"colorbar\":{\"outlinewidth\":0,\"ticks\":\"\"}}}],\"scatterpolar\":[{\"type\":\"scatterpolar\",\"marker\":{\"colorbar\":{\"outlinewidth\":0,\"ticks\":\"\"}}}],\"histogram\":[{\"marker\":{\"pattern\":{\"fillmode\":\"overlay\",\"size\":10,\"solidity\":0.2}},\"type\":\"histogram\"}],\"scattergl\":[{\"type\":\"scattergl\",\"marker\":{\"colorbar\":{\"outlinewidth\":0,\"ticks\":\"\"}}}],\"scatter3d\":[{\"type\":\"scatter3d\",\"line\":{\"colorbar\":{\"outlinewidth\":0,\"ticks\":\"\"}},\"marker\":{\"colorbar\":{\"outlinewidth\":0,\"ticks\":\"\"}}}],\"scattermapbox\":[{\"type\":\"scattermapbox\",\"marker\":{\"colorbar\":{\"outlinewidth\":0,\"ticks\":\"\"}}}],\"scatterternary\":[{\"type\":\"scatterternary\",\"marker\":{\"colorbar\":{\"outlinewidth\":0,\"ticks\":\"\"}}}],\"scattercarpet\":[{\"type\":\"scattercarpet\",\"marker\":{\"colorbar\":{\"outlinewidth\":0,\"ticks\":\"\"}}}],\"carpet\":[{\"aaxis\":{\"endlinecolor\":\"#2a3f5f\",\"gridcolor\":\"white\",\"linecolor\":\"white\",\"minorgridcolor\":\"white\",\"startlinecolor\":\"#2a3f5f\"},\"baxis\":{\"endlinecolor\":\"#2a3f5f\",\"gridcolor\":\"white\",\"linecolor\":\"white\",\"minorgridcolor\":\"white\",\"startlinecolor\":\"#2a3f5f\"},\"type\":\"carpet\"}],\"table\":[{\"cells\":{\"fill\":{\"color\":\"#EBF0F8\"},\"line\":{\"color\":\"white\"}},\"header\":{\"fill\":{\"color\":\"#C8D4E3\"},\"line\":{\"color\":\"white\"}},\"type\":\"table\"}],\"barpolar\":[{\"marker\":{\"line\":{\"color\":\"#E5ECF6\",\"width\":0.5},\"pattern\":{\"fillmode\":\"overlay\",\"size\":10,\"solidity\":0.2}},\"type\":\"barpolar\"}],\"pie\":[{\"automargin\":true,\"type\":\"pie\"}]},\"layout\":{\"autotypenumbers\":\"strict\",\"colorway\":[\"#636efa\",\"#EF553B\",\"#00cc96\",\"#ab63fa\",\"#FFA15A\",\"#19d3f3\",\"#FF6692\",\"#B6E880\",\"#FF97FF\",\"#FECB52\"],\"font\":{\"color\":\"#2a3f5f\"},\"hovermode\":\"closest\",\"hoverlabel\":{\"align\":\"left\"},\"paper_bgcolor\":\"white\",\"plot_bgcolor\":\"#E5ECF6\",\"polar\":{\"bgcolor\":\"#E5ECF6\",\"angularaxis\":{\"gridcolor\":\"white\",\"linecolor\":\"white\",\"ticks\":\"\"},\"radialaxis\":{\"gridcolor\":\"white\",\"linecolor\":\"white\",\"ticks\":\"\"}},\"ternary\":{\"bgcolor\":\"#E5ECF6\",\"aaxis\":{\"gridcolor\":\"white\",\"linecolor\":\"white\",\"ticks\":\"\"},\"baxis\":{\"gridcolor\":\"white\",\"linecolor\":\"white\",\"ticks\":\"\"},\"caxis\":{\"gridcolor\":\"white\",\"linecolor\":\"white\",\"ticks\":\"\"}},\"coloraxis\":{\"colorbar\":{\"outlinewidth\":0,\"ticks\":\"\"}},\"colorscale\":{\"sequential\":[[0.0,\"#0d0887\"],[0.1111111111111111,\"#46039f\"],[0.2222222222222222,\"#7201a8\"],[0.3333333333333333,\"#9c179e\"],[0.4444444444444444,\"#bd3786\"],[0.5555555555555556,\"#d8576b\"],[0.6666666666666666,\"#ed7953\"],[0.7777777777777778,\"#fb9f3a\"],[0.8888888888888888,\"#fdca26\"],[1.0,\"#f0f921\"]],\"sequentialminus\":[[0.0,\"#0d0887\"],[0.1111111111111111,\"#46039f\"],[0.2222222222222222,\"#7201a8\"],[0.3333333333333333,\"#9c179e\"],[0.4444444444444444,\"#bd3786\"],[0.5555555555555556,\"#d8576b\"],[0.6666666666666666,\"#ed7953\"],[0.7777777777777778,\"#fb9f3a\"],[0.8888888888888888,\"#fdca26\"],[1.0,\"#f0f921\"]],\"diverging\":[[0,\"#8e0152\"],[0.1,\"#c51b7d\"],[0.2,\"#de77ae\"],[0.3,\"#f1b6da\"],[0.4,\"#fde0ef\"],[0.5,\"#f7f7f7\"],[0.6,\"#e6f5d0\"],[0.7,\"#b8e186\"],[0.8,\"#7fbc41\"],[0.9,\"#4d9221\"],[1,\"#276419\"]]},\"xaxis\":{\"gridcolor\":\"white\",\"linecolor\":\"white\",\"ticks\":\"\",\"title\":{\"standoff\":15},\"zerolinecolor\":\"white\",\"automargin\":true,\"zerolinewidth\":2},\"yaxis\":{\"gridcolor\":\"white\",\"linecolor\":\"white\",\"ticks\":\"\",\"title\":{\"standoff\":15},\"zerolinecolor\":\"white\",\"automargin\":true,\"zerolinewidth\":2},\"scene\":{\"xaxis\":{\"backgroundcolor\":\"#E5ECF6\",\"gridcolor\":\"white\",\"linecolor\":\"white\",\"showbackground\":true,\"ticks\":\"\",\"zerolinecolor\":\"white\",\"gridwidth\":2},\"yaxis\":{\"backgroundcolor\":\"#E5ECF6\",\"gridcolor\":\"white\",\"linecolor\":\"white\",\"showbackground\":true,\"ticks\":\"\",\"zerolinecolor\":\"white\",\"gridwidth\":2},\"zaxis\":{\"backgroundcolor\":\"#E5ECF6\",\"gridcolor\":\"white\",\"linecolor\":\"white\",\"showbackground\":true,\"ticks\":\"\",\"zerolinecolor\":\"white\",\"gridwidth\":2}},\"shapedefaults\":{\"line\":{\"color\":\"#2a3f5f\"}},\"annotationdefaults\":{\"arrowcolor\":\"#2a3f5f\",\"arrowhead\":0,\"arrowwidth\":1},\"geo\":{\"bgcolor\":\"white\",\"landcolor\":\"#E5ECF6\",\"subunitcolor\":\"white\",\"showland\":true,\"showlakes\":true,\"lakecolor\":\"white\"},\"title\":{\"x\":0.05},\"mapbox\":{\"style\":\"light\"}}}},                        {\"responsive\": true}                    ).then(function(){\n",
       "                            \n",
       "var gd = document.getElementById('3394c505-fbc7-4756-8fd1-3b9292311f82');\n",
       "var x = new MutationObserver(function (mutations, observer) {{\n",
       "        var display = window.getComputedStyle(gd).display;\n",
       "        if (!display || display === 'none') {{\n",
       "            console.log([gd, 'removed!']);\n",
       "            Plotly.purge(gd);\n",
       "            observer.disconnect();\n",
       "        }}\n",
       "}});\n",
       "\n",
       "// Listen for the removal of the full notebook cells\n",
       "var notebookContainer = gd.closest('#notebook-container');\n",
       "if (notebookContainer) {{\n",
       "    x.observe(notebookContainer, {childList: true});\n",
       "}}\n",
       "\n",
       "// Listen for the clearing of the current output cell\n",
       "var outputEl = gd.closest('.output');\n",
       "if (outputEl) {{\n",
       "    x.observe(outputEl, {childList: true});\n",
       "}}\n",
       "\n",
       "                        })                };                });            </script>        </div>"
      ]
     },
     "metadata": {},
     "output_type": "display_data"
    }
   ],
   "source": [
    "corrMatrix(matrix, 'sunsetdark')"
   ]
  },
  {
   "cell_type": "code",
   "execution_count": null,
   "id": "f35b5e8b",
   "metadata": {},
   "outputs": [],
   "source": [
    "logist_rank.sort_values(['clearance_efficiency_rank'], ascending=True).head(10)"
   ]
  },
  {
   "cell_type": "code",
   "execution_count": null,
   "id": "8e529d31",
   "metadata": {},
   "outputs": [],
   "source": [
    "logist_rank.sort_values(['timely_consignee_receival_rank'], ascending=True).head(10)"
   ]
  },
  {
   "cell_type": "code",
   "execution_count": null,
   "id": "5e574ef2",
   "metadata": {},
   "outputs": [],
   "source": [
    "logist_rank.sort_values(['infrastructure_rank'], ascending=True).head(10)"
   ]
  },
  {
   "cell_type": "code",
   "execution_count": null,
   "id": "ee7e2285",
   "metadata": {},
   "outputs": [],
   "source": []
  }
 ],
 "metadata": {
  "kernelspec": {
   "display_name": "Python 3 (ipykernel)",
   "language": "python",
   "name": "python3"
  },
  "language_info": {
   "codemirror_mode": {
    "name": "ipython",
    "version": 3
   },
   "file_extension": ".py",
   "mimetype": "text/x-python",
   "name": "python",
   "nbconvert_exporter": "python",
   "pygments_lexer": "ipython3",
   "version": "3.7.11"
  },
  "toc": {
   "base_numbering": 1,
   "nav_menu": {},
   "number_sections": true,
   "sideBar": true,
   "skip_h1_title": false,
   "title_cell": "Table of Contents",
   "title_sidebar": "Contents",
   "toc_cell": false,
   "toc_position": {},
   "toc_section_display": true,
   "toc_window_display": false
  }
 },
 "nbformat": 4,
 "nbformat_minor": 5
}
