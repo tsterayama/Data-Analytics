{
 "cells": [
  {
   "cell_type": "markdown",
   "id": "c41786cd",
   "metadata": {},
   "source": [
    "# Infrastructure dataset"
   ]
  },
  {
   "cell_type": "markdown",
   "id": "cd195ab8",
   "metadata": {},
   "source": [
    "## Importing packages and filepath"
   ]
  },
  {
   "cell_type": "code",
   "execution_count": 1,
   "id": "7a18f597",
   "metadata": {},
   "outputs": [],
   "source": [
    "#Importing the packages\n",
    "import pandas as pd\n",
    "import numpy as np"
   ]
  },
  {
   "cell_type": "code",
   "execution_count": 2,
   "id": "64e2a58d",
   "metadata": {},
   "outputs": [],
   "source": [
    "#Importing filepath\n",
    "filepath = 'C:/Users/User/Documents/Data Science/Data/infra_df_raw.csv'"
   ]
  },
  {
   "cell_type": "code",
   "execution_count": 4,
   "id": "cafaeeca",
   "metadata": {},
   "outputs": [
    {
     "data": {
      "text/html": [
       "<div>\n",
       "<style scoped>\n",
       "    .dataframe tbody tr th:only-of-type {\n",
       "        vertical-align: middle;\n",
       "    }\n",
       "\n",
       "    .dataframe tbody tr th {\n",
       "        vertical-align: top;\n",
       "    }\n",
       "\n",
       "    .dataframe thead th {\n",
       "        text-align: right;\n",
       "    }\n",
       "</style>\n",
       "<table border=\"1\" class=\"dataframe\">\n",
       "  <thead>\n",
       "    <tr style=\"text-align: right;\">\n",
       "      <th></th>\n",
       "      <th>Country Name</th>\n",
       "      <th>Country Code</th>\n",
       "      <th>Air transport, freight (million ton-km)</th>\n",
       "      <th>Air transport, registered carrier departures worldwide</th>\n",
       "      <th>Container port traffic (TEU: 20 foot equivalent units)</th>\n",
       "      <th>Liner shipping connectivity index (maximum value in 2004 = 100)</th>\n",
       "      <th>Rail lines (total route-km)</th>\n",
       "      <th>Railways, goods transported (million ton-km)</th>\n",
       "    </tr>\n",
       "  </thead>\n",
       "  <tbody>\n",
       "    <tr>\n",
       "      <th>0</th>\n",
       "      <td>Afghanistan</td>\n",
       "      <td>AFG</td>\n",
       "      <td>20.014206</td>\n",
       "      <td>7334.00</td>\n",
       "      <td>NaN</td>\n",
       "      <td>NaN</td>\n",
       "      <td>NaN</td>\n",
       "      <td>NaN</td>\n",
       "    </tr>\n",
       "    <tr>\n",
       "      <th>1</th>\n",
       "      <td>Africa Eastern and Southern</td>\n",
       "      <td>AFE</td>\n",
       "      <td>3732.431229</td>\n",
       "      <td>717795.30</td>\n",
       "      <td>NaN</td>\n",
       "      <td>NaN</td>\n",
       "      <td>NaN</td>\n",
       "      <td>NaN</td>\n",
       "    </tr>\n",
       "    <tr>\n",
       "      <th>2</th>\n",
       "      <td>Africa Western and Central</td>\n",
       "      <td>AFW</td>\n",
       "      <td>32.295049</td>\n",
       "      <td>158874.79</td>\n",
       "      <td>7.839717e+06</td>\n",
       "      <td>NaN</td>\n",
       "      <td>NaN</td>\n",
       "      <td>NaN</td>\n",
       "    </tr>\n",
       "    <tr>\n",
       "      <th>3</th>\n",
       "      <td>Albania</td>\n",
       "      <td>ALB</td>\n",
       "      <td>0.000000</td>\n",
       "      <td>2558.00</td>\n",
       "      <td>1.847935e+04</td>\n",
       "      <td>6.156351</td>\n",
       "      <td>NaN</td>\n",
       "      <td>42.94</td>\n",
       "    </tr>\n",
       "    <tr>\n",
       "      <th>4</th>\n",
       "      <td>Algeria</td>\n",
       "      <td>DZA</td>\n",
       "      <td>25.641745</td>\n",
       "      <td>76049.00</td>\n",
       "      <td>6.885000e+05</td>\n",
       "      <td>12.602886</td>\n",
       "      <td>4020.25</td>\n",
       "      <td>NaN</td>\n",
       "    </tr>\n",
       "  </tbody>\n",
       "</table>\n",
       "</div>"
      ],
      "text/plain": [
       "                  Country Name Country Code  \\\n",
       "0                  Afghanistan          AFG   \n",
       "1  Africa Eastern and Southern          AFE   \n",
       "2   Africa Western and Central          AFW   \n",
       "3                      Albania          ALB   \n",
       "4                      Algeria          DZA   \n",
       "\n",
       "   Air transport, freight (million ton-km)  \\\n",
       "0                                20.014206   \n",
       "1                              3732.431229   \n",
       "2                                32.295049   \n",
       "3                                 0.000000   \n",
       "4                                25.641745   \n",
       "\n",
       "   Air transport, registered carrier departures worldwide  \\\n",
       "0                                            7334.00        \n",
       "1                                          717795.30        \n",
       "2                                          158874.79        \n",
       "3                                            2558.00        \n",
       "4                                           76049.00        \n",
       "\n",
       "   Container port traffic (TEU: 20 foot equivalent units)  \\\n",
       "0                                                NaN        \n",
       "1                                                NaN        \n",
       "2                                       7.839717e+06        \n",
       "3                                       1.847935e+04        \n",
       "4                                       6.885000e+05        \n",
       "\n",
       "   Liner shipping connectivity index (maximum value in 2004 = 100)  \\\n",
       "0                                                NaN                 \n",
       "1                                                NaN                 \n",
       "2                                                NaN                 \n",
       "3                                           6.156351                 \n",
       "4                                          12.602886                 \n",
       "\n",
       "   Rail lines (total route-km)  Railways, goods transported (million ton-km)  \n",
       "0                          NaN                                           NaN  \n",
       "1                          NaN                                           NaN  \n",
       "2                          NaN                                           NaN  \n",
       "3                          NaN                                         42.94  \n",
       "4                      4020.25                                           NaN  "
      ]
     },
     "execution_count": 4,
     "metadata": {},
     "output_type": "execute_result"
    }
   ],
   "source": [
    "infra = pd.read_csv(filepath)\n",
    "infra.head()"
   ]
  },
  {
   "cell_type": "code",
   "execution_count": 8,
   "id": "f9d32162",
   "metadata": {},
   "outputs": [
    {
     "data": {
      "text/html": [
       "<div>\n",
       "<style scoped>\n",
       "    .dataframe tbody tr th:only-of-type {\n",
       "        vertical-align: middle;\n",
       "    }\n",
       "\n",
       "    .dataframe tbody tr th {\n",
       "        vertical-align: top;\n",
       "    }\n",
       "\n",
       "    .dataframe thead th {\n",
       "        text-align: right;\n",
       "    }\n",
       "</style>\n",
       "<table border=\"1\" class=\"dataframe\">\n",
       "  <thead>\n",
       "    <tr style=\"text-align: right;\">\n",
       "      <th></th>\n",
       "      <th>Country Name</th>\n",
       "      <th>Country Code</th>\n",
       "      <th>Air transport, freight (million ton-km)</th>\n",
       "      <th>Air transport, registered carrier departures worldwide</th>\n",
       "      <th>Container port traffic (TEU: 20 foot equivalent units)</th>\n",
       "      <th>Liner shipping connectivity index (maximum value in 2004 = 100)</th>\n",
       "      <th>Rail lines (total route-km)</th>\n",
       "      <th>Railways, goods transported (million ton-km)</th>\n",
       "    </tr>\n",
       "  </thead>\n",
       "  <tbody>\n",
       "    <tr>\n",
       "      <th>243</th>\n",
       "      <td>Vietnam</td>\n",
       "      <td>VNM</td>\n",
       "      <td>1022.84225</td>\n",
       "      <td>332029.0</td>\n",
       "      <td>13658930.0</td>\n",
       "      <td>61.391166</td>\n",
       "      <td>2481.0</td>\n",
       "      <td>NaN</td>\n",
       "    </tr>\n",
       "    <tr>\n",
       "      <th>244</th>\n",
       "      <td>Virgin Islands (U.S.)</td>\n",
       "      <td>VIR</td>\n",
       "      <td>NaN</td>\n",
       "      <td>NaN</td>\n",
       "      <td>NaN</td>\n",
       "      <td>5.728541</td>\n",
       "      <td>NaN</td>\n",
       "      <td>NaN</td>\n",
       "    </tr>\n",
       "    <tr>\n",
       "      <th>245</th>\n",
       "      <td>Yemen, Rep.</td>\n",
       "      <td>YEM</td>\n",
       "      <td>0.00000</td>\n",
       "      <td>NaN</td>\n",
       "      <td>464923.0</td>\n",
       "      <td>7.849203</td>\n",
       "      <td>NaN</td>\n",
       "      <td>NaN</td>\n",
       "    </tr>\n",
       "    <tr>\n",
       "      <th>246</th>\n",
       "      <td>Zambia</td>\n",
       "      <td>ZMB</td>\n",
       "      <td>79.33500</td>\n",
       "      <td>1298.0</td>\n",
       "      <td>NaN</td>\n",
       "      <td>NaN</td>\n",
       "      <td>NaN</td>\n",
       "      <td>NaN</td>\n",
       "    </tr>\n",
       "    <tr>\n",
       "      <th>247</th>\n",
       "      <td>Zimbabwe</td>\n",
       "      <td>ZWE</td>\n",
       "      <td>0.00000</td>\n",
       "      <td>NaN</td>\n",
       "      <td>NaN</td>\n",
       "      <td>NaN</td>\n",
       "      <td>NaN</td>\n",
       "      <td>NaN</td>\n",
       "    </tr>\n",
       "  </tbody>\n",
       "</table>\n",
       "</div>"
      ],
      "text/plain": [
       "              Country Name Country Code  \\\n",
       "243                Vietnam          VNM   \n",
       "244  Virgin Islands (U.S.)          VIR   \n",
       "245            Yemen, Rep.          YEM   \n",
       "246                 Zambia          ZMB   \n",
       "247               Zimbabwe          ZWE   \n",
       "\n",
       "     Air transport, freight (million ton-km)  \\\n",
       "243                               1022.84225   \n",
       "244                                      NaN   \n",
       "245                                  0.00000   \n",
       "246                                 79.33500   \n",
       "247                                  0.00000   \n",
       "\n",
       "     Air transport, registered carrier departures worldwide  \\\n",
       "243                                           332029.0        \n",
       "244                                                NaN        \n",
       "245                                                NaN        \n",
       "246                                             1298.0        \n",
       "247                                                NaN        \n",
       "\n",
       "     Container port traffic (TEU: 20 foot equivalent units)  \\\n",
       "243                                         13658930.0        \n",
       "244                                                NaN        \n",
       "245                                           464923.0        \n",
       "246                                                NaN        \n",
       "247                                                NaN        \n",
       "\n",
       "     Liner shipping connectivity index (maximum value in 2004 = 100)  \\\n",
       "243                                          61.391166                 \n",
       "244                                           5.728541                 \n",
       "245                                           7.849203                 \n",
       "246                                                NaN                 \n",
       "247                                                NaN                 \n",
       "\n",
       "     Rail lines (total route-km)  Railways, goods transported (million ton-km)  \n",
       "243                       2481.0                                           NaN  \n",
       "244                          NaN                                           NaN  \n",
       "245                          NaN                                           NaN  \n",
       "246                          NaN                                           NaN  \n",
       "247                          NaN                                           NaN  "
      ]
     },
     "execution_count": 8,
     "metadata": {},
     "output_type": "execute_result"
    }
   ],
   "source": [
    "infra.tail()"
   ]
  },
  {
   "cell_type": "markdown",
   "id": "d1ae9c41",
   "metadata": {},
   "source": [
    "## Inspecting the data"
   ]
  },
  {
   "cell_type": "code",
   "execution_count": 5,
   "id": "726f9d65",
   "metadata": {},
   "outputs": [
    {
     "name": "stdout",
     "output_type": "stream",
     "text": [
      "<class 'pandas.core.frame.DataFrame'>\n",
      "RangeIndex: 248 entries, 0 to 247\n",
      "Data columns (total 8 columns):\n",
      " #   Column                                                           Non-Null Count  Dtype  \n",
      "---  ------                                                           --------------  -----  \n",
      " 0   Country Name                                                     248 non-null    object \n",
      " 1   Country Code                                                     248 non-null    object \n",
      " 2   Air transport, freight (million ton-km)                          209 non-null    float64\n",
      " 3   Air transport, registered carrier departures worldwide           203 non-null    float64\n",
      " 4   Container port traffic (TEU: 20 foot equivalent units)           206 non-null    float64\n",
      " 5   Liner shipping connectivity index (maximum value in 2004 = 100)  167 non-null    float64\n",
      " 6   Rail lines (total route-km)                                      37 non-null     float64\n",
      " 7   Railways, goods transported (million ton-km)                     59 non-null     float64\n",
      "dtypes: float64(6), object(2)\n",
      "memory usage: 15.6+ KB\n"
     ]
    }
   ],
   "source": [
    "#Checking the info, 248 rows and 8 columns\n",
    "infra.info()"
   ]
  },
  {
   "cell_type": "code",
   "execution_count": 7,
   "id": "5053b896",
   "metadata": {},
   "outputs": [
    {
     "data": {
      "text/html": [
       "<div>\n",
       "<style scoped>\n",
       "    .dataframe tbody tr th:only-of-type {\n",
       "        vertical-align: middle;\n",
       "    }\n",
       "\n",
       "    .dataframe tbody tr th {\n",
       "        vertical-align: top;\n",
       "    }\n",
       "\n",
       "    .dataframe thead th {\n",
       "        text-align: right;\n",
       "    }\n",
       "</style>\n",
       "<table border=\"1\" class=\"dataframe\">\n",
       "  <thead>\n",
       "    <tr style=\"text-align: right;\">\n",
       "      <th></th>\n",
       "      <th>Country Name</th>\n",
       "      <th>Country Code</th>\n",
       "      <th>Air transport, freight (million ton-km)</th>\n",
       "      <th>Air transport, registered carrier departures worldwide</th>\n",
       "      <th>Container port traffic (TEU: 20 foot equivalent units)</th>\n",
       "      <th>Liner shipping connectivity index (maximum value in 2004 = 100)</th>\n",
       "      <th>Rail lines (total route-km)</th>\n",
       "      <th>Railways, goods transported (million ton-km)</th>\n",
       "    </tr>\n",
       "  </thead>\n",
       "  <tbody>\n",
       "  </tbody>\n",
       "</table>\n",
       "</div>"
      ],
      "text/plain": [
       "Empty DataFrame\n",
       "Columns: [Country Name, Country Code, Air transport, freight (million ton-km), Air transport, registered carrier departures worldwide, Container port traffic (TEU: 20 foot equivalent units), Liner shipping connectivity index (maximum value in 2004 = 100), Rail lines (total route-km), Railways, goods transported (million ton-km)]\n",
       "Index: []"
      ]
     },
     "execution_count": 7,
     "metadata": {},
     "output_type": "execute_result"
    }
   ],
   "source": [
    "#Checking for duplicates, there are none\n",
    "infra[infra.duplicated()]"
   ]
  },
  {
   "cell_type": "code",
   "execution_count": 9,
   "id": "3957c09c",
   "metadata": {},
   "outputs": [
    {
     "data": {
      "text/plain": [
       "Country Name                                                         0\n",
       "Country Code                                                         0\n",
       "Air transport, freight (million ton-km)                             39\n",
       "Air transport, registered carrier departures worldwide              45\n",
       "Container port traffic (TEU: 20 foot equivalent units)              42\n",
       "Liner shipping connectivity index (maximum value in 2004 = 100)     81\n",
       "Rail lines (total route-km)                                        211\n",
       "Railways, goods transported (million ton-km)                       189\n",
       "dtype: int64"
      ]
     },
     "execution_count": 9,
     "metadata": {},
     "output_type": "execute_result"
    }
   ],
   "source": [
    "infra.isnull().sum()"
   ]
  },
  {
   "cell_type": "code",
   "execution_count": 10,
   "id": "6fe70215",
   "metadata": {},
   "outputs": [
    {
     "data": {
      "text/html": [
       "        <script type=\"text/javascript\">\n",
       "        window.PlotlyConfig = {MathJaxConfig: 'local'};\n",
       "        if (window.MathJax) {MathJax.Hub.Config({SVG: {font: \"STIX-Web\"}});}\n",
       "        if (typeof require !== 'undefined') {\n",
       "        require.undef(\"plotly\");\n",
       "        requirejs.config({\n",
       "            paths: {\n",
       "                'plotly': ['https://cdn.plot.ly/plotly-2.11.1.min']\n",
       "            }\n",
       "        });\n",
       "        require(['plotly'], function(Plotly) {\n",
       "            window._Plotly = Plotly;\n",
       "        });\n",
       "        }\n",
       "        </script>\n",
       "        "
      ]
     },
     "metadata": {},
     "output_type": "display_data"
    }
   ],
   "source": [
    "#Importing EDA functions\n",
    "import sys\n",
    "sys.path.insert(0, 'C:/Users/User/Documents/Data Science/_m1-m2 - Exploratory Data Analysis_/_m1-m2 - Exploratory Data Analysis_')\n",
    "\n",
    "from Functions_EDA import *"
   ]
  },
  {
   "cell_type": "code",
   "execution_count": 11,
   "id": "845e532e",
   "metadata": {},
   "outputs": [
    {
     "data": {
      "text/html": [
       "<div>\n",
       "<style scoped>\n",
       "    .dataframe tbody tr th:only-of-type {\n",
       "        vertical-align: middle;\n",
       "    }\n",
       "\n",
       "    .dataframe tbody tr th {\n",
       "        vertical-align: top;\n",
       "    }\n",
       "\n",
       "    .dataframe thead th {\n",
       "        text-align: right;\n",
       "    }\n",
       "</style>\n",
       "<table border=\"1\" class=\"dataframe\">\n",
       "  <thead>\n",
       "    <tr style=\"text-align: right;\">\n",
       "      <th></th>\n",
       "      <th>Percentage_NaN</th>\n",
       "    </tr>\n",
       "  </thead>\n",
       "  <tbody>\n",
       "    <tr>\n",
       "      <th>Rail lines (total route-km)</th>\n",
       "      <td>85.1</td>\n",
       "    </tr>\n",
       "    <tr>\n",
       "      <th>Railways, goods transported (million ton-km)</th>\n",
       "      <td>76.2</td>\n",
       "    </tr>\n",
       "    <tr>\n",
       "      <th>Liner shipping connectivity index (maximum value in 2004 = 100)</th>\n",
       "      <td>32.7</td>\n",
       "    </tr>\n",
       "    <tr>\n",
       "      <th>Air transport, registered carrier departures worldwide</th>\n",
       "      <td>18.1</td>\n",
       "    </tr>\n",
       "    <tr>\n",
       "      <th>Container port traffic (TEU: 20 foot equivalent units)</th>\n",
       "      <td>16.9</td>\n",
       "    </tr>\n",
       "    <tr>\n",
       "      <th>Air transport, freight (million ton-km)</th>\n",
       "      <td>15.7</td>\n",
       "    </tr>\n",
       "    <tr>\n",
       "      <th>Country Name</th>\n",
       "      <td>0.0</td>\n",
       "    </tr>\n",
       "    <tr>\n",
       "      <th>Country Code</th>\n",
       "      <td>0.0</td>\n",
       "    </tr>\n",
       "  </tbody>\n",
       "</table>\n",
       "</div>"
      ],
      "text/plain": [
       "                                                    Percentage_NaN\n",
       "Rail lines (total route-km)                                   85.1\n",
       "Railways, goods transported (million ton-km)                  76.2\n",
       "Liner shipping connectivity index (maximum valu...            32.7\n",
       "Air transport, registered carrier departures wo...            18.1\n",
       "Container port traffic (TEU: 20 foot equivalent...            16.9\n",
       "Air transport, freight (million ton-km)                       15.7\n",
       "Country Name                                                   0.0\n",
       "Country Code                                                   0.0"
      ]
     },
     "execution_count": 11,
     "metadata": {},
     "output_type": "execute_result"
    }
   ],
   "source": [
    "#Checking the percentage of null values\n",
    "percentage_nullValues(infra)"
   ]
  },
  {
   "cell_type": "code",
   "execution_count": 12,
   "id": "a3daa538",
   "metadata": {},
   "outputs": [
    {
     "name": "stdout",
     "output_type": "stream",
     "text": [
      "Columns to keep: 5\n",
      "Those columns have a percentage of NaN less than 30 :\n",
      "['Air transport, registered carrier departures worldwide', 'Container port traffic (TEU: 20 foot equivalent units)', 'Air transport, freight (million ton-km)', 'Country Name', 'Country Code']\n"
     ]
    }
   ],
   "source": [
    "#Dropping the ones with a threshold higher than 30%\n",
    "infra = select_threshold(infra, 30)"
   ]
  },
  {
   "cell_type": "code",
   "execution_count": 14,
   "id": "2d8588c3",
   "metadata": {},
   "outputs": [
    {
     "data": {
      "text/plain": [
       "(248, 5)"
      ]
     },
     "execution_count": 14,
     "metadata": {},
     "output_type": "execute_result"
    }
   ],
   "source": [
    "#Checking the modification, there should be 5 columns\n",
    "infra.shape"
   ]
  },
  {
   "cell_type": "code",
   "execution_count": 15,
   "id": "1adbf930",
   "metadata": {},
   "outputs": [
    {
     "name": "stdout",
     "output_type": "stream",
     "text": [
      "Number of missing values on your dataset are\n",
      "\n",
      "Air transport, registered carrier departures worldwide    0\n",
      "Container port traffic (TEU: 20 foot equivalent units)    0\n",
      "Air transport, freight (million ton-km)                   0\n",
      "Country Name                                              0\n",
      "Country Code                                              0\n",
      "dtype: int64\n"
     ]
    }
   ],
   "source": [
    "#Filling the remaining null values with the mean\n",
    "infra = fill_na(infra)"
   ]
  },
  {
   "cell_type": "code",
   "execution_count": 16,
   "id": "6a7a5478",
   "metadata": {},
   "outputs": [
    {
     "data": {
      "text/plain": [
       "Air transport, registered carrier departures worldwide    0\n",
       "Container port traffic (TEU: 20 foot equivalent units)    0\n",
       "Air transport, freight (million ton-km)                   0\n",
       "Country Name                                              0\n",
       "Country Code                                              0\n",
       "dtype: int64"
      ]
     },
     "execution_count": 16,
     "metadata": {},
     "output_type": "execute_result"
    }
   ],
   "source": [
    "#Checking after modification\n",
    "infra.isnull().sum()"
   ]
  },
  {
   "cell_type": "code",
   "execution_count": 17,
   "id": "3f110252",
   "metadata": {},
   "outputs": [
    {
     "name": "stdout",
     "output_type": "stream",
     "text": [
      "<class 'pandas.core.frame.DataFrame'>\n",
      "RangeIndex: 248 entries, 0 to 247\n",
      "Data columns (total 5 columns):\n",
      " #   Column                                                  Non-Null Count  Dtype  \n",
      "---  ------                                                  --------------  -----  \n",
      " 0   Air transport, registered carrier departures worldwide  248 non-null    float64\n",
      " 1   Container port traffic (TEU: 20 foot equivalent units)  248 non-null    float64\n",
      " 2   Air transport, freight (million ton-km)                 248 non-null    float64\n",
      " 3   Country Name                                            248 non-null    object \n",
      " 4   Country Code                                            248 non-null    object \n",
      "dtypes: float64(3), object(2)\n",
      "memory usage: 9.8+ KB\n"
     ]
    }
   ],
   "source": [
    "#Checking info after modification\n",
    "infra.info()"
   ]
  },
  {
   "cell_type": "code",
   "execution_count": 18,
   "id": "20f090e4",
   "metadata": {},
   "outputs": [
    {
     "data": {
      "text/plain": [
       "Index(['Air transport, registered carrier departures worldwide',\n",
       "       'Container port traffic (TEU: 20 foot equivalent units)',\n",
       "       'Air transport, freight (million ton-km)', 'Country Name',\n",
       "       'Country Code'],\n",
       "      dtype='object')"
      ]
     },
     "execution_count": 18,
     "metadata": {},
     "output_type": "execute_result"
    }
   ],
   "source": [
    "infra.columns"
   ]
  },
  {
   "cell_type": "code",
   "execution_count": 19,
   "id": "6dae98b7",
   "metadata": {},
   "outputs": [
    {
     "data": {
      "text/html": [
       "<div>\n",
       "<style scoped>\n",
       "    .dataframe tbody tr th:only-of-type {\n",
       "        vertical-align: middle;\n",
       "    }\n",
       "\n",
       "    .dataframe tbody tr th {\n",
       "        vertical-align: top;\n",
       "    }\n",
       "\n",
       "    .dataframe thead th {\n",
       "        text-align: right;\n",
       "    }\n",
       "</style>\n",
       "<table border=\"1\" class=\"dataframe\">\n",
       "  <thead>\n",
       "    <tr style=\"text-align: right;\">\n",
       "      <th></th>\n",
       "      <th>Air transport, registered carrier departures worldwide</th>\n",
       "      <th>Container port traffic (TEU: 20 foot equivalent units)</th>\n",
       "      <th>Air transport, freight (million ton-km)</th>\n",
       "      <th>Country Name</th>\n",
       "      <th>Country Code</th>\n",
       "    </tr>\n",
       "  </thead>\n",
       "  <tbody>\n",
       "    <tr>\n",
       "      <th>0</th>\n",
       "      <td>7.334000e+03</td>\n",
       "      <td>2.981833e+07</td>\n",
       "      <td>20.014206</td>\n",
       "      <td>Afghanistan</td>\n",
       "      <td>AFG</td>\n",
       "    </tr>\n",
       "    <tr>\n",
       "      <th>1</th>\n",
       "      <td>7.177953e+05</td>\n",
       "      <td>2.981833e+07</td>\n",
       "      <td>3732.431229</td>\n",
       "      <td>Africa Eastern and Southern</td>\n",
       "      <td>AFE</td>\n",
       "    </tr>\n",
       "    <tr>\n",
       "      <th>2</th>\n",
       "      <td>1.588748e+05</td>\n",
       "      <td>7.839717e+06</td>\n",
       "      <td>32.295049</td>\n",
       "      <td>Africa Western and Central</td>\n",
       "      <td>AFW</td>\n",
       "    </tr>\n",
       "    <tr>\n",
       "      <th>3</th>\n",
       "      <td>2.558000e+03</td>\n",
       "      <td>1.847935e+04</td>\n",
       "      <td>0.000000</td>\n",
       "      <td>Albania</td>\n",
       "      <td>ALB</td>\n",
       "    </tr>\n",
       "    <tr>\n",
       "      <th>4</th>\n",
       "      <td>7.604900e+04</td>\n",
       "      <td>6.885000e+05</td>\n",
       "      <td>25.641745</td>\n",
       "      <td>Algeria</td>\n",
       "      <td>DZA</td>\n",
       "    </tr>\n",
       "    <tr>\n",
       "      <th>...</th>\n",
       "      <td>...</td>\n",
       "      <td>...</td>\n",
       "      <td>...</td>\n",
       "      <td>...</td>\n",
       "      <td>...</td>\n",
       "    </tr>\n",
       "    <tr>\n",
       "      <th>243</th>\n",
       "      <td>3.320290e+05</td>\n",
       "      <td>1.365893e+07</td>\n",
       "      <td>1022.842250</td>\n",
       "      <td>Vietnam</td>\n",
       "      <td>VNM</td>\n",
       "    </tr>\n",
       "    <tr>\n",
       "      <th>244</th>\n",
       "      <td>1.373553e+06</td>\n",
       "      <td>2.981833e+07</td>\n",
       "      <td>6972.473186</td>\n",
       "      <td>Virgin Islands (U.S.)</td>\n",
       "      <td>VIR</td>\n",
       "    </tr>\n",
       "    <tr>\n",
       "      <th>245</th>\n",
       "      <td>1.373553e+06</td>\n",
       "      <td>4.649230e+05</td>\n",
       "      <td>0.000000</td>\n",
       "      <td>Yemen, Rep.</td>\n",
       "      <td>YEM</td>\n",
       "    </tr>\n",
       "    <tr>\n",
       "      <th>246</th>\n",
       "      <td>1.298000e+03</td>\n",
       "      <td>2.981833e+07</td>\n",
       "      <td>79.335000</td>\n",
       "      <td>Zambia</td>\n",
       "      <td>ZMB</td>\n",
       "    </tr>\n",
       "    <tr>\n",
       "      <th>247</th>\n",
       "      <td>1.373553e+06</td>\n",
       "      <td>2.981833e+07</td>\n",
       "      <td>0.000000</td>\n",
       "      <td>Zimbabwe</td>\n",
       "      <td>ZWE</td>\n",
       "    </tr>\n",
       "  </tbody>\n",
       "</table>\n",
       "<p>248 rows × 5 columns</p>\n",
       "</div>"
      ],
      "text/plain": [
       "     Air transport, registered carrier departures worldwide  \\\n",
       "0                                         7.334000e+03        \n",
       "1                                         7.177953e+05        \n",
       "2                                         1.588748e+05        \n",
       "3                                         2.558000e+03        \n",
       "4                                         7.604900e+04        \n",
       "..                                                 ...        \n",
       "243                                       3.320290e+05        \n",
       "244                                       1.373553e+06        \n",
       "245                                       1.373553e+06        \n",
       "246                                       1.298000e+03        \n",
       "247                                       1.373553e+06        \n",
       "\n",
       "     Container port traffic (TEU: 20 foot equivalent units)  \\\n",
       "0                                         2.981833e+07        \n",
       "1                                         2.981833e+07        \n",
       "2                                         7.839717e+06        \n",
       "3                                         1.847935e+04        \n",
       "4                                         6.885000e+05        \n",
       "..                                                 ...        \n",
       "243                                       1.365893e+07        \n",
       "244                                       2.981833e+07        \n",
       "245                                       4.649230e+05        \n",
       "246                                       2.981833e+07        \n",
       "247                                       2.981833e+07        \n",
       "\n",
       "     Air transport, freight (million ton-km)                 Country Name  \\\n",
       "0                                  20.014206                  Afghanistan   \n",
       "1                                3732.431229  Africa Eastern and Southern   \n",
       "2                                  32.295049   Africa Western and Central   \n",
       "3                                   0.000000                      Albania   \n",
       "4                                  25.641745                      Algeria   \n",
       "..                                       ...                          ...   \n",
       "243                              1022.842250                      Vietnam   \n",
       "244                              6972.473186        Virgin Islands (U.S.)   \n",
       "245                                 0.000000                  Yemen, Rep.   \n",
       "246                                79.335000                       Zambia   \n",
       "247                                 0.000000                     Zimbabwe   \n",
       "\n",
       "    Country Code  \n",
       "0            AFG  \n",
       "1            AFE  \n",
       "2            AFW  \n",
       "3            ALB  \n",
       "4            DZA  \n",
       "..           ...  \n",
       "243          VNM  \n",
       "244          VIR  \n",
       "245          YEM  \n",
       "246          ZMB  \n",
       "247          ZWE  \n",
       "\n",
       "[248 rows x 5 columns]"
      ]
     },
     "execution_count": 19,
     "metadata": {},
     "output_type": "execute_result"
    }
   ],
   "source": [
    "infra"
   ]
  },
  {
   "cell_type": "code",
   "execution_count": null,
   "id": "5ab030e8",
   "metadata": {},
   "outputs": [],
   "source": []
  }
 ],
 "metadata": {
  "kernelspec": {
   "display_name": "Python 3 (ipykernel)",
   "language": "python",
   "name": "python3"
  },
  "language_info": {
   "codemirror_mode": {
    "name": "ipython",
    "version": 3
   },
   "file_extension": ".py",
   "mimetype": "text/x-python",
   "name": "python",
   "nbconvert_exporter": "python",
   "pygments_lexer": "ipython3",
   "version": "3.7.11"
  },
  "toc": {
   "base_numbering": 1,
   "nav_menu": {},
   "number_sections": true,
   "sideBar": true,
   "skip_h1_title": false,
   "title_cell": "Table of Contents",
   "title_sidebar": "Contents",
   "toc_cell": false,
   "toc_position": {},
   "toc_section_display": true,
   "toc_window_display": false
  }
 },
 "nbformat": 4,
 "nbformat_minor": 5
}
